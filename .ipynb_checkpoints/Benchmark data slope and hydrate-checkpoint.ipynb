{
 "cells": [
  {
   "cell_type": "code",
   "execution_count": 1,
   "metadata": {},
   "outputs": [],
   "source": [
    "import functions as fn\n",
    "import pandas as pd\n",
    "from importlib import reload\n",
    "from tqdm import tqdm\n",
    "from termcolor import colored\n",
    "import matplotlib.pyplot as plt\n",
    "from ooipy.tools import ooiplotlib as ooiplt\n",
    "import datetime"
   ]
  },
  {
   "cell_type": "code",
   "execution_count": 2,
   "metadata": {},
   "outputs": [],
   "source": [
    "df = pd.read_csv('E:/Acer backup 3/internships and jobs/UW/Reader grader and TA/Shima Abadi/Data/oregon_hydrate.csv',sep = ',')\n"
   ]
  },
  {
   "cell_type": "code",
   "execution_count": 3,
   "metadata": {},
   "outputs": [
    {
     "data": {
      "text/plain": [
       "Index(['Unnamed: 0', 'MMSI', 'BaseDateTime', 'LAT', 'LON', 'SOG', 'COG',\n",
       "       'Heading', 'VesselName', 'IMO', 'CallSign', 'Status', 'LENGTH', 'Width',\n",
       "       'Draft', 'Cargo', 'TransceiverClass', 'TIMESTAMP UTC',\n",
       "       'oregon_slope_Lat', 'oregon_slope_Lon', 'oregon_slope_Loc', 'ship_Loc',\n",
       "       'Southern_hydrate_Lat', 'Southern_hydrate_lon', 'Southern_hydrate_Loc',\n",
       "       'distance(in km) oregon', 'distance(in km) hydrate', 'Type Code',\n",
       "       'VESSEL TYPE', 'Group', 'group3'],\n",
       "      dtype='object')"
      ]
     },
     "execution_count": 3,
     "metadata": {},
     "output_type": "execute_result"
    }
   ],
   "source": [
    "df.columns"
   ]
  },
  {
   "cell_type": "code",
   "execution_count": 4,
   "metadata": {},
   "outputs": [],
   "source": [
    "df['TIMESTAMP UTC']=df['TIMESTAMP UTC'].astype('datetime64[ns]')\n"
   ]
  },
  {
   "cell_type": "code",
   "execution_count": 5,
   "metadata": {
    "scrolled": true
   },
   "outputs": [
    {
     "data": {
      "text/html": [
       "<div>\n",
       "<style scoped>\n",
       "    .dataframe tbody tr th:only-of-type {\n",
       "        vertical-align: middle;\n",
       "    }\n",
       "\n",
       "    .dataframe tbody tr th {\n",
       "        vertical-align: top;\n",
       "    }\n",
       "\n",
       "    .dataframe thead th {\n",
       "        text-align: right;\n",
       "    }\n",
       "</style>\n",
       "<table border=\"1\" class=\"dataframe\">\n",
       "  <thead>\n",
       "    <tr style=\"text-align: right;\">\n",
       "      <th></th>\n",
       "      <th>Unnamed: 0</th>\n",
       "      <th>MMSI</th>\n",
       "      <th>BaseDateTime</th>\n",
       "      <th>LAT</th>\n",
       "      <th>LON</th>\n",
       "      <th>SOG</th>\n",
       "      <th>COG</th>\n",
       "      <th>Heading</th>\n",
       "      <th>VesselName</th>\n",
       "      <th>IMO</th>\n",
       "      <th>...</th>\n",
       "      <th>ship_Loc</th>\n",
       "      <th>Southern_hydrate_Lat</th>\n",
       "      <th>Southern_hydrate_lon</th>\n",
       "      <th>Southern_hydrate_Loc</th>\n",
       "      <th>distance(in km) oregon</th>\n",
       "      <th>distance(in km) hydrate</th>\n",
       "      <th>Type Code</th>\n",
       "      <th>VESSEL TYPE</th>\n",
       "      <th>Group</th>\n",
       "      <th>group3</th>\n",
       "    </tr>\n",
       "  </thead>\n",
       "  <tbody>\n",
       "    <tr>\n",
       "      <th>0</th>\n",
       "      <td>0</td>\n",
       "      <td>636092819</td>\n",
       "      <td>2021-01-01T00:17:40</td>\n",
       "      <td>44.56820</td>\n",
       "      <td>-125.62248</td>\n",
       "      <td>11.0</td>\n",
       "      <td>180.6</td>\n",
       "      <td>181.0</td>\n",
       "      <td>NaN</td>\n",
       "      <td>NaN</td>\n",
       "      <td>...</td>\n",
       "      <td>(44.5682, -125.62248)</td>\n",
       "      <td>44.5691</td>\n",
       "      <td>-125.1481</td>\n",
       "      <td>(44.5691, -125.1481)</td>\n",
       "      <td>19.40</td>\n",
       "      <td>37.68</td>\n",
       "      <td>NaN</td>\n",
       "      <td>NaN</td>\n",
       "      <td>NaN</td>\n",
       "      <td>NaN</td>\n",
       "    </tr>\n",
       "    <tr>\n",
       "      <th>1</th>\n",
       "      <td>1</td>\n",
       "      <td>636092819</td>\n",
       "      <td>2021-01-01T00:19:00</td>\n",
       "      <td>44.56414</td>\n",
       "      <td>-125.62273</td>\n",
       "      <td>11.1</td>\n",
       "      <td>187.9</td>\n",
       "      <td>180.0</td>\n",
       "      <td>NaN</td>\n",
       "      <td>NaN</td>\n",
       "      <td>...</td>\n",
       "      <td>(44.56414, -125.62273)</td>\n",
       "      <td>44.5691</td>\n",
       "      <td>-125.1481</td>\n",
       "      <td>(44.5691, -125.1481)</td>\n",
       "      <td>19.29</td>\n",
       "      <td>37.71</td>\n",
       "      <td>NaN</td>\n",
       "      <td>NaN</td>\n",
       "      <td>NaN</td>\n",
       "      <td>NaN</td>\n",
       "    </tr>\n",
       "    <tr>\n",
       "      <th>2</th>\n",
       "      <td>2</td>\n",
       "      <td>636092819</td>\n",
       "      <td>2021-01-01T00:20:08</td>\n",
       "      <td>44.56068</td>\n",
       "      <td>-125.62271</td>\n",
       "      <td>11.4</td>\n",
       "      <td>162.9</td>\n",
       "      <td>179.0</td>\n",
       "      <td>NaN</td>\n",
       "      <td>NaN</td>\n",
       "      <td>...</td>\n",
       "      <td>(44.56068, -125.62271)</td>\n",
       "      <td>44.5691</td>\n",
       "      <td>-125.1481</td>\n",
       "      <td>(44.5691, -125.1481)</td>\n",
       "      <td>19.19</td>\n",
       "      <td>37.72</td>\n",
       "      <td>NaN</td>\n",
       "      <td>NaN</td>\n",
       "      <td>NaN</td>\n",
       "      <td>NaN</td>\n",
       "    </tr>\n",
       "    <tr>\n",
       "      <th>3</th>\n",
       "      <td>3</td>\n",
       "      <td>636092819</td>\n",
       "      <td>2021-01-01T00:22:19</td>\n",
       "      <td>44.55397</td>\n",
       "      <td>-125.62281</td>\n",
       "      <td>10.9</td>\n",
       "      <td>186.6</td>\n",
       "      <td>182.0</td>\n",
       "      <td>NaN</td>\n",
       "      <td>NaN</td>\n",
       "      <td>...</td>\n",
       "      <td>(44.55397, -125.62281)</td>\n",
       "      <td>44.5691</td>\n",
       "      <td>-125.1481</td>\n",
       "      <td>(44.5691, -125.1481)</td>\n",
       "      <td>19.01</td>\n",
       "      <td>37.75</td>\n",
       "      <td>NaN</td>\n",
       "      <td>NaN</td>\n",
       "      <td>NaN</td>\n",
       "      <td>NaN</td>\n",
       "    </tr>\n",
       "    <tr>\n",
       "      <th>4</th>\n",
       "      <td>4</td>\n",
       "      <td>636092819</td>\n",
       "      <td>2021-01-01T00:24:00</td>\n",
       "      <td>44.54881</td>\n",
       "      <td>-125.62310</td>\n",
       "      <td>10.8</td>\n",
       "      <td>177.9</td>\n",
       "      <td>180.0</td>\n",
       "      <td>NaN</td>\n",
       "      <td>NaN</td>\n",
       "      <td>...</td>\n",
       "      <td>(44.54881, -125.6231)</td>\n",
       "      <td>44.5691</td>\n",
       "      <td>-125.1481</td>\n",
       "      <td>(44.5691, -125.1481)</td>\n",
       "      <td>18.91</td>\n",
       "      <td>37.81</td>\n",
       "      <td>NaN</td>\n",
       "      <td>NaN</td>\n",
       "      <td>NaN</td>\n",
       "      <td>NaN</td>\n",
       "    </tr>\n",
       "  </tbody>\n",
       "</table>\n",
       "<p>5 rows × 31 columns</p>\n",
       "</div>"
      ],
      "text/plain": [
       "   Unnamed: 0       MMSI         BaseDateTime       LAT        LON   SOG  \\\n",
       "0           0  636092819  2021-01-01T00:17:40  44.56820 -125.62248  11.0   \n",
       "1           1  636092819  2021-01-01T00:19:00  44.56414 -125.62273  11.1   \n",
       "2           2  636092819  2021-01-01T00:20:08  44.56068 -125.62271  11.4   \n",
       "3           3  636092819  2021-01-01T00:22:19  44.55397 -125.62281  10.9   \n",
       "4           4  636092819  2021-01-01T00:24:00  44.54881 -125.62310  10.8   \n",
       "\n",
       "     COG  Heading VesselName  IMO  ...                ship_Loc  \\\n",
       "0  180.6    181.0        NaN  NaN  ...   (44.5682, -125.62248)   \n",
       "1  187.9    180.0        NaN  NaN  ...  (44.56414, -125.62273)   \n",
       "2  162.9    179.0        NaN  NaN  ...  (44.56068, -125.62271)   \n",
       "3  186.6    182.0        NaN  NaN  ...  (44.55397, -125.62281)   \n",
       "4  177.9    180.0        NaN  NaN  ...   (44.54881, -125.6231)   \n",
       "\n",
       "   Southern_hydrate_Lat  Southern_hydrate_lon  Southern_hydrate_Loc  \\\n",
       "0               44.5691             -125.1481  (44.5691, -125.1481)   \n",
       "1               44.5691             -125.1481  (44.5691, -125.1481)   \n",
       "2               44.5691             -125.1481  (44.5691, -125.1481)   \n",
       "3               44.5691             -125.1481  (44.5691, -125.1481)   \n",
       "4               44.5691             -125.1481  (44.5691, -125.1481)   \n",
       "\n",
       "   distance(in km) oregon  distance(in km) hydrate Type Code VESSEL TYPE  \\\n",
       "0                   19.40                    37.68       NaN         NaN   \n",
       "1                   19.29                    37.71       NaN         NaN   \n",
       "2                   19.19                    37.72       NaN         NaN   \n",
       "3                   19.01                    37.75       NaN         NaN   \n",
       "4                   18.91                    37.81       NaN         NaN   \n",
       "\n",
       "   Group  group3  \n",
       "0    NaN     NaN  \n",
       "1    NaN     NaN  \n",
       "2    NaN     NaN  \n",
       "3    NaN     NaN  \n",
       "4    NaN     NaN  \n",
       "\n",
       "[5 rows x 31 columns]"
      ]
     },
     "execution_count": 5,
     "metadata": {},
     "output_type": "execute_result"
    }
   ],
   "source": [
    "df.head()"
   ]
  },
  {
   "cell_type": "code",
   "execution_count": 6,
   "metadata": {},
   "outputs": [
    {
     "data": {
      "text/plain": [
       "Timestamp('2017-01-01 09:48:46')"
      ]
     },
     "execution_count": 6,
     "metadata": {},
     "output_type": "execute_result"
    }
   ],
   "source": [
    "df['TIMESTAMP UTC'].min()"
   ]
  },
  {
   "cell_type": "code",
   "execution_count": 7,
   "metadata": {},
   "outputs": [
    {
     "data": {
      "text/plain": [
       "Timestamp('2022-06-30 23:59:29')"
      ]
     },
     "execution_count": 7,
     "metadata": {},
     "output_type": "execute_result"
    }
   ],
   "source": [
    "df['TIMESTAMP UTC'].max()"
   ]
  },
  {
   "cell_type": "code",
   "execution_count": 8,
   "metadata": {},
   "outputs": [
    {
     "data": {
      "text/plain": [
       "array([nan, 'Cargo, all ships of this type', 'Pleasure Craft', 'Fishing',\n",
       "       'Sailing', 'Passenger, all ships of this type',\n",
       "       'Tanker, all ships of this type',\n",
       "       'Other Type, all ships of this type',\n",
       "       'Cargo, Hazardous category A', 'Towing',\n",
       "       'Cargo, Hazardous category C',\n",
       "       'Other Type, no additional information',\n",
       "       'Cargo, No additional information', 'Spare - Local Vessel',\n",
       "       'Tanker, No additional information', 'Cargo, Hazardous category B',\n",
       "       'Cargo, Hazardous category D', 'Tanker, Hazardous category B',\n",
       "       'Tanker, Hazardous category A', 'Tug', 'Not available (default)',\n",
       "       'Wing in ground (WIG), all ships of this type',\n",
       "       'Other Type, Hazardous category A', 'Tanker, Hazardous category D',\n",
       "       'Military ops',\n",
       "       'Towing: length exceeds 200m or breadth exceeds 25m',\n",
       "       'Tanker, Hazardous category C',\n",
       "       'Passenger, No additional information'], dtype=object)"
      ]
     },
     "execution_count": 8,
     "metadata": {},
     "output_type": "execute_result"
    }
   ],
   "source": [
    "df['VESSEL TYPE'].unique()"
   ]
  },
  {
   "cell_type": "code",
   "execution_count": 11,
   "metadata": {},
   "outputs": [],
   "source": [
    "min_duration=10\n",
    "path_to_write='E:/Acer backup 3/internships and jobs/UW/Reader grader and TA/Shima Abadi/Data/Benchmark_data/'"
   ]
  },
  {
   "cell_type": "code",
   "execution_count": 12,
   "metadata": {},
   "outputs": [
    {
     "data": {
      "text/plain": [
       "<module 'functions' from 'C:\\\\Users\\\\khirod\\\\Documents\\\\GitHub\\\\Ocean-data-analysis\\\\functions.py'>"
      ]
     },
     "execution_count": 12,
     "metadata": {},
     "output_type": "execute_result"
    }
   ],
   "source": [
    "reload(fn)"
   ]
  },
  {
   "cell_type": "code",
   "execution_count": 13,
   "metadata": {},
   "outputs": [],
   "source": [
    "def get_benchmark_data(df,hydrophone_idx,inner_rad,outer_rad,min_duration,fmin=10,fmax=90,break_dur=True,get_acoustic=True,get_spectrogram=True):\n",
    "    \n",
    "    if hydrophone_idx==1:\n",
    "        hydro='Oregon_slope'\n",
    "    elif hydrophone_idx==2:\n",
    "        hydro='Southern_hydrate'\n",
    "    suffix=str(inner_rad)+'_'+ str(outer_rad)+'.csv'\n",
    "    ais=fn.choose_df_slope_hydrate(df,hydrophone_idx)\n",
    "    isolated_ships=fn.get_isolated_ships(ais,inner_rad,outer_rad,min_duration)\n",
    "    isolated_ships.to_csv(path_to_write+hydro+'/isolated_ships_' + suffix)\n",
    "    isolated_ais=fn.isolated_ais(ais,isolated_ships,inner_rad)\n",
    "    isolated_ais.to_csv(path_to_write+hydro+'/isolated_ais_'+ suffix)\n",
    "    if break_dur:\n",
    "        isolated_ais_10m=fn.break_duration(isolated_ships)\n",
    "        isolated_ais_10m.to_csv(path_to_write+hydro+'/isolated_ais_10m_'+ suffix)\n",
    "    \n",
    "    if get_acoustic==True:\n",
    "        print('Saving wav files')\n",
    "        for i in tqdm(range(len(isolated_ships))):\n",
    "            min_time=isolated_ships.start_time[i]\n",
    "            max_time=isolated_ships.end_time[i]\n",
    "            hydrophone_data=fn.get_acoustic(hydrophone_idx,min_time,max_time,fmin=fmin,fmax=fmax)\n",
    "            if hydrophone_data==None:\n",
    "                # print('data trace is none. Continuing to next')\n",
    "                pass\n",
    "            else:\n",
    "                hydrophone_data.wav_write(filename=path_to_write+hydro+'/Audio'+'/isolated_ships_'+str(inner_rad)+'_'+ str(outer_rad)+'_'+str(i)+'.wav')\n",
    "    if get_spectrogram==True:\n",
    "        print('Saving spectrograms')\n",
    "        for i in tqdm(range(len(isolated_ships))):\n",
    "            min_time=isolated_ships.start_time[i]\n",
    "            max_time=isolated_ships.end_time[i]\n",
    "            spectrogram=fn.get_spectrogram_data(hydrophone_idx,min_time,max_time,fmin=fmin,fmax=fmax)\n",
    "            if (spectrogram==None):\n",
    "                # print('data trace is none. Continuing to next')\n",
    "                pass\n",
    "            else:\n",
    "                if (spectrogram.values.shape[0]<2) | (spectrogram.values.shape[1]<2):\n",
    "                    pass\n",
    "                else:\n",
    "                    #spectrogram.visualize(save_spec=True,plot_spec=False,filename=path_to_write+hydro+'/Spectrogram'+'/isolated_ships_'+str(inner_rad)+'_'+ str(outer_rad)+'_'+str(i)+'.png')\n",
    "                    ooiplt.plot_spectrogram(spectrogram,plot=False,save=True,fmin=fmin,fmax=fmax,filename=path_to_write+hydro+'/Spectrogram'+'/isolated_ships_'+str(inner_rad)+'_'+ str(outer_rad)+'_'+str(i)+'.png')\n",
    "    return isolated_ships,isolated_ais"
   ]
  },
  {
   "cell_type": "markdown",
   "metadata": {},
   "source": [
    "## Creating benchmark data for Oregon slope"
   ]
  },
  {
   "cell_type": "markdown",
   "metadata": {},
   "source": [
    "### Depth=2.9\n",
    "### Oregon slope= 'HYSB1'\n",
    "\n",
    "### inner rad=2.9, outer_rad=2.9, outer_rad=5.8"
   ]
  },
  {
   "cell_type": "code",
   "execution_count": 22,
   "metadata": {},
   "outputs": [],
   "source": [
    "inner_rad= 3\n",
    "outer_rad1=12\n",
    "outer_rad2=24"
   ]
  },
  {
   "cell_type": "code",
   "execution_count": 23,
   "metadata": {},
   "outputs": [
    {
     "name": "stdout",
     "output_type": "stream",
     "text": [
      " Max distance: 57.89 and Min distance: 0.0\n"
     ]
    },
    {
     "name": "stderr",
     "output_type": "stream",
     "text": [
      "100%|███████████████████████████████████████████████████████████████████████████████| 106/106 [00:00<00:00, 118.77it/s]\n"
     ]
    }
   ],
   "source": [
    "d1,d2=get_benchmark_data(df,1,inner_rad,outer_rad1,min_duration,break_dur=False,get_acoustic=False,get_spectrogram=False)"
   ]
  },
  {
   "cell_type": "code",
   "execution_count": 24,
   "metadata": {},
   "outputs": [
    {
     "name": "stdout",
     "output_type": "stream",
     "text": [
      "NaN                                   55\n",
      "Other Type, all ships of this type    37\n",
      "Towing                                 5\n",
      "Sailing                                3\n",
      "Cargo, all ships of this type          3\n",
      "Fishing                                2\n",
      "Pleasure Craft                         1\n",
      "Name: VESSEL TYPE, dtype: int64 \n",
      " 24899.81666666667\n"
     ]
    }
   ],
   "source": [
    "print(d1['VESSEL TYPE'].value_counts(dropna=False),'\\n',d1['len_of_recording'].sum())"
   ]
  },
  {
   "cell_type": "code",
   "execution_count": 25,
   "metadata": {},
   "outputs": [
    {
     "name": "stdout",
     "output_type": "stream",
     "text": [
      " Max distance: 57.89 and Min distance: 0.0\n"
     ]
    },
    {
     "name": "stderr",
     "output_type": "stream",
     "text": [
      "100%|███████████████████████████████████████████████████████████████████████████████| 105/105 [00:00<00:00, 131.69it/s]\n"
     ]
    },
    {
     "name": "stdout",
     "output_type": "stream",
     "text": [
      "{'MMSI': 235010450, 'start_time': Timestamp('2017-07-05 06:37:19'), 'end_time': Timestamp('2017-07-05 06:47:19'), 'VESSEL TYPE': nan, 'len_of_recording': 10.0}\n"
     ]
    }
   ],
   "source": [
    "d1,d2=get_benchmark_data(df,1,inner_rad,outer_rad2,min_duration,get_acoustic=False,get_spectrogram=False)"
   ]
  },
  {
   "cell_type": "code",
   "execution_count": 26,
   "metadata": {},
   "outputs": [
    {
     "name": "stdout",
     "output_type": "stream",
     "text": [
      "NaN                                   55\n",
      "Other Type, all ships of this type    37\n",
      "Towing                                 4\n",
      "Sailing                                3\n",
      "Cargo, all ships of this type          3\n",
      "Fishing                                2\n",
      "Pleasure Craft                         1\n",
      "Name: VESSEL TYPE, dtype: int64 \n",
      " 16487.88333333333\n"
     ]
    }
   ],
   "source": [
    "print(d1['VESSEL TYPE'].value_counts(dropna=False),'\\n',d1['len_of_recording'].sum())"
   ]
  },
  {
   "cell_type": "code",
   "execution_count": null,
   "metadata": {},
   "outputs": [],
   "source": [
    "d1.head()"
   ]
  },
  {
   "cell_type": "markdown",
   "metadata": {},
   "source": [
    "## Creating benchmark data for Southern hydrate"
   ]
  },
  {
   "cell_type": "markdown",
   "metadata": {},
   "source": [
    "### Depth=772\n",
    "### Southern hydrate= 'HYS14'\n",
    "\n",
    "### inner rad=0.772, outer_rad=0.772, outer_rad=1.544"
   ]
  },
  {
   "cell_type": "code",
   "execution_count": 32,
   "metadata": {},
   "outputs": [],
   "source": [
    "inner_rad= 2\n",
    "outer_rad1=4\n",
    "outer_rad2=8"
   ]
  },
  {
   "cell_type": "code",
   "execution_count": 33,
   "metadata": {},
   "outputs": [
    {
     "name": "stdout",
     "output_type": "stream",
     "text": [
      " Max distance: 76.26 and Min distance: 0.0\n"
     ]
    },
    {
     "name": "stderr",
     "output_type": "stream",
     "text": [
      "100%|█████████████████████████████████████████████████████████████████████████████████| 72/72 [00:00<00:00, 128.75it/s]\n"
     ]
    }
   ],
   "source": [
    "d1,d2=get_benchmark_data(df,2,inner_rad,outer_rad1,min_duration,break_dur=False,get_acoustic=False,get_spectrogram=False)"
   ]
  },
  {
   "cell_type": "code",
   "execution_count": 34,
   "metadata": {},
   "outputs": [
    {
     "name": "stdout",
     "output_type": "stream",
     "text": [
      "NaN                                   48\n",
      "Other Type, all ships of this type    17\n",
      "Fishing                                4\n",
      "Towing                                 1\n",
      "Tug                                    1\n",
      "Pleasure Craft                         1\n",
      "Name: VESSEL TYPE, dtype: int64 \n",
      " 27208.816666666666\n"
     ]
    }
   ],
   "source": [
    "print(d1['VESSEL TYPE'].value_counts(dropna=False),'\\n',d1['len_of_recording'].sum())"
   ]
  },
  {
   "cell_type": "code",
   "execution_count": 35,
   "metadata": {},
   "outputs": [
    {
     "name": "stdout",
     "output_type": "stream",
     "text": [
      " Max distance: 76.26 and Min distance: 0.0\n"
     ]
    },
    {
     "name": "stderr",
     "output_type": "stream",
     "text": [
      "100%|█████████████████████████████████████████████████████████████████████████████████| 93/93 [00:00<00:00, 121.69it/s]\n"
     ]
    },
    {
     "name": "stdout",
     "output_type": "stream",
     "text": [
      "{'MMSI': 367466760, 'start_time': Timestamp('2017-08-27 00:53:21'), 'end_time': Timestamp('2017-08-27 01:03:21'), 'VESSEL TYPE': 'Fishing', 'len_of_recording': 10.0}\n"
     ]
    }
   ],
   "source": [
    "d1,d2=get_benchmark_data(df,2,inner_rad,outer_rad2,min_duration,get_acoustic=False,get_spectrogram=False)"
   ]
  },
  {
   "cell_type": "code",
   "execution_count": 36,
   "metadata": {
    "scrolled": true
   },
   "outputs": [
    {
     "name": "stdout",
     "output_type": "stream",
     "text": [
      "NaN                                   63\n",
      "Other Type, all ships of this type    23\n",
      "Fishing                                4\n",
      "Towing                                 1\n",
      "Tug                                    1\n",
      "Pleasure Craft                         1\n",
      "Name: VESSEL TYPE, dtype: int64 \n",
      " 26396.233333333337\n"
     ]
    }
   ],
   "source": [
    "print(d1['VESSEL TYPE'].value_counts(dropna=False),'\\n',d1['len_of_recording'].sum())"
   ]
  },
  {
   "cell_type": "code",
   "execution_count": 53,
   "metadata": {},
   "outputs": [],
   "source": [
    "reload(fn)\n",
    "\n",
    "def compare_hydrophone_records_slope_hydrate(df,hydro_idx,inner_rad,outer_rad,min_duration,break_dur=True):\n",
    "    print(colored('Comparative view with minimum duration: '+ str(min_duration),'green',attrs=['bold']))\n",
    "    table=pd.DataFrame(columns=['hydrophone_idx','inner_rad','outer_rad','no_unique_ships','no_unique_vessels','no_instances'])\n",
    "    for i_r in inner_rad:\n",
    "        for o_r in outer_rad:\n",
    "            print(o_r)\n",
    "            if i_r<=o_r:\n",
    "                temp_dict=dict()\n",
    "                ais=fn.choose_df_slope_hydrate(df,hydro_idx,verbose=False)\n",
    "                temp_df1=fn.get_isolated_ships(ais,i_r,o_r,min_duration)\n",
    "                if break_dur:\n",
    "                    temp_df2=fn.break_duration(temp_df1)\n",
    "                    temp_dict['no_10m_durations']=len(temp_df2)\n",
    "#                 print(len(temp_df1))\n",
    "                temp_dict['hydrophone_idx']=hydro_idx\n",
    "                temp_dict['inner_rad']=i_r\n",
    "                temp_dict['outer_rad']=o_r\n",
    "                temp_dict['no_unique_ships']=temp_df1['MMSI'].nunique()\n",
    "                temp_dict['no_unique_vessels']=temp_df1['VESSEL TYPE'].nunique()\n",
    "                temp_dict['no_instances']=len(temp_df1)\n",
    "                temp_dict['len_of_recordings']=temp_df1.len_of_recording.sum()\n",
    "                \n",
    "                table=table.append(temp_dict,ignore_index=True)\n",
    "    return table\n"
   ]
  },
  {
   "cell_type": "code",
   "execution_count": 48,
   "metadata": {},
   "outputs": [
    {
     "data": {
      "text/html": [
       "<div>\n",
       "<style scoped>\n",
       "    .dataframe tbody tr th:only-of-type {\n",
       "        vertical-align: middle;\n",
       "    }\n",
       "\n",
       "    .dataframe tbody tr th {\n",
       "        vertical-align: top;\n",
       "    }\n",
       "\n",
       "    .dataframe thead th {\n",
       "        text-align: right;\n",
       "    }\n",
       "</style>\n",
       "<table border=\"1\" class=\"dataframe\">\n",
       "  <thead>\n",
       "    <tr style=\"text-align: right;\">\n",
       "      <th></th>\n",
       "      <th>MMSI</th>\n",
       "      <th>VESSEL TYPE</th>\n",
       "    </tr>\n",
       "  </thead>\n",
       "  <tbody>\n",
       "    <tr>\n",
       "      <th>0</th>\n",
       "      <td>636092819</td>\n",
       "      <td>NaN</td>\n",
       "    </tr>\n",
       "    <tr>\n",
       "      <th>78</th>\n",
       "      <td>351819000</td>\n",
       "      <td>NaN</td>\n",
       "    </tr>\n",
       "    <tr>\n",
       "      <th>109</th>\n",
       "      <td>563052600</td>\n",
       "      <td>NaN</td>\n",
       "    </tr>\n",
       "    <tr>\n",
       "      <th>125</th>\n",
       "      <td>636092872</td>\n",
       "      <td>NaN</td>\n",
       "    </tr>\n",
       "    <tr>\n",
       "      <th>130</th>\n",
       "      <td>373054000</td>\n",
       "      <td>NaN</td>\n",
       "    </tr>\n",
       "    <tr>\n",
       "      <th>...</th>\n",
       "      <td>...</td>\n",
       "      <td>...</td>\n",
       "    </tr>\n",
       "    <tr>\n",
       "      <th>706707</th>\n",
       "      <td>372997000</td>\n",
       "      <td>Cargo, all ships of this type</td>\n",
       "    </tr>\n",
       "    <tr>\n",
       "      <th>706857</th>\n",
       "      <td>215134000</td>\n",
       "      <td>Cargo, all ships of this type</td>\n",
       "    </tr>\n",
       "    <tr>\n",
       "      <th>707518</th>\n",
       "      <td>308808000</td>\n",
       "      <td>Cargo, all ships of this type</td>\n",
       "    </tr>\n",
       "    <tr>\n",
       "      <th>707520</th>\n",
       "      <td>352948000</td>\n",
       "      <td>Cargo, all ships of this type</td>\n",
       "    </tr>\n",
       "    <tr>\n",
       "      <th>707751</th>\n",
       "      <td>636092041</td>\n",
       "      <td>Cargo, all ships of this type</td>\n",
       "    </tr>\n",
       "  </tbody>\n",
       "</table>\n",
       "<p>2425 rows × 2 columns</p>\n",
       "</div>"
      ],
      "text/plain": [
       "             MMSI                    VESSEL TYPE\n",
       "0       636092819                            NaN\n",
       "78      351819000                            NaN\n",
       "109     563052600                            NaN\n",
       "125     636092872                            NaN\n",
       "130     373054000                            NaN\n",
       "...           ...                            ...\n",
       "706707  372997000  Cargo, all ships of this type\n",
       "706857  215134000  Cargo, all ships of this type\n",
       "707518  308808000  Cargo, all ships of this type\n",
       "707520  352948000  Cargo, all ships of this type\n",
       "707751  636092041  Cargo, all ships of this type\n",
       "\n",
       "[2425 rows x 2 columns]"
      ]
     },
     "execution_count": 48,
     "metadata": {},
     "output_type": "execute_result"
    }
   ],
   "source": [
    "df.head()\n",
    "vessels=df[['MMSI','VESSEL TYPE']].drop_duplicates(subset=['MMSI'])\n",
    "vessels"
   ]
  },
  {
   "cell_type": "markdown",
   "metadata": {},
   "source": [
    "## Comparison of various options"
   ]
  },
  {
   "cell_type": "code",
   "execution_count": 54,
   "metadata": {},
   "outputs": [
    {
     "name": "stdout",
     "output_type": "stream",
     "text": [
      "\u001b[1m\u001b[32mComparative view with minimum duration: 10\u001b[0m\n",
      "12\n",
      "{'MMSI': 235010450, 'start_time': Timestamp('2017-07-05 06:37:19'), 'end_time': Timestamp('2017-07-05 06:47:19'), 'VESSEL TYPE': nan, 'len_of_recording': 10.0}\n",
      "24\n",
      "{'MMSI': 235010450, 'start_time': Timestamp('2017-07-05 06:37:19'), 'end_time': Timestamp('2017-07-05 06:47:19'), 'VESSEL TYPE': nan, 'len_of_recording': 10.0}\n"
     ]
    },
    {
     "data": {
      "text/html": [
       "<div>\n",
       "<style scoped>\n",
       "    .dataframe tbody tr th:only-of-type {\n",
       "        vertical-align: middle;\n",
       "    }\n",
       "\n",
       "    .dataframe tbody tr th {\n",
       "        vertical-align: top;\n",
       "    }\n",
       "\n",
       "    .dataframe thead th {\n",
       "        text-align: right;\n",
       "    }\n",
       "</style>\n",
       "<table border=\"1\" class=\"dataframe\">\n",
       "  <thead>\n",
       "    <tr style=\"text-align: right;\">\n",
       "      <th></th>\n",
       "      <th>hydrophone_idx</th>\n",
       "      <th>inner_rad</th>\n",
       "      <th>outer_rad</th>\n",
       "      <th>no_unique_ships</th>\n",
       "      <th>no_unique_vessels</th>\n",
       "      <th>no_instances</th>\n",
       "      <th>no_10m_durations</th>\n",
       "      <th>len_of_recordings</th>\n",
       "    </tr>\n",
       "  </thead>\n",
       "  <tbody>\n",
       "    <tr>\n",
       "      <th>0</th>\n",
       "      <td>4.0</td>\n",
       "      <td>3.0</td>\n",
       "      <td>12.0</td>\n",
       "      <td>36.0</td>\n",
       "      <td>6.0</td>\n",
       "      <td>106.0</td>\n",
       "      <td>2543.0</td>\n",
       "      <td>24899.816667</td>\n",
       "    </tr>\n",
       "    <tr>\n",
       "      <th>1</th>\n",
       "      <td>4.0</td>\n",
       "      <td>3.0</td>\n",
       "      <td>24.0</td>\n",
       "      <td>31.0</td>\n",
       "      <td>6.0</td>\n",
       "      <td>105.0</td>\n",
       "      <td>1705.0</td>\n",
       "      <td>16487.883333</td>\n",
       "    </tr>\n",
       "  </tbody>\n",
       "</table>\n",
       "</div>"
      ],
      "text/plain": [
       "   hydrophone_idx  inner_rad  outer_rad  no_unique_ships  no_unique_vessels  \\\n",
       "0             4.0        3.0       12.0             36.0                6.0   \n",
       "1             4.0        3.0       24.0             31.0                6.0   \n",
       "\n",
       "   no_instances  no_10m_durations  len_of_recordings  \n",
       "0         106.0            2543.0       24899.816667  \n",
       "1         105.0            1705.0       16487.883333  "
      ]
     },
     "execution_count": 54,
     "metadata": {},
     "output_type": "execute_result"
    }
   ],
   "source": [
    "inner_rad=[3]\n",
    "outer_rad=[12,24]\n",
    "min_duration=10\n",
    "hydro_idx=4\n",
    "table=compare_hydrophone_records_slope_hydrate(df,hydro_idx,inner_rad,outer_rad,min_duration,break_dur=True)\n",
    "table"
   ]
  },
  {
   "cell_type": "code",
   "execution_count": 55,
   "metadata": {},
   "outputs": [
    {
     "name": "stdout",
     "output_type": "stream",
     "text": [
      "\u001b[1m\u001b[32mComparative view with minimum duration: 10\u001b[0m\n",
      "4\n",
      "8\n",
      "{'MMSI': 367466760, 'start_time': Timestamp('2017-08-27 00:53:21'), 'end_time': Timestamp('2017-08-27 01:03:21'), 'VESSEL TYPE': 'Fishing', 'len_of_recording': 10.0}\n"
     ]
    },
    {
     "data": {
      "text/html": [
       "<div>\n",
       "<style scoped>\n",
       "    .dataframe tbody tr th:only-of-type {\n",
       "        vertical-align: middle;\n",
       "    }\n",
       "\n",
       "    .dataframe tbody tr th {\n",
       "        vertical-align: top;\n",
       "    }\n",
       "\n",
       "    .dataframe thead th {\n",
       "        text-align: right;\n",
       "    }\n",
       "</style>\n",
       "<table border=\"1\" class=\"dataframe\">\n",
       "  <thead>\n",
       "    <tr style=\"text-align: right;\">\n",
       "      <th></th>\n",
       "      <th>hydrophone_idx</th>\n",
       "      <th>inner_rad</th>\n",
       "      <th>outer_rad</th>\n",
       "      <th>no_unique_ships</th>\n",
       "      <th>no_unique_vessels</th>\n",
       "      <th>no_instances</th>\n",
       "      <th>no_10m_durations</th>\n",
       "      <th>len_of_recordings</th>\n",
       "    </tr>\n",
       "  </thead>\n",
       "  <tbody>\n",
       "    <tr>\n",
       "      <th>0</th>\n",
       "      <td>5.0</td>\n",
       "      <td>2.0</td>\n",
       "      <td>4.0</td>\n",
       "      <td>20.0</td>\n",
       "      <td>5.0</td>\n",
       "      <td>72.0</td>\n",
       "      <td>2757.0</td>\n",
       "      <td>27208.816667</td>\n",
       "    </tr>\n",
       "    <tr>\n",
       "      <th>1</th>\n",
       "      <td>5.0</td>\n",
       "      <td>2.0</td>\n",
       "      <td>8.0</td>\n",
       "      <td>20.0</td>\n",
       "      <td>5.0</td>\n",
       "      <td>93.0</td>\n",
       "      <td>2688.0</td>\n",
       "      <td>26396.233333</td>\n",
       "    </tr>\n",
       "  </tbody>\n",
       "</table>\n",
       "</div>"
      ],
      "text/plain": [
       "   hydrophone_idx  inner_rad  outer_rad  no_unique_ships  no_unique_vessels  \\\n",
       "0             5.0        2.0        4.0             20.0                5.0   \n",
       "1             5.0        2.0        8.0             20.0                5.0   \n",
       "\n",
       "   no_instances  no_10m_durations  len_of_recordings  \n",
       "0          72.0            2757.0       27208.816667  \n",
       "1          93.0            2688.0       26396.233333  "
      ]
     },
     "execution_count": 55,
     "metadata": {},
     "output_type": "execute_result"
    }
   ],
   "source": [
    "inner_rad=[2]\n",
    "outer_rad=[4,8]\n",
    "min_duration=10\n",
    "hydro_idx=5\n",
    "table=compare_hydrophone_records_slope_hydrate(df,hydro_idx,inner_rad,outer_rad,min_duration,break_dur=True)\n",
    "table"
   ]
  },
  {
   "cell_type": "code",
   "execution_count": 56,
   "metadata": {},
   "outputs": [],
   "source": [
    "# reload(fn)\n",
    "\n",
    "# print(colored('Overlapping of all hydrophones with minimum number of timestamps: '+ str(min_duration),'green',attrs=['bold']))\n",
    "# table2=pd.DataFrame(columns=['inner_rad','outer_rad','no_unique_ships','no_unique_vessels','no_records'])\n",
    "\n",
    "# for i_r in inner_rad:\n",
    "#     for o_r in outer_rad:\n",
    "#         combined_df=pd.DataFrame()\n",
    "#         for i in range(1,4,1):\n",
    "#             temp_dict=dict()\n",
    "#             ais=fn.choose_df(df,i,verbose=False)\n",
    "#             d1=fn.get_isolated_ships(ais,i_r,o_r,min_duration)\n",
    "#             combined_df=pd.concat([combined_df,d1])\n",
    "\n",
    "#         temp_dict['inner_rad']=i_r\n",
    "#         temp_dict['outer_rad']=o_r\n",
    "#         temp_dict['no_unique_ships']=combined_df['MMSI'].nunique()\n",
    "#         temp_dict['no_unique_vessels']=combined_df['VESSEL TYPE'].nunique()\n",
    "#         temp_dict['no_records']=len(combined_df)\n",
    "#         table2=table2.append(temp_dict,ignore_index=True)\n",
    "# table2\n",
    "        "
   ]
  },
  {
   "cell_type": "code",
   "execution_count": null,
   "metadata": {},
   "outputs": [],
   "source": []
  }
 ],
 "metadata": {
  "kernelspec": {
   "display_name": "Python 3 (ipykernel)",
   "language": "python",
   "name": "python3"
  },
  "language_info": {
   "codemirror_mode": {
    "name": "ipython",
    "version": 3
   },
   "file_extension": ".py",
   "mimetype": "text/x-python",
   "name": "python",
   "nbconvert_exporter": "python",
   "pygments_lexer": "ipython3",
   "version": "3.10.6"
  },
  "vscode": {
   "interpreter": {
    "hash": "359f9a5187fb9b90d6791b9a1894c924ec82a2292c14ad522499e88f73769967"
   }
  }
 },
 "nbformat": 4,
 "nbformat_minor": 4
}
