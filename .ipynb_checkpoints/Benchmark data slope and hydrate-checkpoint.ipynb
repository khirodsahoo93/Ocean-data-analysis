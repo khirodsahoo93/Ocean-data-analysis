{
 "cells": [
  {
   "cell_type": "code",
   "execution_count": 43,
   "metadata": {},
   "outputs": [],
   "source": [
    "import functions as fn\n",
    "import pandas as pd\n",
    "from importlib import reload\n",
    "from tqdm import tqdm\n",
    "from termcolor import colored\n",
    "import matplotlib.pyplot as plt\n",
    "from ooipy.tools import ooiplotlib as ooiplt\n",
    "import datetime"
   ]
  },
  {
   "cell_type": "code",
   "execution_count": 44,
   "metadata": {},
   "outputs": [],
   "source": [
    "df = pd.read_csv('E:/Acer backup 3/internships and jobs/UW/Reader grader and TA/Shima Abadi/Data/oregon_hydrate.csv',sep = ',')\n"
   ]
  },
  {
   "cell_type": "code",
   "execution_count": 45,
   "metadata": {},
   "outputs": [
    {
     "data": {
      "text/plain": [
       "Index(['Unnamed: 0', 'MMSI', 'BaseDateTime', 'LAT', 'LON', 'SOG', 'COG',\n",
       "       'Heading', 'VesselName', 'IMO', 'CallSign', 'VESSEL TYPE', 'Status',\n",
       "       'LENGTH', 'Width', 'Draft', 'Cargo', 'TransceiverClass',\n",
       "       'TIMESTAMP UTC', 'oregon_slope_Lat', 'oregon_slope_Lon',\n",
       "       'oregon_slope_Loc', 'ship_Loc', 'Southern_hydrate_Lat',\n",
       "       'Southern_hydrate_lon', 'Southern_hydrate_Loc',\n",
       "       'distance(in km) oregon', 'distance(in km) hydrate'],\n",
       "      dtype='object')"
      ]
     },
     "execution_count": 45,
     "metadata": {},
     "output_type": "execute_result"
    }
   ],
   "source": [
    "df.columns"
   ]
  },
  {
   "cell_type": "code",
   "execution_count": 46,
   "metadata": {},
   "outputs": [],
   "source": [
    "df['TIMESTAMP UTC']=df['TIMESTAMP UTC'].astype('datetime64[ns]')\n"
   ]
  },
  {
   "cell_type": "code",
   "execution_count": 47,
   "metadata": {},
   "outputs": [],
   "source": [
    "min_duration=10\n",
    "path_to_write='E:/Acer backup 3/internships and jobs/UW/Reader grader and TA/Shima Abadi/Data/Benchmark_data/'"
   ]
  },
  {
   "cell_type": "code",
   "execution_count": 48,
   "metadata": {},
   "outputs": [
    {
     "data": {
      "text/plain": [
       "<module 'functions' from 'C:\\\\Users\\\\khirod\\\\Documents\\\\GitHub\\\\Ocean-data-analysis\\\\functions.py'>"
      ]
     },
     "execution_count": 48,
     "metadata": {},
     "output_type": "execute_result"
    }
   ],
   "source": [
    "reload(fn)"
   ]
  },
  {
   "cell_type": "code",
   "execution_count": 55,
   "metadata": {},
   "outputs": [],
   "source": [
    "def get_benchmark_data(df,hydrophone_idx,inner_rad,outer_rad,min_duration,fmin=10,fmax=90,break_dur=True,get_acoustic=True,get_spectrogram=True):\n",
    "    \n",
    "    if hydrophone_idx==1:\n",
    "        hydro='Oregon_slope'\n",
    "    elif hydrophone_idx==2:\n",
    "        hydro='Southern_hydrate'\n",
    "    suffix=str(inner_rad)+'_'+ str(outer_rad)+'.csv'\n",
    "    ais=fn.choose_df_slope_hydrate(df,hydrophone_idx)\n",
    "    isolated_ships=fn.get_isolated_ships(ais,inner_rad,outer_rad,min_duration)\n",
    "    isolated_ships.to_csv(path_to_write+hydro+'/isolated_ships_' + suffix)\n",
    "    isolated_ais=fn.isolated_ais(ais,isolated_ships,inner_rad)\n",
    "    isolated_ais.to_csv(path_to_write+hydro+'/isolated_ais_'+ suffix)\n",
    "    if break_dur:\n",
    "        isolated_ais_10m=fn.break_duration(isolated_ships)\n",
    "        isolated_ais_10m.to_csv(path_to_write+hydro+'/isolated_ais_10m_'+ suffix)\n",
    "    \n",
    "    if get_acoustic==True:\n",
    "        print('Saving wav files')\n",
    "        for i in tqdm(range(len(isolated_ships))):\n",
    "            min_time=isolated_ships.start_time[i]\n",
    "            max_time=isolated_ships.end_time[i]\n",
    "            hydrophone_data=fn.get_acoustic(hydrophone_idx,min_time,max_time,fmin=fmin,fmax=fmax)\n",
    "            if hydrophone_data==None:\n",
    "                # print('data trace is none. Continuing to next')\n",
    "                pass\n",
    "            else:\n",
    "                hydrophone_data.wav_write(filename=path_to_write+hydro+'/Audio'+'/isolated_ships_'+str(inner_rad)+'_'+ str(outer_rad)+'_'+str(i)+'.wav')\n",
    "    if get_spectrogram==True:\n",
    "        print('Saving spectrograms')\n",
    "        for i in tqdm(range(len(isolated_ships))):\n",
    "            min_time=isolated_ships.start_time[i]\n",
    "            max_time=isolated_ships.end_time[i]\n",
    "            spectrogram=fn.get_spectrogram_data(hydrophone_idx,min_time,max_time,fmin=fmin,fmax=fmax)\n",
    "            if (spectrogram==None):\n",
    "                # print('data trace is none. Continuing to next')\n",
    "                pass\n",
    "            else:\n",
    "                if (spectrogram.values.shape[0]<2) | (spectrogram.values.shape[1]<2):\n",
    "                    pass\n",
    "                else:\n",
    "                    #spectrogram.visualize(save_spec=True,plot_spec=False,filename=path_to_write+hydro+'/Spectrogram'+'/isolated_ships_'+str(inner_rad)+'_'+ str(outer_rad)+'_'+str(i)+'.png')\n",
    "                    ooiplt.plot_spectrogram(spectrogram,plot=False,save=True,fmin=fmin,fmax=fmax,filename=path_to_write+hydro+'/Spectrogram'+'/isolated_ships_'+str(inner_rad)+'_'+ str(outer_rad)+'_'+str(i)+'.png')\n",
    "    return isolated_ships,isolated_ais"
   ]
  },
  {
   "cell_type": "markdown",
   "metadata": {},
   "source": [
    "## Creating benchmark data for Oregon slope"
   ]
  },
  {
   "cell_type": "markdown",
   "metadata": {},
   "source": [
    "### inner rad=10, outer_rad=30"
   ]
  },
  {
   "cell_type": "code",
   "execution_count": 29,
   "metadata": {},
   "outputs": [
    {
     "name": "stdout",
     "output_type": "stream",
     "text": [
      " Max distance: 57.89 and Min distance: 0.0\n"
     ]
    },
    {
     "name": "stderr",
     "output_type": "stream",
     "text": [
      "100%|█████████████████████████████████████████████████████████████████████████████| 1105/1105 [00:08<00:00, 124.68it/s]\n"
     ]
    }
   ],
   "source": [
    "\n",
    "d1,d2=get_benchmark_data(df,1,10,30,min_duration,get_acoustic=False,get_spectrogram=False)"
   ]
  },
  {
   "cell_type": "markdown",
   "metadata": {},
   "source": [
    "### Depth=2.9\n",
    "### Oregon slope= 'HYSB1'\n",
    "\n",
    "### inner rad=2.9, outer_rad=2.9, outer_rad=5.8"
   ]
  },
  {
   "cell_type": "code",
   "execution_count": 56,
   "metadata": {},
   "outputs": [],
   "source": [
    "inner_rad= 2.9\n",
    "outer_rad1=2.9\n",
    "outer_rad2=5.8"
   ]
  },
  {
   "cell_type": "code",
   "execution_count": 57,
   "metadata": {},
   "outputs": [
    {
     "name": "stdout",
     "output_type": "stream",
     "text": [
      " Max distance: 57.89 and Min distance: 0.0\n"
     ]
    },
    {
     "name": "stderr",
     "output_type": "stream",
     "text": [
      "100%|██████████████████████████████████████████████████████████████████████████████████| 70/70 [00:00<00:00, 95.05it/s]\n"
     ]
    },
    {
     "name": "stdout",
     "output_type": "stream",
     "text": [
      "{'MMSI': 235010450, 'start_time': Timestamp('2017-07-05 06:37:19'), 'end_time': Timestamp('2017-07-05 06:47:19'), 'VESSEL TYPE': 1004.0, 'len_of_recording': 10.0}\n",
      "Saving spectrograms\n"
     ]
    },
    {
     "name": "stderr",
     "output_type": "stream",
     "text": [
      "\r",
      "  0%|                                                                                           | 0/70 [00:00<?, ?it/s]"
     ]
    },
    {
     "name": "stdout",
     "output_type": "stream",
     "text": [
      "Downloading mseed file...\n",
      "OO.AXBA1.AXBA1.HDH | 2017-05-23T18:40:59.000000Z - 2017-05-23T18:50:59.000000Z | 200.0 Hz, 120001 samples\n"
     ]
    },
    {
     "name": "stderr",
     "output_type": "stream",
     "text": [
      "\r",
      "  1%|█▏                                                                                 | 1/70 [00:02<03:04,  2.68s/it]"
     ]
    },
    {
     "name": "stdout",
     "output_type": "stream",
     "text": [
      "Downloading mseed file...\n",
      "OO.AXBA1.AXBA1.HDH | 2017-07-05T06:37:19.000000Z - 2017-07-05T06:47:19.000000Z | 200.0 Hz, 120001 samples\n"
     ]
    },
    {
     "name": "stderr",
     "output_type": "stream",
     "text": [
      "\r",
      "  3%|██▎                                                                                | 2/70 [00:05<02:57,  2.60s/it]"
     ]
    },
    {
     "name": "stdout",
     "output_type": "stream",
     "text": [
      "Downloading mseed file...\n",
      "OO.AXBA1.AXBA1.HDH | 2017-09-27T01:59:36.000000Z - 2017-09-27T02:09:36.000000Z | 200.0 Hz, 120001 samples\n"
     ]
    },
    {
     "name": "stderr",
     "output_type": "stream",
     "text": [
      "\r",
      "  4%|███▌                                                                               | 3/70 [00:07<02:36,  2.34s/it]"
     ]
    },
    {
     "name": "stdout",
     "output_type": "stream",
     "text": [
      "Downloading mseed file...\n",
      "OO.AXBA1.AXBA1.HDH | 2017-01-27T13:58:44.000000Z - 2017-01-27T14:08:44.000000Z | 200.0 Hz, 120001 samples\n"
     ]
    },
    {
     "name": "stderr",
     "output_type": "stream",
     "text": [
      "\r",
      "  6%|████▋                                                                              | 4/70 [00:09<02:35,  2.35s/it]"
     ]
    },
    {
     "name": "stdout",
     "output_type": "stream",
     "text": [
      "Downloading mseed file...\n",
      "OO.AXBA1.AXBA1.HDH | 2017-04-01T23:34:25.000000Z - 2017-04-01T23:44:25.000000Z | 200.0 Hz, 120001 samples\n"
     ]
    },
    {
     "name": "stderr",
     "output_type": "stream",
     "text": [
      "\r",
      "  7%|█████▉                                                                             | 5/70 [00:12<02:42,  2.51s/it]"
     ]
    },
    {
     "name": "stdout",
     "output_type": "stream",
     "text": [
      "Downloading mseed file...\n",
      "OO.AXBA1.AXBA1.HDH | 2017-10-29T06:02:08.000000Z - 2017-10-29T06:12:08.000000Z | 200.0 Hz, 120001 samples\n"
     ]
    },
    {
     "name": "stderr",
     "output_type": "stream",
     "text": [
      "\r",
      "  9%|███████                                                                            | 6/70 [00:16<03:11,  2.99s/it]"
     ]
    },
    {
     "name": "stdout",
     "output_type": "stream",
     "text": [
      "Downloading mseed file...\n",
      "OO.AXBA1.AXBA1.HDH | 2018-05-07T19:43:20.000000Z - 2018-05-07T19:53:20.000000Z | 200.0 Hz, 120001 samples\n"
     ]
    },
    {
     "name": "stderr",
     "output_type": "stream",
     "text": [
      "\r",
      " 10%|████████▎                                                                          | 7/70 [00:19<03:07,  2.97s/it]"
     ]
    },
    {
     "name": "stdout",
     "output_type": "stream",
     "text": [
      "Downloading mseed file...\n",
      "OO.AXBA1.AXBA1.HDH | 2022-02-17T06:26:00.000000Z - 2022-02-17T06:36:00.000000Z | 200.0 Hz, 120001 samples\n"
     ]
    },
    {
     "name": "stderr",
     "output_type": "stream",
     "text": [
      "\r",
      " 11%|█████████▍                                                                         | 8/70 [00:22<03:01,  2.92s/it]"
     ]
    },
    {
     "name": "stdout",
     "output_type": "stream",
     "text": [
      "Downloading mseed file...\n",
      "OO.AXBA1.AXBA1.HDH | 2017-08-27T22:20:19.000000Z - 2017-08-27T22:30:19.000000Z | 200.0 Hz, 120001 samples\n"
     ]
    },
    {
     "name": "stderr",
     "output_type": "stream",
     "text": [
      "\r",
      " 13%|██████████▋                                                                        | 9/70 [00:24<02:49,  2.78s/it]"
     ]
    },
    {
     "name": "stdout",
     "output_type": "stream",
     "text": [
      "Downloading mseed file...\n",
      "OO.AXBA1.AXBA1.HDH | 2017-08-28T04:47:46.000000Z - 2017-08-28T04:57:46.000000Z | 200.0 Hz, 120001 samples\n"
     ]
    },
    {
     "name": "stderr",
     "output_type": "stream",
     "text": [
      "\r",
      " 14%|███████████▋                                                                      | 10/70 [00:27<02:50,  2.84s/it]"
     ]
    },
    {
     "name": "stdout",
     "output_type": "stream",
     "text": [
      "Downloading mseed file...\n",
      "OO.AXBA1.AXBA1.HDH | 2018-11-13T21:48:50.000000Z - 2018-11-13T21:58:50.000000Z | 200.0 Hz, 120001 samples\n"
     ]
    },
    {
     "name": "stderr",
     "output_type": "stream",
     "text": [
      "\r",
      " 16%|████████████▉                                                                     | 11/70 [00:30<02:43,  2.77s/it]"
     ]
    },
    {
     "name": "stdout",
     "output_type": "stream",
     "text": [
      "Downloading mseed file...\n",
      "OO.AXBA1.AXBA1.HDH | 2018-08-09T07:26:10.000000Z - 2018-08-09T07:36:10.000000Z | 200.0 Hz, 120001 samples\n"
     ]
    },
    {
     "name": "stderr",
     "output_type": "stream",
     "text": [
      "\r",
      " 17%|██████████████                                                                    | 12/70 [00:33<02:46,  2.87s/it]"
     ]
    },
    {
     "name": "stdout",
     "output_type": "stream",
     "text": [
      "Downloading mseed file...\n",
      "OO.AXBA1.AXBA1.HDH | 2018-08-09T12:10:21.000000Z - 2018-08-09T12:20:21.000000Z | 200.0 Hz, 120001 samples\n"
     ]
    },
    {
     "name": "stderr",
     "output_type": "stream",
     "text": [
      "\r",
      " 19%|███████████████▏                                                                  | 13/70 [00:35<02:31,  2.66s/it]"
     ]
    },
    {
     "name": "stdout",
     "output_type": "stream",
     "text": [
      "Downloading mseed file...\n",
      "OO.AXBA1.AXBA1.HDH | 2019-05-30T21:09:31.000000Z - 2019-05-30T21:19:31.000000Z | 200.0 Hz, 120001 samples\n"
     ]
    },
    {
     "name": "stderr",
     "output_type": "stream",
     "text": [
      "\r",
      " 20%|████████████████▍                                                                 | 14/70 [00:38<02:36,  2.79s/it]"
     ]
    },
    {
     "name": "stdout",
     "output_type": "stream",
     "text": [
      "Downloading mseed file...\n",
      "OO.AXBA1.AXBA1.HDH | 2017-07-28T01:41:47.000000Z - 2017-07-28T01:51:47.000000Z | 200.0 Hz, 120001 samples\n"
     ]
    },
    {
     "name": "stderr",
     "output_type": "stream",
     "text": [
      "\r",
      " 21%|█████████████████▌                                                                | 15/70 [00:40<02:22,  2.59s/it]"
     ]
    },
    {
     "name": "stdout",
     "output_type": "stream",
     "text": [
      "Downloading mseed file...\n",
      "OO.AXBA1.AXBA1.HDH | 2017-08-29T16:55:37.000000Z - 2017-08-29T17:05:37.000000Z | 200.0 Hz, 120001 samples\n"
     ]
    },
    {
     "name": "stderr",
     "output_type": "stream",
     "text": [
      "\r",
      " 23%|██████████████████▋                                                               | 16/70 [00:42<02:13,  2.46s/it]"
     ]
    },
    {
     "name": "stdout",
     "output_type": "stream",
     "text": [
      "Downloading mseed file...\n",
      "OO.AXBA1.AXBA1.HDH | 2020-08-02T21:33:57.000000Z - 2020-08-02T21:43:57.000000Z | 200.0 Hz, 120001 samples\n"
     ]
    },
    {
     "name": "stderr",
     "output_type": "stream",
     "text": [
      "\r",
      " 24%|███████████████████▉                                                              | 17/70 [00:45<02:06,  2.39s/it]"
     ]
    },
    {
     "name": "stdout",
     "output_type": "stream",
     "text": [
      "Downloading mseed file...\n",
      "OO.AXBA1.AXBA1.HDH | 2020-08-11T03:37:28.000000Z - 2020-08-11T03:47:28.000000Z | 200.0 Hz, 120001 samples\n"
     ]
    },
    {
     "name": "stderr",
     "output_type": "stream",
     "text": [
      "\r",
      " 26%|█████████████████████                                                             | 18/70 [00:47<01:59,  2.30s/it]"
     ]
    },
    {
     "name": "stdout",
     "output_type": "stream",
     "text": [
      "Downloading mseed file...\n",
      "OO.AXBA1.AXBA1.HDH | 2020-08-12T05:27:08.000000Z - 2020-08-12T05:37:08.000000Z | 200.0 Hz, 120001 samples\n"
     ]
    },
    {
     "name": "stderr",
     "output_type": "stream",
     "text": [
      "\r",
      " 27%|██████████████████████▎                                                           | 19/70 [00:49<02:04,  2.44s/it]"
     ]
    },
    {
     "name": "stdout",
     "output_type": "stream",
     "text": [
      "Downloading mseed file...\n"
     ]
    },
    {
     "name": "stderr",
     "output_type": "stream",
     "text": [
      "\r",
      " 29%|███████████████████████▍                                                          | 20/70 [00:53<02:12,  2.65s/it]"
     ]
    },
    {
     "name": "stdout",
     "output_type": "stream",
     "text": [
      "   Specific Time window timed out.\n",
      "None\n",
      "data trace is none. Continuing to next\n",
      "Downloading mseed file...\n",
      "OO.AXBA1.AXBA1.HDH | 2021-08-11T20:42:27.000000Z - 2021-08-11T20:52:27.000000Z | 200.0 Hz, 120001 samples\n"
     ]
    },
    {
     "name": "stderr",
     "output_type": "stream",
     "text": [
      "\r",
      " 30%|████████████████████████▌                                                         | 21/70 [00:55<02:05,  2.56s/it]"
     ]
    },
    {
     "name": "stdout",
     "output_type": "stream",
     "text": [
      "Downloading mseed file...\n",
      "OO.AXBA1.AXBA1.HDH | 2021-08-15T15:17:42.000000Z - 2021-08-15T15:27:42.000000Z | 200.0 Hz, 120001 samples\n"
     ]
    },
    {
     "name": "stderr",
     "output_type": "stream",
     "text": [
      "\r",
      " 31%|█████████████████████████▊                                                        | 22/70 [00:57<02:03,  2.57s/it]"
     ]
    },
    {
     "name": "stdout",
     "output_type": "stream",
     "text": [
      "Downloading mseed file...\n"
     ]
    },
    {
     "name": "stderr",
     "output_type": "stream",
     "text": [
      "\r",
      " 33%|██████████████████████████▉                                                       | 23/70 [01:01<02:09,  2.75s/it]"
     ]
    },
    {
     "name": "stdout",
     "output_type": "stream",
     "text": [
      "   Specific Time window timed out.\n",
      "None\n",
      "data trace is none. Continuing to next\n",
      "Downloading mseed file...\n",
      "OO.AXBA1.AXBA1.HDH | 2018-10-11T16:01:17.000000Z - 2018-10-11T16:11:17.000000Z | 200.0 Hz, 120001 samples\n"
     ]
    },
    {
     "name": "stderr",
     "output_type": "stream",
     "text": [
      "\r",
      " 34%|████████████████████████████                                                      | 24/70 [01:03<01:54,  2.49s/it]"
     ]
    },
    {
     "name": "stdout",
     "output_type": "stream",
     "text": [
      "Downloading mseed file...\n",
      "OO.AXBA1.AXBA1.HDH | 2020-09-11T17:21:44.000000Z - 2020-09-11T17:31:44.000000Z | 200.0 Hz, 120001 samples\n"
     ]
    },
    {
     "name": "stderr",
     "output_type": "stream",
     "text": [
      "\r",
      " 36%|█████████████████████████████▎                                                    | 25/70 [01:05<01:56,  2.59s/it]"
     ]
    },
    {
     "name": "stdout",
     "output_type": "stream",
     "text": [
      "Downloading mseed file...\n",
      "OO.AXBA1.AXBA1.HDH | 2019-06-03T17:51:09.000000Z - 2019-06-03T18:01:09.000000Z | 200.0 Hz, 120001 samples\n"
     ]
    },
    {
     "name": "stderr",
     "output_type": "stream",
     "text": [
      "\r",
      " 37%|██████████████████████████████▍                                                   | 26/70 [01:07<01:47,  2.44s/it]"
     ]
    },
    {
     "name": "stdout",
     "output_type": "stream",
     "text": [
      "Downloading mseed file...\n",
      "OO.AXBA1.AXBA1.HDH | 2017-09-03T21:48:43.000000Z - 2017-09-03T21:58:43.000000Z | 200.0 Hz, 120001 samples\n"
     ]
    },
    {
     "name": "stderr",
     "output_type": "stream",
     "text": [
      "\r",
      " 39%|███████████████████████████████▋                                                  | 27/70 [01:10<01:45,  2.45s/it]"
     ]
    },
    {
     "name": "stdout",
     "output_type": "stream",
     "text": [
      "Downloading mseed file...\n",
      "OO.AXBA1.AXBA1.HDH | 2022-02-10T15:28:45.000000Z - 2022-02-10T15:38:45.000000Z | 200.0 Hz, 120001 samples\n"
     ]
    },
    {
     "name": "stderr",
     "output_type": "stream",
     "text": [
      "\r",
      " 40%|████████████████████████████████▊                                                 | 28/70 [01:12<01:37,  2.31s/it]"
     ]
    },
    {
     "name": "stdout",
     "output_type": "stream",
     "text": [
      "Downloading mseed file...\n",
      "OO.AXBA1.AXBA1.HDH | 2019-06-14T10:43:50.000000Z - 2019-06-14T10:53:50.000000Z | 200.0 Hz, 120001 samples\n"
     ]
    },
    {
     "name": "stderr",
     "output_type": "stream",
     "text": [
      "\r",
      " 41%|█████████████████████████████████▉                                                | 29/70 [01:14<01:35,  2.33s/it]"
     ]
    },
    {
     "name": "stdout",
     "output_type": "stream",
     "text": [
      "Downloading mseed file...\n",
      "OO.AXBA1.AXBA1.HDH | 2019-06-18T18:04:19.000000Z - 2019-06-18T18:14:19.000000Z | 200.0 Hz, 120001 samples\n"
     ]
    },
    {
     "name": "stderr",
     "output_type": "stream",
     "text": [
      "\r",
      " 43%|███████████████████████████████████▏                                              | 30/70 [01:17<01:38,  2.45s/it]"
     ]
    },
    {
     "name": "stdout",
     "output_type": "stream",
     "text": [
      "Downloading mseed file...\n"
     ]
    },
    {
     "name": "stderr",
     "output_type": "stream",
     "text": [
      "\r",
      " 44%|████████████████████████████████████▎                                             | 31/70 [01:20<01:46,  2.73s/it]"
     ]
    },
    {
     "name": "stdout",
     "output_type": "stream",
     "text": [
      "   Specific Time window timed out.\n",
      "None\n",
      "data trace is none. Continuing to next\n",
      "Downloading mseed file...\n"
     ]
    },
    {
     "name": "stderr",
     "output_type": "stream",
     "text": [
      "\r",
      " 46%|█████████████████████████████████████▍                                            | 32/70 [01:24<01:58,  3.11s/it]"
     ]
    },
    {
     "name": "stdout",
     "output_type": "stream",
     "text": [
      "   Specific Time window timed out.\n",
      "None\n",
      "data trace is none. Continuing to next\n",
      "Downloading mseed file...\n"
     ]
    },
    {
     "name": "stderr",
     "output_type": "stream",
     "text": [
      "\r",
      " 47%|██████████████████████████████████████▋                                           | 33/70 [01:28<01:58,  3.21s/it]"
     ]
    },
    {
     "name": "stdout",
     "output_type": "stream",
     "text": [
      "   Specific Time window timed out.\n",
      "None\n",
      "data trace is none. Continuing to next\n",
      "Downloading mseed file...\n",
      "OO.AXBA1.AXBA1.HDH | 2020-04-11T11:37:13.000000Z - 2020-04-11T11:47:13.000000Z | 200.0 Hz, 120001 samples\n"
     ]
    },
    {
     "name": "stderr",
     "output_type": "stream",
     "text": [
      "\r",
      " 49%|███████████████████████████████████████▊                                          | 34/70 [01:31<01:53,  3.14s/it]"
     ]
    },
    {
     "name": "stdout",
     "output_type": "stream",
     "text": [
      "Downloading mseed file...\n",
      "OO.AXBA1.AXBA1.HDH | 2018-10-17T22:32:10.000000Z - 2018-10-17T22:42:10.000000Z | 200.0 Hz, 120001 samples\n"
     ]
    },
    {
     "name": "stderr",
     "output_type": "stream",
     "text": [
      "\r",
      " 50%|█████████████████████████████████████████                                         | 35/70 [01:34<01:50,  3.15s/it]"
     ]
    },
    {
     "name": "stdout",
     "output_type": "stream",
     "text": [
      "Downloading mseed file...\n",
      "OO.AXBA1.AXBA1.HDH | 2017-07-17T01:37:57.000000Z - 2017-07-17T01:47:57.000000Z | 200.0 Hz, 120001 samples\n"
     ]
    },
    {
     "name": "stderr",
     "output_type": "stream",
     "text": [
      "\r",
      " 51%|██████████████████████████████████████████▏                                       | 36/70 [01:36<01:37,  2.86s/it]"
     ]
    },
    {
     "name": "stdout",
     "output_type": "stream",
     "text": [
      "Downloading mseed file...\n",
      "OO.AXBA1.AXBA1.HDH | 2021-08-26T07:45:51.000000Z - 2021-08-26T07:55:51.000000Z | 200.0 Hz, 120001 samples\n"
     ]
    },
    {
     "name": "stderr",
     "output_type": "stream",
     "text": [
      "\r",
      " 53%|███████████████████████████████████████████▎                                      | 37/70 [01:38<01:29,  2.70s/it]"
     ]
    },
    {
     "name": "stdout",
     "output_type": "stream",
     "text": [
      "Downloading mseed file...\n",
      "OO.AXBA1.AXBA1.HDH | 2019-11-14T22:39:27.000000Z - 2019-11-14T22:49:27.000000Z | 200.0 Hz, 120001 samples\n"
     ]
    },
    {
     "name": "stderr",
     "output_type": "stream",
     "text": [
      "\r",
      " 54%|████████████████████████████████████████████▌                                     | 38/70 [01:41<01:23,  2.62s/it]"
     ]
    },
    {
     "name": "stdout",
     "output_type": "stream",
     "text": [
      "Downloading mseed file...\n",
      "OO.AXBA1.AXBA1.HDH | 2017-07-29T07:05:32.000000Z - 2017-07-29T07:15:32.000000Z | 200.0 Hz, 120001 samples\n"
     ]
    },
    {
     "name": "stderr",
     "output_type": "stream",
     "text": [
      "\r",
      " 56%|█████████████████████████████████████████████▋                                    | 39/70 [01:43<01:13,  2.38s/it]"
     ]
    },
    {
     "name": "stdout",
     "output_type": "stream",
     "text": [
      "Downloading mseed file...\n",
      "OO.AXBA1.AXBA1.HDH | 2017-08-02T10:42:01.000000Z - 2017-08-02T10:52:01.000000Z | 200.0 Hz, 120001 samples\n"
     ]
    },
    {
     "name": "stderr",
     "output_type": "stream",
     "text": [
      "\r",
      " 57%|██████████████████████████████████████████████▊                                   | 40/70 [01:46<01:15,  2.52s/it]"
     ]
    },
    {
     "name": "stdout",
     "output_type": "stream",
     "text": [
      "Downloading mseed file...\n",
      "OO.AXBA1.AXBA1.HDH | 2017-08-03T09:37:35.000000Z - 2017-08-03T09:47:35.000000Z | 200.0 Hz, 120001 samples\n"
     ]
    },
    {
     "name": "stderr",
     "output_type": "stream",
     "text": [
      "\r",
      " 59%|████████████████████████████████████████████████                                  | 41/70 [01:48<01:14,  2.55s/it]"
     ]
    },
    {
     "name": "stdout",
     "output_type": "stream",
     "text": [
      "Downloading mseed file...\n",
      "OO.AXBA1.AXBA1.HDH | 2017-08-04T09:21:24.000000Z - 2017-08-04T09:31:24.000000Z | 200.0 Hz, 120001 samples\n"
     ]
    },
    {
     "name": "stderr",
     "output_type": "stream",
     "text": [
      "\r",
      " 60%|█████████████████████████████████████████████████▏                                | 42/70 [01:50<01:08,  2.45s/it]"
     ]
    },
    {
     "name": "stdout",
     "output_type": "stream",
     "text": [
      "Downloading mseed file...\n",
      "OO.AXBA1.AXBA1.HDH | 2017-08-12T14:07:59.000000Z - 2017-08-12T14:17:59.000000Z | 200.0 Hz, 120001 samples\n"
     ]
    },
    {
     "name": "stderr",
     "output_type": "stream",
     "text": [
      "\r",
      " 61%|██████████████████████████████████████████████████▎                               | 43/70 [01:54<01:11,  2.64s/it]"
     ]
    },
    {
     "name": "stdout",
     "output_type": "stream",
     "text": [
      "Downloading mseed file...\n",
      "OO.AXBA1.AXBA1.HDH | 2017-08-17T06:52:18.000000Z - 2017-08-17T07:02:18.000000Z | 200.0 Hz, 120001 samples\n"
     ]
    },
    {
     "name": "stderr",
     "output_type": "stream",
     "text": [
      "\r",
      " 63%|███████████████████████████████████████████████████▌                              | 44/70 [01:56<01:04,  2.49s/it]"
     ]
    },
    {
     "name": "stdout",
     "output_type": "stream",
     "text": [
      "Downloading mseed file...\n",
      "OO.AXBA1.AXBA1.HDH | 2017-08-24T05:17:30.000000Z - 2017-08-24T05:27:30.000000Z | 200.0 Hz, 120001 samples\n"
     ]
    },
    {
     "name": "stderr",
     "output_type": "stream",
     "text": [
      "\r",
      " 64%|████████████████████████████████████████████████████▋                             | 45/70 [01:58<00:58,  2.33s/it]"
     ]
    },
    {
     "name": "stdout",
     "output_type": "stream",
     "text": [
      "Downloading mseed file...\n",
      "OO.AXBA1.AXBA1.HDH | 2017-08-26T02:56:30.000000Z - 2017-08-26T03:06:30.000000Z | 200.0 Hz, 120001 samples\n"
     ]
    },
    {
     "name": "stderr",
     "output_type": "stream",
     "text": [
      "\r",
      " 66%|█████████████████████████████████████████████████████▉                            | 46/70 [02:00<00:55,  2.32s/it]"
     ]
    },
    {
     "name": "stdout",
     "output_type": "stream",
     "text": [
      "Downloading mseed file...\n",
      "OO.AXBA1.AXBA1.HDH | 2017-09-06T04:12:55.000000Z - 2017-09-06T04:22:55.000000Z | 200.0 Hz, 120001 samples\n"
     ]
    },
    {
     "name": "stderr",
     "output_type": "stream",
     "text": [
      "\r",
      " 67%|███████████████████████████████████████████████████████                           | 47/70 [02:02<00:53,  2.34s/it]"
     ]
    },
    {
     "name": "stdout",
     "output_type": "stream",
     "text": [
      "Downloading mseed file...\n",
      "OO.AXBA1.AXBA1.HDH | 2018-06-23T21:17:55.000000Z - 2018-06-23T21:27:55.000000Z | 200.0 Hz, 120001 samples\n"
     ]
    },
    {
     "name": "stderr",
     "output_type": "stream",
     "text": [
      "\r",
      " 69%|████████████████████████████████████████████████████████▏                         | 48/70 [02:05<00:51,  2.33s/it]"
     ]
    },
    {
     "name": "stdout",
     "output_type": "stream",
     "text": [
      "Downloading mseed file...\n",
      "OO.AXBA1.AXBA1.HDH | 2018-06-26T06:05:42.000000Z - 2018-06-26T06:15:42.000000Z | 200.0 Hz, 120001 samples\n"
     ]
    },
    {
     "name": "stderr",
     "output_type": "stream",
     "text": [
      "\r",
      " 70%|█████████████████████████████████████████████████████████▍                        | 49/70 [02:07<00:50,  2.40s/it]"
     ]
    },
    {
     "name": "stdout",
     "output_type": "stream",
     "text": [
      "Downloading mseed file...\n",
      "OO.AXBA1.AXBA1.HDH | 2018-07-09T13:11:59.000000Z - 2018-07-09T13:21:59.000000Z | 200.0 Hz, 120001 samples\n"
     ]
    },
    {
     "name": "stderr",
     "output_type": "stream",
     "text": [
      "\r",
      " 71%|██████████████████████████████████████████████████████████▌                       | 50/70 [02:09<00:47,  2.38s/it]"
     ]
    },
    {
     "name": "stdout",
     "output_type": "stream",
     "text": [
      "Downloading mseed file...\n",
      "OO.AXBA1.AXBA1.HDH | 2018-07-10T19:07:52.000000Z - 2018-07-10T19:17:52.000000Z | 200.0 Hz, 120001 samples\n"
     ]
    },
    {
     "name": "stderr",
     "output_type": "stream",
     "text": [
      "\r",
      " 73%|███████████████████████████████████████████████████████████▋                      | 51/70 [02:12<00:45,  2.40s/it]"
     ]
    },
    {
     "name": "stdout",
     "output_type": "stream",
     "text": [
      "Downloading mseed file...\n",
      "OO.AXBA1.AXBA1.HDH | 2018-07-23T06:45:10.000000Z - 2018-07-23T06:55:10.000000Z | 200.0 Hz, 120001 samples\n"
     ]
    },
    {
     "name": "stderr",
     "output_type": "stream",
     "text": [
      "\r",
      " 74%|████████████████████████████████████████████████████████████▉                     | 52/70 [02:14<00:42,  2.39s/it]"
     ]
    },
    {
     "name": "stdout",
     "output_type": "stream",
     "text": [
      "Downloading mseed file...\n",
      "OO.AXBA1.AXBA1.HDH | 2018-07-23T09:53:19.000000Z - 2018-07-23T10:03:19.000000Z | 200.0 Hz, 120001 samples\n"
     ]
    },
    {
     "name": "stderr",
     "output_type": "stream",
     "text": [
      "\r",
      " 76%|██████████████████████████████████████████████████████████████                    | 53/70 [02:17<00:41,  2.43s/it]"
     ]
    },
    {
     "name": "stdout",
     "output_type": "stream",
     "text": [
      "Downloading mseed file...\n",
      "OO.AXBA1.AXBA1.HDH | 2018-07-24T10:04:41.000000Z - 2018-07-24T10:14:41.000000Z | 200.0 Hz, 120001 samples\n"
     ]
    },
    {
     "name": "stderr",
     "output_type": "stream",
     "text": [
      "\r",
      " 77%|███████████████████████████████████████████████████████████████▎                  | 54/70 [02:19<00:38,  2.42s/it]"
     ]
    },
    {
     "name": "stdout",
     "output_type": "stream",
     "text": [
      "Downloading mseed file...\n",
      "OO.AXBA1.AXBA1.HDH | 2018-07-25T14:47:12.000000Z - 2018-07-25T14:57:12.000000Z | 200.0 Hz, 120001 samples\n"
     ]
    },
    {
     "name": "stderr",
     "output_type": "stream",
     "text": [
      "\r",
      " 79%|████████████████████████████████████████████████████████████████▍                 | 55/70 [02:22<00:36,  2.45s/it]"
     ]
    },
    {
     "name": "stdout",
     "output_type": "stream",
     "text": [
      "Downloading mseed file...\n",
      "OO.AXBA1.AXBA1.HDH | 2018-07-25T17:21:03.000000Z - 2018-07-25T17:31:03.000000Z | 200.0 Hz, 120001 samples\n"
     ]
    },
    {
     "name": "stderr",
     "output_type": "stream",
     "text": [
      "\r",
      " 80%|█████████████████████████████████████████████████████████████████▌                | 56/70 [02:24<00:33,  2.43s/it]"
     ]
    },
    {
     "name": "stdout",
     "output_type": "stream",
     "text": [
      "Downloading mseed file...\n"
     ]
    },
    {
     "name": "stderr",
     "output_type": "stream",
     "text": [
      "\r",
      " 81%|██████████████████████████████████████████████████████████████████▊               | 57/70 [02:27<00:35,  2.69s/it]"
     ]
    },
    {
     "name": "stdout",
     "output_type": "stream",
     "text": [
      "   Specific Time window timed out.\n",
      "None\n",
      "data trace is none. Continuing to next\n",
      "Downloading mseed file...\n"
     ]
    },
    {
     "name": "stderr",
     "output_type": "stream",
     "text": [
      "\r",
      " 83%|███████████████████████████████████████████████████████████████████▉              | 58/70 [02:31<00:35,  3.00s/it]"
     ]
    },
    {
     "name": "stdout",
     "output_type": "stream",
     "text": [
      "   Specific Time window timed out.\n",
      "None\n",
      "data trace is none. Continuing to next\n",
      "Downloading mseed file...\n",
      "OO.AXBA1.AXBA1.HDH | 2021-05-30T15:25:39.000000Z - 2021-05-30T15:35:39.000000Z | 200.0 Hz, 120001 samples\n"
     ]
    },
    {
     "name": "stderr",
     "output_type": "stream",
     "text": [
      "\r",
      " 84%|█████████████████████████████████████████████████████████████████████             | 59/70 [02:34<00:31,  2.87s/it]"
     ]
    },
    {
     "name": "stdout",
     "output_type": "stream",
     "text": [
      "Downloading mseed file...\n",
      "OO.AXBA1.AXBA1.HDH | 2019-09-05T16:36:13.000000Z - 2019-09-05T16:46:13.000000Z | 200.0 Hz, 120001 samples\n"
     ]
    },
    {
     "name": "stderr",
     "output_type": "stream",
     "text": [
      "\r",
      " 86%|██████████████████████████████████████████████████████████████████████▎           | 60/70 [02:36<00:26,  2.69s/it]"
     ]
    },
    {
     "name": "stdout",
     "output_type": "stream",
     "text": [
      "Downloading mseed file...\n",
      "OO.AXBA1.AXBA1.HDH | 2021-09-23T17:24:57.000000Z - 2021-09-23T17:34:57.000000Z | 200.0 Hz, 120001 samples\n"
     ]
    },
    {
     "name": "stderr",
     "output_type": "stream",
     "text": [
      "\r",
      " 87%|███████████████████████████████████████████████████████████████████████▍          | 61/70 [02:39<00:23,  2.64s/it]"
     ]
    },
    {
     "name": "stdout",
     "output_type": "stream",
     "text": [
      "Downloading mseed file...\n",
      "OO.AXBA1.AXBA1.HDH | 2017-07-14T16:15:40.000000Z - 2017-07-14T16:25:40.000000Z | 200.0 Hz, 120001 samples\n"
     ]
    },
    {
     "name": "stderr",
     "output_type": "stream",
     "text": [
      "\r",
      " 89%|████████████████████████████████████████████████████████████████████████▋         | 62/70 [02:41<00:20,  2.58s/it]"
     ]
    },
    {
     "name": "stdout",
     "output_type": "stream",
     "text": [
      "Downloading mseed file...\n",
      "OO.AXBA1.AXBA1.HDH | 2018-08-02T12:12:17.000000Z - 2018-08-02T12:22:17.000000Z | 200.0 Hz, 120001 samples\n"
     ]
    },
    {
     "name": "stderr",
     "output_type": "stream",
     "text": [
      "\r",
      " 90%|█████████████████████████████████████████████████████████████████████████▊        | 63/70 [02:43<00:16,  2.38s/it]"
     ]
    },
    {
     "name": "stdout",
     "output_type": "stream",
     "text": [
      "Downloading mseed file...\n",
      "OO.AXBA1.AXBA1.HDH | 2017-09-23T11:23:53.000000Z - 2017-09-23T11:33:53.000000Z | 200.0 Hz, 120001 samples\n"
     ]
    },
    {
     "name": "stderr",
     "output_type": "stream",
     "text": [
      "\r",
      " 91%|██████████████████████████████████████████████████████████████████████████▉       | 64/70 [02:45<00:14,  2.39s/it]"
     ]
    },
    {
     "name": "stdout",
     "output_type": "stream",
     "text": [
      "Downloading mseed file...\n",
      "OO.AXBA1.AXBA1.HDH | 2017-08-21T06:36:06.000000Z - 2017-08-21T06:46:06.000000Z | 200.0 Hz, 120001 samples\n"
     ]
    },
    {
     "name": "stderr",
     "output_type": "stream",
     "text": [
      "\r",
      " 93%|████████████████████████████████████████████████████████████████████████████▏     | 65/70 [02:48<00:12,  2.54s/it]"
     ]
    },
    {
     "name": "stdout",
     "output_type": "stream",
     "text": [
      "Downloading mseed file...\n",
      "OO.AXBA1.AXBA1.HDH | 2017-10-03T10:16:15.880000Z - 2017-10-03T10:25:33.000000Z | 200.0 Hz, 111425 samples\n"
     ]
    },
    {
     "name": "stderr",
     "output_type": "stream",
     "text": [
      "\r",
      " 94%|█████████████████████████████████████████████████████████████████████████████▎    | 66/70 [02:51<00:10,  2.65s/it]"
     ]
    },
    {
     "name": "stdout",
     "output_type": "stream",
     "text": [
      "Downloading mseed file...\n",
      "OO.AXBA1.AXBA1.HDH | 2017-10-27T08:04:16.000000Z - 2017-10-27T08:14:16.000000Z | 200.0 Hz, 120001 samples\n"
     ]
    },
    {
     "name": "stderr",
     "output_type": "stream",
     "text": [
      "\r",
      " 96%|██████████████████████████████████████████████████████████████████████████████▍   | 67/70 [02:54<00:08,  2.76s/it]"
     ]
    },
    {
     "name": "stdout",
     "output_type": "stream",
     "text": [
      "Downloading mseed file...\n",
      "OO.AXBA1.AXBA1.HDH | 2022-03-08T06:04:29.000000Z - 2022-03-08T06:14:29.000000Z | 200.0 Hz, 120001 samples\n"
     ]
    },
    {
     "name": "stderr",
     "output_type": "stream",
     "text": [
      "\r",
      " 97%|███████████████████████████████████████████████████████████████████████████████▋  | 68/70 [02:58<00:06,  3.07s/it]"
     ]
    },
    {
     "name": "stdout",
     "output_type": "stream",
     "text": [
      "Downloading mseed file...\n",
      "OO.AXBA1.AXBA1.HDH | 2021-11-13T13:08:47.000000Z - 2021-11-13T13:18:47.000000Z | 200.0 Hz, 120001 samples\n"
     ]
    },
    {
     "name": "stderr",
     "output_type": "stream",
     "text": [
      "\r",
      " 99%|████████████████████████████████████████████████████████████████████████████████▊ | 69/70 [03:02<00:03,  3.34s/it]"
     ]
    },
    {
     "name": "stdout",
     "output_type": "stream",
     "text": [
      "Downloading mseed file...\n",
      "OO.AXBA1.AXBA1.HDH | 2017-08-30T20:24:33.000000Z - 2017-08-30T20:34:33.000000Z | 200.0 Hz, 120001 samples\n"
     ]
    },
    {
     "name": "stderr",
     "output_type": "stream",
     "text": [
      "100%|██████████████████████████████████████████████████████████████████████████████████| 70/70 [03:05<00:00,  2.64s/it]\n"
     ]
    }
   ],
   "source": [
    "d1,d2=get_benchmark_data(df,1,inner_rad,outer_rad1,min_duration,get_acoustic=False)"
   ]
  },
  {
   "cell_type": "code",
   "execution_count": 58,
   "metadata": {},
   "outputs": [
    {
     "name": "stdout",
     "output_type": "stream",
     "text": [
      " Max distance: 57.89 and Min distance: 0.0\n"
     ]
    },
    {
     "name": "stderr",
     "output_type": "stream",
     "text": [
      "100%|█████████████████████████████████████████████████████████████████████████████████| 84/84 [00:00<00:00, 128.32it/s]\n"
     ]
    },
    {
     "name": "stdout",
     "output_type": "stream",
     "text": [
      "{'MMSI': 235010450, 'start_time': Timestamp('2017-07-05 06:37:19'), 'end_time': Timestamp('2017-07-05 06:47:19'), 'VESSEL TYPE': 1004.0, 'len_of_recording': 10.0}\n",
      "Saving spectrograms\n"
     ]
    },
    {
     "name": "stderr",
     "output_type": "stream",
     "text": [
      "\r",
      "  0%|                                                                                           | 0/84 [00:00<?, ?it/s]"
     ]
    },
    {
     "name": "stdout",
     "output_type": "stream",
     "text": [
      "Downloading mseed file...\n",
      "OO.AXBA1.AXBA1.HDH | 2017-05-23T18:40:59.000000Z - 2017-05-23T18:50:59.000000Z | 200.0 Hz, 120001 samples\n"
     ]
    },
    {
     "name": "stderr",
     "output_type": "stream",
     "text": [
      "\r",
      "  1%|▉                                                                                  | 1/84 [00:02<03:05,  2.24s/it]"
     ]
    },
    {
     "name": "stdout",
     "output_type": "stream",
     "text": [
      "Downloading mseed file...\n",
      "OO.AXBA1.AXBA1.HDH | 2017-07-05T06:37:19.000000Z - 2017-07-05T06:47:19.000000Z | 200.0 Hz, 120001 samples\n"
     ]
    },
    {
     "name": "stderr",
     "output_type": "stream",
     "text": [
      "\r",
      "  2%|█▉                                                                                 | 2/84 [00:05<03:30,  2.56s/it]"
     ]
    },
    {
     "name": "stdout",
     "output_type": "stream",
     "text": [
      "Downloading mseed file...\n",
      "OO.AXBA1.AXBA1.HDH | 2017-09-27T01:59:36.000000Z - 2017-09-27T02:09:36.000000Z | 200.0 Hz, 120001 samples\n"
     ]
    },
    {
     "name": "stderr",
     "output_type": "stream",
     "text": [
      "\r",
      "  4%|██▉                                                                                | 3/84 [00:06<02:53,  2.14s/it]"
     ]
    },
    {
     "name": "stdout",
     "output_type": "stream",
     "text": [
      "Downloading mseed file...\n",
      "OO.AXBA1.AXBA1.HDH | 2017-01-27T13:58:44.000000Z - 2017-01-27T14:08:44.000000Z | 200.0 Hz, 120001 samples\n"
     ]
    },
    {
     "name": "stderr",
     "output_type": "stream",
     "text": [
      "\r",
      "  5%|███▉                                                                               | 4/84 [00:08<02:47,  2.10s/it]"
     ]
    },
    {
     "name": "stdout",
     "output_type": "stream",
     "text": [
      "Downloading mseed file...\n",
      "OO.AXBA1.AXBA1.HDH | 2017-04-01T23:34:25.000000Z - 2017-04-01T23:44:25.000000Z | 200.0 Hz, 120001 samples\n"
     ]
    },
    {
     "name": "stderr",
     "output_type": "stream",
     "text": [
      "\r",
      "  6%|████▉                                                                              | 5/84 [00:10<02:40,  2.03s/it]"
     ]
    },
    {
     "name": "stdout",
     "output_type": "stream",
     "text": [
      "Downloading mseed file...\n",
      "OO.AXBA1.AXBA1.HDH | 2017-10-29T06:02:08.000000Z - 2017-10-29T06:12:08.000000Z | 200.0 Hz, 120001 samples\n"
     ]
    },
    {
     "name": "stderr",
     "output_type": "stream",
     "text": [
      "\r",
      "  7%|█████▉                                                                             | 6/84 [00:12<02:36,  2.01s/it]"
     ]
    },
    {
     "name": "stdout",
     "output_type": "stream",
     "text": [
      "Downloading mseed file...\n",
      "OO.AXBA1.AXBA1.HDH | 2018-05-07T19:43:20.000000Z - 2018-05-07T19:53:20.000000Z | 200.0 Hz, 120001 samples\n"
     ]
    },
    {
     "name": "stderr",
     "output_type": "stream",
     "text": [
      "\r",
      "  8%|██████▉                                                                            | 7/84 [00:14<02:29,  1.94s/it]"
     ]
    },
    {
     "name": "stdout",
     "output_type": "stream",
     "text": [
      "Downloading mseed file...\n",
      "OO.AXBA1.AXBA1.HDH | 2022-02-17T06:26:00.000000Z - 2022-02-17T06:36:00.000000Z | 200.0 Hz, 120001 samples\n"
     ]
    },
    {
     "name": "stderr",
     "output_type": "stream",
     "text": [
      "\r",
      " 10%|███████▉                                                                           | 8/84 [00:16<02:21,  1.86s/it]"
     ]
    },
    {
     "name": "stdout",
     "output_type": "stream",
     "text": [
      "Downloading mseed file...\n",
      "OO.AXBA1.AXBA1.HDH | 2017-08-27T22:20:19.000000Z - 2017-08-27T22:30:19.000000Z | 200.0 Hz, 120001 samples\n"
     ]
    },
    {
     "name": "stderr",
     "output_type": "stream",
     "text": [
      "\r",
      " 11%|████████▉                                                                          | 9/84 [00:18<02:30,  2.01s/it]"
     ]
    },
    {
     "name": "stdout",
     "output_type": "stream",
     "text": [
      "Downloading mseed file...\n",
      "OO.AXBA1.AXBA1.HDH | 2017-08-28T04:47:46.000000Z - 2017-08-28T04:57:46.000000Z | 200.0 Hz, 120001 samples\n"
     ]
    },
    {
     "name": "stderr",
     "output_type": "stream",
     "text": [
      "\r",
      " 12%|█████████▊                                                                        | 10/84 [00:20<02:36,  2.11s/it]"
     ]
    },
    {
     "name": "stdout",
     "output_type": "stream",
     "text": [
      "Downloading mseed file...\n",
      "OO.AXBA1.AXBA1.HDH | 2018-11-13T21:48:50.000000Z - 2018-11-13T21:58:50.000000Z | 200.0 Hz, 120001 samples\n"
     ]
    },
    {
     "name": "stderr",
     "output_type": "stream",
     "text": [
      "\r",
      " 13%|██████████▋                                                                       | 11/84 [00:23<02:59,  2.46s/it]"
     ]
    },
    {
     "name": "stdout",
     "output_type": "stream",
     "text": [
      "Downloading mseed file...\n",
      "OO.AXBA1.AXBA1.HDH | 2018-08-09T07:26:10.000000Z - 2018-08-09T07:36:10.000000Z | 200.0 Hz, 120001 samples\n"
     ]
    },
    {
     "name": "stderr",
     "output_type": "stream",
     "text": [
      "\r",
      " 14%|███████████▋                                                                      | 12/84 [00:26<02:59,  2.50s/it]"
     ]
    },
    {
     "name": "stdout",
     "output_type": "stream",
     "text": [
      "Downloading mseed file...\n",
      "OO.AXBA1.AXBA1.HDH | 2018-08-09T12:10:21.000000Z - 2018-08-09T12:20:21.000000Z | 200.0 Hz, 120001 samples\n"
     ]
    },
    {
     "name": "stderr",
     "output_type": "stream",
     "text": [
      "\r",
      " 15%|████████████▋                                                                     | 13/84 [00:28<02:51,  2.41s/it]"
     ]
    },
    {
     "name": "stdout",
     "output_type": "stream",
     "text": [
      "Downloading mseed file...\n",
      "OO.AXBA1.AXBA1.HDH | 2019-05-30T21:09:31.000000Z - 2019-05-30T21:19:31.000000Z | 200.0 Hz, 120001 samples\n"
     ]
    },
    {
     "name": "stderr",
     "output_type": "stream",
     "text": [
      "\r",
      " 17%|█████████████▋                                                                    | 14/84 [00:32<03:17,  2.82s/it]"
     ]
    },
    {
     "name": "stdout",
     "output_type": "stream",
     "text": [
      "Downloading mseed file...\n",
      "OO.AXBA1.AXBA1.HDH | 2017-07-28T01:41:47.000000Z - 2017-07-28T01:51:47.000000Z | 200.0 Hz, 120001 samples\n"
     ]
    },
    {
     "name": "stderr",
     "output_type": "stream",
     "text": [
      "\r",
      " 18%|██████████████▋                                                                   | 15/84 [00:35<03:14,  2.82s/it]"
     ]
    },
    {
     "name": "stdout",
     "output_type": "stream",
     "text": [
      "Downloading mseed file...\n",
      "OO.AXBA1.AXBA1.HDH | 2017-08-29T16:55:37.000000Z - 2017-08-29T17:05:37.000000Z | 200.0 Hz, 120001 samples\n"
     ]
    },
    {
     "name": "stderr",
     "output_type": "stream",
     "text": [
      "\r",
      " 19%|███████████████▌                                                                  | 16/84 [00:38<03:19,  2.93s/it]"
     ]
    },
    {
     "name": "stdout",
     "output_type": "stream",
     "text": [
      "Downloading mseed file...\n",
      "OO.AXBA1.AXBA1.HDH | 2020-08-02T21:33:57.000000Z - 2020-08-02T21:43:57.000000Z | 200.0 Hz, 120001 samples\n"
     ]
    },
    {
     "name": "stderr",
     "output_type": "stream",
     "text": [
      "\r",
      " 20%|████████████████▌                                                                 | 17/84 [00:40<02:54,  2.60s/it]"
     ]
    },
    {
     "name": "stdout",
     "output_type": "stream",
     "text": [
      "Downloading mseed file...\n",
      "OO.AXBA1.AXBA1.HDH | 2020-08-11T03:37:28.000000Z - 2020-08-11T03:47:28.000000Z | 200.0 Hz, 120001 samples\n"
     ]
    },
    {
     "name": "stderr",
     "output_type": "stream",
     "text": [
      "\r",
      " 21%|█████████████████▌                                                                | 18/84 [00:42<02:38,  2.41s/it]"
     ]
    },
    {
     "name": "stdout",
     "output_type": "stream",
     "text": [
      "Downloading mseed file...\n",
      "OO.AXBA1.AXBA1.HDH | 2020-08-12T05:27:08.000000Z - 2020-08-12T05:37:08.000000Z | 200.0 Hz, 120001 samples\n"
     ]
    },
    {
     "name": "stderr",
     "output_type": "stream",
     "text": [
      "\r",
      " 23%|██████████████████▌                                                               | 19/84 [00:44<02:24,  2.23s/it]"
     ]
    },
    {
     "name": "stdout",
     "output_type": "stream",
     "text": [
      "Downloading mseed file...\n",
      "OO.AXBA1.AXBA1.HDH | 2020-08-12T06:20:58.000000Z - 2020-08-12T06:30:58.000000Z | 200.0 Hz, 120001 samples\n"
     ]
    },
    {
     "name": "stderr",
     "output_type": "stream",
     "text": [
      "\r",
      " 24%|███████████████████▌                                                              | 20/84 [00:46<02:26,  2.29s/it]"
     ]
    },
    {
     "name": "stdout",
     "output_type": "stream",
     "text": [
      "Downloading mseed file...\n"
     ]
    },
    {
     "name": "stderr",
     "output_type": "stream",
     "text": [
      "\r",
      " 25%|████████████████████▌                                                             | 21/84 [00:49<02:42,  2.57s/it]"
     ]
    },
    {
     "name": "stdout",
     "output_type": "stream",
     "text": [
      "   Specific Time window timed out.\n",
      "None\n",
      "data trace is none. Continuing to next\n",
      "Downloading mseed file...\n",
      "OO.AXBA1.AXBA1.HDH | 2021-08-07T01:10:10.000000Z - 2021-08-07T01:20:10.000000Z | 200.0 Hz, 120001 samples\n"
     ]
    },
    {
     "name": "stderr",
     "output_type": "stream",
     "text": [
      "\r",
      " 26%|█████████████████████▍                                                            | 22/84 [00:52<02:39,  2.57s/it]"
     ]
    },
    {
     "name": "stdout",
     "output_type": "stream",
     "text": [
      "Downloading mseed file...\n",
      "OO.AXBA1.AXBA1.HDH | 2021-08-11T20:42:27.000000Z - 2021-08-11T20:52:27.000000Z | 200.0 Hz, 120001 samples\n"
     ]
    },
    {
     "name": "stderr",
     "output_type": "stream",
     "text": [
      "\r",
      " 27%|██████████████████████▍                                                           | 23/84 [00:54<02:22,  2.34s/it]"
     ]
    },
    {
     "name": "stdout",
     "output_type": "stream",
     "text": [
      "Downloading mseed file...\n",
      "OO.AXBA1.AXBA1.HDH | 2021-08-15T15:17:42.000000Z - 2021-08-15T15:27:42.000000Z | 200.0 Hz, 120001 samples\n"
     ]
    },
    {
     "name": "stderr",
     "output_type": "stream",
     "text": [
      "\r",
      " 29%|███████████████████████▍                                                          | 24/84 [00:56<02:13,  2.22s/it]"
     ]
    },
    {
     "name": "stdout",
     "output_type": "stream",
     "text": [
      "Downloading mseed file...\n"
     ]
    },
    {
     "name": "stderr",
     "output_type": "stream",
     "text": [
      "\r",
      " 30%|████████████████████████▍                                                         | 25/84 [00:59<02:35,  2.63s/it]"
     ]
    },
    {
     "name": "stdout",
     "output_type": "stream",
     "text": [
      "   Specific Time window timed out.\n",
      "None\n",
      "data trace is none. Continuing to next\n",
      "Downloading mseed file...\n",
      "OO.AXBA1.AXBA1.HDH | 2021-08-21T11:39:38.000000Z - 2021-08-21T11:45:44.620000Z | 200.0 Hz, 73325 samples\n"
     ]
    },
    {
     "name": "stderr",
     "output_type": "stream",
     "text": [
      "\r",
      " 31%|█████████████████████████▍                                                        | 26/84 [01:02<02:41,  2.78s/it]"
     ]
    },
    {
     "name": "stdout",
     "output_type": "stream",
     "text": [
      "Downloading mseed file...\n",
      "OO.AXBA1.AXBA1.HDH | 2018-10-11T16:01:17.000000Z - 2018-10-11T16:11:17.000000Z | 200.0 Hz, 120001 samples\n"
     ]
    },
    {
     "name": "stderr",
     "output_type": "stream",
     "text": [
      "\r",
      " 32%|██████████████████████████▎                                                       | 27/84 [01:05<02:36,  2.74s/it]"
     ]
    },
    {
     "name": "stdout",
     "output_type": "stream",
     "text": [
      "Downloading mseed file...\n",
      "OO.AXBA1.AXBA1.HDH | 2020-09-11T17:21:44.000000Z - 2020-09-11T17:31:44.000000Z | 200.0 Hz, 120001 samples\n"
     ]
    },
    {
     "name": "stderr",
     "output_type": "stream",
     "text": [
      "\r",
      " 33%|███████████████████████████▎                                                      | 28/84 [01:08<02:33,  2.74s/it]"
     ]
    },
    {
     "name": "stdout",
     "output_type": "stream",
     "text": [
      "Downloading mseed file...\n",
      "OO.AXBA1.AXBA1.HDH | 2019-06-03T17:51:09.000000Z - 2019-06-03T18:01:09.000000Z | 200.0 Hz, 120001 samples\n"
     ]
    },
    {
     "name": "stderr",
     "output_type": "stream",
     "text": [
      "\r",
      " 35%|████████████████████████████▎                                                     | 29/84 [01:10<02:19,  2.54s/it]"
     ]
    },
    {
     "name": "stdout",
     "output_type": "stream",
     "text": [
      "Downloading mseed file...\n",
      "OO.AXBA1.AXBA1.HDH | 2017-09-03T21:48:43.000000Z - 2017-09-03T21:58:43.000000Z | 200.0 Hz, 120001 samples\n"
     ]
    },
    {
     "name": "stderr",
     "output_type": "stream",
     "text": [
      "\r",
      " 36%|█████████████████████████████▎                                                    | 30/84 [01:14<02:43,  3.02s/it]"
     ]
    },
    {
     "name": "stdout",
     "output_type": "stream",
     "text": [
      "Downloading mseed file...\n",
      "OO.AXBA1.AXBA1.HDH | 2022-02-10T15:28:45.000000Z - 2022-02-10T15:38:45.000000Z | 200.0 Hz, 120001 samples\n"
     ]
    },
    {
     "name": "stderr",
     "output_type": "stream",
     "text": [
      "\r",
      " 37%|██████████████████████████████▎                                                   | 31/84 [01:17<02:46,  3.14s/it]"
     ]
    },
    {
     "name": "stdout",
     "output_type": "stream",
     "text": [
      "Downloading mseed file...\n",
      "OO.AXBA1.AXBA1.HDH | 2019-06-14T10:43:50.000000Z - 2019-06-14T10:53:50.000000Z | 200.0 Hz, 120001 samples\n"
     ]
    },
    {
     "name": "stderr",
     "output_type": "stream",
     "text": [
      "\r",
      " 38%|███████████████████████████████▏                                                  | 32/84 [01:21<02:43,  3.15s/it]"
     ]
    },
    {
     "name": "stdout",
     "output_type": "stream",
     "text": [
      "Downloading mseed file...\n",
      "OO.AXBA1.AXBA1.HDH | 2019-06-14T12:55:59.000000Z - 2019-06-14T13:05:59.000000Z | 200.0 Hz, 120001 samples\n"
     ]
    },
    {
     "name": "stderr",
     "output_type": "stream",
     "text": [
      "\r",
      " 39%|████████████████████████████████▏                                                 | 33/84 [01:23<02:34,  3.04s/it]"
     ]
    },
    {
     "name": "stdout",
     "output_type": "stream",
     "text": [
      "Downloading mseed file...\n",
      "OO.AXBA1.AXBA1.HDH | 2019-06-14T19:41:29.000000Z - 2019-06-14T19:51:29.000000Z | 200.0 Hz, 120001 samples\n"
     ]
    },
    {
     "name": "stderr",
     "output_type": "stream",
     "text": [
      "\r",
      " 40%|█████████████████████████████████▏                                                | 34/84 [01:26<02:28,  2.96s/it]"
     ]
    },
    {
     "name": "stdout",
     "output_type": "stream",
     "text": [
      "Downloading mseed file...\n",
      "OO.AXBA1.AXBA1.HDH | 2019-06-18T18:04:19.000000Z - 2019-06-18T18:14:19.000000Z | 200.0 Hz, 120001 samples\n"
     ]
    },
    {
     "name": "stderr",
     "output_type": "stream",
     "text": [
      "\r",
      " 42%|██████████████████████████████████▏                                               | 35/84 [01:29<02:18,  2.83s/it]"
     ]
    },
    {
     "name": "stdout",
     "output_type": "stream",
     "text": [
      "Downloading mseed file...\n"
     ]
    },
    {
     "name": "stderr",
     "output_type": "stream",
     "text": [
      "\r",
      " 43%|███████████████████████████████████▏                                              | 36/84 [01:32<02:21,  2.95s/it]"
     ]
    },
    {
     "name": "stdout",
     "output_type": "stream",
     "text": [
      "   Specific Time window timed out.\n",
      "None\n",
      "data trace is none. Continuing to next\n",
      "Downloading mseed file...\n"
     ]
    },
    {
     "name": "stderr",
     "output_type": "stream",
     "text": [
      "\r",
      " 44%|████████████████████████████████████                                              | 37/84 [01:36<02:35,  3.30s/it]"
     ]
    },
    {
     "name": "stdout",
     "output_type": "stream",
     "text": [
      "   Specific Time window timed out.\n",
      "None\n",
      "data trace is none. Continuing to next\n",
      "Downloading mseed file...\n"
     ]
    },
    {
     "name": "stderr",
     "output_type": "stream",
     "text": [
      "\r",
      " 45%|█████████████████████████████████████                                             | 38/84 [01:40<02:43,  3.56s/it]"
     ]
    },
    {
     "name": "stdout",
     "output_type": "stream",
     "text": [
      "   Specific Time window timed out.\n",
      "None\n",
      "data trace is none. Continuing to next\n",
      "Downloading mseed file...\n"
     ]
    },
    {
     "name": "stderr",
     "output_type": "stream",
     "text": [
      "\r",
      " 46%|██████████████████████████████████████                                            | 39/84 [01:44<02:49,  3.76s/it]"
     ]
    },
    {
     "name": "stdout",
     "output_type": "stream",
     "text": [
      "   Specific Time window timed out.\n",
      "None\n",
      "data trace is none. Continuing to next\n",
      "Downloading mseed file...\n",
      "OO.AXBA1.AXBA1.HDH | 2020-04-11T11:37:13.000000Z - 2020-04-11T11:47:13.000000Z | 200.0 Hz, 120001 samples\n"
     ]
    },
    {
     "name": "stderr",
     "output_type": "stream",
     "text": [
      "\r",
      " 48%|███████████████████████████████████████                                           | 40/84 [01:46<02:21,  3.21s/it]"
     ]
    },
    {
     "name": "stdout",
     "output_type": "stream",
     "text": [
      "Downloading mseed file...\n",
      "OO.AXBA1.AXBA1.HDH | 2018-10-17T22:32:10.000000Z - 2018-10-17T22:42:10.000000Z | 200.0 Hz, 120001 samples\n"
     ]
    },
    {
     "name": "stderr",
     "output_type": "stream",
     "text": [
      "\r",
      " 49%|████████████████████████████████████████                                          | 41/84 [01:48<01:57,  2.74s/it]"
     ]
    },
    {
     "name": "stdout",
     "output_type": "stream",
     "text": [
      "Downloading mseed file...\n",
      "OO.AXBA1.AXBA1.HDH | 2017-07-17T01:37:57.000000Z - 2017-07-17T01:47:57.000000Z | 200.0 Hz, 120001 samples\n"
     ]
    },
    {
     "name": "stderr",
     "output_type": "stream",
     "text": [
      "\r",
      " 50%|█████████████████████████████████████████                                         | 42/84 [01:50<01:48,  2.58s/it]"
     ]
    },
    {
     "name": "stdout",
     "output_type": "stream",
     "text": [
      "Downloading mseed file...\n",
      "OO.AXBA1.AXBA1.HDH | 2021-08-26T07:45:51.000000Z - 2021-08-26T07:55:51.000000Z | 200.0 Hz, 120001 samples\n"
     ]
    },
    {
     "name": "stderr",
     "output_type": "stream",
     "text": [
      "\r",
      " 51%|█████████████████████████████████████████▉                                        | 43/84 [01:52<01:39,  2.43s/it]"
     ]
    },
    {
     "name": "stdout",
     "output_type": "stream",
     "text": [
      "Downloading mseed file...\n",
      "OO.AXBA1.AXBA1.HDH | 2019-11-14T22:39:27.000000Z - 2019-11-14T22:49:27.000000Z | 200.0 Hz, 120001 samples\n"
     ]
    },
    {
     "name": "stderr",
     "output_type": "stream",
     "text": [
      "\r",
      " 52%|██████████████████████████████████████████▉                                       | 44/84 [01:55<01:40,  2.52s/it]"
     ]
    },
    {
     "name": "stdout",
     "output_type": "stream",
     "text": [
      "Downloading mseed file...\n",
      "OO.AXBA1.AXBA1.HDH | 2017-07-29T07:05:32.000000Z - 2017-07-29T07:15:32.000000Z | 200.0 Hz, 120001 samples\n"
     ]
    },
    {
     "name": "stderr",
     "output_type": "stream",
     "text": [
      "\r",
      " 54%|███████████████████████████████████████████▉                                      | 45/84 [01:57<01:34,  2.43s/it]"
     ]
    },
    {
     "name": "stdout",
     "output_type": "stream",
     "text": [
      "Downloading mseed file...\n",
      "OO.AXBA1.AXBA1.HDH | 2017-07-29T11:09:02.000000Z - 2017-07-29T11:19:02.000000Z | 200.0 Hz, 120001 samples\n"
     ]
    },
    {
     "name": "stderr",
     "output_type": "stream",
     "text": [
      "\r",
      " 55%|████████████████████████████████████████████▉                                     | 46/84 [02:00<01:39,  2.62s/it]"
     ]
    },
    {
     "name": "stdout",
     "output_type": "stream",
     "text": [
      "Downloading mseed file...\n",
      "OO.AXBA1.AXBA1.HDH | 2017-08-02T10:42:01.000000Z - 2017-08-02T10:52:01.000000Z | 200.0 Hz, 120001 samples\n"
     ]
    },
    {
     "name": "stderr",
     "output_type": "stream",
     "text": [
      "\r",
      " 56%|█████████████████████████████████████████████▉                                    | 47/84 [02:03<01:35,  2.58s/it]"
     ]
    },
    {
     "name": "stdout",
     "output_type": "stream",
     "text": [
      "Downloading mseed file...\n",
      "OO.AXBA1.AXBA1.HDH | 2017-08-03T09:37:35.000000Z - 2017-08-03T09:47:35.000000Z | 200.0 Hz, 120001 samples\n"
     ]
    },
    {
     "name": "stderr",
     "output_type": "stream",
     "text": [
      "\r",
      " 57%|██████████████████████████████████████████████▊                                   | 48/84 [02:06<01:35,  2.65s/it]"
     ]
    },
    {
     "name": "stdout",
     "output_type": "stream",
     "text": [
      "Downloading mseed file...\n",
      "OO.AXBA1.AXBA1.HDH | 2017-08-03T23:05:55.000000Z - 2017-08-03T23:15:55.000000Z | 200.0 Hz, 120001 samples\n"
     ]
    },
    {
     "name": "stderr",
     "output_type": "stream",
     "text": [
      "\r",
      " 58%|███████████████████████████████████████████████▊                                  | 49/84 [02:08<01:32,  2.65s/it]"
     ]
    },
    {
     "name": "stdout",
     "output_type": "stream",
     "text": [
      "Downloading mseed file...\n",
      "OO.AXBA1.AXBA1.HDH | 2017-08-04T09:21:24.000000Z - 2017-08-04T09:31:24.000000Z | 200.0 Hz, 120001 samples\n"
     ]
    },
    {
     "name": "stderr",
     "output_type": "stream",
     "text": [
      "\r",
      " 60%|████████████████████████████████████████████████▊                                 | 50/84 [02:11<01:32,  2.73s/it]"
     ]
    },
    {
     "name": "stdout",
     "output_type": "stream",
     "text": [
      "Downloading mseed file...\n",
      "OO.AXBA1.AXBA1.HDH | 2017-08-12T14:07:59.000000Z - 2017-08-12T14:17:59.000000Z | 200.0 Hz, 120001 samples\n"
     ]
    },
    {
     "name": "stderr",
     "output_type": "stream",
     "text": [
      "\r",
      " 61%|█████████████████████████████████████████████████▊                                | 51/84 [02:14<01:29,  2.72s/it]"
     ]
    },
    {
     "name": "stdout",
     "output_type": "stream",
     "text": [
      "Downloading mseed file...\n",
      "OO.AXBA1.AXBA1.HDH | 2017-08-17T06:52:18.000000Z - 2017-08-17T07:02:18.000000Z | 200.0 Hz, 120001 samples\n"
     ]
    },
    {
     "name": "stderr",
     "output_type": "stream",
     "text": [
      "\r",
      " 62%|██████████████████████████████████████████████████▊                               | 52/84 [02:16<01:25,  2.68s/it]"
     ]
    },
    {
     "name": "stdout",
     "output_type": "stream",
     "text": [
      "Downloading mseed file...\n",
      "OO.AXBA1.AXBA1.HDH | 2017-08-24T05:17:30.000000Z - 2017-08-24T05:27:30.000000Z | 200.0 Hz, 120001 samples\n"
     ]
    },
    {
     "name": "stderr",
     "output_type": "stream",
     "text": [
      "\r",
      " 63%|███████████████████████████████████████████████████▋                              | 53/84 [02:19<01:22,  2.65s/it]"
     ]
    },
    {
     "name": "stdout",
     "output_type": "stream",
     "text": [
      "Downloading mseed file...\n",
      "OO.AXBA1.AXBA1.HDH | 2017-08-26T02:56:30.000000Z - 2017-08-26T03:06:30.000000Z | 200.0 Hz, 120001 samples\n"
     ]
    },
    {
     "name": "stderr",
     "output_type": "stream",
     "text": [
      "\r",
      " 64%|████████████████████████████████████████████████████▋                             | 54/84 [02:22<01:24,  2.81s/it]"
     ]
    },
    {
     "name": "stdout",
     "output_type": "stream",
     "text": [
      "Downloading mseed file...\n",
      "OO.AXBA1.AXBA1.HDH | 2017-09-06T04:12:55.000000Z - 2017-09-06T04:22:55.000000Z | 200.0 Hz, 120001 samples\n"
     ]
    },
    {
     "name": "stderr",
     "output_type": "stream",
     "text": [
      "\r",
      " 65%|█████████████████████████████████████████████████████▋                            | 55/84 [02:25<01:21,  2.81s/it]"
     ]
    },
    {
     "name": "stdout",
     "output_type": "stream",
     "text": [
      "Downloading mseed file...\n",
      "OO.AXBA1.AXBA1.HDH | 2018-06-23T21:17:55.000000Z - 2018-06-23T21:27:55.000000Z | 200.0 Hz, 120001 samples\n"
     ]
    },
    {
     "name": "stderr",
     "output_type": "stream",
     "text": [
      "\r",
      " 67%|██████████████████████████████████████████████████████▋                           | 56/84 [02:28<01:17,  2.79s/it]"
     ]
    },
    {
     "name": "stdout",
     "output_type": "stream",
     "text": [
      "Downloading mseed file...\n",
      "OO.AXBA1.AXBA1.HDH | 2018-06-26T06:05:42.000000Z - 2018-06-26T06:15:42.000000Z | 200.0 Hz, 120001 samples\n"
     ]
    },
    {
     "name": "stderr",
     "output_type": "stream",
     "text": [
      "\r",
      " 68%|███████████████████████████████████████████████████████▋                          | 57/84 [02:29<01:06,  2.48s/it]"
     ]
    },
    {
     "name": "stdout",
     "output_type": "stream",
     "text": [
      "Downloading mseed file...\n",
      "OO.AXBA1.AXBA1.HDH | 2018-07-09T13:11:59.000000Z - 2018-07-09T13:21:59.000000Z | 200.0 Hz, 120001 samples\n"
     ]
    },
    {
     "name": "stderr",
     "output_type": "stream",
     "text": [
      "\r",
      " 69%|████████████████████████████████████████████████████████▌                         | 58/84 [02:31<00:59,  2.29s/it]"
     ]
    },
    {
     "name": "stdout",
     "output_type": "stream",
     "text": [
      "Downloading mseed file...\n",
      "OO.AXBA1.AXBA1.HDH | 2018-07-10T19:07:52.000000Z - 2018-07-10T19:17:52.000000Z | 200.0 Hz, 120001 samples\n"
     ]
    },
    {
     "name": "stderr",
     "output_type": "stream",
     "text": [
      "\r",
      " 70%|█████████████████████████████████████████████████████████▌                        | 59/84 [02:33<00:53,  2.15s/it]"
     ]
    },
    {
     "name": "stdout",
     "output_type": "stream",
     "text": [
      "Downloading mseed file...\n",
      "OO.AXBA1.AXBA1.HDH | 2018-07-23T06:45:10.000000Z - 2018-07-23T06:55:10.000000Z | 200.0 Hz, 120001 samples\n"
     ]
    },
    {
     "name": "stderr",
     "output_type": "stream",
     "text": [
      "\r",
      " 71%|██████████████████████████████████████████████████████████▌                       | 60/84 [02:36<00:55,  2.30s/it]"
     ]
    },
    {
     "name": "stdout",
     "output_type": "stream",
     "text": [
      "Downloading mseed file...\n",
      "OO.AXBA1.AXBA1.HDH | 2018-07-23T09:53:19.000000Z - 2018-07-23T10:03:19.000000Z | 200.0 Hz, 120001 samples\n"
     ]
    },
    {
     "name": "stderr",
     "output_type": "stream",
     "text": [
      "\r",
      " 73%|███████████████████████████████████████████████████████████▌                      | 61/84 [02:37<00:47,  2.06s/it]"
     ]
    },
    {
     "name": "stdout",
     "output_type": "stream",
     "text": [
      "Downloading mseed file...\n",
      "OO.AXBA1.AXBA1.HDH | 2018-07-24T10:04:41.000000Z - 2018-07-24T10:14:41.000000Z | 200.0 Hz, 120001 samples\n"
     ]
    },
    {
     "name": "stderr",
     "output_type": "stream",
     "text": [
      "\r",
      " 74%|████████████████████████████████████████████████████████████▌                     | 62/84 [02:39<00:44,  2.03s/it]"
     ]
    },
    {
     "name": "stdout",
     "output_type": "stream",
     "text": [
      "Downloading mseed file...\n",
      "OO.AXBA1.AXBA1.HDH | 2018-07-24T13:02:30.000000Z - 2018-07-24T13:12:30.000000Z | 200.0 Hz, 120001 samples\n"
     ]
    },
    {
     "name": "stderr",
     "output_type": "stream",
     "text": [
      "\r",
      " 75%|█████████████████████████████████████████████████████████████▌                    | 63/84 [02:42<00:47,  2.25s/it]"
     ]
    },
    {
     "name": "stdout",
     "output_type": "stream",
     "text": [
      "Downloading mseed file...\n",
      "OO.AXBA1.AXBA1.HDH | 2018-07-25T14:57:41.000000Z - 2018-07-25T15:07:41.000000Z | 200.0 Hz, 120001 samples\n"
     ]
    },
    {
     "name": "stderr",
     "output_type": "stream",
     "text": [
      "\r",
      " 76%|██████████████████████████████████████████████████████████████▍                   | 64/84 [02:44<00:46,  2.31s/it]"
     ]
    },
    {
     "name": "stdout",
     "output_type": "stream",
     "text": [
      "Downloading mseed file...\n",
      "OO.AXBA1.AXBA1.HDH | 2018-07-25T17:21:03.000000Z - 2018-07-25T17:31:03.000000Z | 200.0 Hz, 120001 samples\n"
     ]
    },
    {
     "name": "stderr",
     "output_type": "stream",
     "text": [
      "\r",
      " 77%|███████████████████████████████████████████████████████████████▍                  | 65/84 [02:46<00:41,  2.18s/it]"
     ]
    },
    {
     "name": "stdout",
     "output_type": "stream",
     "text": [
      "Downloading mseed file...\n"
     ]
    },
    {
     "name": "stderr",
     "output_type": "stream",
     "text": [
      "\r",
      " 79%|████████████████████████████████████████████████████████████████▍                 | 66/84 [02:50<00:49,  2.77s/it]"
     ]
    },
    {
     "name": "stdout",
     "output_type": "stream",
     "text": [
      "   Specific Time window timed out.\n",
      "None\n",
      "data trace is none. Continuing to next\n",
      "Downloading mseed file...\n"
     ]
    },
    {
     "name": "stderr",
     "output_type": "stream",
     "text": [
      "\r",
      " 80%|█████████████████████████████████████████████████████████████████▍                | 67/84 [02:55<00:57,  3.40s/it]"
     ]
    },
    {
     "name": "stdout",
     "output_type": "stream",
     "text": [
      "   Specific Time window timed out.\n",
      "None\n",
      "data trace is none. Continuing to next\n",
      "Downloading mseed file...\n"
     ]
    },
    {
     "name": "stderr",
     "output_type": "stream",
     "text": [
      "\r",
      " 81%|██████████████████████████████████████████████████████████████████▍               | 68/84 [02:59<00:54,  3.42s/it]"
     ]
    },
    {
     "name": "stdout",
     "output_type": "stream",
     "text": [
      "   Specific Time window timed out.\n",
      "None\n",
      "data trace is none. Continuing to next\n",
      "Downloading mseed file...\n"
     ]
    },
    {
     "name": "stderr",
     "output_type": "stream",
     "text": [
      "\r",
      " 82%|███████████████████████████████████████████████████████████████████▎              | 69/84 [03:03<00:55,  3.72s/it]"
     ]
    },
    {
     "name": "stdout",
     "output_type": "stream",
     "text": [
      "   Specific Time window timed out.\n",
      "None\n",
      "data trace is none. Continuing to next\n",
      "Downloading mseed file...\n"
     ]
    },
    {
     "name": "stderr",
     "output_type": "stream",
     "text": [
      "\r",
      " 83%|████████████████████████████████████████████████████████████████████▎             | 70/84 [03:07<00:54,  3.89s/it]"
     ]
    },
    {
     "name": "stdout",
     "output_type": "stream",
     "text": [
      "   Specific Time window timed out.\n",
      "None\n",
      "data trace is none. Continuing to next\n",
      "Downloading mseed file...\n"
     ]
    },
    {
     "name": "stderr",
     "output_type": "stream",
     "text": [
      "\r",
      " 85%|█████████████████████████████████████████████████████████████████████▎            | 71/84 [03:12<00:53,  4.13s/it]"
     ]
    },
    {
     "name": "stdout",
     "output_type": "stream",
     "text": [
      "   Specific Time window timed out.\n",
      "None\n",
      "data trace is none. Continuing to next\n",
      "Downloading mseed file...\n"
     ]
    },
    {
     "name": "stderr",
     "output_type": "stream",
     "text": [
      "\r",
      " 86%|██████████████████████████████████████████████████████████████████████▎           | 72/84 [03:16<00:49,  4.13s/it]"
     ]
    },
    {
     "name": "stdout",
     "output_type": "stream",
     "text": [
      "   Specific Time window timed out.\n",
      "None\n",
      "data trace is none. Continuing to next\n",
      "Downloading mseed file...\n",
      "OO.AXBA1.AXBA1.HDH | 2021-05-30T15:25:39.000000Z - 2021-05-30T15:35:39.000000Z | 200.0 Hz, 120001 samples\n"
     ]
    },
    {
     "name": "stderr",
     "output_type": "stream",
     "text": [
      "\r",
      " 87%|███████████████████████████████████████████████████████████████████████▎          | 73/84 [03:20<00:43,  3.99s/it]"
     ]
    },
    {
     "name": "stdout",
     "output_type": "stream",
     "text": [
      "Downloading mseed file...\n",
      "OO.AXBA1.AXBA1.HDH | 2019-09-05T16:36:13.000000Z - 2019-09-05T16:46:13.000000Z | 200.0 Hz, 120001 samples\n"
     ]
    },
    {
     "name": "stderr",
     "output_type": "stream",
     "text": [
      "\r",
      " 88%|████████████████████████████████████████████████████████████████████████▏         | 74/84 [03:23<00:37,  3.74s/it]"
     ]
    },
    {
     "name": "stdout",
     "output_type": "stream",
     "text": [
      "Downloading mseed file...\n",
      "OO.AXBA1.AXBA1.HDH | 2021-09-23T17:24:57.000000Z - 2021-09-23T17:34:57.000000Z | 200.0 Hz, 120001 samples\n"
     ]
    },
    {
     "name": "stderr",
     "output_type": "stream",
     "text": [
      "\r",
      " 89%|█████████████████████████████████████████████████████████████████████████▏        | 75/84 [03:27<00:33,  3.77s/it]"
     ]
    },
    {
     "name": "stdout",
     "output_type": "stream",
     "text": [
      "Downloading mseed file...\n",
      "OO.AXBA1.AXBA1.HDH | 2017-07-14T16:15:40.000000Z - 2017-07-14T16:25:40.000000Z | 200.0 Hz, 120001 samples\n"
     ]
    },
    {
     "name": "stderr",
     "output_type": "stream",
     "text": [
      "\r",
      " 90%|██████████████████████████████████████████████████████████████████████████▏       | 76/84 [03:31<00:29,  3.74s/it]"
     ]
    },
    {
     "name": "stdout",
     "output_type": "stream",
     "text": [
      "Downloading mseed file...\n",
      "OO.AXBA1.AXBA1.HDH | 2018-08-02T12:12:17.000000Z - 2018-08-02T12:22:17.000000Z | 200.0 Hz, 120001 samples\n"
     ]
    },
    {
     "name": "stderr",
     "output_type": "stream",
     "text": [
      "\r",
      " 92%|███████████████████████████████████████████████████████████████████████████▏      | 77/84 [03:34<00:25,  3.71s/it]"
     ]
    },
    {
     "name": "stdout",
     "output_type": "stream",
     "text": [
      "Downloading mseed file...\n",
      "OO.AXBA1.AXBA1.HDH | 2017-09-23T11:23:53.000000Z - 2017-09-23T11:33:53.000000Z | 200.0 Hz, 120001 samples\n"
     ]
    },
    {
     "name": "stderr",
     "output_type": "stream",
     "text": [
      "\r",
      " 93%|████████████████████████████████████████████████████████████████████████████▏     | 78/84 [03:37<00:21,  3.54s/it]"
     ]
    },
    {
     "name": "stdout",
     "output_type": "stream",
     "text": [
      "Downloading mseed file...\n",
      "OO.AXBA1.AXBA1.HDH | 2017-08-21T06:36:06.000000Z - 2017-08-21T06:46:06.000000Z | 200.0 Hz, 120001 samples\n"
     ]
    },
    {
     "name": "stderr",
     "output_type": "stream",
     "text": [
      "\r",
      " 94%|█████████████████████████████████████████████████████████████████████████████     | 79/84 [03:40<00:16,  3.23s/it]"
     ]
    },
    {
     "name": "stdout",
     "output_type": "stream",
     "text": [
      "Downloading mseed file...\n",
      "OO.AXBA1.AXBA1.HDH | 2017-10-03T10:16:15.880000Z - 2017-10-03T10:25:33.000000Z | 200.0 Hz, 111425 samples\n"
     ]
    },
    {
     "name": "stderr",
     "output_type": "stream",
     "text": [
      "\r",
      " 95%|██████████████████████████████████████████████████████████████████████████████    | 80/84 [03:43<00:12,  3.12s/it]"
     ]
    },
    {
     "name": "stdout",
     "output_type": "stream",
     "text": [
      "Downloading mseed file...\n",
      "OO.AXBA1.AXBA1.HDH | 2017-10-27T08:04:16.000000Z - 2017-10-27T08:14:16.000000Z | 200.0 Hz, 120001 samples\n"
     ]
    },
    {
     "name": "stderr",
     "output_type": "stream",
     "text": [
      "\r",
      " 96%|███████████████████████████████████████████████████████████████████████████████   | 81/84 [03:46<00:09,  3.02s/it]"
     ]
    },
    {
     "name": "stdout",
     "output_type": "stream",
     "text": [
      "Downloading mseed file...\n",
      "OO.AXBA1.AXBA1.HDH | 2022-03-08T06:04:29.000000Z - 2022-03-08T06:14:29.000000Z | 200.0 Hz, 120001 samples\n"
     ]
    },
    {
     "name": "stderr",
     "output_type": "stream",
     "text": [
      "\r",
      " 98%|████████████████████████████████████████████████████████████████████████████████  | 82/84 [03:49<00:06,  3.00s/it]"
     ]
    },
    {
     "name": "stdout",
     "output_type": "stream",
     "text": [
      "Downloading mseed file...\n",
      "OO.AXBA1.AXBA1.HDH | 2021-11-13T13:08:47.000000Z - 2021-11-13T13:18:47.000000Z | 200.0 Hz, 120001 samples\n"
     ]
    },
    {
     "name": "stderr",
     "output_type": "stream",
     "text": [
      "\r",
      " 99%|█████████████████████████████████████████████████████████████████████████████████ | 83/84 [03:51<00:02,  2.86s/it]"
     ]
    },
    {
     "name": "stdout",
     "output_type": "stream",
     "text": [
      "Downloading mseed file...\n",
      "OO.AXBA1.AXBA1.HDH | 2017-08-30T20:24:33.000000Z - 2017-08-30T20:34:33.000000Z | 200.0 Hz, 120001 samples\n"
     ]
    },
    {
     "name": "stderr",
     "output_type": "stream",
     "text": [
      "100%|██████████████████████████████████████████████████████████████████████████████████| 84/84 [03:53<00:00,  2.78s/it]\n"
     ]
    }
   ],
   "source": [
    "d1,d2=get_benchmark_data(df,1,inner_rad,outer_rad2,min_duration,get_acoustic=False)"
   ]
  },
  {
   "cell_type": "code",
   "execution_count": 101,
   "metadata": {},
   "outputs": [
    {
     "data": {
      "text/html": [
       "<div>\n",
       "<style scoped>\n",
       "    .dataframe tbody tr th:only-of-type {\n",
       "        vertical-align: middle;\n",
       "    }\n",
       "\n",
       "    .dataframe tbody tr th {\n",
       "        vertical-align: top;\n",
       "    }\n",
       "\n",
       "    .dataframe thead th {\n",
       "        text-align: right;\n",
       "    }\n",
       "</style>\n",
       "<table border=\"1\" class=\"dataframe\">\n",
       "  <thead>\n",
       "    <tr style=\"text-align: right;\">\n",
       "      <th></th>\n",
       "      <th>MMSI</th>\n",
       "      <th>time_min</th>\n",
       "      <th>time_max</th>\n",
       "      <th>count</th>\n",
       "      <th>VESSEL TYPE</th>\n",
       "      <th>len_of_recording</th>\n",
       "    </tr>\n",
       "  </thead>\n",
       "  <tbody>\n",
       "    <tr>\n",
       "      <th>0</th>\n",
       "      <td>210059000</td>\n",
       "      <td>2016-11-25 22:49:56</td>\n",
       "      <td>2016-11-25 23:02:56</td>\n",
       "      <td>2</td>\n",
       "      <td>Bulk Carrier</td>\n",
       "      <td>13.000000</td>\n",
       "    </tr>\n",
       "    <tr>\n",
       "      <th>1</th>\n",
       "      <td>212250000</td>\n",
       "      <td>2016-04-01 18:58:25</td>\n",
       "      <td>2016-04-01 19:22:08</td>\n",
       "      <td>3</td>\n",
       "      <td>Bulk Carrier</td>\n",
       "      <td>23.716667</td>\n",
       "    </tr>\n",
       "    <tr>\n",
       "      <th>2</th>\n",
       "      <td>212482000</td>\n",
       "      <td>2020-09-24 19:41:45</td>\n",
       "      <td>2020-09-24 19:57:23</td>\n",
       "      <td>5</td>\n",
       "      <td>Bulk Carrier</td>\n",
       "      <td>15.633333</td>\n",
       "    </tr>\n",
       "    <tr>\n",
       "      <th>3</th>\n",
       "      <td>220518000</td>\n",
       "      <td>2018-01-20 21:28:28</td>\n",
       "      <td>2018-01-20 22:07:29</td>\n",
       "      <td>3</td>\n",
       "      <td>Oil Products Tanker</td>\n",
       "      <td>39.016667</td>\n",
       "    </tr>\n",
       "    <tr>\n",
       "      <th>4</th>\n",
       "      <td>249666000</td>\n",
       "      <td>2019-04-19 04:21:58</td>\n",
       "      <td>2019-04-19 04:36:30</td>\n",
       "      <td>6</td>\n",
       "      <td>Passenger Ship</td>\n",
       "      <td>14.533333</td>\n",
       "    </tr>\n",
       "  </tbody>\n",
       "</table>\n",
       "</div>"
      ],
      "text/plain": [
       "        MMSI            time_min            time_max  count  \\\n",
       "0  210059000 2016-11-25 22:49:56 2016-11-25 23:02:56      2   \n",
       "1  212250000 2016-04-01 18:58:25 2016-04-01 19:22:08      3   \n",
       "2  212482000 2020-09-24 19:41:45 2020-09-24 19:57:23      5   \n",
       "3  220518000 2018-01-20 21:28:28 2018-01-20 22:07:29      3   \n",
       "4  249666000 2019-04-19 04:21:58 2019-04-19 04:36:30      6   \n",
       "\n",
       "           VESSEL TYPE  len_of_recording  \n",
       "0         Bulk Carrier         13.000000  \n",
       "1         Bulk Carrier         23.716667  \n",
       "2         Bulk Carrier         15.633333  \n",
       "3  Oil Products Tanker         39.016667  \n",
       "4       Passenger Ship         14.533333  "
      ]
     },
     "execution_count": 101,
     "metadata": {},
     "output_type": "execute_result"
    }
   ],
   "source": [
    "d1.head()"
   ]
  },
  {
   "cell_type": "markdown",
   "metadata": {},
   "source": [
    "## Creating benchmark data for Southern hydrate"
   ]
  },
  {
   "cell_type": "markdown",
   "metadata": {},
   "source": [
    "### Depth=772\n",
    "### Oregon slope= 'HYS14'\n",
    "\n",
    "### inner rad=0.772, outer_rad=0.772, outer_rad=1.544"
   ]
  },
  {
   "cell_type": "code",
   "execution_count": 33,
   "metadata": {},
   "outputs": [],
   "source": [
    "inner_rad= 0.772\n",
    "outer_rad1=0.772\n",
    "outer_rad2= 1.544"
   ]
  },
  {
   "cell_type": "code",
   "execution_count": 34,
   "metadata": {},
   "outputs": [
    {
     "name": "stdout",
     "output_type": "stream",
     "text": [
      " Max distance: 76.26 and Min distance: 0.0\n"
     ]
    },
    {
     "name": "stderr",
     "output_type": "stream",
     "text": [
      "100%|█████████████████████████████████████████████████████████████████████████████████| 42/42 [00:00<00:00, 127.34it/s]\n"
     ]
    },
    {
     "name": "stdout",
     "output_type": "stream",
     "text": [
      "Saving spectrograms\n"
     ]
    },
    {
     "name": "stderr",
     "output_type": "stream",
     "text": [
      "\r",
      "  0%|                                                                                           | 0/42 [00:00<?, ?it/s]"
     ]
    },
    {
     "name": "stdout",
     "output_type": "stream",
     "text": [
      "Downloading mseed file...\n"
     ]
    },
    {
     "name": "stderr",
     "output_type": "stream",
     "text": [
      "\r",
      "  2%|█▉                                                                                 | 1/42 [00:03<02:14,  3.28s/it]"
     ]
    },
    {
     "name": "stdout",
     "output_type": "stream",
     "text": [
      "   Specific Time window timed out.\n",
      "None\n",
      "data trace is none. Continuing to next\n",
      "Downloading mseed file...\n",
      "OO.AXCC1.AXCC1.HDH | 2018-08-04T15:21:12.000000Z - 2018-08-04T15:31:12.000000Z | 200.0 Hz, 120001 samples\n"
     ]
    },
    {
     "name": "stderr",
     "output_type": "stream",
     "text": [
      "\r",
      "  5%|███▉                                                                               | 2/42 [00:05<01:47,  2.68s/it]"
     ]
    },
    {
     "name": "stdout",
     "output_type": "stream",
     "text": [
      "Downloading mseed file...\n",
      "OO.AXCC1.AXCC1.HDH | 2018-08-05T13:47:58.000000Z - 2018-08-05T13:57:58.000000Z | 200.0 Hz, 120001 samples\n"
     ]
    },
    {
     "name": "stderr",
     "output_type": "stream",
     "text": [
      "\r",
      "  7%|█████▉                                                                             | 3/42 [00:07<01:37,  2.50s/it]"
     ]
    },
    {
     "name": "stdout",
     "output_type": "stream",
     "text": [
      "Downloading mseed file...\n",
      "OO.AXCC1.AXCC1.HDH | 2018-08-06T13:51:13.000000Z - 2018-08-06T14:01:13.000000Z | 200.0 Hz, 120001 samples\n"
     ]
    },
    {
     "name": "stderr",
     "output_type": "stream",
     "text": [
      "\r",
      " 10%|███████▉                                                                           | 4/42 [00:10<01:37,  2.56s/it]"
     ]
    },
    {
     "name": "stdout",
     "output_type": "stream",
     "text": [
      "Downloading mseed file...\n",
      "OO.AXCC1.AXCC1.HDH | 2018-08-08T14:42:55.000000Z - 2018-08-08T14:52:55.000000Z | 200.0 Hz, 120001 samples\n"
     ]
    },
    {
     "name": "stderr",
     "output_type": "stream",
     "text": [
      "\r",
      " 12%|█████████▉                                                                         | 5/42 [00:12<01:26,  2.33s/it]"
     ]
    },
    {
     "name": "stdout",
     "output_type": "stream",
     "text": [
      "Downloading mseed file...\n",
      "OO.AXCC1.AXCC1.HDH | 2018-08-09T13:55:41.000000Z - 2018-08-09T14:05:41.000000Z | 200.0 Hz, 120001 samples\n"
     ]
    },
    {
     "name": "stderr",
     "output_type": "stream",
     "text": [
      "\r",
      " 14%|███████████▊                                                                       | 6/42 [00:14<01:26,  2.39s/it]"
     ]
    },
    {
     "name": "stdout",
     "output_type": "stream",
     "text": [
      "Downloading mseed file...\n",
      "OO.AXCC1.AXCC1.HDH | 2018-08-09T21:56:50.000000Z - 2018-08-09T22:06:50.000000Z | 200.0 Hz, 120001 samples\n"
     ]
    },
    {
     "name": "stderr",
     "output_type": "stream",
     "text": [
      "\r",
      " 17%|█████████████▊                                                                     | 7/42 [00:17<01:24,  2.41s/it]"
     ]
    },
    {
     "name": "stdout",
     "output_type": "stream",
     "text": [
      "Downloading mseed file...\n",
      "OO.AXCC1.AXCC1.HDH | 2018-08-10T01:19:40.000000Z - 2018-08-10T01:29:40.000000Z | 200.0 Hz, 120001 samples\n"
     ]
    },
    {
     "name": "stderr",
     "output_type": "stream",
     "text": [
      "\r",
      " 19%|███████████████▊                                                                   | 8/42 [00:19<01:19,  2.34s/it]"
     ]
    },
    {
     "name": "stdout",
     "output_type": "stream",
     "text": [
      "Downloading mseed file...\n",
      "OO.AXCC1.AXCC1.HDH | 2018-08-12T14:50:21.000000Z - 2018-08-12T15:00:21.000000Z | 200.0 Hz, 120001 samples\n"
     ]
    },
    {
     "name": "stderr",
     "output_type": "stream",
     "text": [
      "\r",
      " 21%|█████████████████▊                                                                 | 9/42 [00:21<01:12,  2.20s/it]"
     ]
    },
    {
     "name": "stdout",
     "output_type": "stream",
     "text": [
      "Downloading mseed file...\n",
      "OO.AXCC1.AXCC1.HDH | 2018-08-13T14:04:08.000000Z - 2018-08-13T14:14:08.000000Z | 200.0 Hz, 120001 samples\n"
     ]
    },
    {
     "name": "stderr",
     "output_type": "stream",
     "text": [
      "\r",
      " 24%|███████████████████▌                                                              | 10/42 [00:23<01:06,  2.09s/it]"
     ]
    },
    {
     "name": "stdout",
     "output_type": "stream",
     "text": [
      "Downloading mseed file...\n",
      "OO.AXCC1.AXCC1.HDH | 2018-08-14T14:01:23.000000Z - 2018-08-14T14:11:23.000000Z | 200.0 Hz, 120001 samples\n"
     ]
    },
    {
     "name": "stderr",
     "output_type": "stream",
     "text": [
      "\r",
      " 26%|█████████████████████▍                                                            | 11/42 [00:25<01:06,  2.13s/it]"
     ]
    },
    {
     "name": "stdout",
     "output_type": "stream",
     "text": [
      "Downloading mseed file...\n",
      "OO.AXCC1.AXCC1.HDH | 2018-08-15T14:54:43.000000Z - 2018-08-15T15:04:43.000000Z | 200.0 Hz, 120001 samples\n"
     ]
    },
    {
     "name": "stderr",
     "output_type": "stream",
     "text": [
      "\r",
      " 29%|███████████████████████▍                                                          | 12/42 [00:27<01:01,  2.05s/it]"
     ]
    },
    {
     "name": "stdout",
     "output_type": "stream",
     "text": [
      "Downloading mseed file...\n",
      "OO.AXCC1.AXCC1.HDH | 2018-08-15T15:34:33.000000Z - 2018-08-15T15:44:33.000000Z | 200.0 Hz, 120001 samples\n"
     ]
    },
    {
     "name": "stderr",
     "output_type": "stream",
     "text": [
      "\r",
      " 31%|█████████████████████████▍                                                        | 13/42 [00:29<01:01,  2.12s/it]"
     ]
    },
    {
     "name": "stdout",
     "output_type": "stream",
     "text": [
      "Downloading mseed file...\n",
      "OO.AXCC1.AXCC1.HDH | 2018-09-04T12:17:08.000000Z - 2018-09-04T12:27:08.000000Z | 200.0 Hz, 120001 samples\n"
     ]
    },
    {
     "name": "stderr",
     "output_type": "stream",
     "text": [
      "\r",
      " 33%|███████████████████████████▎                                                      | 14/42 [00:32<01:02,  2.22s/it]"
     ]
    },
    {
     "name": "stdout",
     "output_type": "stream",
     "text": [
      "Downloading mseed file...\n",
      "OO.AXCC1.AXCC1.HDH | 2018-09-05T02:08:27.000000Z - 2018-09-05T02:18:27.000000Z | 200.0 Hz, 120001 samples\n"
     ]
    },
    {
     "name": "stderr",
     "output_type": "stream",
     "text": [
      "\r",
      " 36%|█████████████████████████████▎                                                    | 15/42 [00:33<00:57,  2.12s/it]"
     ]
    },
    {
     "name": "stdout",
     "output_type": "stream",
     "text": [
      "Downloading mseed file...\n",
      "OO.AXCC1.AXCC1.HDH | 2018-09-05T10:42:46.000000Z - 2018-09-05T10:52:46.000000Z | 200.0 Hz, 120001 samples\n"
     ]
    },
    {
     "name": "stderr",
     "output_type": "stream",
     "text": [
      "\r",
      " 38%|███████████████████████████████▏                                                  | 16/42 [00:36<00:55,  2.15s/it]"
     ]
    },
    {
     "name": "stdout",
     "output_type": "stream",
     "text": [
      "Downloading mseed file...\n",
      "OO.AXCC1.AXCC1.HDH | 2018-09-05T11:15:56.000000Z - 2018-09-05T11:25:56.000000Z | 200.0 Hz, 120001 samples\n"
     ]
    },
    {
     "name": "stderr",
     "output_type": "stream",
     "text": [
      "\r",
      " 40%|█████████████████████████████████▏                                                | 17/42 [00:38<00:53,  2.14s/it]"
     ]
    },
    {
     "name": "stdout",
     "output_type": "stream",
     "text": [
      "Downloading mseed file...\n",
      "OO.AXCC1.AXCC1.HDH | 2018-09-05T11:50:35.000000Z - 2018-09-05T12:00:35.000000Z | 200.0 Hz, 120001 samples\n"
     ]
    },
    {
     "name": "stderr",
     "output_type": "stream",
     "text": [
      "\r",
      " 43%|███████████████████████████████████▏                                              | 18/42 [00:40<00:49,  2.05s/it]"
     ]
    },
    {
     "name": "stdout",
     "output_type": "stream",
     "text": [
      "Downloading mseed file...\n",
      "OO.AXCC1.AXCC1.HDH | 2018-09-05T12:05:40.000000Z - 2018-09-05T12:15:40.000000Z | 200.0 Hz, 120001 samples\n"
     ]
    },
    {
     "name": "stderr",
     "output_type": "stream",
     "text": [
      "\r",
      " 45%|█████████████████████████████████████                                             | 19/42 [00:42<00:46,  2.00s/it]"
     ]
    },
    {
     "name": "stdout",
     "output_type": "stream",
     "text": [
      "Downloading mseed file...\n",
      "OO.AXCC1.AXCC1.HDH | 2018-09-06T10:50:25.000000Z - 2018-09-06T11:00:25.000000Z | 200.0 Hz, 120001 samples\n"
     ]
    },
    {
     "name": "stderr",
     "output_type": "stream",
     "text": [
      "\r",
      " 48%|███████████████████████████████████████                                           | 20/42 [00:44<00:44,  2.03s/it]"
     ]
    },
    {
     "name": "stdout",
     "output_type": "stream",
     "text": [
      "Downloading mseed file...\n",
      "OO.AXCC1.AXCC1.HDH | 2018-09-06T11:46:05.000000Z - 2018-09-06T11:56:05.000000Z | 200.0 Hz, 120001 samples\n"
     ]
    },
    {
     "name": "stderr",
     "output_type": "stream",
     "text": [
      "\r",
      " 50%|█████████████████████████████████████████                                         | 21/42 [00:46<00:43,  2.06s/it]"
     ]
    },
    {
     "name": "stdout",
     "output_type": "stream",
     "text": [
      "Downloading mseed file...\n",
      "OO.AXCC1.AXCC1.HDH | 2018-09-07T08:26:55.000000Z - 2018-09-07T08:36:55.000000Z | 200.0 Hz, 120001 samples\n"
     ]
    },
    {
     "name": "stderr",
     "output_type": "stream",
     "text": [
      "\r",
      " 52%|██████████████████████████████████████████▉                                       | 22/42 [00:48<00:40,  2.01s/it]"
     ]
    },
    {
     "name": "stdout",
     "output_type": "stream",
     "text": [
      "Downloading mseed file...\n",
      "OO.AXCC1.AXCC1.HDH | 2018-09-07T10:12:56.000000Z - 2018-09-07T10:22:56.000000Z | 200.0 Hz, 120001 samples\n"
     ]
    },
    {
     "name": "stderr",
     "output_type": "stream",
     "text": [
      "\r",
      " 55%|████████████████████████████████████████████▉                                     | 23/42 [00:49<00:37,  1.95s/it]"
     ]
    },
    {
     "name": "stdout",
     "output_type": "stream",
     "text": [
      "Downloading mseed file...\n",
      "OO.AXCC1.AXCC1.HDH | 2018-09-07T12:33:54.000000Z - 2018-09-07T12:43:54.000000Z | 200.0 Hz, 120001 samples\n"
     ]
    },
    {
     "name": "stderr",
     "output_type": "stream",
     "text": [
      "\r",
      " 57%|██████████████████████████████████████████████▊                                   | 24/42 [00:52<00:36,  2.02s/it]"
     ]
    },
    {
     "name": "stdout",
     "output_type": "stream",
     "text": [
      "Downloading mseed file...\n",
      "OO.AXCC1.AXCC1.HDH | 2020-08-19T12:36:45.000000Z - 2020-08-19T12:46:45.000000Z | 200.0 Hz, 120001 samples\n"
     ]
    },
    {
     "name": "stderr",
     "output_type": "stream",
     "text": [
      "\r",
      " 60%|████████████████████████████████████████████████▊                                 | 25/42 [00:54<00:36,  2.13s/it]"
     ]
    },
    {
     "name": "stdout",
     "output_type": "stream",
     "text": [
      "Downloading mseed file...\n",
      "OO.AXCC1.AXCC1.HDH | 2020-08-23T04:34:04.000000Z - 2020-08-23T04:44:04.000000Z | 200.0 Hz, 120001 samples\n"
     ]
    },
    {
     "name": "stderr",
     "output_type": "stream",
     "text": [
      "\r",
      " 62%|██████████████████████████████████████████████████▊                               | 26/42 [00:56<00:33,  2.08s/it]"
     ]
    },
    {
     "name": "stdout",
     "output_type": "stream",
     "text": [
      "Downloading mseed file...\n",
      "OO.AXCC1.AXCC1.HDH | 2020-08-25T22:16:54.000000Z - 2020-08-25T22:26:54.000000Z | 200.0 Hz, 120001 samples\n"
     ]
    },
    {
     "name": "stderr",
     "output_type": "stream",
     "text": [
      "\r",
      " 64%|████████████████████████████████████████████████████▋                             | 27/42 [00:58<00:32,  2.20s/it]"
     ]
    },
    {
     "name": "stdout",
     "output_type": "stream",
     "text": [
      "Downloading mseed file...\n",
      "OO.AXCC1.AXCC1.HDH | 2021-08-12T08:50:06.000000Z - 2021-08-12T09:00:06.000000Z | 200.0 Hz, 120001 samples\n"
     ]
    },
    {
     "name": "stderr",
     "output_type": "stream",
     "text": [
      "\r",
      " 67%|██████████████████████████████████████████████████████▋                           | 28/42 [01:00<00:29,  2.11s/it]"
     ]
    },
    {
     "name": "stdout",
     "output_type": "stream",
     "text": [
      "Downloading mseed file...\n",
      "OO.AXCC1.AXCC1.HDH | 2021-08-12T10:41:56.000000Z - 2021-08-12T10:51:56.000000Z | 200.0 Hz, 120001 samples\n"
     ]
    },
    {
     "name": "stderr",
     "output_type": "stream",
     "text": [
      "\r",
      " 69%|████████████████████████████████████████████████████████▌                         | 29/42 [01:02<00:27,  2.08s/it]"
     ]
    },
    {
     "name": "stdout",
     "output_type": "stream",
     "text": [
      "Downloading mseed file...\n",
      "OO.AXCC1.AXCC1.HDH | 2021-08-12T12:54:36.000000Z - 2021-08-12T13:04:36.000000Z | 200.0 Hz, 120001 samples\n"
     ]
    },
    {
     "name": "stderr",
     "output_type": "stream",
     "text": [
      "\r",
      " 71%|██████████████████████████████████████████████████████████▌                       | 30/42 [01:05<00:25,  2.13s/it]"
     ]
    },
    {
     "name": "stdout",
     "output_type": "stream",
     "text": [
      "Downloading mseed file...\n",
      "OO.AXCC1.AXCC1.HDH | 2021-08-12T15:33:37.000000Z - 2021-08-12T15:43:37.000000Z | 200.0 Hz, 120001 samples\n"
     ]
    },
    {
     "name": "stderr",
     "output_type": "stream",
     "text": [
      "\r",
      " 74%|████████████████████████████████████████████████████████████▌                     | 31/42 [01:07<00:23,  2.12s/it]"
     ]
    },
    {
     "name": "stdout",
     "output_type": "stream",
     "text": [
      "Downloading mseed file...\n",
      "OO.AXCC1.AXCC1.HDH | 2021-08-12T15:49:21.000000Z - 2021-08-12T15:59:21.000000Z | 200.0 Hz, 120001 samples\n"
     ]
    },
    {
     "name": "stderr",
     "output_type": "stream",
     "text": [
      "\r",
      " 76%|██████████████████████████████████████████████████████████████▍                   | 32/42 [01:09<00:20,  2.05s/it]"
     ]
    },
    {
     "name": "stdout",
     "output_type": "stream",
     "text": [
      "Downloading mseed file...\n",
      "OO.AXCC1.AXCC1.HDH | 2021-08-12T18:29:58.000000Z - 2021-08-12T18:39:58.000000Z | 200.0 Hz, 120001 samples\n"
     ]
    },
    {
     "name": "stderr",
     "output_type": "stream",
     "text": [
      "\r",
      " 79%|████████████████████████████████████████████████████████████████▍                 | 33/42 [01:11<00:18,  2.10s/it]"
     ]
    },
    {
     "name": "stdout",
     "output_type": "stream",
     "text": [
      "Downloading mseed file...\n",
      "OO.AXCC1.AXCC1.HDH | 2021-08-14T12:17:41.000000Z - 2021-08-14T12:27:41.000000Z | 200.0 Hz, 120001 samples\n"
     ]
    },
    {
     "name": "stderr",
     "output_type": "stream",
     "text": [
      "\r",
      " 81%|██████████████████████████████████████████████████████████████████▍               | 34/42 [01:14<00:18,  2.33s/it]"
     ]
    },
    {
     "name": "stdout",
     "output_type": "stream",
     "text": [
      "Downloading mseed file...\n"
     ]
    },
    {
     "name": "stderr",
     "output_type": "stream",
     "text": [
      "\r",
      " 83%|████████████████████████████████████████████████████████████████████▎             | 35/42 [01:16<00:16,  2.34s/it]"
     ]
    },
    {
     "name": "stdout",
     "output_type": "stream",
     "text": [
      "   Specific Time window timed out.\n",
      "None\n",
      "data trace is none. Continuing to next\n",
      "Downloading mseed file...\n",
      "OO.AXCC1.AXCC1.HDH | 2019-06-24T08:55:49.000000Z - 2019-06-24T09:05:49.000000Z | 200.0 Hz, 120001 samples\n"
     ]
    },
    {
     "name": "stderr",
     "output_type": "stream",
     "text": [
      "\r",
      " 86%|██████████████████████████████████████████████████████████████████████▎           | 36/42 [01:18<00:13,  2.20s/it]"
     ]
    },
    {
     "name": "stdout",
     "output_type": "stream",
     "text": [
      "Downloading mseed file...\n",
      "OO.AXCC1.AXCC1.HDH | 2019-06-26T08:00:46.000000Z - 2019-06-26T08:10:46.000000Z | 200.0 Hz, 120001 samples\n"
     ]
    },
    {
     "name": "stderr",
     "output_type": "stream",
     "text": [
      "\r",
      " 88%|████████████████████████████████████████████████████████████████████████▏         | 37/42 [01:20<00:11,  2.28s/it]"
     ]
    },
    {
     "name": "stdout",
     "output_type": "stream",
     "text": [
      "Downloading mseed file...\n",
      "OO.AXCC1.AXCC1.HDH | 2017-08-02T18:37:52.000000Z - 2017-08-02T18:47:52.000000Z | 200.0 Hz, 120001 samples\n"
     ]
    },
    {
     "name": "stderr",
     "output_type": "stream",
     "text": [
      "\r",
      " 90%|██████████████████████████████████████████████████████████████████████████▏       | 38/42 [01:22<00:08,  2.20s/it]"
     ]
    },
    {
     "name": "stdout",
     "output_type": "stream",
     "text": [
      "Downloading mseed file...\n",
      "OO.AXCC1.AXCC1.HDH | 2017-08-11T07:59:39.000000Z - 2017-08-11T08:09:39.000000Z | 200.0 Hz, 120001 samples\n"
     ]
    },
    {
     "name": "stderr",
     "output_type": "stream",
     "text": [
      "\r",
      " 93%|████████████████████████████████████████████████████████████████████████████▏     | 39/42 [01:25<00:06,  2.21s/it]"
     ]
    },
    {
     "name": "stdout",
     "output_type": "stream",
     "text": [
      "Downloading mseed file...\n",
      "OO.AXCC1.AXCC1.HDH | 2018-06-25T18:23:29.000000Z - 2018-06-25T18:33:29.000000Z | 200.0 Hz, 120001 samples\n"
     ]
    },
    {
     "name": "stderr",
     "output_type": "stream",
     "text": [
      "\r",
      " 95%|██████████████████████████████████████████████████████████████████████████████    | 40/42 [01:27<00:04,  2.10s/it]"
     ]
    },
    {
     "name": "stdout",
     "output_type": "stream",
     "text": [
      "Downloading mseed file...\n",
      "OO.AXCC1.AXCC1.HDH | 2018-06-27T11:24:08.000000Z - 2018-06-27T11:34:08.000000Z | 200.0 Hz, 120001 samples\n"
     ]
    },
    {
     "name": "stderr",
     "output_type": "stream",
     "text": [
      "\r",
      " 98%|████████████████████████████████████████████████████████████████████████████████  | 41/42 [01:28<00:02,  2.05s/it]"
     ]
    },
    {
     "name": "stdout",
     "output_type": "stream",
     "text": [
      "Downloading mseed file...\n",
      "OO.AXCC1.AXCC1.HDH | 2018-06-28T15:45:04.000000Z - 2018-06-28T15:55:04.000000Z | 200.0 Hz, 120001 samples\n"
     ]
    },
    {
     "name": "stderr",
     "output_type": "stream",
     "text": [
      "100%|██████████████████████████████████████████████████████████████████████████████████| 42/42 [01:31<00:00,  2.17s/it]\n"
     ]
    }
   ],
   "source": [
    "d1,d2=get_benchmark_data(df,2,inner_rad,outer_rad1,min_duration,get_acoustic=False,get_spectrogram=False)"
   ]
  },
  {
   "cell_type": "code",
   "execution_count": 34,
   "metadata": {},
   "outputs": [
    {
     "name": "stdout",
     "output_type": "stream",
     "text": [
      " Max distance: 76.26 and Min distance: 0.0\n"
     ]
    },
    {
     "name": "stderr",
     "output_type": "stream",
     "text": [
      "100%|█████████████████████████████████████████████████████████████████████████████████| 42/42 [00:00<00:00, 127.34it/s]\n"
     ]
    },
    {
     "name": "stdout",
     "output_type": "stream",
     "text": [
      "Saving spectrograms\n"
     ]
    },
    {
     "name": "stderr",
     "output_type": "stream",
     "text": [
      "\r",
      "  0%|                                                                                           | 0/42 [00:00<?, ?it/s]"
     ]
    },
    {
     "name": "stdout",
     "output_type": "stream",
     "text": [
      "Downloading mseed file...\n"
     ]
    },
    {
     "name": "stderr",
     "output_type": "stream",
     "text": [
      "\r",
      "  2%|█▉                                                                                 | 1/42 [00:03<02:14,  3.28s/it]"
     ]
    },
    {
     "name": "stdout",
     "output_type": "stream",
     "text": [
      "   Specific Time window timed out.\n",
      "None\n",
      "data trace is none. Continuing to next\n",
      "Downloading mseed file...\n",
      "OO.AXCC1.AXCC1.HDH | 2018-08-04T15:21:12.000000Z - 2018-08-04T15:31:12.000000Z | 200.0 Hz, 120001 samples\n"
     ]
    },
    {
     "name": "stderr",
     "output_type": "stream",
     "text": [
      "\r",
      "  5%|███▉                                                                               | 2/42 [00:05<01:47,  2.68s/it]"
     ]
    },
    {
     "name": "stdout",
     "output_type": "stream",
     "text": [
      "Downloading mseed file...\n",
      "OO.AXCC1.AXCC1.HDH | 2018-08-05T13:47:58.000000Z - 2018-08-05T13:57:58.000000Z | 200.0 Hz, 120001 samples\n"
     ]
    },
    {
     "name": "stderr",
     "output_type": "stream",
     "text": [
      "\r",
      "  7%|█████▉                                                                             | 3/42 [00:07<01:37,  2.50s/it]"
     ]
    },
    {
     "name": "stdout",
     "output_type": "stream",
     "text": [
      "Downloading mseed file...\n",
      "OO.AXCC1.AXCC1.HDH | 2018-08-06T13:51:13.000000Z - 2018-08-06T14:01:13.000000Z | 200.0 Hz, 120001 samples\n"
     ]
    },
    {
     "name": "stderr",
     "output_type": "stream",
     "text": [
      "\r",
      " 10%|███████▉                                                                           | 4/42 [00:10<01:37,  2.56s/it]"
     ]
    },
    {
     "name": "stdout",
     "output_type": "stream",
     "text": [
      "Downloading mseed file...\n",
      "OO.AXCC1.AXCC1.HDH | 2018-08-08T14:42:55.000000Z - 2018-08-08T14:52:55.000000Z | 200.0 Hz, 120001 samples\n"
     ]
    },
    {
     "name": "stderr",
     "output_type": "stream",
     "text": [
      "\r",
      " 12%|█████████▉                                                                         | 5/42 [00:12<01:26,  2.33s/it]"
     ]
    },
    {
     "name": "stdout",
     "output_type": "stream",
     "text": [
      "Downloading mseed file...\n",
      "OO.AXCC1.AXCC1.HDH | 2018-08-09T13:55:41.000000Z - 2018-08-09T14:05:41.000000Z | 200.0 Hz, 120001 samples\n"
     ]
    },
    {
     "name": "stderr",
     "output_type": "stream",
     "text": [
      "\r",
      " 14%|███████████▊                                                                       | 6/42 [00:14<01:26,  2.39s/it]"
     ]
    },
    {
     "name": "stdout",
     "output_type": "stream",
     "text": [
      "Downloading mseed file...\n",
      "OO.AXCC1.AXCC1.HDH | 2018-08-09T21:56:50.000000Z - 2018-08-09T22:06:50.000000Z | 200.0 Hz, 120001 samples\n"
     ]
    },
    {
     "name": "stderr",
     "output_type": "stream",
     "text": [
      "\r",
      " 17%|█████████████▊                                                                     | 7/42 [00:17<01:24,  2.41s/it]"
     ]
    },
    {
     "name": "stdout",
     "output_type": "stream",
     "text": [
      "Downloading mseed file...\n",
      "OO.AXCC1.AXCC1.HDH | 2018-08-10T01:19:40.000000Z - 2018-08-10T01:29:40.000000Z | 200.0 Hz, 120001 samples\n"
     ]
    },
    {
     "name": "stderr",
     "output_type": "stream",
     "text": [
      "\r",
      " 19%|███████████████▊                                                                   | 8/42 [00:19<01:19,  2.34s/it]"
     ]
    },
    {
     "name": "stdout",
     "output_type": "stream",
     "text": [
      "Downloading mseed file...\n",
      "OO.AXCC1.AXCC1.HDH | 2018-08-12T14:50:21.000000Z - 2018-08-12T15:00:21.000000Z | 200.0 Hz, 120001 samples\n"
     ]
    },
    {
     "name": "stderr",
     "output_type": "stream",
     "text": [
      "\r",
      " 21%|█████████████████▊                                                                 | 9/42 [00:21<01:12,  2.20s/it]"
     ]
    },
    {
     "name": "stdout",
     "output_type": "stream",
     "text": [
      "Downloading mseed file...\n",
      "OO.AXCC1.AXCC1.HDH | 2018-08-13T14:04:08.000000Z - 2018-08-13T14:14:08.000000Z | 200.0 Hz, 120001 samples\n"
     ]
    },
    {
     "name": "stderr",
     "output_type": "stream",
     "text": [
      "\r",
      " 24%|███████████████████▌                                                              | 10/42 [00:23<01:06,  2.09s/it]"
     ]
    },
    {
     "name": "stdout",
     "output_type": "stream",
     "text": [
      "Downloading mseed file...\n",
      "OO.AXCC1.AXCC1.HDH | 2018-08-14T14:01:23.000000Z - 2018-08-14T14:11:23.000000Z | 200.0 Hz, 120001 samples\n"
     ]
    },
    {
     "name": "stderr",
     "output_type": "stream",
     "text": [
      "\r",
      " 26%|█████████████████████▍                                                            | 11/42 [00:25<01:06,  2.13s/it]"
     ]
    },
    {
     "name": "stdout",
     "output_type": "stream",
     "text": [
      "Downloading mseed file...\n",
      "OO.AXCC1.AXCC1.HDH | 2018-08-15T14:54:43.000000Z - 2018-08-15T15:04:43.000000Z | 200.0 Hz, 120001 samples\n"
     ]
    },
    {
     "name": "stderr",
     "output_type": "stream",
     "text": [
      "\r",
      " 29%|███████████████████████▍                                                          | 12/42 [00:27<01:01,  2.05s/it]"
     ]
    },
    {
     "name": "stdout",
     "output_type": "stream",
     "text": [
      "Downloading mseed file...\n",
      "OO.AXCC1.AXCC1.HDH | 2018-08-15T15:34:33.000000Z - 2018-08-15T15:44:33.000000Z | 200.0 Hz, 120001 samples\n"
     ]
    },
    {
     "name": "stderr",
     "output_type": "stream",
     "text": [
      "\r",
      " 31%|█████████████████████████▍                                                        | 13/42 [00:29<01:01,  2.12s/it]"
     ]
    },
    {
     "name": "stdout",
     "output_type": "stream",
     "text": [
      "Downloading mseed file...\n",
      "OO.AXCC1.AXCC1.HDH | 2018-09-04T12:17:08.000000Z - 2018-09-04T12:27:08.000000Z | 200.0 Hz, 120001 samples\n"
     ]
    },
    {
     "name": "stderr",
     "output_type": "stream",
     "text": [
      "\r",
      " 33%|███████████████████████████▎                                                      | 14/42 [00:32<01:02,  2.22s/it]"
     ]
    },
    {
     "name": "stdout",
     "output_type": "stream",
     "text": [
      "Downloading mseed file...\n",
      "OO.AXCC1.AXCC1.HDH | 2018-09-05T02:08:27.000000Z - 2018-09-05T02:18:27.000000Z | 200.0 Hz, 120001 samples\n"
     ]
    },
    {
     "name": "stderr",
     "output_type": "stream",
     "text": [
      "\r",
      " 36%|█████████████████████████████▎                                                    | 15/42 [00:33<00:57,  2.12s/it]"
     ]
    },
    {
     "name": "stdout",
     "output_type": "stream",
     "text": [
      "Downloading mseed file...\n",
      "OO.AXCC1.AXCC1.HDH | 2018-09-05T10:42:46.000000Z - 2018-09-05T10:52:46.000000Z | 200.0 Hz, 120001 samples\n"
     ]
    },
    {
     "name": "stderr",
     "output_type": "stream",
     "text": [
      "\r",
      " 38%|███████████████████████████████▏                                                  | 16/42 [00:36<00:55,  2.15s/it]"
     ]
    },
    {
     "name": "stdout",
     "output_type": "stream",
     "text": [
      "Downloading mseed file...\n",
      "OO.AXCC1.AXCC1.HDH | 2018-09-05T11:15:56.000000Z - 2018-09-05T11:25:56.000000Z | 200.0 Hz, 120001 samples\n"
     ]
    },
    {
     "name": "stderr",
     "output_type": "stream",
     "text": [
      "\r",
      " 40%|█████████████████████████████████▏                                                | 17/42 [00:38<00:53,  2.14s/it]"
     ]
    },
    {
     "name": "stdout",
     "output_type": "stream",
     "text": [
      "Downloading mseed file...\n",
      "OO.AXCC1.AXCC1.HDH | 2018-09-05T11:50:35.000000Z - 2018-09-05T12:00:35.000000Z | 200.0 Hz, 120001 samples\n"
     ]
    },
    {
     "name": "stderr",
     "output_type": "stream",
     "text": [
      "\r",
      " 43%|███████████████████████████████████▏                                              | 18/42 [00:40<00:49,  2.05s/it]"
     ]
    },
    {
     "name": "stdout",
     "output_type": "stream",
     "text": [
      "Downloading mseed file...\n",
      "OO.AXCC1.AXCC1.HDH | 2018-09-05T12:05:40.000000Z - 2018-09-05T12:15:40.000000Z | 200.0 Hz, 120001 samples\n"
     ]
    },
    {
     "name": "stderr",
     "output_type": "stream",
     "text": [
      "\r",
      " 45%|█████████████████████████████████████                                             | 19/42 [00:42<00:46,  2.00s/it]"
     ]
    },
    {
     "name": "stdout",
     "output_type": "stream",
     "text": [
      "Downloading mseed file...\n",
      "OO.AXCC1.AXCC1.HDH | 2018-09-06T10:50:25.000000Z - 2018-09-06T11:00:25.000000Z | 200.0 Hz, 120001 samples\n"
     ]
    },
    {
     "name": "stderr",
     "output_type": "stream",
     "text": [
      "\r",
      " 48%|███████████████████████████████████████                                           | 20/42 [00:44<00:44,  2.03s/it]"
     ]
    },
    {
     "name": "stdout",
     "output_type": "stream",
     "text": [
      "Downloading mseed file...\n",
      "OO.AXCC1.AXCC1.HDH | 2018-09-06T11:46:05.000000Z - 2018-09-06T11:56:05.000000Z | 200.0 Hz, 120001 samples\n"
     ]
    },
    {
     "name": "stderr",
     "output_type": "stream",
     "text": [
      "\r",
      " 50%|█████████████████████████████████████████                                         | 21/42 [00:46<00:43,  2.06s/it]"
     ]
    },
    {
     "name": "stdout",
     "output_type": "stream",
     "text": [
      "Downloading mseed file...\n",
      "OO.AXCC1.AXCC1.HDH | 2018-09-07T08:26:55.000000Z - 2018-09-07T08:36:55.000000Z | 200.0 Hz, 120001 samples\n"
     ]
    },
    {
     "name": "stderr",
     "output_type": "stream",
     "text": [
      "\r",
      " 52%|██████████████████████████████████████████▉                                       | 22/42 [00:48<00:40,  2.01s/it]"
     ]
    },
    {
     "name": "stdout",
     "output_type": "stream",
     "text": [
      "Downloading mseed file...\n",
      "OO.AXCC1.AXCC1.HDH | 2018-09-07T10:12:56.000000Z - 2018-09-07T10:22:56.000000Z | 200.0 Hz, 120001 samples\n"
     ]
    },
    {
     "name": "stderr",
     "output_type": "stream",
     "text": [
      "\r",
      " 55%|████████████████████████████████████████████▉                                     | 23/42 [00:49<00:37,  1.95s/it]"
     ]
    },
    {
     "name": "stdout",
     "output_type": "stream",
     "text": [
      "Downloading mseed file...\n",
      "OO.AXCC1.AXCC1.HDH | 2018-09-07T12:33:54.000000Z - 2018-09-07T12:43:54.000000Z | 200.0 Hz, 120001 samples\n"
     ]
    },
    {
     "name": "stderr",
     "output_type": "stream",
     "text": [
      "\r",
      " 57%|██████████████████████████████████████████████▊                                   | 24/42 [00:52<00:36,  2.02s/it]"
     ]
    },
    {
     "name": "stdout",
     "output_type": "stream",
     "text": [
      "Downloading mseed file...\n",
      "OO.AXCC1.AXCC1.HDH | 2020-08-19T12:36:45.000000Z - 2020-08-19T12:46:45.000000Z | 200.0 Hz, 120001 samples\n"
     ]
    },
    {
     "name": "stderr",
     "output_type": "stream",
     "text": [
      "\r",
      " 60%|████████████████████████████████████████████████▊                                 | 25/42 [00:54<00:36,  2.13s/it]"
     ]
    },
    {
     "name": "stdout",
     "output_type": "stream",
     "text": [
      "Downloading mseed file...\n",
      "OO.AXCC1.AXCC1.HDH | 2020-08-23T04:34:04.000000Z - 2020-08-23T04:44:04.000000Z | 200.0 Hz, 120001 samples\n"
     ]
    },
    {
     "name": "stderr",
     "output_type": "stream",
     "text": [
      "\r",
      " 62%|██████████████████████████████████████████████████▊                               | 26/42 [00:56<00:33,  2.08s/it]"
     ]
    },
    {
     "name": "stdout",
     "output_type": "stream",
     "text": [
      "Downloading mseed file...\n",
      "OO.AXCC1.AXCC1.HDH | 2020-08-25T22:16:54.000000Z - 2020-08-25T22:26:54.000000Z | 200.0 Hz, 120001 samples\n"
     ]
    },
    {
     "name": "stderr",
     "output_type": "stream",
     "text": [
      "\r",
      " 64%|████████████████████████████████████████████████████▋                             | 27/42 [00:58<00:32,  2.20s/it]"
     ]
    },
    {
     "name": "stdout",
     "output_type": "stream",
     "text": [
      "Downloading mseed file...\n",
      "OO.AXCC1.AXCC1.HDH | 2021-08-12T08:50:06.000000Z - 2021-08-12T09:00:06.000000Z | 200.0 Hz, 120001 samples\n"
     ]
    },
    {
     "name": "stderr",
     "output_type": "stream",
     "text": [
      "\r",
      " 67%|██████████████████████████████████████████████████████▋                           | 28/42 [01:00<00:29,  2.11s/it]"
     ]
    },
    {
     "name": "stdout",
     "output_type": "stream",
     "text": [
      "Downloading mseed file...\n",
      "OO.AXCC1.AXCC1.HDH | 2021-08-12T10:41:56.000000Z - 2021-08-12T10:51:56.000000Z | 200.0 Hz, 120001 samples\n"
     ]
    },
    {
     "name": "stderr",
     "output_type": "stream",
     "text": [
      "\r",
      " 69%|████████████████████████████████████████████████████████▌                         | 29/42 [01:02<00:27,  2.08s/it]"
     ]
    },
    {
     "name": "stdout",
     "output_type": "stream",
     "text": [
      "Downloading mseed file...\n",
      "OO.AXCC1.AXCC1.HDH | 2021-08-12T12:54:36.000000Z - 2021-08-12T13:04:36.000000Z | 200.0 Hz, 120001 samples\n"
     ]
    },
    {
     "name": "stderr",
     "output_type": "stream",
     "text": [
      "\r",
      " 71%|██████████████████████████████████████████████████████████▌                       | 30/42 [01:05<00:25,  2.13s/it]"
     ]
    },
    {
     "name": "stdout",
     "output_type": "stream",
     "text": [
      "Downloading mseed file...\n",
      "OO.AXCC1.AXCC1.HDH | 2021-08-12T15:33:37.000000Z - 2021-08-12T15:43:37.000000Z | 200.0 Hz, 120001 samples\n"
     ]
    },
    {
     "name": "stderr",
     "output_type": "stream",
     "text": [
      "\r",
      " 74%|████████████████████████████████████████████████████████████▌                     | 31/42 [01:07<00:23,  2.12s/it]"
     ]
    },
    {
     "name": "stdout",
     "output_type": "stream",
     "text": [
      "Downloading mseed file...\n",
      "OO.AXCC1.AXCC1.HDH | 2021-08-12T15:49:21.000000Z - 2021-08-12T15:59:21.000000Z | 200.0 Hz, 120001 samples\n"
     ]
    },
    {
     "name": "stderr",
     "output_type": "stream",
     "text": [
      "\r",
      " 76%|██████████████████████████████████████████████████████████████▍                   | 32/42 [01:09<00:20,  2.05s/it]"
     ]
    },
    {
     "name": "stdout",
     "output_type": "stream",
     "text": [
      "Downloading mseed file...\n",
      "OO.AXCC1.AXCC1.HDH | 2021-08-12T18:29:58.000000Z - 2021-08-12T18:39:58.000000Z | 200.0 Hz, 120001 samples\n"
     ]
    },
    {
     "name": "stderr",
     "output_type": "stream",
     "text": [
      "\r",
      " 79%|████████████████████████████████████████████████████████████████▍                 | 33/42 [01:11<00:18,  2.10s/it]"
     ]
    },
    {
     "name": "stdout",
     "output_type": "stream",
     "text": [
      "Downloading mseed file...\n",
      "OO.AXCC1.AXCC1.HDH | 2021-08-14T12:17:41.000000Z - 2021-08-14T12:27:41.000000Z | 200.0 Hz, 120001 samples\n"
     ]
    },
    {
     "name": "stderr",
     "output_type": "stream",
     "text": [
      "\r",
      " 81%|██████████████████████████████████████████████████████████████████▍               | 34/42 [01:14<00:18,  2.33s/it]"
     ]
    },
    {
     "name": "stdout",
     "output_type": "stream",
     "text": [
      "Downloading mseed file...\n"
     ]
    },
    {
     "name": "stderr",
     "output_type": "stream",
     "text": [
      "\r",
      " 83%|████████████████████████████████████████████████████████████████████▎             | 35/42 [01:16<00:16,  2.34s/it]"
     ]
    },
    {
     "name": "stdout",
     "output_type": "stream",
     "text": [
      "   Specific Time window timed out.\n",
      "None\n",
      "data trace is none. Continuing to next\n",
      "Downloading mseed file...\n",
      "OO.AXCC1.AXCC1.HDH | 2019-06-24T08:55:49.000000Z - 2019-06-24T09:05:49.000000Z | 200.0 Hz, 120001 samples\n"
     ]
    },
    {
     "name": "stderr",
     "output_type": "stream",
     "text": [
      "\r",
      " 86%|██████████████████████████████████████████████████████████████████████▎           | 36/42 [01:18<00:13,  2.20s/it]"
     ]
    },
    {
     "name": "stdout",
     "output_type": "stream",
     "text": [
      "Downloading mseed file...\n",
      "OO.AXCC1.AXCC1.HDH | 2019-06-26T08:00:46.000000Z - 2019-06-26T08:10:46.000000Z | 200.0 Hz, 120001 samples\n"
     ]
    },
    {
     "name": "stderr",
     "output_type": "stream",
     "text": [
      "\r",
      " 88%|████████████████████████████████████████████████████████████████████████▏         | 37/42 [01:20<00:11,  2.28s/it]"
     ]
    },
    {
     "name": "stdout",
     "output_type": "stream",
     "text": [
      "Downloading mseed file...\n",
      "OO.AXCC1.AXCC1.HDH | 2017-08-02T18:37:52.000000Z - 2017-08-02T18:47:52.000000Z | 200.0 Hz, 120001 samples\n"
     ]
    },
    {
     "name": "stderr",
     "output_type": "stream",
     "text": [
      "\r",
      " 90%|██████████████████████████████████████████████████████████████████████████▏       | 38/42 [01:22<00:08,  2.20s/it]"
     ]
    },
    {
     "name": "stdout",
     "output_type": "stream",
     "text": [
      "Downloading mseed file...\n",
      "OO.AXCC1.AXCC1.HDH | 2017-08-11T07:59:39.000000Z - 2017-08-11T08:09:39.000000Z | 200.0 Hz, 120001 samples\n"
     ]
    },
    {
     "name": "stderr",
     "output_type": "stream",
     "text": [
      "\r",
      " 93%|████████████████████████████████████████████████████████████████████████████▏     | 39/42 [01:25<00:06,  2.21s/it]"
     ]
    },
    {
     "name": "stdout",
     "output_type": "stream",
     "text": [
      "Downloading mseed file...\n",
      "OO.AXCC1.AXCC1.HDH | 2018-06-25T18:23:29.000000Z - 2018-06-25T18:33:29.000000Z | 200.0 Hz, 120001 samples\n"
     ]
    },
    {
     "name": "stderr",
     "output_type": "stream",
     "text": [
      "\r",
      " 95%|██████████████████████████████████████████████████████████████████████████████    | 40/42 [01:27<00:04,  2.10s/it]"
     ]
    },
    {
     "name": "stdout",
     "output_type": "stream",
     "text": [
      "Downloading mseed file...\n",
      "OO.AXCC1.AXCC1.HDH | 2018-06-27T11:24:08.000000Z - 2018-06-27T11:34:08.000000Z | 200.0 Hz, 120001 samples\n"
     ]
    },
    {
     "name": "stderr",
     "output_type": "stream",
     "text": [
      "\r",
      " 98%|████████████████████████████████████████████████████████████████████████████████  | 41/42 [01:28<00:02,  2.05s/it]"
     ]
    },
    {
     "name": "stdout",
     "output_type": "stream",
     "text": [
      "Downloading mseed file...\n",
      "OO.AXCC1.AXCC1.HDH | 2018-06-28T15:45:04.000000Z - 2018-06-28T15:55:04.000000Z | 200.0 Hz, 120001 samples\n"
     ]
    },
    {
     "name": "stderr",
     "output_type": "stream",
     "text": [
      "100%|██████████████████████████████████████████████████████████████████████████████████| 42/42 [01:31<00:00,  2.17s/it]\n"
     ]
    }
   ],
   "source": [
    "d1,d2=get_benchmark_data(df,2,inner_rad,outer_rad2,min_duration,get_acoustic=False,get_spectrogram=False)"
   ]
  },
  {
   "cell_type": "code",
   "execution_count": 53,
   "metadata": {},
   "outputs": [],
   "source": [
    "if (spectrogram.values.shape[0]<2) | (spectrogram.values.shape[1]<2):\n",
    "    pass\n",
    "else:\n",
    "    ooiplt.plot_spectrogram(spectrogram,plot=False,save=True,fmin=fmin,fmax=fmax,filename='test.png')"
   ]
  },
  {
   "cell_type": "code",
   "execution_count": 35,
   "metadata": {},
   "outputs": [],
   "source": [
    "# from functions import choose_df\n",
    "# ais=choose_df_slope_hydrate(df,1)\n",
    "# min_duration=20\n",
    "# lat=float(ais['axial_Loc'].iloc[0][1:8])\n",
    "# lon=float(ais['axial_Loc'].iloc[0][9:18])\n",
    "# reload(fn)\n",
    "# fn.get_isolated_map_plot('scatter',ais,10,30,lat,lon,min_duration)"
   ]
  },
  {
   "cell_type": "code",
   "execution_count": 36,
   "metadata": {},
   "outputs": [],
   "source": [
    "# reload(fn)\n",
    "# fn.get_single_isolated_map_plot(1,'scatter',ais,10,30,lat,lon,min_duration,10,90)"
   ]
  },
  {
   "cell_type": "markdown",
   "metadata": {},
   "source": [
    "## Comparison of various options"
   ]
  },
  {
   "cell_type": "code",
   "execution_count": 60,
   "metadata": {},
   "outputs": [],
   "source": [
    "inner_rad=[0.772,2.9]\n",
    "outer_rad=[0.772,1.544,2.9,5.8]\n",
    "min_duration=10\n"
   ]
  },
  {
   "cell_type": "code",
   "execution_count": 62,
   "metadata": {},
   "outputs": [
    {
     "name": "stdout",
     "output_type": "stream",
     "text": [
      "\u001b[1m\u001b[32mComparative view with minimum duration: 10\u001b[0m\n"
     ]
    },
    {
     "name": "stderr",
     "output_type": "stream",
     "text": [
      "  0%|                                                                                            | 0/2 [00:00<?, ?it/s]\n",
      "  0%|                                                                                            | 0/2 [00:00<?, ?it/s]\u001b[A\n",
      " 50%|██████████████████████████████████████████                                          | 1/2 [00:03<00:03,  3.10s/it]\u001b[A"
     ]
    },
    {
     "name": "stdout",
     "output_type": "stream",
     "text": [
      "{'MMSI': 235010450, 'start_time': Timestamp('2017-07-05 06:37:19'), 'end_time': Timestamp('2017-07-05 06:47:19'), 'VESSEL TYPE': 1004.0, 'len_of_recording': 10.0}\n",
      "{'MMSI': 235010450, 'start_time': Timestamp('2017-07-05 06:37:19'), 'end_time': Timestamp('2017-07-05 06:47:19'), 'VESSEL TYPE': 1004.0, 'len_of_recording': 10.0}\n"
     ]
    },
    {
     "name": "stderr",
     "output_type": "stream",
     "text": [
      "\n",
      "100%|████████████████████████████████████████████████████████████████████████████████████| 2/2 [00:12<00:00,  6.16s/it]\u001b[A\n",
      " 50%|██████████████████████████████████████████                                          | 1/2 [00:12<00:12, 12.33s/it]\n",
      "  0%|                                                                                            | 0/2 [00:00<?, ?it/s]\u001b[A"
     ]
    },
    {
     "name": "stdout",
     "output_type": "stream",
     "text": [
      "{'MMSI': 319005600, 'start_time': Timestamp('2018-08-05 02:39:55'), 'end_time': Timestamp('2018-08-05 02:49:55'), 'VESSEL TYPE': 1020.0, 'len_of_recording': 10.0}\n",
      "{'MMSI': 319005600, 'start_time': Timestamp('2018-08-05 02:39:55'), 'end_time': Timestamp('2018-08-05 02:49:55'), 'VESSEL TYPE': 1020.0, 'len_of_recording': 10.0}\n",
      "{'MMSI': 319005600, 'start_time': Timestamp('2018-08-05 02:39:55'), 'end_time': Timestamp('2018-08-05 02:49:55'), 'VESSEL TYPE': 1020.0, 'len_of_recording': 10.0}\n"
     ]
    },
    {
     "name": "stderr",
     "output_type": "stream",
     "text": [
      "\n",
      " 50%|██████████████████████████████████████████                                          | 1/2 [00:16<00:16, 16.90s/it]\u001b[A\n",
      "100%|████████████████████████████████████████████████████████████████████████████████████| 2/2 [00:28<00:00, 14.49s/it]\u001b[A\n",
      "100%|████████████████████████████████████████████████████████████████████████████████████| 2/2 [00:41<00:00, 20.66s/it]\n"
     ]
    },
    {
     "data": {
      "text/html": [
       "<div>\n",
       "<style scoped>\n",
       "    .dataframe tbody tr th:only-of-type {\n",
       "        vertical-align: middle;\n",
       "    }\n",
       "\n",
       "    .dataframe tbody tr th {\n",
       "        vertical-align: top;\n",
       "    }\n",
       "\n",
       "    .dataframe thead th {\n",
       "        text-align: right;\n",
       "    }\n",
       "</style>\n",
       "<table border=\"1\" class=\"dataframe\">\n",
       "  <thead>\n",
       "    <tr style=\"text-align: right;\">\n",
       "      <th></th>\n",
       "      <th>hydrophone_idx</th>\n",
       "      <th>inner_rad</th>\n",
       "      <th>outer_rad</th>\n",
       "      <th>no_unique_ships</th>\n",
       "      <th>no_unique_vessels</th>\n",
       "      <th>no_records</th>\n",
       "      <th>len_of_recordings</th>\n",
       "    </tr>\n",
       "  </thead>\n",
       "  <tbody>\n",
       "    <tr>\n",
       "      <th>0</th>\n",
       "      <td>1.0</td>\n",
       "      <td>0.772</td>\n",
       "      <td>0.772</td>\n",
       "      <td>4.0</td>\n",
       "      <td>2.0</td>\n",
       "      <td>389.0</td>\n",
       "      <td>3805.300000</td>\n",
       "    </tr>\n",
       "    <tr>\n",
       "      <th>1</th>\n",
       "      <td>1.0</td>\n",
       "      <td>0.772</td>\n",
       "      <td>1.544</td>\n",
       "      <td>4.0</td>\n",
       "      <td>2.0</td>\n",
       "      <td>389.0</td>\n",
       "      <td>3805.300000</td>\n",
       "    </tr>\n",
       "    <tr>\n",
       "      <th>2</th>\n",
       "      <td>1.0</td>\n",
       "      <td>0.772</td>\n",
       "      <td>2.900</td>\n",
       "      <td>4.0</td>\n",
       "      <td>2.0</td>\n",
       "      <td>389.0</td>\n",
       "      <td>3805.300000</td>\n",
       "    </tr>\n",
       "    <tr>\n",
       "      <th>3</th>\n",
       "      <td>1.0</td>\n",
       "      <td>0.772</td>\n",
       "      <td>5.800</td>\n",
       "      <td>4.0</td>\n",
       "      <td>2.0</td>\n",
       "      <td>386.0</td>\n",
       "      <td>3778.450000</td>\n",
       "    </tr>\n",
       "    <tr>\n",
       "      <th>4</th>\n",
       "      <td>1.0</td>\n",
       "      <td>2.900</td>\n",
       "      <td>2.900</td>\n",
       "      <td>35.0</td>\n",
       "      <td>14.0</td>\n",
       "      <td>2894.0</td>\n",
       "      <td>28560.516667</td>\n",
       "    </tr>\n",
       "    <tr>\n",
       "      <th>5</th>\n",
       "      <td>1.0</td>\n",
       "      <td>2.900</td>\n",
       "      <td>5.800</td>\n",
       "      <td>35.0</td>\n",
       "      <td>14.0</td>\n",
       "      <td>2719.0</td>\n",
       "      <td>26752.316667</td>\n",
       "    </tr>\n",
       "    <tr>\n",
       "      <th>6</th>\n",
       "      <td>2.0</td>\n",
       "      <td>0.772</td>\n",
       "      <td>0.772</td>\n",
       "      <td>4.0</td>\n",
       "      <td>2.0</td>\n",
       "      <td>2683.0</td>\n",
       "      <td>26602.616667</td>\n",
       "    </tr>\n",
       "    <tr>\n",
       "      <th>7</th>\n",
       "      <td>2.0</td>\n",
       "      <td>0.772</td>\n",
       "      <td>1.544</td>\n",
       "      <td>4.0</td>\n",
       "      <td>2.0</td>\n",
       "      <td>2682.0</td>\n",
       "      <td>26585.950000</td>\n",
       "    </tr>\n",
       "    <tr>\n",
       "      <th>8</th>\n",
       "      <td>2.0</td>\n",
       "      <td>0.772</td>\n",
       "      <td>2.900</td>\n",
       "      <td>4.0</td>\n",
       "      <td>2.0</td>\n",
       "      <td>2676.0</td>\n",
       "      <td>26503.966667</td>\n",
       "    </tr>\n",
       "    <tr>\n",
       "      <th>9</th>\n",
       "      <td>2.0</td>\n",
       "      <td>0.772</td>\n",
       "      <td>5.800</td>\n",
       "      <td>4.0</td>\n",
       "      <td>2.0</td>\n",
       "      <td>2536.0</td>\n",
       "      <td>24987.833333</td>\n",
       "    </tr>\n",
       "    <tr>\n",
       "      <th>10</th>\n",
       "      <td>2.0</td>\n",
       "      <td>2.900</td>\n",
       "      <td>2.900</td>\n",
       "      <td>71.0</td>\n",
       "      <td>16.0</td>\n",
       "      <td>4636.0</td>\n",
       "      <td>45579.666667</td>\n",
       "    </tr>\n",
       "    <tr>\n",
       "      <th>11</th>\n",
       "      <td>2.0</td>\n",
       "      <td>2.900</td>\n",
       "      <td>5.800</td>\n",
       "      <td>71.0</td>\n",
       "      <td>16.0</td>\n",
       "      <td>2950.0</td>\n",
       "      <td>28614.883333</td>\n",
       "    </tr>\n",
       "  </tbody>\n",
       "</table>\n",
       "</div>"
      ],
      "text/plain": [
       "    hydrophone_idx  inner_rad  outer_rad  no_unique_ships  no_unique_vessels  \\\n",
       "0              1.0      0.772      0.772              4.0                2.0   \n",
       "1              1.0      0.772      1.544              4.0                2.0   \n",
       "2              1.0      0.772      2.900              4.0                2.0   \n",
       "3              1.0      0.772      5.800              4.0                2.0   \n",
       "4              1.0      2.900      2.900             35.0               14.0   \n",
       "5              1.0      2.900      5.800             35.0               14.0   \n",
       "6              2.0      0.772      0.772              4.0                2.0   \n",
       "7              2.0      0.772      1.544              4.0                2.0   \n",
       "8              2.0      0.772      2.900              4.0                2.0   \n",
       "9              2.0      0.772      5.800              4.0                2.0   \n",
       "10             2.0      2.900      2.900             71.0               16.0   \n",
       "11             2.0      2.900      5.800             71.0               16.0   \n",
       "\n",
       "    no_records  len_of_recordings  \n",
       "0        389.0        3805.300000  \n",
       "1        389.0        3805.300000  \n",
       "2        389.0        3805.300000  \n",
       "3        386.0        3778.450000  \n",
       "4       2894.0       28560.516667  \n",
       "5       2719.0       26752.316667  \n",
       "6       2683.0       26602.616667  \n",
       "7       2682.0       26585.950000  \n",
       "8       2676.0       26503.966667  \n",
       "9       2536.0       24987.833333  \n",
       "10      4636.0       45579.666667  \n",
       "11      2950.0       28614.883333  "
      ]
     },
     "execution_count": 62,
     "metadata": {},
     "output_type": "execute_result"
    }
   ],
   "source": [
    "reload(fn)\n",
    "\n",
    "print(colored('Comparative view with minimum duration: '+ str(min_duration),'green',attrs=['bold']))\n",
    "table=pd.DataFrame(columns=['hydrophone_idx','inner_rad','outer_rad','no_unique_ships','no_unique_vessels','no_records'])\n",
    "for i in tqdm(range(1,3,1)):\n",
    "    for i_r in tqdm(inner_rad):\n",
    "        for o_r in outer_rad:\n",
    "            if i_r<=o_r:\n",
    "                temp_dict=dict()\n",
    "                ais=fn.choose_df_slope_hydrate(df,i,verbose=False)\n",
    "\n",
    "                temp_df1=fn.get_isolated_ships(ais,i_r,o_r,min_duration)\n",
    "                temp_df2=fn.break_duration(temp_df1)\n",
    "\n",
    "                temp_dict['hydrophone_idx']=i\n",
    "                temp_dict['inner_rad']=i_r\n",
    "                temp_dict['outer_rad']=o_r\n",
    "                temp_dict['no_unique_ships']=temp_df2['MMSI'].nunique()\n",
    "                temp_dict['no_unique_vessels']=temp_df2['VESSEL TYPE'].nunique()\n",
    "                temp_dict['no_records']=len(temp_df2)\n",
    "                temp_dict['len_of_recordings']=temp_df2.len_of_recording.sum()\n",
    "                table=table.append(temp_dict,ignore_index=True)\n",
    "         \n",
    "table\n"
   ]
  },
  {
   "cell_type": "code",
   "execution_count": 22,
   "metadata": {},
   "outputs": [
    {
     "name": "stdout",
     "output_type": "stream",
     "text": [
      "\u001b[1m\u001b[32mOverlapping of all hydrophones with minimum number of timestamps: 20\u001b[0m\n"
     ]
    },
    {
     "data": {
      "text/html": [
       "<div>\n",
       "<style scoped>\n",
       "    .dataframe tbody tr th:only-of-type {\n",
       "        vertical-align: middle;\n",
       "    }\n",
       "\n",
       "    .dataframe tbody tr th {\n",
       "        vertical-align: top;\n",
       "    }\n",
       "\n",
       "    .dataframe thead th {\n",
       "        text-align: right;\n",
       "    }\n",
       "</style>\n",
       "<table border=\"1\" class=\"dataframe\">\n",
       "  <thead>\n",
       "    <tr style=\"text-align: right;\">\n",
       "      <th></th>\n",
       "      <th>inner_rad</th>\n",
       "      <th>outer_rad</th>\n",
       "      <th>no_unique_ships</th>\n",
       "      <th>no_unique_vessels</th>\n",
       "      <th>no_records</th>\n",
       "    </tr>\n",
       "  </thead>\n",
       "  <tbody>\n",
       "    <tr>\n",
       "      <th>0</th>\n",
       "      <td>5</td>\n",
       "      <td>20</td>\n",
       "      <td>88</td>\n",
       "      <td>19</td>\n",
       "      <td>524</td>\n",
       "    </tr>\n",
       "    <tr>\n",
       "      <th>1</th>\n",
       "      <td>5</td>\n",
       "      <td>30</td>\n",
       "      <td>82</td>\n",
       "      <td>19</td>\n",
       "      <td>558</td>\n",
       "    </tr>\n",
       "    <tr>\n",
       "      <th>2</th>\n",
       "      <td>5</td>\n",
       "      <td>40</td>\n",
       "      <td>73</td>\n",
       "      <td>19</td>\n",
       "      <td>613</td>\n",
       "    </tr>\n",
       "    <tr>\n",
       "      <th>3</th>\n",
       "      <td>10</td>\n",
       "      <td>20</td>\n",
       "      <td>478</td>\n",
       "      <td>37</td>\n",
       "      <td>1374</td>\n",
       "    </tr>\n",
       "    <tr>\n",
       "      <th>4</th>\n",
       "      <td>10</td>\n",
       "      <td>30</td>\n",
       "      <td>447</td>\n",
       "      <td>36</td>\n",
       "      <td>1362</td>\n",
       "    </tr>\n",
       "    <tr>\n",
       "      <th>5</th>\n",
       "      <td>10</td>\n",
       "      <td>40</td>\n",
       "      <td>396</td>\n",
       "      <td>36</td>\n",
       "      <td>1341</td>\n",
       "    </tr>\n",
       "    <tr>\n",
       "      <th>6</th>\n",
       "      <td>15</td>\n",
       "      <td>20</td>\n",
       "      <td>839</td>\n",
       "      <td>42</td>\n",
       "      <td>2683</td>\n",
       "    </tr>\n",
       "    <tr>\n",
       "      <th>7</th>\n",
       "      <td>15</td>\n",
       "      <td>30</td>\n",
       "      <td>797</td>\n",
       "      <td>42</td>\n",
       "      <td>2607</td>\n",
       "    </tr>\n",
       "    <tr>\n",
       "      <th>8</th>\n",
       "      <td>15</td>\n",
       "      <td>40</td>\n",
       "      <td>718</td>\n",
       "      <td>41</td>\n",
       "      <td>2440</td>\n",
       "    </tr>\n",
       "  </tbody>\n",
       "</table>\n",
       "</div>"
      ],
      "text/plain": [
       "  inner_rad outer_rad no_unique_ships no_unique_vessels no_records\n",
       "0         5        20              88                19        524\n",
       "1         5        30              82                19        558\n",
       "2         5        40              73                19        613\n",
       "3        10        20             478                37       1374\n",
       "4        10        30             447                36       1362\n",
       "5        10        40             396                36       1341\n",
       "6        15        20             839                42       2683\n",
       "7        15        30             797                42       2607\n",
       "8        15        40             718                41       2440"
      ]
     },
     "execution_count": 22,
     "metadata": {},
     "output_type": "execute_result"
    }
   ],
   "source": [
    "reload(fn)\n",
    "\n",
    "print(colored('Overlapping of all hydrophones with minimum number of timestamps: '+ str(min_duration),'green',attrs=['bold']))\n",
    "table2=pd.DataFrame(columns=['inner_rad','outer_rad','no_unique_ships','no_unique_vessels','no_records'])\n",
    "\n",
    "for i_r in inner_rad:\n",
    "    for o_r in outer_rad:\n",
    "        combined_df=pd.DataFrame()\n",
    "        for i in range(1,4,1):\n",
    "            temp_dict=dict()\n",
    "            ais=fn.choose_df(df,i,verbose=False)\n",
    "            d1=fn.get_isolated_ships(ais,i_r,o_r,min_duration)\n",
    "            combined_df=pd.concat([combined_df,d1])\n",
    "\n",
    "        temp_dict['inner_rad']=i_r\n",
    "        temp_dict['outer_rad']=o_r\n",
    "        temp_dict['no_unique_ships']=combined_df['MMSI'].nunique()\n",
    "        temp_dict['no_unique_vessels']=combined_df['VESSEL TYPE'].nunique()\n",
    "        temp_dict['no_records']=len(combined_df)\n",
    "        table2=table2.append(temp_dict,ignore_index=True)\n",
    "table2\n",
    "        "
   ]
  },
  {
   "cell_type": "code",
   "execution_count": null,
   "metadata": {},
   "outputs": [],
   "source": [
    "reload(fn)\n",
    "df['TIMESTAMP UTC']=df['TIMESTAMP UTC'].astype('datetime64[ns]')\n",
    "ais = fn.choose_df(df,1)\n",
    "pings= fn.ais_ping_distribution(ais,show=False)"
   ]
  },
  {
   "cell_type": "code",
   "execution_count": null,
   "metadata": {},
   "outputs": [],
   "source": []
  }
 ],
 "metadata": {
  "kernelspec": {
   "display_name": "Python 3 (ipykernel)",
   "language": "python",
   "name": "python3"
  },
  "language_info": {
   "codemirror_mode": {
    "name": "ipython",
    "version": 3
   },
   "file_extension": ".py",
   "mimetype": "text/x-python",
   "name": "python",
   "nbconvert_exporter": "python",
   "pygments_lexer": "ipython3",
   "version": "3.10.6"
  },
  "vscode": {
   "interpreter": {
    "hash": "359f9a5187fb9b90d6791b9a1894c924ec82a2292c14ad522499e88f73769967"
   }
  }
 },
 "nbformat": 4,
 "nbformat_minor": 4
}
