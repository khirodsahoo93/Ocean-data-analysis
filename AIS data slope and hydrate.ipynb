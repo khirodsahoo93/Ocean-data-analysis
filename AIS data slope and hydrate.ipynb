{
 "cells": [
  {
   "cell_type": "code",
   "execution_count": 75,
   "id": "b12b7e14",
   "metadata": {},
   "outputs": [],
   "source": [
    "import os, json\n",
    "import pandas as pd\n",
    "import numpy as np\n",
    "import glob\n",
    "import re\n",
    "from geopy.distance import geodesic\n",
    "\n",
    "import datetime\n",
    "import ooipy\n",
    "import matplotlib.pyplot as plt\n",
    "from datetime import timedelta\n",
    "import time\n",
    "import pickle\n",
    "import warnings\n",
    "warnings.filterwarnings(\"ignore\")"
   ]
  },
  {
   "cell_type": "code",
   "execution_count": 76,
   "id": "c494d41c",
   "metadata": {},
   "outputs": [
    {
     "data": {
      "text/plain": [
       "'C:\\\\Users\\\\khirod\\\\Documents\\\\GitHub\\\\Ocean-data-analysis'"
      ]
     },
     "execution_count": 76,
     "metadata": {},
     "output_type": "execute_result"
    }
   ],
   "source": [
    "os.getcwd()"
   ]
  },
  {
   "cell_type": "code",
   "execution_count": 77,
   "id": "4eb71c30",
   "metadata": {},
   "outputs": [],
   "source": [
    "#ais = pd.read_csv('Axial Base-20220628T081651Z-001/Axial Base/2015A - Updated.csv',sep = ',')"
   ]
  },
  {
   "cell_type": "code",
   "execution_count": 78,
   "id": "60cf0de8-ec02-4431-affb-b43f32a1a9a5",
   "metadata": {},
   "outputs": [],
   "source": [
    "import functions as fn"
   ]
  },
  {
   "cell_type": "code",
   "execution_count": 79,
   "id": "aa128d72",
   "metadata": {},
   "outputs": [],
   "source": [
    "oregon_slope_Lat=44.5153\n",
    "oregon_slope_Lon=-125.3898\n",
    "Southern_hydrate_Lat=44.5691\n",
    "Southern_hydrate_lon=-125.1481\n",
    "\n"
   ]
  },
  {
   "cell_type": "code",
   "execution_count": 80,
   "id": "5f5e9ac0-7829-406a-8cd0-91854cc4bd8e",
   "metadata": {},
   "outputs": [],
   "source": [
    "lat_oregon,lon_oregon=fn.get_circle_coordinates(40*1000,oregon_slope_Lat,oregon_slope_Lon)"
   ]
  },
  {
   "cell_type": "code",
   "execution_count": 81,
   "id": "521e1ca2-e530-415d-bb5c-77522e8b7bcc",
   "metadata": {},
   "outputs": [],
   "source": [
    "lat_shydrate,lon_shydrate=fn.get_circle_coordinates(40*1000,Southern_hydrate_Lat,Southern_hydrate_lon)"
   ]
  },
  {
   "cell_type": "code",
   "execution_count": 82,
   "id": "ecaaf0b9-5aaf-4567-bda4-92329cecfcf1",
   "metadata": {},
   "outputs": [
    {
     "data": {
      "text/plain": [
       "(44.15597388635219, 44.874626113647814)"
      ]
     },
     "execution_count": 82,
     "metadata": {},
     "output_type": "execute_result"
    }
   ],
   "source": [
    "min(lat_oregon),max(lat_oregon)"
   ]
  },
  {
   "cell_type": "code",
   "execution_count": 83,
   "id": "dcf996b0-522d-4272-9a07-9193bb6cb89a",
   "metadata": {},
   "outputs": [
    {
     "data": {
      "text/plain": [
       "(-125.89371898691299, -124.885881013087)"
      ]
     },
     "execution_count": 83,
     "metadata": {},
     "output_type": "execute_result"
    }
   ],
   "source": [
    "min(lon_oregon),max(lon_oregon)"
   ]
  },
  {
   "cell_type": "code",
   "execution_count": 84,
   "id": "9d2e162c-828d-4a07-aa9b-a86f32de5cc4",
   "metadata": {},
   "outputs": [
    {
     "data": {
      "text/plain": [
       "(44.20977388635219, 44.92842611364781)"
      ]
     },
     "execution_count": 84,
     "metadata": {},
     "output_type": "execute_result"
    }
   ],
   "source": [
    "min(lat_shydrate),max(lat_shydrate)"
   ]
  },
  {
   "cell_type": "code",
   "execution_count": 85,
   "id": "63767876-c3ad-49fa-b832-1e29b5af946e",
   "metadata": {},
   "outputs": [
    {
     "data": {
      "text/plain": [
       "(44.20977388635219, 44.92842611364781)"
      ]
     },
     "execution_count": 85,
     "metadata": {},
     "output_type": "execute_result"
    }
   ],
   "source": [
    "min(lat_shydrate),max(lat_shydrate)"
   ]
  },
  {
   "cell_type": "code",
   "execution_count": 86,
   "id": "5826b2b7-965e-4d7d-a849-b346b3529aa8",
   "metadata": {},
   "outputs": [],
   "source": [
    "import plotly.express as px"
   ]
  },
  {
   "cell_type": "code",
   "execution_count": 87,
   "id": "195a9ae9-c158-4dad-bf1c-ef5c1b36041f",
   "metadata": {},
   "outputs": [
    {
     "data": {
      "application/vnd.plotly.v1+json": {
       "config": {
        "plotlyServerURL": "https://plot.ly"
       },
       "data": [
        {
         "hovertemplate": "lat=%{lat}<br>lon=%{lon}<extra></extra>",
         "lat": [
          44.5153
         ],
         "legendgroup": "",
         "lon": [
          -125.3898
         ],
         "marker": {
          "color": "#636efa"
         },
         "mode": "markers",
         "name": "",
         "showlegend": false,
         "subplot": "mapbox",
         "type": "scattermapbox"
        },
        {
         "hovertemplate": "lat=%{lat}<br>lon=%{lon}<extra></extra>",
         "lat": [
          44.5153,
          44.537862273356396,
          44.56033550372758,
          44.58263099954031,
          44.60466077065846,
          44.62633787563988,
          44.64757676485453,
          44.6682936181098,
          44.68840667545052,
          44.707836559828166,
          44.72650659036575,
          44.74434308498228,
          44.76127565118222,
          44.77723746386252,
          44.7921655290408,
          44.80600093246378,
          44.81868907211496,
          44.83017987370378,
          44.84042798828602,
          44.849392971235346,
          44.85703944185976,
          44.863337223033064,
          44.868261460290135,
          44.87179271991619,
          44.87391706564277,
          44.874626113647814,
          44.87391706564277,
          44.87179271991619,
          44.868261460290135,
          44.863337223033064,
          44.85703944185976,
          44.849392971235346,
          44.84042798828602,
          44.83017987370378,
          44.81868907211496,
          44.80600093246378,
          44.7921655290408,
          44.77723746386252,
          44.76127565118222,
          44.74434308498228,
          44.72650659036575,
          44.707836559828166,
          44.68840667545052,
          44.6682936181098,
          44.64757676485453,
          44.62633787563988,
          44.60466077065846,
          44.58263099954031,
          44.56033550372758,
          44.537862273356396,
          44.5153,
          44.49273772664361,
          44.47026449627243,
          44.4479690004597,
          44.425939229341544,
          44.40426212436013,
          44.38302323514548,
          44.36230638189021,
          44.342193324549484,
          44.32276344017184,
          44.304093409634255,
          44.286256915017724,
          44.26932434881779,
          44.25336253613749,
          44.238434470959206,
          44.224599067536225,
          44.21191092788505,
          44.20042012629623,
          44.19017201171399,
          44.18120702876466,
          44.173560558140245,
          44.16726277696694,
          44.16233853970987,
          44.15880728008381,
          44.156682934357235,
          44.15597388635219,
          44.156682934357235,
          44.15880728008381,
          44.16233853970987,
          44.16726277696694,
          44.173560558140245,
          44.18120702876466,
          44.19017201171398,
          44.20042012629623,
          44.21191092788505,
          44.224599067536225,
          44.238434470959206,
          44.25336253613749,
          44.26932434881779,
          44.286256915017724,
          44.304093409634255,
          44.32276344017184,
          44.342193324549484,
          44.36230638189021,
          44.38302323514548,
          44.40426212436012,
          44.425939229341544,
          44.4479690004597,
          44.47026449627243,
          44.49273772664361
         ],
         "legendgroup": "",
         "lon": [
          -124.885881013087,
          -124.88687538209834,
          -124.88985456481213,
          -124.89480680375524,
          -124.90171255470308,
          -124.91054456381154,
          -124.92126797517567,
          -124.93384046838986,
          -124.9482124255672,
          -124.96432712715867,
          -124.98212097579918,
          -125.00152374729738,
          -125.02245886777844,
          -125.04484371588619,
          -125.0685899488518,
          -125.09360385114238,
          -125.11978670431334,
          -125.14703517660504,
          -125.175241730746,
          -125.20429504835333,
          -125.23408046925567,
          -125.26448044400438,
          -125.29537499778753,
          -125.32664220391574,
          -125.35815866501105,
          -125.3898,
          -125.42144133498894,
          -125.45295779608425,
          -125.48422500221245,
          -125.51511955599561,
          -125.54551953074431,
          -125.57530495164666,
          -125.60435826925399,
          -125.63256482339494,
          -125.65981329568665,
          -125.68599614885761,
          -125.7110100511482,
          -125.7347562841138,
          -125.75714113222155,
          -125.7780762527026,
          -125.79747902420081,
          -125.81527287284132,
          -125.83138757443278,
          -125.84575953161013,
          -125.85833202482432,
          -125.86905543618845,
          -125.8778874452969,
          -125.88479319624474,
          -125.88974543518786,
          -125.89272461790165,
          -125.89371898691299,
          -125.89272461790165,
          -125.88974543518786,
          -125.88479319624474,
          -125.8778874452969,
          -125.86905543618845,
          -125.85833202482432,
          -125.84575953161013,
          -125.83138757443278,
          -125.81527287284132,
          -125.79747902420081,
          -125.7780762527026,
          -125.75714113222155,
          -125.7347562841138,
          -125.7110100511482,
          -125.68599614885761,
          -125.65981329568665,
          -125.63256482339494,
          -125.60435826925399,
          -125.57530495164666,
          -125.54551953074431,
          -125.51511955599561,
          -125.48422500221245,
          -125.45295779608425,
          -125.42144133498894,
          -125.3898,
          -125.35815866501105,
          -125.32664220391574,
          -125.29537499778753,
          -125.26448044400438,
          -125.23408046925567,
          -125.20429504835333,
          -125.175241730746,
          -125.14703517660504,
          -125.11978670431334,
          -125.09360385114238,
          -125.0685899488518,
          -125.04484371588619,
          -125.02245886777844,
          -125.00152374729738,
          -124.98212097579918,
          -124.96432712715867,
          -124.9482124255672,
          -124.93384046838986,
          -124.92126797517567,
          -124.91054456381154,
          -124.90171255470308,
          -124.89480680375524,
          -124.88985456481213,
          -124.88687538209834
         ],
         "marker": {
          "color": "black",
          "opacity": 0.9,
          "size": 8
         },
         "mode": "markers",
         "name": "",
         "showlegend": false,
         "subplot": "mapbox",
         "type": "scattermapbox"
        }
       ],
       "layout": {
        "coloraxis": {
         "showscale": false
        },
        "legend": {
         "tracegroupgap": 0
        },
        "mapbox": {
         "bearing": 10,
         "center": {
          "lat": 44.5153,
          "lon": -125.3898
         },
         "domain": {
          "x": [
           0,
           1
          ],
          "y": [
           0,
           1
          ]
         },
         "style": "carto-positron",
         "zoom": 8
        },
        "margin": {
         "t": 60
        },
        "template": {
         "data": {
          "bar": [
           {
            "error_x": {
             "color": "#2a3f5f"
            },
            "error_y": {
             "color": "#2a3f5f"
            },
            "marker": {
             "line": {
              "color": "#E5ECF6",
              "width": 0.5
             },
             "pattern": {
              "fillmode": "overlay",
              "size": 10,
              "solidity": 0.2
             }
            },
            "type": "bar"
           }
          ],
          "barpolar": [
           {
            "marker": {
             "line": {
              "color": "#E5ECF6",
              "width": 0.5
             },
             "pattern": {
              "fillmode": "overlay",
              "size": 10,
              "solidity": 0.2
             }
            },
            "type": "barpolar"
           }
          ],
          "carpet": [
           {
            "aaxis": {
             "endlinecolor": "#2a3f5f",
             "gridcolor": "white",
             "linecolor": "white",
             "minorgridcolor": "white",
             "startlinecolor": "#2a3f5f"
            },
            "baxis": {
             "endlinecolor": "#2a3f5f",
             "gridcolor": "white",
             "linecolor": "white",
             "minorgridcolor": "white",
             "startlinecolor": "#2a3f5f"
            },
            "type": "carpet"
           }
          ],
          "choropleth": [
           {
            "colorbar": {
             "outlinewidth": 0,
             "ticks": ""
            },
            "type": "choropleth"
           }
          ],
          "contour": [
           {
            "colorbar": {
             "outlinewidth": 0,
             "ticks": ""
            },
            "colorscale": [
             [
              0,
              "#0d0887"
             ],
             [
              0.1111111111111111,
              "#46039f"
             ],
             [
              0.2222222222222222,
              "#7201a8"
             ],
             [
              0.3333333333333333,
              "#9c179e"
             ],
             [
              0.4444444444444444,
              "#bd3786"
             ],
             [
              0.5555555555555556,
              "#d8576b"
             ],
             [
              0.6666666666666666,
              "#ed7953"
             ],
             [
              0.7777777777777778,
              "#fb9f3a"
             ],
             [
              0.8888888888888888,
              "#fdca26"
             ],
             [
              1,
              "#f0f921"
             ]
            ],
            "type": "contour"
           }
          ],
          "contourcarpet": [
           {
            "colorbar": {
             "outlinewidth": 0,
             "ticks": ""
            },
            "type": "contourcarpet"
           }
          ],
          "heatmap": [
           {
            "colorbar": {
             "outlinewidth": 0,
             "ticks": ""
            },
            "colorscale": [
             [
              0,
              "#0d0887"
             ],
             [
              0.1111111111111111,
              "#46039f"
             ],
             [
              0.2222222222222222,
              "#7201a8"
             ],
             [
              0.3333333333333333,
              "#9c179e"
             ],
             [
              0.4444444444444444,
              "#bd3786"
             ],
             [
              0.5555555555555556,
              "#d8576b"
             ],
             [
              0.6666666666666666,
              "#ed7953"
             ],
             [
              0.7777777777777778,
              "#fb9f3a"
             ],
             [
              0.8888888888888888,
              "#fdca26"
             ],
             [
              1,
              "#f0f921"
             ]
            ],
            "type": "heatmap"
           }
          ],
          "heatmapgl": [
           {
            "colorbar": {
             "outlinewidth": 0,
             "ticks": ""
            },
            "colorscale": [
             [
              0,
              "#0d0887"
             ],
             [
              0.1111111111111111,
              "#46039f"
             ],
             [
              0.2222222222222222,
              "#7201a8"
             ],
             [
              0.3333333333333333,
              "#9c179e"
             ],
             [
              0.4444444444444444,
              "#bd3786"
             ],
             [
              0.5555555555555556,
              "#d8576b"
             ],
             [
              0.6666666666666666,
              "#ed7953"
             ],
             [
              0.7777777777777778,
              "#fb9f3a"
             ],
             [
              0.8888888888888888,
              "#fdca26"
             ],
             [
              1,
              "#f0f921"
             ]
            ],
            "type": "heatmapgl"
           }
          ],
          "histogram": [
           {
            "marker": {
             "pattern": {
              "fillmode": "overlay",
              "size": 10,
              "solidity": 0.2
             }
            },
            "type": "histogram"
           }
          ],
          "histogram2d": [
           {
            "colorbar": {
             "outlinewidth": 0,
             "ticks": ""
            },
            "colorscale": [
             [
              0,
              "#0d0887"
             ],
             [
              0.1111111111111111,
              "#46039f"
             ],
             [
              0.2222222222222222,
              "#7201a8"
             ],
             [
              0.3333333333333333,
              "#9c179e"
             ],
             [
              0.4444444444444444,
              "#bd3786"
             ],
             [
              0.5555555555555556,
              "#d8576b"
             ],
             [
              0.6666666666666666,
              "#ed7953"
             ],
             [
              0.7777777777777778,
              "#fb9f3a"
             ],
             [
              0.8888888888888888,
              "#fdca26"
             ],
             [
              1,
              "#f0f921"
             ]
            ],
            "type": "histogram2d"
           }
          ],
          "histogram2dcontour": [
           {
            "colorbar": {
             "outlinewidth": 0,
             "ticks": ""
            },
            "colorscale": [
             [
              0,
              "#0d0887"
             ],
             [
              0.1111111111111111,
              "#46039f"
             ],
             [
              0.2222222222222222,
              "#7201a8"
             ],
             [
              0.3333333333333333,
              "#9c179e"
             ],
             [
              0.4444444444444444,
              "#bd3786"
             ],
             [
              0.5555555555555556,
              "#d8576b"
             ],
             [
              0.6666666666666666,
              "#ed7953"
             ],
             [
              0.7777777777777778,
              "#fb9f3a"
             ],
             [
              0.8888888888888888,
              "#fdca26"
             ],
             [
              1,
              "#f0f921"
             ]
            ],
            "type": "histogram2dcontour"
           }
          ],
          "mesh3d": [
           {
            "colorbar": {
             "outlinewidth": 0,
             "ticks": ""
            },
            "type": "mesh3d"
           }
          ],
          "parcoords": [
           {
            "line": {
             "colorbar": {
              "outlinewidth": 0,
              "ticks": ""
             }
            },
            "type": "parcoords"
           }
          ],
          "pie": [
           {
            "automargin": true,
            "type": "pie"
           }
          ],
          "scatter": [
           {
            "fillpattern": {
             "fillmode": "overlay",
             "size": 10,
             "solidity": 0.2
            },
            "type": "scatter"
           }
          ],
          "scatter3d": [
           {
            "line": {
             "colorbar": {
              "outlinewidth": 0,
              "ticks": ""
             }
            },
            "marker": {
             "colorbar": {
              "outlinewidth": 0,
              "ticks": ""
             }
            },
            "type": "scatter3d"
           }
          ],
          "scattercarpet": [
           {
            "marker": {
             "colorbar": {
              "outlinewidth": 0,
              "ticks": ""
             }
            },
            "type": "scattercarpet"
           }
          ],
          "scattergeo": [
           {
            "marker": {
             "colorbar": {
              "outlinewidth": 0,
              "ticks": ""
             }
            },
            "type": "scattergeo"
           }
          ],
          "scattergl": [
           {
            "marker": {
             "colorbar": {
              "outlinewidth": 0,
              "ticks": ""
             }
            },
            "type": "scattergl"
           }
          ],
          "scattermapbox": [
           {
            "marker": {
             "colorbar": {
              "outlinewidth": 0,
              "ticks": ""
             }
            },
            "type": "scattermapbox"
           }
          ],
          "scatterpolar": [
           {
            "marker": {
             "colorbar": {
              "outlinewidth": 0,
              "ticks": ""
             }
            },
            "type": "scatterpolar"
           }
          ],
          "scatterpolargl": [
           {
            "marker": {
             "colorbar": {
              "outlinewidth": 0,
              "ticks": ""
             }
            },
            "type": "scatterpolargl"
           }
          ],
          "scatterternary": [
           {
            "marker": {
             "colorbar": {
              "outlinewidth": 0,
              "ticks": ""
             }
            },
            "type": "scatterternary"
           }
          ],
          "surface": [
           {
            "colorbar": {
             "outlinewidth": 0,
             "ticks": ""
            },
            "colorscale": [
             [
              0,
              "#0d0887"
             ],
             [
              0.1111111111111111,
              "#46039f"
             ],
             [
              0.2222222222222222,
              "#7201a8"
             ],
             [
              0.3333333333333333,
              "#9c179e"
             ],
             [
              0.4444444444444444,
              "#bd3786"
             ],
             [
              0.5555555555555556,
              "#d8576b"
             ],
             [
              0.6666666666666666,
              "#ed7953"
             ],
             [
              0.7777777777777778,
              "#fb9f3a"
             ],
             [
              0.8888888888888888,
              "#fdca26"
             ],
             [
              1,
              "#f0f921"
             ]
            ],
            "type": "surface"
           }
          ],
          "table": [
           {
            "cells": {
             "fill": {
              "color": "#EBF0F8"
             },
             "line": {
              "color": "white"
             }
            },
            "header": {
             "fill": {
              "color": "#C8D4E3"
             },
             "line": {
              "color": "white"
             }
            },
            "type": "table"
           }
          ]
         },
         "layout": {
          "annotationdefaults": {
           "arrowcolor": "#2a3f5f",
           "arrowhead": 0,
           "arrowwidth": 1
          },
          "autotypenumbers": "strict",
          "coloraxis": {
           "colorbar": {
            "outlinewidth": 0,
            "ticks": ""
           }
          },
          "colorscale": {
           "diverging": [
            [
             0,
             "#8e0152"
            ],
            [
             0.1,
             "#c51b7d"
            ],
            [
             0.2,
             "#de77ae"
            ],
            [
             0.3,
             "#f1b6da"
            ],
            [
             0.4,
             "#fde0ef"
            ],
            [
             0.5,
             "#f7f7f7"
            ],
            [
             0.6,
             "#e6f5d0"
            ],
            [
             0.7,
             "#b8e186"
            ],
            [
             0.8,
             "#7fbc41"
            ],
            [
             0.9,
             "#4d9221"
            ],
            [
             1,
             "#276419"
            ]
           ],
           "sequential": [
            [
             0,
             "#0d0887"
            ],
            [
             0.1111111111111111,
             "#46039f"
            ],
            [
             0.2222222222222222,
             "#7201a8"
            ],
            [
             0.3333333333333333,
             "#9c179e"
            ],
            [
             0.4444444444444444,
             "#bd3786"
            ],
            [
             0.5555555555555556,
             "#d8576b"
            ],
            [
             0.6666666666666666,
             "#ed7953"
            ],
            [
             0.7777777777777778,
             "#fb9f3a"
            ],
            [
             0.8888888888888888,
             "#fdca26"
            ],
            [
             1,
             "#f0f921"
            ]
           ],
           "sequentialminus": [
            [
             0,
             "#0d0887"
            ],
            [
             0.1111111111111111,
             "#46039f"
            ],
            [
             0.2222222222222222,
             "#7201a8"
            ],
            [
             0.3333333333333333,
             "#9c179e"
            ],
            [
             0.4444444444444444,
             "#bd3786"
            ],
            [
             0.5555555555555556,
             "#d8576b"
            ],
            [
             0.6666666666666666,
             "#ed7953"
            ],
            [
             0.7777777777777778,
             "#fb9f3a"
            ],
            [
             0.8888888888888888,
             "#fdca26"
            ],
            [
             1,
             "#f0f921"
            ]
           ]
          },
          "colorway": [
           "#636efa",
           "#EF553B",
           "#00cc96",
           "#ab63fa",
           "#FFA15A",
           "#19d3f3",
           "#FF6692",
           "#B6E880",
           "#FF97FF",
           "#FECB52"
          ],
          "font": {
           "color": "#2a3f5f"
          },
          "geo": {
           "bgcolor": "white",
           "lakecolor": "white",
           "landcolor": "#E5ECF6",
           "showlakes": true,
           "showland": true,
           "subunitcolor": "white"
          },
          "hoverlabel": {
           "align": "left"
          },
          "hovermode": "closest",
          "mapbox": {
           "style": "light"
          },
          "paper_bgcolor": "white",
          "plot_bgcolor": "#E5ECF6",
          "polar": {
           "angularaxis": {
            "gridcolor": "white",
            "linecolor": "white",
            "ticks": ""
           },
           "bgcolor": "#E5ECF6",
           "radialaxis": {
            "gridcolor": "white",
            "linecolor": "white",
            "ticks": ""
           }
          },
          "scene": {
           "xaxis": {
            "backgroundcolor": "#E5ECF6",
            "gridcolor": "white",
            "gridwidth": 2,
            "linecolor": "white",
            "showbackground": true,
            "ticks": "",
            "zerolinecolor": "white"
           },
           "yaxis": {
            "backgroundcolor": "#E5ECF6",
            "gridcolor": "white",
            "gridwidth": 2,
            "linecolor": "white",
            "showbackground": true,
            "ticks": "",
            "zerolinecolor": "white"
           },
           "zaxis": {
            "backgroundcolor": "#E5ECF6",
            "gridcolor": "white",
            "gridwidth": 2,
            "linecolor": "white",
            "showbackground": true,
            "ticks": "",
            "zerolinecolor": "white"
           }
          },
          "shapedefaults": {
           "line": {
            "color": "#2a3f5f"
           }
          },
          "ternary": {
           "aaxis": {
            "gridcolor": "white",
            "linecolor": "white",
            "ticks": ""
           },
           "baxis": {
            "gridcolor": "white",
            "linecolor": "white",
            "ticks": ""
           },
           "bgcolor": "#E5ECF6",
           "caxis": {
            "gridcolor": "white",
            "linecolor": "white",
            "ticks": ""
           }
          },
          "title": {
           "x": 0.05
          },
          "xaxis": {
           "automargin": true,
           "gridcolor": "white",
           "linecolor": "white",
           "ticks": "",
           "title": {
            "standoff": 15
           },
           "zerolinecolor": "white",
           "zerolinewidth": 2
          },
          "yaxis": {
           "automargin": true,
           "gridcolor": "white",
           "linecolor": "white",
           "ticks": "",
           "title": {
            "standoff": 15
           },
           "zerolinecolor": "white",
           "zerolinewidth": 2
          }
         }
        }
       }
      },
      "text/html": [
       "<div>                            <div id=\"708f9887-b300-4f04-86ae-5113d75871eb\" class=\"plotly-graph-div\" style=\"height:525px; width:100%;\"></div>            <script type=\"text/javascript\">                require([\"plotly\"], function(Plotly) {                    window.PLOTLYENV=window.PLOTLYENV || {};                                    if (document.getElementById(\"708f9887-b300-4f04-86ae-5113d75871eb\")) {                    Plotly.newPlot(                        \"708f9887-b300-4f04-86ae-5113d75871eb\",                        [{\"hovertemplate\":\"lat=%{lat}<br>lon=%{lon}<extra></extra>\",\"lat\":[44.5153],\"legendgroup\":\"\",\"lon\":[-125.3898],\"marker\":{\"color\":\"#636efa\"},\"mode\":\"markers\",\"name\":\"\",\"showlegend\":false,\"subplot\":\"mapbox\",\"type\":\"scattermapbox\"},{\"hovertemplate\":\"lat=%{lat}<br>lon=%{lon}<extra></extra>\",\"lat\":[44.5153,44.537862273356396,44.56033550372758,44.58263099954031,44.60466077065846,44.62633787563988,44.64757676485453,44.6682936181098,44.68840667545052,44.707836559828166,44.72650659036575,44.74434308498228,44.76127565118222,44.77723746386252,44.7921655290408,44.80600093246378,44.81868907211496,44.83017987370378,44.84042798828602,44.849392971235346,44.85703944185976,44.863337223033064,44.868261460290135,44.87179271991619,44.87391706564277,44.874626113647814,44.87391706564277,44.87179271991619,44.868261460290135,44.863337223033064,44.85703944185976,44.849392971235346,44.84042798828602,44.83017987370378,44.81868907211496,44.80600093246378,44.7921655290408,44.77723746386252,44.76127565118222,44.74434308498228,44.72650659036575,44.707836559828166,44.68840667545052,44.6682936181098,44.64757676485453,44.62633787563988,44.60466077065846,44.58263099954031,44.56033550372758,44.537862273356396,44.5153,44.49273772664361,44.47026449627243,44.4479690004597,44.425939229341544,44.40426212436013,44.38302323514548,44.36230638189021,44.342193324549484,44.32276344017184,44.304093409634255,44.286256915017724,44.26932434881779,44.25336253613749,44.238434470959206,44.224599067536225,44.21191092788505,44.20042012629623,44.19017201171399,44.18120702876466,44.173560558140245,44.16726277696694,44.16233853970987,44.15880728008381,44.156682934357235,44.15597388635219,44.156682934357235,44.15880728008381,44.16233853970987,44.16726277696694,44.173560558140245,44.18120702876466,44.19017201171398,44.20042012629623,44.21191092788505,44.224599067536225,44.238434470959206,44.25336253613749,44.26932434881779,44.286256915017724,44.304093409634255,44.32276344017184,44.342193324549484,44.36230638189021,44.38302323514548,44.40426212436012,44.425939229341544,44.4479690004597,44.47026449627243,44.49273772664361],\"legendgroup\":\"\",\"lon\":[-124.885881013087,-124.88687538209834,-124.88985456481213,-124.89480680375524,-124.90171255470308,-124.91054456381154,-124.92126797517567,-124.93384046838986,-124.9482124255672,-124.96432712715867,-124.98212097579918,-125.00152374729738,-125.02245886777844,-125.04484371588619,-125.0685899488518,-125.09360385114238,-125.11978670431334,-125.14703517660504,-125.175241730746,-125.20429504835333,-125.23408046925567,-125.26448044400438,-125.29537499778753,-125.32664220391574,-125.35815866501105,-125.3898,-125.42144133498894,-125.45295779608425,-125.48422500221245,-125.51511955599561,-125.54551953074431,-125.57530495164666,-125.60435826925399,-125.63256482339494,-125.65981329568665,-125.68599614885761,-125.7110100511482,-125.7347562841138,-125.75714113222155,-125.7780762527026,-125.79747902420081,-125.81527287284132,-125.83138757443278,-125.84575953161013,-125.85833202482432,-125.86905543618845,-125.8778874452969,-125.88479319624474,-125.88974543518786,-125.89272461790165,-125.89371898691299,-125.89272461790165,-125.88974543518786,-125.88479319624474,-125.8778874452969,-125.86905543618845,-125.85833202482432,-125.84575953161013,-125.83138757443278,-125.81527287284132,-125.79747902420081,-125.7780762527026,-125.75714113222155,-125.7347562841138,-125.7110100511482,-125.68599614885761,-125.65981329568665,-125.63256482339494,-125.60435826925399,-125.57530495164666,-125.54551953074431,-125.51511955599561,-125.48422500221245,-125.45295779608425,-125.42144133498894,-125.3898,-125.35815866501105,-125.32664220391574,-125.29537499778753,-125.26448044400438,-125.23408046925567,-125.20429504835333,-125.175241730746,-125.14703517660504,-125.11978670431334,-125.09360385114238,-125.0685899488518,-125.04484371588619,-125.02245886777844,-125.00152374729738,-124.98212097579918,-124.96432712715867,-124.9482124255672,-124.93384046838986,-124.92126797517567,-124.91054456381154,-124.90171255470308,-124.89480680375524,-124.88985456481213,-124.88687538209834],\"marker\":{\"color\":\"black\",\"opacity\":0.9,\"size\":8},\"mode\":\"markers\",\"name\":\"\",\"showlegend\":false,\"subplot\":\"mapbox\",\"type\":\"scattermapbox\"}],                        {\"template\":{\"data\":{\"histogram2dcontour\":[{\"type\":\"histogram2dcontour\",\"colorbar\":{\"outlinewidth\":0,\"ticks\":\"\"},\"colorscale\":[[0.0,\"#0d0887\"],[0.1111111111111111,\"#46039f\"],[0.2222222222222222,\"#7201a8\"],[0.3333333333333333,\"#9c179e\"],[0.4444444444444444,\"#bd3786\"],[0.5555555555555556,\"#d8576b\"],[0.6666666666666666,\"#ed7953\"],[0.7777777777777778,\"#fb9f3a\"],[0.8888888888888888,\"#fdca26\"],[1.0,\"#f0f921\"]]}],\"choropleth\":[{\"type\":\"choropleth\",\"colorbar\":{\"outlinewidth\":0,\"ticks\":\"\"}}],\"histogram2d\":[{\"type\":\"histogram2d\",\"colorbar\":{\"outlinewidth\":0,\"ticks\":\"\"},\"colorscale\":[[0.0,\"#0d0887\"],[0.1111111111111111,\"#46039f\"],[0.2222222222222222,\"#7201a8\"],[0.3333333333333333,\"#9c179e\"],[0.4444444444444444,\"#bd3786\"],[0.5555555555555556,\"#d8576b\"],[0.6666666666666666,\"#ed7953\"],[0.7777777777777778,\"#fb9f3a\"],[0.8888888888888888,\"#fdca26\"],[1.0,\"#f0f921\"]]}],\"heatmap\":[{\"type\":\"heatmap\",\"colorbar\":{\"outlinewidth\":0,\"ticks\":\"\"},\"colorscale\":[[0.0,\"#0d0887\"],[0.1111111111111111,\"#46039f\"],[0.2222222222222222,\"#7201a8\"],[0.3333333333333333,\"#9c179e\"],[0.4444444444444444,\"#bd3786\"],[0.5555555555555556,\"#d8576b\"],[0.6666666666666666,\"#ed7953\"],[0.7777777777777778,\"#fb9f3a\"],[0.8888888888888888,\"#fdca26\"],[1.0,\"#f0f921\"]]}],\"heatmapgl\":[{\"type\":\"heatmapgl\",\"colorbar\":{\"outlinewidth\":0,\"ticks\":\"\"},\"colorscale\":[[0.0,\"#0d0887\"],[0.1111111111111111,\"#46039f\"],[0.2222222222222222,\"#7201a8\"],[0.3333333333333333,\"#9c179e\"],[0.4444444444444444,\"#bd3786\"],[0.5555555555555556,\"#d8576b\"],[0.6666666666666666,\"#ed7953\"],[0.7777777777777778,\"#fb9f3a\"],[0.8888888888888888,\"#fdca26\"],[1.0,\"#f0f921\"]]}],\"contourcarpet\":[{\"type\":\"contourcarpet\",\"colorbar\":{\"outlinewidth\":0,\"ticks\":\"\"}}],\"contour\":[{\"type\":\"contour\",\"colorbar\":{\"outlinewidth\":0,\"ticks\":\"\"},\"colorscale\":[[0.0,\"#0d0887\"],[0.1111111111111111,\"#46039f\"],[0.2222222222222222,\"#7201a8\"],[0.3333333333333333,\"#9c179e\"],[0.4444444444444444,\"#bd3786\"],[0.5555555555555556,\"#d8576b\"],[0.6666666666666666,\"#ed7953\"],[0.7777777777777778,\"#fb9f3a\"],[0.8888888888888888,\"#fdca26\"],[1.0,\"#f0f921\"]]}],\"surface\":[{\"type\":\"surface\",\"colorbar\":{\"outlinewidth\":0,\"ticks\":\"\"},\"colorscale\":[[0.0,\"#0d0887\"],[0.1111111111111111,\"#46039f\"],[0.2222222222222222,\"#7201a8\"],[0.3333333333333333,\"#9c179e\"],[0.4444444444444444,\"#bd3786\"],[0.5555555555555556,\"#d8576b\"],[0.6666666666666666,\"#ed7953\"],[0.7777777777777778,\"#fb9f3a\"],[0.8888888888888888,\"#fdca26\"],[1.0,\"#f0f921\"]]}],\"mesh3d\":[{\"type\":\"mesh3d\",\"colorbar\":{\"outlinewidth\":0,\"ticks\":\"\"}}],\"scatter\":[{\"fillpattern\":{\"fillmode\":\"overlay\",\"size\":10,\"solidity\":0.2},\"type\":\"scatter\"}],\"parcoords\":[{\"type\":\"parcoords\",\"line\":{\"colorbar\":{\"outlinewidth\":0,\"ticks\":\"\"}}}],\"scatterpolargl\":[{\"type\":\"scatterpolargl\",\"marker\":{\"colorbar\":{\"outlinewidth\":0,\"ticks\":\"\"}}}],\"bar\":[{\"error_x\":{\"color\":\"#2a3f5f\"},\"error_y\":{\"color\":\"#2a3f5f\"},\"marker\":{\"line\":{\"color\":\"#E5ECF6\",\"width\":0.5},\"pattern\":{\"fillmode\":\"overlay\",\"size\":10,\"solidity\":0.2}},\"type\":\"bar\"}],\"scattergeo\":[{\"type\":\"scattergeo\",\"marker\":{\"colorbar\":{\"outlinewidth\":0,\"ticks\":\"\"}}}],\"scatterpolar\":[{\"type\":\"scatterpolar\",\"marker\":{\"colorbar\":{\"outlinewidth\":0,\"ticks\":\"\"}}}],\"histogram\":[{\"marker\":{\"pattern\":{\"fillmode\":\"overlay\",\"size\":10,\"solidity\":0.2}},\"type\":\"histogram\"}],\"scattergl\":[{\"type\":\"scattergl\",\"marker\":{\"colorbar\":{\"outlinewidth\":0,\"ticks\":\"\"}}}],\"scatter3d\":[{\"type\":\"scatter3d\",\"line\":{\"colorbar\":{\"outlinewidth\":0,\"ticks\":\"\"}},\"marker\":{\"colorbar\":{\"outlinewidth\":0,\"ticks\":\"\"}}}],\"scattermapbox\":[{\"type\":\"scattermapbox\",\"marker\":{\"colorbar\":{\"outlinewidth\":0,\"ticks\":\"\"}}}],\"scatterternary\":[{\"type\":\"scatterternary\",\"marker\":{\"colorbar\":{\"outlinewidth\":0,\"ticks\":\"\"}}}],\"scattercarpet\":[{\"type\":\"scattercarpet\",\"marker\":{\"colorbar\":{\"outlinewidth\":0,\"ticks\":\"\"}}}],\"carpet\":[{\"aaxis\":{\"endlinecolor\":\"#2a3f5f\",\"gridcolor\":\"white\",\"linecolor\":\"white\",\"minorgridcolor\":\"white\",\"startlinecolor\":\"#2a3f5f\"},\"baxis\":{\"endlinecolor\":\"#2a3f5f\",\"gridcolor\":\"white\",\"linecolor\":\"white\",\"minorgridcolor\":\"white\",\"startlinecolor\":\"#2a3f5f\"},\"type\":\"carpet\"}],\"table\":[{\"cells\":{\"fill\":{\"color\":\"#EBF0F8\"},\"line\":{\"color\":\"white\"}},\"header\":{\"fill\":{\"color\":\"#C8D4E3\"},\"line\":{\"color\":\"white\"}},\"type\":\"table\"}],\"barpolar\":[{\"marker\":{\"line\":{\"color\":\"#E5ECF6\",\"width\":0.5},\"pattern\":{\"fillmode\":\"overlay\",\"size\":10,\"solidity\":0.2}},\"type\":\"barpolar\"}],\"pie\":[{\"automargin\":true,\"type\":\"pie\"}]},\"layout\":{\"autotypenumbers\":\"strict\",\"colorway\":[\"#636efa\",\"#EF553B\",\"#00cc96\",\"#ab63fa\",\"#FFA15A\",\"#19d3f3\",\"#FF6692\",\"#B6E880\",\"#FF97FF\",\"#FECB52\"],\"font\":{\"color\":\"#2a3f5f\"},\"hovermode\":\"closest\",\"hoverlabel\":{\"align\":\"left\"},\"paper_bgcolor\":\"white\",\"plot_bgcolor\":\"#E5ECF6\",\"polar\":{\"bgcolor\":\"#E5ECF6\",\"angularaxis\":{\"gridcolor\":\"white\",\"linecolor\":\"white\",\"ticks\":\"\"},\"radialaxis\":{\"gridcolor\":\"white\",\"linecolor\":\"white\",\"ticks\":\"\"}},\"ternary\":{\"bgcolor\":\"#E5ECF6\",\"aaxis\":{\"gridcolor\":\"white\",\"linecolor\":\"white\",\"ticks\":\"\"},\"baxis\":{\"gridcolor\":\"white\",\"linecolor\":\"white\",\"ticks\":\"\"},\"caxis\":{\"gridcolor\":\"white\",\"linecolor\":\"white\",\"ticks\":\"\"}},\"coloraxis\":{\"colorbar\":{\"outlinewidth\":0,\"ticks\":\"\"}},\"colorscale\":{\"sequential\":[[0.0,\"#0d0887\"],[0.1111111111111111,\"#46039f\"],[0.2222222222222222,\"#7201a8\"],[0.3333333333333333,\"#9c179e\"],[0.4444444444444444,\"#bd3786\"],[0.5555555555555556,\"#d8576b\"],[0.6666666666666666,\"#ed7953\"],[0.7777777777777778,\"#fb9f3a\"],[0.8888888888888888,\"#fdca26\"],[1.0,\"#f0f921\"]],\"sequentialminus\":[[0.0,\"#0d0887\"],[0.1111111111111111,\"#46039f\"],[0.2222222222222222,\"#7201a8\"],[0.3333333333333333,\"#9c179e\"],[0.4444444444444444,\"#bd3786\"],[0.5555555555555556,\"#d8576b\"],[0.6666666666666666,\"#ed7953\"],[0.7777777777777778,\"#fb9f3a\"],[0.8888888888888888,\"#fdca26\"],[1.0,\"#f0f921\"]],\"diverging\":[[0,\"#8e0152\"],[0.1,\"#c51b7d\"],[0.2,\"#de77ae\"],[0.3,\"#f1b6da\"],[0.4,\"#fde0ef\"],[0.5,\"#f7f7f7\"],[0.6,\"#e6f5d0\"],[0.7,\"#b8e186\"],[0.8,\"#7fbc41\"],[0.9,\"#4d9221\"],[1,\"#276419\"]]},\"xaxis\":{\"gridcolor\":\"white\",\"linecolor\":\"white\",\"ticks\":\"\",\"title\":{\"standoff\":15},\"zerolinecolor\":\"white\",\"automargin\":true,\"zerolinewidth\":2},\"yaxis\":{\"gridcolor\":\"white\",\"linecolor\":\"white\",\"ticks\":\"\",\"title\":{\"standoff\":15},\"zerolinecolor\":\"white\",\"automargin\":true,\"zerolinewidth\":2},\"scene\":{\"xaxis\":{\"backgroundcolor\":\"#E5ECF6\",\"gridcolor\":\"white\",\"linecolor\":\"white\",\"showbackground\":true,\"ticks\":\"\",\"zerolinecolor\":\"white\",\"gridwidth\":2},\"yaxis\":{\"backgroundcolor\":\"#E5ECF6\",\"gridcolor\":\"white\",\"linecolor\":\"white\",\"showbackground\":true,\"ticks\":\"\",\"zerolinecolor\":\"white\",\"gridwidth\":2},\"zaxis\":{\"backgroundcolor\":\"#E5ECF6\",\"gridcolor\":\"white\",\"linecolor\":\"white\",\"showbackground\":true,\"ticks\":\"\",\"zerolinecolor\":\"white\",\"gridwidth\":2}},\"shapedefaults\":{\"line\":{\"color\":\"#2a3f5f\"}},\"annotationdefaults\":{\"arrowcolor\":\"#2a3f5f\",\"arrowhead\":0,\"arrowwidth\":1},\"geo\":{\"bgcolor\":\"white\",\"landcolor\":\"#E5ECF6\",\"subunitcolor\":\"white\",\"showland\":true,\"showlakes\":true,\"lakecolor\":\"white\"},\"title\":{\"x\":0.05},\"mapbox\":{\"style\":\"light\"}}},\"mapbox\":{\"domain\":{\"x\":[0.0,1.0],\"y\":[0.0,1.0]},\"center\":{\"lat\":44.5153,\"lon\":-125.3898},\"zoom\":8,\"style\":\"carto-positron\",\"bearing\":10},\"legend\":{\"tracegroupgap\":0},\"margin\":{\"t\":60},\"coloraxis\":{\"showscale\":false}},                        {\"responsive\": true}                    ).then(function(){\n",
       "                            \n",
       "var gd = document.getElementById('708f9887-b300-4f04-86ae-5113d75871eb');\n",
       "var x = new MutationObserver(function (mutations, observer) {{\n",
       "        var display = window.getComputedStyle(gd).display;\n",
       "        if (!display || display === 'none') {{\n",
       "            console.log([gd, 'removed!']);\n",
       "            Plotly.purge(gd);\n",
       "            observer.disconnect();\n",
       "        }}\n",
       "}});\n",
       "\n",
       "// Listen for the removal of the full notebook cells\n",
       "var notebookContainer = gd.closest('#notebook-container');\n",
       "if (notebookContainer) {{\n",
       "    x.observe(notebookContainer, {childList: true});\n",
       "}}\n",
       "\n",
       "// Listen for the clearing of the current output cell\n",
       "var outputEl = gd.closest('.output');\n",
       "if (outputEl) {{\n",
       "    x.observe(outputEl, {childList: true});\n",
       "}}\n",
       "\n",
       "                        })                };                });            </script>        </div>"
      ]
     },
     "metadata": {},
     "output_type": "display_data"
    }
   ],
   "source": [
    "fig=px.scatter_mapbox(lat=[oregon_slope_Lat],lon=[oregon_slope_Lon],mapbox_style='carto-positron')\n",
    "fig1 = px.scatter_mapbox(lat=lat_oregon,lon=lon_oregon,mapbox_style='carto-positron')\n",
    "fig1.update_traces(marker = {'size': 8, 'color':'black','opacity':0.9})\n",
    "fig.add_trace(fig1.data[0])\n",
    "fig.update_layout(coloraxis_showscale=False,mapbox=dict(\n",
    "       \n",
    "                bearing=10,\n",
    "                center=dict(\n",
    "                    lat=oregon_slope_Lat,\n",
    "                    lon=oregon_slope_Lon,\n",
    "                )))\n",
    "fig.show()"
   ]
  },
  {
   "cell_type": "code",
   "execution_count": 88,
   "id": "847fef8b-728d-4dbc-9ea5-4edf6aadd874",
   "metadata": {},
   "outputs": [
    {
     "data": {
      "application/vnd.plotly.v1+json": {
       "config": {
        "plotlyServerURL": "https://plot.ly"
       },
       "data": [
        {
         "hovertemplate": "lat=%{lat}<br>lon=%{lon}<extra></extra>",
         "lat": [
          44.5691
         ],
         "legendgroup": "",
         "lon": [
          -125.1481
         ],
         "marker": {
          "color": "#636efa"
         },
         "mode": "markers",
         "name": "",
         "showlegend": false,
         "subplot": "mapbox",
         "type": "scattermapbox"
        },
        {
         "hovertemplate": "lat=%{lat}<br>lon=%{lon}<extra></extra>",
         "lat": [
          44.5691,
          44.59166227335639,
          44.614135503727574,
          44.6364309995403,
          44.65846077065846,
          44.68013787563987,
          44.70137676485452,
          44.722093618109795,
          44.74220667545052,
          44.76163655982816,
          44.78030659036575,
          44.79814308498228,
          44.81507565118221,
          44.831037463862515,
          44.8459655290408,
          44.85980093246378,
          44.87248907211495,
          44.88397987370377,
          44.89422798828601,
          44.90319297123534,
          44.91083944185976,
          44.91713722303306,
          44.92206146029013,
          44.92559271991619,
          44.92771706564277,
          44.92842611364781,
          44.92771706564277,
          44.92559271991619,
          44.92206146029013,
          44.91713722303306,
          44.91083944185976,
          44.90319297123534,
          44.89422798828601,
          44.88397987370377,
          44.87248907211495,
          44.85980093246378,
          44.8459655290408,
          44.831037463862515,
          44.81507565118221,
          44.79814308498228,
          44.78030659036575,
          44.76163655982816,
          44.74220667545052,
          44.722093618109795,
          44.70137676485452,
          44.68013787563987,
          44.65846077065846,
          44.6364309995403,
          44.614135503727574,
          44.59166227335639,
          44.5691,
          44.54653772664361,
          44.52406449627242,
          44.501769000459696,
          44.47973922934154,
          44.458062124360126,
          44.436823235145475,
          44.4161063818902,
          44.39599332454948,
          44.376563440171836,
          44.35789340963425,
          44.34005691501772,
          44.323124348817785,
          44.30716253613748,
          44.2922344709592,
          44.27839906753622,
          44.265710927885046,
          44.254220126296225,
          44.243972011713986,
          44.235007028764656,
          44.22736055814024,
          44.22106277696694,
          44.21613853970987,
          44.21260728008381,
          44.21048293435723,
          44.20977388635219,
          44.21048293435723,
          44.21260728008381,
          44.21613853970987,
          44.22106277696694,
          44.22736055814024,
          44.235007028764656,
          44.24397201171398,
          44.254220126296225,
          44.265710927885046,
          44.27839906753622,
          44.2922344709592,
          44.30716253613748,
          44.323124348817785,
          44.34005691501772,
          44.35789340963425,
          44.376563440171836,
          44.39599332454948,
          44.4161063818902,
          44.436823235145475,
          44.45806212436012,
          44.47973922934154,
          44.501769000459696,
          44.52406449627242,
          44.54653772664361
         ],
         "legendgroup": "",
         "lon": [
          -124.64371512598576,
          -124.64471041431887,
          -124.64769235136983,
          -124.65264916879542,
          -124.65956130430183,
          -124.66840147884805,
          -124.67913480430386,
          -124.69171892113725,
          -124.70610416558824,
          -124.72223376566897,
          -124.74004406521682,
          -124.75946477511624,
          -124.78041925069772,
          -124.80282479421935,
          -124.82659298123696,
          -124.85163000957503,
          -124.87783706952106,
          -124.90511073378231,
          -124.93334336566608,
          -124.96242354387259,
          -124.99223650222393,
          -125.02266458259373,
          -125.05358769925006,
          -125.08488381277887,
          -125.11642941171792,
          -125.1481,
          -125.17977058828208,
          -125.21131618722113,
          -125.24261230074994,
          -125.27353541740626,
          -125.30396349777607,
          -125.33377645612741,
          -125.36285663433392,
          -125.39108926621769,
          -125.41836293047893,
          -125.44456999042497,
          -125.46960701876304,
          -125.49337520578065,
          -125.51578074930228,
          -125.53673522488376,
          -125.55615593478318,
          -125.57396623433102,
          -125.59009583441176,
          -125.60448107886273,
          -125.61706519569614,
          -125.62779852115195,
          -125.63663869569817,
          -125.64355083120458,
          -125.64850764863017,
          -125.65148958568113,
          -125.65248487401423,
          -125.65148958568113,
          -125.64850764863017,
          -125.64355083120458,
          -125.63663869569817,
          -125.62779852115195,
          -125.61706519569614,
          -125.60448107886275,
          -125.59009583441176,
          -125.57396623433102,
          -125.55615593478318,
          -125.53673522488376,
          -125.51578074930228,
          -125.49337520578065,
          -125.46960701876304,
          -125.44456999042497,
          -125.41836293047893,
          -125.39108926621769,
          -125.36285663433392,
          -125.33377645612741,
          -125.30396349777607,
          -125.27353541740625,
          -125.24261230074994,
          -125.21131618722113,
          -125.17977058828208,
          -125.1481,
          -125.11642941171792,
          -125.08488381277887,
          -125.05358769925006,
          -125.02266458259373,
          -124.99223650222393,
          -124.96242354387259,
          -124.93334336566608,
          -124.90511073378231,
          -124.87783706952106,
          -124.85163000957503,
          -124.82659298123696,
          -124.80282479421935,
          -124.78041925069772,
          -124.75946477511624,
          -124.74004406521682,
          -124.72223376566897,
          -124.70610416558824,
          -124.69171892113727,
          -124.67913480430386,
          -124.66840147884805,
          -124.65956130430183,
          -124.65264916879542,
          -124.64769235136983,
          -124.64471041431887
         ],
         "marker": {
          "color": "black",
          "opacity": 0.9,
          "size": 8
         },
         "mode": "markers",
         "name": "",
         "showlegend": false,
         "subplot": "mapbox",
         "type": "scattermapbox"
        }
       ],
       "layout": {
        "coloraxis": {
         "showscale": false
        },
        "legend": {
         "tracegroupgap": 0
        },
        "mapbox": {
         "bearing": 10,
         "center": {
          "lat": 44.5153,
          "lon": -125.3898
         },
         "domain": {
          "x": [
           0,
           1
          ],
          "y": [
           0,
           1
          ]
         },
         "style": "carto-positron",
         "zoom": 8
        },
        "margin": {
         "t": 60
        },
        "template": {
         "data": {
          "bar": [
           {
            "error_x": {
             "color": "#2a3f5f"
            },
            "error_y": {
             "color": "#2a3f5f"
            },
            "marker": {
             "line": {
              "color": "#E5ECF6",
              "width": 0.5
             },
             "pattern": {
              "fillmode": "overlay",
              "size": 10,
              "solidity": 0.2
             }
            },
            "type": "bar"
           }
          ],
          "barpolar": [
           {
            "marker": {
             "line": {
              "color": "#E5ECF6",
              "width": 0.5
             },
             "pattern": {
              "fillmode": "overlay",
              "size": 10,
              "solidity": 0.2
             }
            },
            "type": "barpolar"
           }
          ],
          "carpet": [
           {
            "aaxis": {
             "endlinecolor": "#2a3f5f",
             "gridcolor": "white",
             "linecolor": "white",
             "minorgridcolor": "white",
             "startlinecolor": "#2a3f5f"
            },
            "baxis": {
             "endlinecolor": "#2a3f5f",
             "gridcolor": "white",
             "linecolor": "white",
             "minorgridcolor": "white",
             "startlinecolor": "#2a3f5f"
            },
            "type": "carpet"
           }
          ],
          "choropleth": [
           {
            "colorbar": {
             "outlinewidth": 0,
             "ticks": ""
            },
            "type": "choropleth"
           }
          ],
          "contour": [
           {
            "colorbar": {
             "outlinewidth": 0,
             "ticks": ""
            },
            "colorscale": [
             [
              0,
              "#0d0887"
             ],
             [
              0.1111111111111111,
              "#46039f"
             ],
             [
              0.2222222222222222,
              "#7201a8"
             ],
             [
              0.3333333333333333,
              "#9c179e"
             ],
             [
              0.4444444444444444,
              "#bd3786"
             ],
             [
              0.5555555555555556,
              "#d8576b"
             ],
             [
              0.6666666666666666,
              "#ed7953"
             ],
             [
              0.7777777777777778,
              "#fb9f3a"
             ],
             [
              0.8888888888888888,
              "#fdca26"
             ],
             [
              1,
              "#f0f921"
             ]
            ],
            "type": "contour"
           }
          ],
          "contourcarpet": [
           {
            "colorbar": {
             "outlinewidth": 0,
             "ticks": ""
            },
            "type": "contourcarpet"
           }
          ],
          "heatmap": [
           {
            "colorbar": {
             "outlinewidth": 0,
             "ticks": ""
            },
            "colorscale": [
             [
              0,
              "#0d0887"
             ],
             [
              0.1111111111111111,
              "#46039f"
             ],
             [
              0.2222222222222222,
              "#7201a8"
             ],
             [
              0.3333333333333333,
              "#9c179e"
             ],
             [
              0.4444444444444444,
              "#bd3786"
             ],
             [
              0.5555555555555556,
              "#d8576b"
             ],
             [
              0.6666666666666666,
              "#ed7953"
             ],
             [
              0.7777777777777778,
              "#fb9f3a"
             ],
             [
              0.8888888888888888,
              "#fdca26"
             ],
             [
              1,
              "#f0f921"
             ]
            ],
            "type": "heatmap"
           }
          ],
          "heatmapgl": [
           {
            "colorbar": {
             "outlinewidth": 0,
             "ticks": ""
            },
            "colorscale": [
             [
              0,
              "#0d0887"
             ],
             [
              0.1111111111111111,
              "#46039f"
             ],
             [
              0.2222222222222222,
              "#7201a8"
             ],
             [
              0.3333333333333333,
              "#9c179e"
             ],
             [
              0.4444444444444444,
              "#bd3786"
             ],
             [
              0.5555555555555556,
              "#d8576b"
             ],
             [
              0.6666666666666666,
              "#ed7953"
             ],
             [
              0.7777777777777778,
              "#fb9f3a"
             ],
             [
              0.8888888888888888,
              "#fdca26"
             ],
             [
              1,
              "#f0f921"
             ]
            ],
            "type": "heatmapgl"
           }
          ],
          "histogram": [
           {
            "marker": {
             "pattern": {
              "fillmode": "overlay",
              "size": 10,
              "solidity": 0.2
             }
            },
            "type": "histogram"
           }
          ],
          "histogram2d": [
           {
            "colorbar": {
             "outlinewidth": 0,
             "ticks": ""
            },
            "colorscale": [
             [
              0,
              "#0d0887"
             ],
             [
              0.1111111111111111,
              "#46039f"
             ],
             [
              0.2222222222222222,
              "#7201a8"
             ],
             [
              0.3333333333333333,
              "#9c179e"
             ],
             [
              0.4444444444444444,
              "#bd3786"
             ],
             [
              0.5555555555555556,
              "#d8576b"
             ],
             [
              0.6666666666666666,
              "#ed7953"
             ],
             [
              0.7777777777777778,
              "#fb9f3a"
             ],
             [
              0.8888888888888888,
              "#fdca26"
             ],
             [
              1,
              "#f0f921"
             ]
            ],
            "type": "histogram2d"
           }
          ],
          "histogram2dcontour": [
           {
            "colorbar": {
             "outlinewidth": 0,
             "ticks": ""
            },
            "colorscale": [
             [
              0,
              "#0d0887"
             ],
             [
              0.1111111111111111,
              "#46039f"
             ],
             [
              0.2222222222222222,
              "#7201a8"
             ],
             [
              0.3333333333333333,
              "#9c179e"
             ],
             [
              0.4444444444444444,
              "#bd3786"
             ],
             [
              0.5555555555555556,
              "#d8576b"
             ],
             [
              0.6666666666666666,
              "#ed7953"
             ],
             [
              0.7777777777777778,
              "#fb9f3a"
             ],
             [
              0.8888888888888888,
              "#fdca26"
             ],
             [
              1,
              "#f0f921"
             ]
            ],
            "type": "histogram2dcontour"
           }
          ],
          "mesh3d": [
           {
            "colorbar": {
             "outlinewidth": 0,
             "ticks": ""
            },
            "type": "mesh3d"
           }
          ],
          "parcoords": [
           {
            "line": {
             "colorbar": {
              "outlinewidth": 0,
              "ticks": ""
             }
            },
            "type": "parcoords"
           }
          ],
          "pie": [
           {
            "automargin": true,
            "type": "pie"
           }
          ],
          "scatter": [
           {
            "fillpattern": {
             "fillmode": "overlay",
             "size": 10,
             "solidity": 0.2
            },
            "type": "scatter"
           }
          ],
          "scatter3d": [
           {
            "line": {
             "colorbar": {
              "outlinewidth": 0,
              "ticks": ""
             }
            },
            "marker": {
             "colorbar": {
              "outlinewidth": 0,
              "ticks": ""
             }
            },
            "type": "scatter3d"
           }
          ],
          "scattercarpet": [
           {
            "marker": {
             "colorbar": {
              "outlinewidth": 0,
              "ticks": ""
             }
            },
            "type": "scattercarpet"
           }
          ],
          "scattergeo": [
           {
            "marker": {
             "colorbar": {
              "outlinewidth": 0,
              "ticks": ""
             }
            },
            "type": "scattergeo"
           }
          ],
          "scattergl": [
           {
            "marker": {
             "colorbar": {
              "outlinewidth": 0,
              "ticks": ""
             }
            },
            "type": "scattergl"
           }
          ],
          "scattermapbox": [
           {
            "marker": {
             "colorbar": {
              "outlinewidth": 0,
              "ticks": ""
             }
            },
            "type": "scattermapbox"
           }
          ],
          "scatterpolar": [
           {
            "marker": {
             "colorbar": {
              "outlinewidth": 0,
              "ticks": ""
             }
            },
            "type": "scatterpolar"
           }
          ],
          "scatterpolargl": [
           {
            "marker": {
             "colorbar": {
              "outlinewidth": 0,
              "ticks": ""
             }
            },
            "type": "scatterpolargl"
           }
          ],
          "scatterternary": [
           {
            "marker": {
             "colorbar": {
              "outlinewidth": 0,
              "ticks": ""
             }
            },
            "type": "scatterternary"
           }
          ],
          "surface": [
           {
            "colorbar": {
             "outlinewidth": 0,
             "ticks": ""
            },
            "colorscale": [
             [
              0,
              "#0d0887"
             ],
             [
              0.1111111111111111,
              "#46039f"
             ],
             [
              0.2222222222222222,
              "#7201a8"
             ],
             [
              0.3333333333333333,
              "#9c179e"
             ],
             [
              0.4444444444444444,
              "#bd3786"
             ],
             [
              0.5555555555555556,
              "#d8576b"
             ],
             [
              0.6666666666666666,
              "#ed7953"
             ],
             [
              0.7777777777777778,
              "#fb9f3a"
             ],
             [
              0.8888888888888888,
              "#fdca26"
             ],
             [
              1,
              "#f0f921"
             ]
            ],
            "type": "surface"
           }
          ],
          "table": [
           {
            "cells": {
             "fill": {
              "color": "#EBF0F8"
             },
             "line": {
              "color": "white"
             }
            },
            "header": {
             "fill": {
              "color": "#C8D4E3"
             },
             "line": {
              "color": "white"
             }
            },
            "type": "table"
           }
          ]
         },
         "layout": {
          "annotationdefaults": {
           "arrowcolor": "#2a3f5f",
           "arrowhead": 0,
           "arrowwidth": 1
          },
          "autotypenumbers": "strict",
          "coloraxis": {
           "colorbar": {
            "outlinewidth": 0,
            "ticks": ""
           }
          },
          "colorscale": {
           "diverging": [
            [
             0,
             "#8e0152"
            ],
            [
             0.1,
             "#c51b7d"
            ],
            [
             0.2,
             "#de77ae"
            ],
            [
             0.3,
             "#f1b6da"
            ],
            [
             0.4,
             "#fde0ef"
            ],
            [
             0.5,
             "#f7f7f7"
            ],
            [
             0.6,
             "#e6f5d0"
            ],
            [
             0.7,
             "#b8e186"
            ],
            [
             0.8,
             "#7fbc41"
            ],
            [
             0.9,
             "#4d9221"
            ],
            [
             1,
             "#276419"
            ]
           ],
           "sequential": [
            [
             0,
             "#0d0887"
            ],
            [
             0.1111111111111111,
             "#46039f"
            ],
            [
             0.2222222222222222,
             "#7201a8"
            ],
            [
             0.3333333333333333,
             "#9c179e"
            ],
            [
             0.4444444444444444,
             "#bd3786"
            ],
            [
             0.5555555555555556,
             "#d8576b"
            ],
            [
             0.6666666666666666,
             "#ed7953"
            ],
            [
             0.7777777777777778,
             "#fb9f3a"
            ],
            [
             0.8888888888888888,
             "#fdca26"
            ],
            [
             1,
             "#f0f921"
            ]
           ],
           "sequentialminus": [
            [
             0,
             "#0d0887"
            ],
            [
             0.1111111111111111,
             "#46039f"
            ],
            [
             0.2222222222222222,
             "#7201a8"
            ],
            [
             0.3333333333333333,
             "#9c179e"
            ],
            [
             0.4444444444444444,
             "#bd3786"
            ],
            [
             0.5555555555555556,
             "#d8576b"
            ],
            [
             0.6666666666666666,
             "#ed7953"
            ],
            [
             0.7777777777777778,
             "#fb9f3a"
            ],
            [
             0.8888888888888888,
             "#fdca26"
            ],
            [
             1,
             "#f0f921"
            ]
           ]
          },
          "colorway": [
           "#636efa",
           "#EF553B",
           "#00cc96",
           "#ab63fa",
           "#FFA15A",
           "#19d3f3",
           "#FF6692",
           "#B6E880",
           "#FF97FF",
           "#FECB52"
          ],
          "font": {
           "color": "#2a3f5f"
          },
          "geo": {
           "bgcolor": "white",
           "lakecolor": "white",
           "landcolor": "#E5ECF6",
           "showlakes": true,
           "showland": true,
           "subunitcolor": "white"
          },
          "hoverlabel": {
           "align": "left"
          },
          "hovermode": "closest",
          "mapbox": {
           "style": "light"
          },
          "paper_bgcolor": "white",
          "plot_bgcolor": "#E5ECF6",
          "polar": {
           "angularaxis": {
            "gridcolor": "white",
            "linecolor": "white",
            "ticks": ""
           },
           "bgcolor": "#E5ECF6",
           "radialaxis": {
            "gridcolor": "white",
            "linecolor": "white",
            "ticks": ""
           }
          },
          "scene": {
           "xaxis": {
            "backgroundcolor": "#E5ECF6",
            "gridcolor": "white",
            "gridwidth": 2,
            "linecolor": "white",
            "showbackground": true,
            "ticks": "",
            "zerolinecolor": "white"
           },
           "yaxis": {
            "backgroundcolor": "#E5ECF6",
            "gridcolor": "white",
            "gridwidth": 2,
            "linecolor": "white",
            "showbackground": true,
            "ticks": "",
            "zerolinecolor": "white"
           },
           "zaxis": {
            "backgroundcolor": "#E5ECF6",
            "gridcolor": "white",
            "gridwidth": 2,
            "linecolor": "white",
            "showbackground": true,
            "ticks": "",
            "zerolinecolor": "white"
           }
          },
          "shapedefaults": {
           "line": {
            "color": "#2a3f5f"
           }
          },
          "ternary": {
           "aaxis": {
            "gridcolor": "white",
            "linecolor": "white",
            "ticks": ""
           },
           "baxis": {
            "gridcolor": "white",
            "linecolor": "white",
            "ticks": ""
           },
           "bgcolor": "#E5ECF6",
           "caxis": {
            "gridcolor": "white",
            "linecolor": "white",
            "ticks": ""
           }
          },
          "title": {
           "x": 0.05
          },
          "xaxis": {
           "automargin": true,
           "gridcolor": "white",
           "linecolor": "white",
           "ticks": "",
           "title": {
            "standoff": 15
           },
           "zerolinecolor": "white",
           "zerolinewidth": 2
          },
          "yaxis": {
           "automargin": true,
           "gridcolor": "white",
           "linecolor": "white",
           "ticks": "",
           "title": {
            "standoff": 15
           },
           "zerolinecolor": "white",
           "zerolinewidth": 2
          }
         }
        }
       }
      },
      "text/html": [
       "<div>                            <div id=\"120ba57a-ec43-47be-8dec-5c714cb3d873\" class=\"plotly-graph-div\" style=\"height:525px; width:100%;\"></div>            <script type=\"text/javascript\">                require([\"plotly\"], function(Plotly) {                    window.PLOTLYENV=window.PLOTLYENV || {};                                    if (document.getElementById(\"120ba57a-ec43-47be-8dec-5c714cb3d873\")) {                    Plotly.newPlot(                        \"120ba57a-ec43-47be-8dec-5c714cb3d873\",                        [{\"hovertemplate\":\"lat=%{lat}<br>lon=%{lon}<extra></extra>\",\"lat\":[44.5691],\"legendgroup\":\"\",\"lon\":[-125.1481],\"marker\":{\"color\":\"#636efa\"},\"mode\":\"markers\",\"name\":\"\",\"showlegend\":false,\"subplot\":\"mapbox\",\"type\":\"scattermapbox\"},{\"hovertemplate\":\"lat=%{lat}<br>lon=%{lon}<extra></extra>\",\"lat\":[44.5691,44.59166227335639,44.614135503727574,44.6364309995403,44.65846077065846,44.68013787563987,44.70137676485452,44.722093618109795,44.74220667545052,44.76163655982816,44.78030659036575,44.79814308498228,44.81507565118221,44.831037463862515,44.8459655290408,44.85980093246378,44.87248907211495,44.88397987370377,44.89422798828601,44.90319297123534,44.91083944185976,44.91713722303306,44.92206146029013,44.92559271991619,44.92771706564277,44.92842611364781,44.92771706564277,44.92559271991619,44.92206146029013,44.91713722303306,44.91083944185976,44.90319297123534,44.89422798828601,44.88397987370377,44.87248907211495,44.85980093246378,44.8459655290408,44.831037463862515,44.81507565118221,44.79814308498228,44.78030659036575,44.76163655982816,44.74220667545052,44.722093618109795,44.70137676485452,44.68013787563987,44.65846077065846,44.6364309995403,44.614135503727574,44.59166227335639,44.5691,44.54653772664361,44.52406449627242,44.501769000459696,44.47973922934154,44.458062124360126,44.436823235145475,44.4161063818902,44.39599332454948,44.376563440171836,44.35789340963425,44.34005691501772,44.323124348817785,44.30716253613748,44.2922344709592,44.27839906753622,44.265710927885046,44.254220126296225,44.243972011713986,44.235007028764656,44.22736055814024,44.22106277696694,44.21613853970987,44.21260728008381,44.21048293435723,44.20977388635219,44.21048293435723,44.21260728008381,44.21613853970987,44.22106277696694,44.22736055814024,44.235007028764656,44.24397201171398,44.254220126296225,44.265710927885046,44.27839906753622,44.2922344709592,44.30716253613748,44.323124348817785,44.34005691501772,44.35789340963425,44.376563440171836,44.39599332454948,44.4161063818902,44.436823235145475,44.45806212436012,44.47973922934154,44.501769000459696,44.52406449627242,44.54653772664361],\"legendgroup\":\"\",\"lon\":[-124.64371512598576,-124.64471041431887,-124.64769235136983,-124.65264916879542,-124.65956130430183,-124.66840147884805,-124.67913480430386,-124.69171892113725,-124.70610416558824,-124.72223376566897,-124.74004406521682,-124.75946477511624,-124.78041925069772,-124.80282479421935,-124.82659298123696,-124.85163000957503,-124.87783706952106,-124.90511073378231,-124.93334336566608,-124.96242354387259,-124.99223650222393,-125.02266458259373,-125.05358769925006,-125.08488381277887,-125.11642941171792,-125.1481,-125.17977058828208,-125.21131618722113,-125.24261230074994,-125.27353541740626,-125.30396349777607,-125.33377645612741,-125.36285663433392,-125.39108926621769,-125.41836293047893,-125.44456999042497,-125.46960701876304,-125.49337520578065,-125.51578074930228,-125.53673522488376,-125.55615593478318,-125.57396623433102,-125.59009583441176,-125.60448107886273,-125.61706519569614,-125.62779852115195,-125.63663869569817,-125.64355083120458,-125.64850764863017,-125.65148958568113,-125.65248487401423,-125.65148958568113,-125.64850764863017,-125.64355083120458,-125.63663869569817,-125.62779852115195,-125.61706519569614,-125.60448107886275,-125.59009583441176,-125.57396623433102,-125.55615593478318,-125.53673522488376,-125.51578074930228,-125.49337520578065,-125.46960701876304,-125.44456999042497,-125.41836293047893,-125.39108926621769,-125.36285663433392,-125.33377645612741,-125.30396349777607,-125.27353541740625,-125.24261230074994,-125.21131618722113,-125.17977058828208,-125.1481,-125.11642941171792,-125.08488381277887,-125.05358769925006,-125.02266458259373,-124.99223650222393,-124.96242354387259,-124.93334336566608,-124.90511073378231,-124.87783706952106,-124.85163000957503,-124.82659298123696,-124.80282479421935,-124.78041925069772,-124.75946477511624,-124.74004406521682,-124.72223376566897,-124.70610416558824,-124.69171892113727,-124.67913480430386,-124.66840147884805,-124.65956130430183,-124.65264916879542,-124.64769235136983,-124.64471041431887],\"marker\":{\"color\":\"black\",\"opacity\":0.9,\"size\":8},\"mode\":\"markers\",\"name\":\"\",\"showlegend\":false,\"subplot\":\"mapbox\",\"type\":\"scattermapbox\"}],                        {\"template\":{\"data\":{\"histogram2dcontour\":[{\"type\":\"histogram2dcontour\",\"colorbar\":{\"outlinewidth\":0,\"ticks\":\"\"},\"colorscale\":[[0.0,\"#0d0887\"],[0.1111111111111111,\"#46039f\"],[0.2222222222222222,\"#7201a8\"],[0.3333333333333333,\"#9c179e\"],[0.4444444444444444,\"#bd3786\"],[0.5555555555555556,\"#d8576b\"],[0.6666666666666666,\"#ed7953\"],[0.7777777777777778,\"#fb9f3a\"],[0.8888888888888888,\"#fdca26\"],[1.0,\"#f0f921\"]]}],\"choropleth\":[{\"type\":\"choropleth\",\"colorbar\":{\"outlinewidth\":0,\"ticks\":\"\"}}],\"histogram2d\":[{\"type\":\"histogram2d\",\"colorbar\":{\"outlinewidth\":0,\"ticks\":\"\"},\"colorscale\":[[0.0,\"#0d0887\"],[0.1111111111111111,\"#46039f\"],[0.2222222222222222,\"#7201a8\"],[0.3333333333333333,\"#9c179e\"],[0.4444444444444444,\"#bd3786\"],[0.5555555555555556,\"#d8576b\"],[0.6666666666666666,\"#ed7953\"],[0.7777777777777778,\"#fb9f3a\"],[0.8888888888888888,\"#fdca26\"],[1.0,\"#f0f921\"]]}],\"heatmap\":[{\"type\":\"heatmap\",\"colorbar\":{\"outlinewidth\":0,\"ticks\":\"\"},\"colorscale\":[[0.0,\"#0d0887\"],[0.1111111111111111,\"#46039f\"],[0.2222222222222222,\"#7201a8\"],[0.3333333333333333,\"#9c179e\"],[0.4444444444444444,\"#bd3786\"],[0.5555555555555556,\"#d8576b\"],[0.6666666666666666,\"#ed7953\"],[0.7777777777777778,\"#fb9f3a\"],[0.8888888888888888,\"#fdca26\"],[1.0,\"#f0f921\"]]}],\"heatmapgl\":[{\"type\":\"heatmapgl\",\"colorbar\":{\"outlinewidth\":0,\"ticks\":\"\"},\"colorscale\":[[0.0,\"#0d0887\"],[0.1111111111111111,\"#46039f\"],[0.2222222222222222,\"#7201a8\"],[0.3333333333333333,\"#9c179e\"],[0.4444444444444444,\"#bd3786\"],[0.5555555555555556,\"#d8576b\"],[0.6666666666666666,\"#ed7953\"],[0.7777777777777778,\"#fb9f3a\"],[0.8888888888888888,\"#fdca26\"],[1.0,\"#f0f921\"]]}],\"contourcarpet\":[{\"type\":\"contourcarpet\",\"colorbar\":{\"outlinewidth\":0,\"ticks\":\"\"}}],\"contour\":[{\"type\":\"contour\",\"colorbar\":{\"outlinewidth\":0,\"ticks\":\"\"},\"colorscale\":[[0.0,\"#0d0887\"],[0.1111111111111111,\"#46039f\"],[0.2222222222222222,\"#7201a8\"],[0.3333333333333333,\"#9c179e\"],[0.4444444444444444,\"#bd3786\"],[0.5555555555555556,\"#d8576b\"],[0.6666666666666666,\"#ed7953\"],[0.7777777777777778,\"#fb9f3a\"],[0.8888888888888888,\"#fdca26\"],[1.0,\"#f0f921\"]]}],\"surface\":[{\"type\":\"surface\",\"colorbar\":{\"outlinewidth\":0,\"ticks\":\"\"},\"colorscale\":[[0.0,\"#0d0887\"],[0.1111111111111111,\"#46039f\"],[0.2222222222222222,\"#7201a8\"],[0.3333333333333333,\"#9c179e\"],[0.4444444444444444,\"#bd3786\"],[0.5555555555555556,\"#d8576b\"],[0.6666666666666666,\"#ed7953\"],[0.7777777777777778,\"#fb9f3a\"],[0.8888888888888888,\"#fdca26\"],[1.0,\"#f0f921\"]]}],\"mesh3d\":[{\"type\":\"mesh3d\",\"colorbar\":{\"outlinewidth\":0,\"ticks\":\"\"}}],\"scatter\":[{\"fillpattern\":{\"fillmode\":\"overlay\",\"size\":10,\"solidity\":0.2},\"type\":\"scatter\"}],\"parcoords\":[{\"type\":\"parcoords\",\"line\":{\"colorbar\":{\"outlinewidth\":0,\"ticks\":\"\"}}}],\"scatterpolargl\":[{\"type\":\"scatterpolargl\",\"marker\":{\"colorbar\":{\"outlinewidth\":0,\"ticks\":\"\"}}}],\"bar\":[{\"error_x\":{\"color\":\"#2a3f5f\"},\"error_y\":{\"color\":\"#2a3f5f\"},\"marker\":{\"line\":{\"color\":\"#E5ECF6\",\"width\":0.5},\"pattern\":{\"fillmode\":\"overlay\",\"size\":10,\"solidity\":0.2}},\"type\":\"bar\"}],\"scattergeo\":[{\"type\":\"scattergeo\",\"marker\":{\"colorbar\":{\"outlinewidth\":0,\"ticks\":\"\"}}}],\"scatterpolar\":[{\"type\":\"scatterpolar\",\"marker\":{\"colorbar\":{\"outlinewidth\":0,\"ticks\":\"\"}}}],\"histogram\":[{\"marker\":{\"pattern\":{\"fillmode\":\"overlay\",\"size\":10,\"solidity\":0.2}},\"type\":\"histogram\"}],\"scattergl\":[{\"type\":\"scattergl\",\"marker\":{\"colorbar\":{\"outlinewidth\":0,\"ticks\":\"\"}}}],\"scatter3d\":[{\"type\":\"scatter3d\",\"line\":{\"colorbar\":{\"outlinewidth\":0,\"ticks\":\"\"}},\"marker\":{\"colorbar\":{\"outlinewidth\":0,\"ticks\":\"\"}}}],\"scattermapbox\":[{\"type\":\"scattermapbox\",\"marker\":{\"colorbar\":{\"outlinewidth\":0,\"ticks\":\"\"}}}],\"scatterternary\":[{\"type\":\"scatterternary\",\"marker\":{\"colorbar\":{\"outlinewidth\":0,\"ticks\":\"\"}}}],\"scattercarpet\":[{\"type\":\"scattercarpet\",\"marker\":{\"colorbar\":{\"outlinewidth\":0,\"ticks\":\"\"}}}],\"carpet\":[{\"aaxis\":{\"endlinecolor\":\"#2a3f5f\",\"gridcolor\":\"white\",\"linecolor\":\"white\",\"minorgridcolor\":\"white\",\"startlinecolor\":\"#2a3f5f\"},\"baxis\":{\"endlinecolor\":\"#2a3f5f\",\"gridcolor\":\"white\",\"linecolor\":\"white\",\"minorgridcolor\":\"white\",\"startlinecolor\":\"#2a3f5f\"},\"type\":\"carpet\"}],\"table\":[{\"cells\":{\"fill\":{\"color\":\"#EBF0F8\"},\"line\":{\"color\":\"white\"}},\"header\":{\"fill\":{\"color\":\"#C8D4E3\"},\"line\":{\"color\":\"white\"}},\"type\":\"table\"}],\"barpolar\":[{\"marker\":{\"line\":{\"color\":\"#E5ECF6\",\"width\":0.5},\"pattern\":{\"fillmode\":\"overlay\",\"size\":10,\"solidity\":0.2}},\"type\":\"barpolar\"}],\"pie\":[{\"automargin\":true,\"type\":\"pie\"}]},\"layout\":{\"autotypenumbers\":\"strict\",\"colorway\":[\"#636efa\",\"#EF553B\",\"#00cc96\",\"#ab63fa\",\"#FFA15A\",\"#19d3f3\",\"#FF6692\",\"#B6E880\",\"#FF97FF\",\"#FECB52\"],\"font\":{\"color\":\"#2a3f5f\"},\"hovermode\":\"closest\",\"hoverlabel\":{\"align\":\"left\"},\"paper_bgcolor\":\"white\",\"plot_bgcolor\":\"#E5ECF6\",\"polar\":{\"bgcolor\":\"#E5ECF6\",\"angularaxis\":{\"gridcolor\":\"white\",\"linecolor\":\"white\",\"ticks\":\"\"},\"radialaxis\":{\"gridcolor\":\"white\",\"linecolor\":\"white\",\"ticks\":\"\"}},\"ternary\":{\"bgcolor\":\"#E5ECF6\",\"aaxis\":{\"gridcolor\":\"white\",\"linecolor\":\"white\",\"ticks\":\"\"},\"baxis\":{\"gridcolor\":\"white\",\"linecolor\":\"white\",\"ticks\":\"\"},\"caxis\":{\"gridcolor\":\"white\",\"linecolor\":\"white\",\"ticks\":\"\"}},\"coloraxis\":{\"colorbar\":{\"outlinewidth\":0,\"ticks\":\"\"}},\"colorscale\":{\"sequential\":[[0.0,\"#0d0887\"],[0.1111111111111111,\"#46039f\"],[0.2222222222222222,\"#7201a8\"],[0.3333333333333333,\"#9c179e\"],[0.4444444444444444,\"#bd3786\"],[0.5555555555555556,\"#d8576b\"],[0.6666666666666666,\"#ed7953\"],[0.7777777777777778,\"#fb9f3a\"],[0.8888888888888888,\"#fdca26\"],[1.0,\"#f0f921\"]],\"sequentialminus\":[[0.0,\"#0d0887\"],[0.1111111111111111,\"#46039f\"],[0.2222222222222222,\"#7201a8\"],[0.3333333333333333,\"#9c179e\"],[0.4444444444444444,\"#bd3786\"],[0.5555555555555556,\"#d8576b\"],[0.6666666666666666,\"#ed7953\"],[0.7777777777777778,\"#fb9f3a\"],[0.8888888888888888,\"#fdca26\"],[1.0,\"#f0f921\"]],\"diverging\":[[0,\"#8e0152\"],[0.1,\"#c51b7d\"],[0.2,\"#de77ae\"],[0.3,\"#f1b6da\"],[0.4,\"#fde0ef\"],[0.5,\"#f7f7f7\"],[0.6,\"#e6f5d0\"],[0.7,\"#b8e186\"],[0.8,\"#7fbc41\"],[0.9,\"#4d9221\"],[1,\"#276419\"]]},\"xaxis\":{\"gridcolor\":\"white\",\"linecolor\":\"white\",\"ticks\":\"\",\"title\":{\"standoff\":15},\"zerolinecolor\":\"white\",\"automargin\":true,\"zerolinewidth\":2},\"yaxis\":{\"gridcolor\":\"white\",\"linecolor\":\"white\",\"ticks\":\"\",\"title\":{\"standoff\":15},\"zerolinecolor\":\"white\",\"automargin\":true,\"zerolinewidth\":2},\"scene\":{\"xaxis\":{\"backgroundcolor\":\"#E5ECF6\",\"gridcolor\":\"white\",\"linecolor\":\"white\",\"showbackground\":true,\"ticks\":\"\",\"zerolinecolor\":\"white\",\"gridwidth\":2},\"yaxis\":{\"backgroundcolor\":\"#E5ECF6\",\"gridcolor\":\"white\",\"linecolor\":\"white\",\"showbackground\":true,\"ticks\":\"\",\"zerolinecolor\":\"white\",\"gridwidth\":2},\"zaxis\":{\"backgroundcolor\":\"#E5ECF6\",\"gridcolor\":\"white\",\"linecolor\":\"white\",\"showbackground\":true,\"ticks\":\"\",\"zerolinecolor\":\"white\",\"gridwidth\":2}},\"shapedefaults\":{\"line\":{\"color\":\"#2a3f5f\"}},\"annotationdefaults\":{\"arrowcolor\":\"#2a3f5f\",\"arrowhead\":0,\"arrowwidth\":1},\"geo\":{\"bgcolor\":\"white\",\"landcolor\":\"#E5ECF6\",\"subunitcolor\":\"white\",\"showland\":true,\"showlakes\":true,\"lakecolor\":\"white\"},\"title\":{\"x\":0.05},\"mapbox\":{\"style\":\"light\"}}},\"mapbox\":{\"domain\":{\"x\":[0.0,1.0],\"y\":[0.0,1.0]},\"center\":{\"lat\":44.5153,\"lon\":-125.3898},\"zoom\":8,\"style\":\"carto-positron\",\"bearing\":10},\"legend\":{\"tracegroupgap\":0},\"margin\":{\"t\":60},\"coloraxis\":{\"showscale\":false}},                        {\"responsive\": true}                    ).then(function(){\n",
       "                            \n",
       "var gd = document.getElementById('120ba57a-ec43-47be-8dec-5c714cb3d873');\n",
       "var x = new MutationObserver(function (mutations, observer) {{\n",
       "        var display = window.getComputedStyle(gd).display;\n",
       "        if (!display || display === 'none') {{\n",
       "            console.log([gd, 'removed!']);\n",
       "            Plotly.purge(gd);\n",
       "            observer.disconnect();\n",
       "        }}\n",
       "}});\n",
       "\n",
       "// Listen for the removal of the full notebook cells\n",
       "var notebookContainer = gd.closest('#notebook-container');\n",
       "if (notebookContainer) {{\n",
       "    x.observe(notebookContainer, {childList: true});\n",
       "}}\n",
       "\n",
       "// Listen for the clearing of the current output cell\n",
       "var outputEl = gd.closest('.output');\n",
       "if (outputEl) {{\n",
       "    x.observe(outputEl, {childList: true});\n",
       "}}\n",
       "\n",
       "                        })                };                });            </script>        </div>"
      ]
     },
     "metadata": {},
     "output_type": "display_data"
    }
   ],
   "source": [
    "fig=px.scatter_mapbox(lat=[Southern_hydrate_Lat],lon=[Southern_hydrate_lon],mapbox_style='carto-positron')\n",
    "fig1 = px.scatter_mapbox(lat=lat_shydrate,lon=lon_shydrate,mapbox_style='carto-positron')\n",
    "fig1.update_traces(marker = {'size': 8, 'color':'black','opacity':0.9})\n",
    "fig.add_trace(fig1.data[0])\n",
    "fig.update_layout(coloraxis_showscale=False,mapbox=dict(\n",
    "       \n",
    "                bearing=10,\n",
    "                center=dict(\n",
    "                    lat=oregon_slope_Lat,\n",
    "                    lon=oregon_slope_Lon,\n",
    "                )))\n",
    "fig.show()"
   ]
  },
  {
   "cell_type": "markdown",
   "id": "557e7e43",
   "metadata": {},
   "source": [
    "### Read csv"
   ]
  },
  {
   "cell_type": "code",
   "execution_count": 89,
   "id": "5fa4a177-f2f3-4174-bc2d-293b56ba873d",
   "metadata": {},
   "outputs": [],
   "source": [
    "ais = pd.read_csv('E:/Acer backup 3/internships and jobs/UW/Reader grader and TA/Shima Abadi/Data/oregon_hydrate/AIS_166662673338955534_5005-1666628353878.csv',sep = ',')"
   ]
  },
  {
   "cell_type": "code",
   "execution_count": 90,
   "id": "14d95b59-232f-4781-8768-d7582d867f74",
   "metadata": {},
   "outputs": [
    {
     "data": {
      "text/plain": [
       "Index(['MMSI', 'BaseDateTime', 'LAT', 'LON', 'SOG', 'COG', 'Heading',\n",
       "       'VesselName', 'IMO', 'CallSign', 'VesselType', 'Status', 'Length',\n",
       "       'Width', 'Draft', 'Cargo', 'TransceiverClass'],\n",
       "      dtype='object')"
      ]
     },
     "execution_count": 90,
     "metadata": {},
     "output_type": "execute_result"
    }
   ],
   "source": [
    "ais.columns"
   ]
  },
  {
   "cell_type": "code",
   "execution_count": 91,
   "id": "3edef089",
   "metadata": {},
   "outputs": [],
   "source": [
    "ais['TIMESTAMP UTC'] = pd.to_datetime(ais['BaseDateTime']).dt.strftime('%Y-%m-%d %H:%M:%S')\n",
    "ais['TIMESTAMP UTC'] = pd.to_datetime(ais['TIMESTAMP UTC'])"
   ]
  },
  {
   "cell_type": "code",
   "execution_count": 92,
   "id": "62c9cf20",
   "metadata": {},
   "outputs": [],
   "source": [
    "x=ais['TIMESTAMP UTC'].dt.day\n"
   ]
  },
  {
   "cell_type": "markdown",
   "id": "6ede94af",
   "metadata": {},
   "source": [
    "### Calculate distance based on GPS coordinates"
   ]
  },
  {
   "cell_type": "code",
   "execution_count": 93,
   "id": "1c9b54d3",
   "metadata": {},
   "outputs": [
    {
     "data": {
      "text/html": [
       "<div>\n",
       "<style scoped>\n",
       "    .dataframe tbody tr th:only-of-type {\n",
       "        vertical-align: middle;\n",
       "    }\n",
       "\n",
       "    .dataframe tbody tr th {\n",
       "        vertical-align: top;\n",
       "    }\n",
       "\n",
       "    .dataframe thead th {\n",
       "        text-align: right;\n",
       "    }\n",
       "</style>\n",
       "<table border=\"1\" class=\"dataframe\">\n",
       "  <thead>\n",
       "    <tr style=\"text-align: right;\">\n",
       "      <th></th>\n",
       "      <th>MMSI</th>\n",
       "      <th>BaseDateTime</th>\n",
       "      <th>LAT</th>\n",
       "      <th>LON</th>\n",
       "      <th>SOG</th>\n",
       "      <th>COG</th>\n",
       "      <th>Heading</th>\n",
       "      <th>VesselName</th>\n",
       "      <th>IMO</th>\n",
       "      <th>CallSign</th>\n",
       "      <th>...</th>\n",
       "      <th>Length</th>\n",
       "      <th>Width</th>\n",
       "      <th>Draft</th>\n",
       "      <th>Cargo</th>\n",
       "      <th>TransceiverClass</th>\n",
       "      <th>TIMESTAMP UTC</th>\n",
       "      <th>oregon_slope_Lat</th>\n",
       "      <th>oregon_slope_Lon</th>\n",
       "      <th>oregon_slope_Loc</th>\n",
       "      <th>ship_Loc</th>\n",
       "    </tr>\n",
       "  </thead>\n",
       "  <tbody>\n",
       "    <tr>\n",
       "      <th>0</th>\n",
       "      <td>636092819</td>\n",
       "      <td>2021-01-01T00:17:40</td>\n",
       "      <td>44.56820</td>\n",
       "      <td>-125.62248</td>\n",
       "      <td>11.0</td>\n",
       "      <td>180.6</td>\n",
       "      <td>181.0</td>\n",
       "      <td>NaN</td>\n",
       "      <td>NaN</td>\n",
       "      <td>NaN</td>\n",
       "      <td>...</td>\n",
       "      <td>NaN</td>\n",
       "      <td>NaN</td>\n",
       "      <td>NaN</td>\n",
       "      <td>NaN</td>\n",
       "      <td>A</td>\n",
       "      <td>2021-01-01 00:17:40</td>\n",
       "      <td>44.5153</td>\n",
       "      <td>-125.3898</td>\n",
       "      <td>(44.5153, -125.3898)</td>\n",
       "      <td>(44.5682, -125.62248)</td>\n",
       "    </tr>\n",
       "    <tr>\n",
       "      <th>1</th>\n",
       "      <td>636092819</td>\n",
       "      <td>2021-01-01T00:19:00</td>\n",
       "      <td>44.56414</td>\n",
       "      <td>-125.62273</td>\n",
       "      <td>11.1</td>\n",
       "      <td>187.9</td>\n",
       "      <td>180.0</td>\n",
       "      <td>NaN</td>\n",
       "      <td>NaN</td>\n",
       "      <td>NaN</td>\n",
       "      <td>...</td>\n",
       "      <td>NaN</td>\n",
       "      <td>NaN</td>\n",
       "      <td>NaN</td>\n",
       "      <td>NaN</td>\n",
       "      <td>A</td>\n",
       "      <td>2021-01-01 00:19:00</td>\n",
       "      <td>44.5153</td>\n",
       "      <td>-125.3898</td>\n",
       "      <td>(44.5153, -125.3898)</td>\n",
       "      <td>(44.56414, -125.62273)</td>\n",
       "    </tr>\n",
       "    <tr>\n",
       "      <th>2</th>\n",
       "      <td>636092819</td>\n",
       "      <td>2021-01-01T00:20:08</td>\n",
       "      <td>44.56068</td>\n",
       "      <td>-125.62271</td>\n",
       "      <td>11.4</td>\n",
       "      <td>162.9</td>\n",
       "      <td>179.0</td>\n",
       "      <td>NaN</td>\n",
       "      <td>NaN</td>\n",
       "      <td>NaN</td>\n",
       "      <td>...</td>\n",
       "      <td>NaN</td>\n",
       "      <td>NaN</td>\n",
       "      <td>NaN</td>\n",
       "      <td>NaN</td>\n",
       "      <td>A</td>\n",
       "      <td>2021-01-01 00:20:08</td>\n",
       "      <td>44.5153</td>\n",
       "      <td>-125.3898</td>\n",
       "      <td>(44.5153, -125.3898)</td>\n",
       "      <td>(44.56068, -125.62271)</td>\n",
       "    </tr>\n",
       "    <tr>\n",
       "      <th>3</th>\n",
       "      <td>636092819</td>\n",
       "      <td>2021-01-01T00:22:19</td>\n",
       "      <td>44.55397</td>\n",
       "      <td>-125.62281</td>\n",
       "      <td>10.9</td>\n",
       "      <td>186.6</td>\n",
       "      <td>182.0</td>\n",
       "      <td>NaN</td>\n",
       "      <td>NaN</td>\n",
       "      <td>NaN</td>\n",
       "      <td>...</td>\n",
       "      <td>NaN</td>\n",
       "      <td>NaN</td>\n",
       "      <td>NaN</td>\n",
       "      <td>NaN</td>\n",
       "      <td>A</td>\n",
       "      <td>2021-01-01 00:22:19</td>\n",
       "      <td>44.5153</td>\n",
       "      <td>-125.3898</td>\n",
       "      <td>(44.5153, -125.3898)</td>\n",
       "      <td>(44.55397, -125.62281)</td>\n",
       "    </tr>\n",
       "    <tr>\n",
       "      <th>4</th>\n",
       "      <td>636092819</td>\n",
       "      <td>2021-01-01T00:24:00</td>\n",
       "      <td>44.54881</td>\n",
       "      <td>-125.62310</td>\n",
       "      <td>10.8</td>\n",
       "      <td>177.9</td>\n",
       "      <td>180.0</td>\n",
       "      <td>NaN</td>\n",
       "      <td>NaN</td>\n",
       "      <td>NaN</td>\n",
       "      <td>...</td>\n",
       "      <td>NaN</td>\n",
       "      <td>NaN</td>\n",
       "      <td>NaN</td>\n",
       "      <td>NaN</td>\n",
       "      <td>A</td>\n",
       "      <td>2021-01-01 00:24:00</td>\n",
       "      <td>44.5153</td>\n",
       "      <td>-125.3898</td>\n",
       "      <td>(44.5153, -125.3898)</td>\n",
       "      <td>(44.54881, -125.6231)</td>\n",
       "    </tr>\n",
       "  </tbody>\n",
       "</table>\n",
       "<p>5 rows × 22 columns</p>\n",
       "</div>"
      ],
      "text/plain": [
       "        MMSI         BaseDateTime       LAT        LON   SOG    COG  Heading  \\\n",
       "0  636092819  2021-01-01T00:17:40  44.56820 -125.62248  11.0  180.6    181.0   \n",
       "1  636092819  2021-01-01T00:19:00  44.56414 -125.62273  11.1  187.9    180.0   \n",
       "2  636092819  2021-01-01T00:20:08  44.56068 -125.62271  11.4  162.9    179.0   \n",
       "3  636092819  2021-01-01T00:22:19  44.55397 -125.62281  10.9  186.6    182.0   \n",
       "4  636092819  2021-01-01T00:24:00  44.54881 -125.62310  10.8  177.9    180.0   \n",
       "\n",
       "  VesselName  IMO CallSign  ...  Length  Width  Draft  Cargo  \\\n",
       "0        NaN  NaN      NaN  ...     NaN    NaN    NaN    NaN   \n",
       "1        NaN  NaN      NaN  ...     NaN    NaN    NaN    NaN   \n",
       "2        NaN  NaN      NaN  ...     NaN    NaN    NaN    NaN   \n",
       "3        NaN  NaN      NaN  ...     NaN    NaN    NaN    NaN   \n",
       "4        NaN  NaN      NaN  ...     NaN    NaN    NaN    NaN   \n",
       "\n",
       "   TransceiverClass       TIMESTAMP UTC oregon_slope_Lat oregon_slope_Lon  \\\n",
       "0                 A 2021-01-01 00:17:40          44.5153        -125.3898   \n",
       "1                 A 2021-01-01 00:19:00          44.5153        -125.3898   \n",
       "2                 A 2021-01-01 00:20:08          44.5153        -125.3898   \n",
       "3                 A 2021-01-01 00:22:19          44.5153        -125.3898   \n",
       "4                 A 2021-01-01 00:24:00          44.5153        -125.3898   \n",
       "\n",
       "       oregon_slope_Loc                ship_Loc  \n",
       "0  (44.5153, -125.3898)   (44.5682, -125.62248)  \n",
       "1  (44.5153, -125.3898)  (44.56414, -125.62273)  \n",
       "2  (44.5153, -125.3898)  (44.56068, -125.62271)  \n",
       "3  (44.5153, -125.3898)  (44.55397, -125.62281)  \n",
       "4  (44.5153, -125.3898)   (44.54881, -125.6231)  \n",
       "\n",
       "[5 rows x 22 columns]"
      ]
     },
     "execution_count": 93,
     "metadata": {},
     "output_type": "execute_result"
    }
   ],
   "source": [
    "# For Oregon slope base\n",
    "ais['oregon_slope_Lat']=oregon_slope_Lat\n",
    "ais['oregon_slope_Lon']=oregon_slope_Lon\n",
    "ais['oregon_slope_Loc'] = list(zip(ais.oregon_slope_Lat,ais.oregon_slope_Lon))\n",
    "ais['ship_Loc'] = list(zip(ais.LAT,ais.LON))\n",
    "ais.head()\n"
   ]
  },
  {
   "cell_type": "code",
   "execution_count": 94,
   "id": "a4a2c8e0",
   "metadata": {},
   "outputs": [],
   "source": [
    "# For southern hydrate\n",
    "ais['Southern_hydrate_Lat']=Southern_hydrate_Lat\n",
    "ais['Southern_hydrate_lon']=Southern_hydrate_lon\n",
    "ais['Southern_hydrate_Loc'] = list(zip(ais.Southern_hydrate_Lat,ais.Southern_hydrate_lon))"
   ]
  },
  {
   "cell_type": "code",
   "execution_count": 95,
   "id": "8410bd96",
   "metadata": {},
   "outputs": [],
   "source": [
    "#Function to calculate distance distance from axial base\n",
    "def geodistance_oregon(row):\n",
    "    coords_1 = row.oregon_slope_Loc\n",
    "    coords_2 = row.ship_Loc\n",
    "    return round(geodesic(coords_1, coords_2).km,2)\n"
   ]
  },
  {
   "cell_type": "code",
   "execution_count": 96,
   "id": "16b74b97",
   "metadata": {},
   "outputs": [],
   "source": [
    "#Function to calculate distance distance from central caldera\n",
    "def geodistance_shydrate(row):\n",
    "    coords_1 = row.Southern_hydrate_Loc\n",
    "    coords_2 = row.ship_Loc\n",
    "    return round(geodesic(coords_1, coords_2).km,2)"
   ]
  },
  {
   "cell_type": "code",
   "execution_count": 97,
   "id": "0aa6c50f",
   "metadata": {
    "scrolled": true
   },
   "outputs": [
    {
     "data": {
      "text/html": [
       "<div>\n",
       "<style scoped>\n",
       "    .dataframe tbody tr th:only-of-type {\n",
       "        vertical-align: middle;\n",
       "    }\n",
       "\n",
       "    .dataframe tbody tr th {\n",
       "        vertical-align: top;\n",
       "    }\n",
       "\n",
       "    .dataframe thead th {\n",
       "        text-align: right;\n",
       "    }\n",
       "</style>\n",
       "<table border=\"1\" class=\"dataframe\">\n",
       "  <thead>\n",
       "    <tr style=\"text-align: right;\">\n",
       "      <th></th>\n",
       "      <th>MMSI</th>\n",
       "      <th>BaseDateTime</th>\n",
       "      <th>LAT</th>\n",
       "      <th>LON</th>\n",
       "      <th>SOG</th>\n",
       "      <th>COG</th>\n",
       "      <th>Heading</th>\n",
       "      <th>VesselName</th>\n",
       "      <th>IMO</th>\n",
       "      <th>CallSign</th>\n",
       "      <th>...</th>\n",
       "      <th>TIMESTAMP UTC</th>\n",
       "      <th>oregon_slope_Lat</th>\n",
       "      <th>oregon_slope_Lon</th>\n",
       "      <th>oregon_slope_Loc</th>\n",
       "      <th>ship_Loc</th>\n",
       "      <th>Southern_hydrate_Lat</th>\n",
       "      <th>Southern_hydrate_lon</th>\n",
       "      <th>Southern_hydrate_Loc</th>\n",
       "      <th>distance(in km) oregon</th>\n",
       "      <th>distance(in km) hydrate</th>\n",
       "    </tr>\n",
       "  </thead>\n",
       "  <tbody>\n",
       "    <tr>\n",
       "      <th>0</th>\n",
       "      <td>636092819</td>\n",
       "      <td>2021-01-01T00:17:40</td>\n",
       "      <td>44.56820</td>\n",
       "      <td>-125.62248</td>\n",
       "      <td>11.0</td>\n",
       "      <td>180.6</td>\n",
       "      <td>181.0</td>\n",
       "      <td>NaN</td>\n",
       "      <td>NaN</td>\n",
       "      <td>NaN</td>\n",
       "      <td>...</td>\n",
       "      <td>2021-01-01 00:17:40</td>\n",
       "      <td>44.5153</td>\n",
       "      <td>-125.3898</td>\n",
       "      <td>(44.5153, -125.3898)</td>\n",
       "      <td>(44.5682, -125.62248)</td>\n",
       "      <td>44.5691</td>\n",
       "      <td>-125.1481</td>\n",
       "      <td>(44.5691, -125.1481)</td>\n",
       "      <td>19.40</td>\n",
       "      <td>37.68</td>\n",
       "    </tr>\n",
       "    <tr>\n",
       "      <th>1</th>\n",
       "      <td>636092819</td>\n",
       "      <td>2021-01-01T00:19:00</td>\n",
       "      <td>44.56414</td>\n",
       "      <td>-125.62273</td>\n",
       "      <td>11.1</td>\n",
       "      <td>187.9</td>\n",
       "      <td>180.0</td>\n",
       "      <td>NaN</td>\n",
       "      <td>NaN</td>\n",
       "      <td>NaN</td>\n",
       "      <td>...</td>\n",
       "      <td>2021-01-01 00:19:00</td>\n",
       "      <td>44.5153</td>\n",
       "      <td>-125.3898</td>\n",
       "      <td>(44.5153, -125.3898)</td>\n",
       "      <td>(44.56414, -125.62273)</td>\n",
       "      <td>44.5691</td>\n",
       "      <td>-125.1481</td>\n",
       "      <td>(44.5691, -125.1481)</td>\n",
       "      <td>19.29</td>\n",
       "      <td>37.71</td>\n",
       "    </tr>\n",
       "    <tr>\n",
       "      <th>2</th>\n",
       "      <td>636092819</td>\n",
       "      <td>2021-01-01T00:20:08</td>\n",
       "      <td>44.56068</td>\n",
       "      <td>-125.62271</td>\n",
       "      <td>11.4</td>\n",
       "      <td>162.9</td>\n",
       "      <td>179.0</td>\n",
       "      <td>NaN</td>\n",
       "      <td>NaN</td>\n",
       "      <td>NaN</td>\n",
       "      <td>...</td>\n",
       "      <td>2021-01-01 00:20:08</td>\n",
       "      <td>44.5153</td>\n",
       "      <td>-125.3898</td>\n",
       "      <td>(44.5153, -125.3898)</td>\n",
       "      <td>(44.56068, -125.62271)</td>\n",
       "      <td>44.5691</td>\n",
       "      <td>-125.1481</td>\n",
       "      <td>(44.5691, -125.1481)</td>\n",
       "      <td>19.19</td>\n",
       "      <td>37.72</td>\n",
       "    </tr>\n",
       "    <tr>\n",
       "      <th>3</th>\n",
       "      <td>636092819</td>\n",
       "      <td>2021-01-01T00:22:19</td>\n",
       "      <td>44.55397</td>\n",
       "      <td>-125.62281</td>\n",
       "      <td>10.9</td>\n",
       "      <td>186.6</td>\n",
       "      <td>182.0</td>\n",
       "      <td>NaN</td>\n",
       "      <td>NaN</td>\n",
       "      <td>NaN</td>\n",
       "      <td>...</td>\n",
       "      <td>2021-01-01 00:22:19</td>\n",
       "      <td>44.5153</td>\n",
       "      <td>-125.3898</td>\n",
       "      <td>(44.5153, -125.3898)</td>\n",
       "      <td>(44.55397, -125.62281)</td>\n",
       "      <td>44.5691</td>\n",
       "      <td>-125.1481</td>\n",
       "      <td>(44.5691, -125.1481)</td>\n",
       "      <td>19.01</td>\n",
       "      <td>37.75</td>\n",
       "    </tr>\n",
       "    <tr>\n",
       "      <th>4</th>\n",
       "      <td>636092819</td>\n",
       "      <td>2021-01-01T00:24:00</td>\n",
       "      <td>44.54881</td>\n",
       "      <td>-125.62310</td>\n",
       "      <td>10.8</td>\n",
       "      <td>177.9</td>\n",
       "      <td>180.0</td>\n",
       "      <td>NaN</td>\n",
       "      <td>NaN</td>\n",
       "      <td>NaN</td>\n",
       "      <td>...</td>\n",
       "      <td>2021-01-01 00:24:00</td>\n",
       "      <td>44.5153</td>\n",
       "      <td>-125.3898</td>\n",
       "      <td>(44.5153, -125.3898)</td>\n",
       "      <td>(44.54881, -125.6231)</td>\n",
       "      <td>44.5691</td>\n",
       "      <td>-125.1481</td>\n",
       "      <td>(44.5691, -125.1481)</td>\n",
       "      <td>18.91</td>\n",
       "      <td>37.81</td>\n",
       "    </tr>\n",
       "  </tbody>\n",
       "</table>\n",
       "<p>5 rows × 27 columns</p>\n",
       "</div>"
      ],
      "text/plain": [
       "        MMSI         BaseDateTime       LAT        LON   SOG    COG  Heading  \\\n",
       "0  636092819  2021-01-01T00:17:40  44.56820 -125.62248  11.0  180.6    181.0   \n",
       "1  636092819  2021-01-01T00:19:00  44.56414 -125.62273  11.1  187.9    180.0   \n",
       "2  636092819  2021-01-01T00:20:08  44.56068 -125.62271  11.4  162.9    179.0   \n",
       "3  636092819  2021-01-01T00:22:19  44.55397 -125.62281  10.9  186.6    182.0   \n",
       "4  636092819  2021-01-01T00:24:00  44.54881 -125.62310  10.8  177.9    180.0   \n",
       "\n",
       "  VesselName  IMO CallSign  ...       TIMESTAMP UTC  oregon_slope_Lat  \\\n",
       "0        NaN  NaN      NaN  ... 2021-01-01 00:17:40           44.5153   \n",
       "1        NaN  NaN      NaN  ... 2021-01-01 00:19:00           44.5153   \n",
       "2        NaN  NaN      NaN  ... 2021-01-01 00:20:08           44.5153   \n",
       "3        NaN  NaN      NaN  ... 2021-01-01 00:22:19           44.5153   \n",
       "4        NaN  NaN      NaN  ... 2021-01-01 00:24:00           44.5153   \n",
       "\n",
       "   oregon_slope_Lon      oregon_slope_Loc                ship_Loc  \\\n",
       "0         -125.3898  (44.5153, -125.3898)   (44.5682, -125.62248)   \n",
       "1         -125.3898  (44.5153, -125.3898)  (44.56414, -125.62273)   \n",
       "2         -125.3898  (44.5153, -125.3898)  (44.56068, -125.62271)   \n",
       "3         -125.3898  (44.5153, -125.3898)  (44.55397, -125.62281)   \n",
       "4         -125.3898  (44.5153, -125.3898)   (44.54881, -125.6231)   \n",
       "\n",
       "   Southern_hydrate_Lat Southern_hydrate_lon  Southern_hydrate_Loc  \\\n",
       "0               44.5691            -125.1481  (44.5691, -125.1481)   \n",
       "1               44.5691            -125.1481  (44.5691, -125.1481)   \n",
       "2               44.5691            -125.1481  (44.5691, -125.1481)   \n",
       "3               44.5691            -125.1481  (44.5691, -125.1481)   \n",
       "4               44.5691            -125.1481  (44.5691, -125.1481)   \n",
       "\n",
       "   distance(in km) oregon  distance(in km) hydrate  \n",
       "0                   19.40                    37.68  \n",
       "1                   19.29                    37.71  \n",
       "2                   19.19                    37.72  \n",
       "3                   19.01                    37.75  \n",
       "4                   18.91                    37.81  \n",
       "\n",
       "[5 rows x 27 columns]"
      ]
     },
     "execution_count": 97,
     "metadata": {},
     "output_type": "execute_result"
    }
   ],
   "source": [
    "ais['distance(in km) oregon'] = ais.apply(geodistance_oregon, axis=1)\n",
    "ais['distance(in km) hydrate'] = ais.apply(geodistance_shydrate, axis=1)\n",
    "ais.head()"
   ]
  },
  {
   "cell_type": "code",
   "execution_count": 98,
   "id": "71bc22b9",
   "metadata": {},
   "outputs": [],
   "source": [
    "ais.rename(columns={'VesselType':'VESSEL TYPE','Length':'LENGTH'},inplace=True)"
   ]
  },
  {
   "cell_type": "code",
   "execution_count": 99,
   "id": "e238e0b7",
   "metadata": {},
   "outputs": [
    {
     "data": {
      "text/html": [
       "<div>\n",
       "<style scoped>\n",
       "    .dataframe tbody tr th:only-of-type {\n",
       "        vertical-align: middle;\n",
       "    }\n",
       "\n",
       "    .dataframe tbody tr th {\n",
       "        vertical-align: top;\n",
       "    }\n",
       "\n",
       "    .dataframe thead th {\n",
       "        text-align: right;\n",
       "    }\n",
       "</style>\n",
       "<table border=\"1\" class=\"dataframe\">\n",
       "  <thead>\n",
       "    <tr style=\"text-align: right;\">\n",
       "      <th></th>\n",
       "      <th>MMSI</th>\n",
       "      <th>BaseDateTime</th>\n",
       "      <th>LAT</th>\n",
       "      <th>LON</th>\n",
       "      <th>SOG</th>\n",
       "      <th>COG</th>\n",
       "      <th>Heading</th>\n",
       "      <th>VesselName</th>\n",
       "      <th>IMO</th>\n",
       "      <th>CallSign</th>\n",
       "      <th>...</th>\n",
       "      <th>TIMESTAMP UTC</th>\n",
       "      <th>oregon_slope_Lat</th>\n",
       "      <th>oregon_slope_Lon</th>\n",
       "      <th>oregon_slope_Loc</th>\n",
       "      <th>ship_Loc</th>\n",
       "      <th>Southern_hydrate_Lat</th>\n",
       "      <th>Southern_hydrate_lon</th>\n",
       "      <th>Southern_hydrate_Loc</th>\n",
       "      <th>distance(in km) oregon</th>\n",
       "      <th>distance(in km) hydrate</th>\n",
       "    </tr>\n",
       "  </thead>\n",
       "  <tbody>\n",
       "    <tr>\n",
       "      <th>0</th>\n",
       "      <td>636092819</td>\n",
       "      <td>2021-01-01T00:17:40</td>\n",
       "      <td>44.56820</td>\n",
       "      <td>-125.62248</td>\n",
       "      <td>11.0</td>\n",
       "      <td>180.6</td>\n",
       "      <td>181.0</td>\n",
       "      <td>NaN</td>\n",
       "      <td>NaN</td>\n",
       "      <td>NaN</td>\n",
       "      <td>...</td>\n",
       "      <td>2021-01-01 00:17:40</td>\n",
       "      <td>44.5153</td>\n",
       "      <td>-125.3898</td>\n",
       "      <td>(44.5153, -125.3898)</td>\n",
       "      <td>(44.5682, -125.62248)</td>\n",
       "      <td>44.5691</td>\n",
       "      <td>-125.1481</td>\n",
       "      <td>(44.5691, -125.1481)</td>\n",
       "      <td>19.40</td>\n",
       "      <td>37.68</td>\n",
       "    </tr>\n",
       "    <tr>\n",
       "      <th>1</th>\n",
       "      <td>636092819</td>\n",
       "      <td>2021-01-01T00:19:00</td>\n",
       "      <td>44.56414</td>\n",
       "      <td>-125.62273</td>\n",
       "      <td>11.1</td>\n",
       "      <td>187.9</td>\n",
       "      <td>180.0</td>\n",
       "      <td>NaN</td>\n",
       "      <td>NaN</td>\n",
       "      <td>NaN</td>\n",
       "      <td>...</td>\n",
       "      <td>2021-01-01 00:19:00</td>\n",
       "      <td>44.5153</td>\n",
       "      <td>-125.3898</td>\n",
       "      <td>(44.5153, -125.3898)</td>\n",
       "      <td>(44.56414, -125.62273)</td>\n",
       "      <td>44.5691</td>\n",
       "      <td>-125.1481</td>\n",
       "      <td>(44.5691, -125.1481)</td>\n",
       "      <td>19.29</td>\n",
       "      <td>37.71</td>\n",
       "    </tr>\n",
       "    <tr>\n",
       "      <th>2</th>\n",
       "      <td>636092819</td>\n",
       "      <td>2021-01-01T00:20:08</td>\n",
       "      <td>44.56068</td>\n",
       "      <td>-125.62271</td>\n",
       "      <td>11.4</td>\n",
       "      <td>162.9</td>\n",
       "      <td>179.0</td>\n",
       "      <td>NaN</td>\n",
       "      <td>NaN</td>\n",
       "      <td>NaN</td>\n",
       "      <td>...</td>\n",
       "      <td>2021-01-01 00:20:08</td>\n",
       "      <td>44.5153</td>\n",
       "      <td>-125.3898</td>\n",
       "      <td>(44.5153, -125.3898)</td>\n",
       "      <td>(44.56068, -125.62271)</td>\n",
       "      <td>44.5691</td>\n",
       "      <td>-125.1481</td>\n",
       "      <td>(44.5691, -125.1481)</td>\n",
       "      <td>19.19</td>\n",
       "      <td>37.72</td>\n",
       "    </tr>\n",
       "    <tr>\n",
       "      <th>3</th>\n",
       "      <td>636092819</td>\n",
       "      <td>2021-01-01T00:22:19</td>\n",
       "      <td>44.55397</td>\n",
       "      <td>-125.62281</td>\n",
       "      <td>10.9</td>\n",
       "      <td>186.6</td>\n",
       "      <td>182.0</td>\n",
       "      <td>NaN</td>\n",
       "      <td>NaN</td>\n",
       "      <td>NaN</td>\n",
       "      <td>...</td>\n",
       "      <td>2021-01-01 00:22:19</td>\n",
       "      <td>44.5153</td>\n",
       "      <td>-125.3898</td>\n",
       "      <td>(44.5153, -125.3898)</td>\n",
       "      <td>(44.55397, -125.62281)</td>\n",
       "      <td>44.5691</td>\n",
       "      <td>-125.1481</td>\n",
       "      <td>(44.5691, -125.1481)</td>\n",
       "      <td>19.01</td>\n",
       "      <td>37.75</td>\n",
       "    </tr>\n",
       "    <tr>\n",
       "      <th>4</th>\n",
       "      <td>636092819</td>\n",
       "      <td>2021-01-01T00:24:00</td>\n",
       "      <td>44.54881</td>\n",
       "      <td>-125.62310</td>\n",
       "      <td>10.8</td>\n",
       "      <td>177.9</td>\n",
       "      <td>180.0</td>\n",
       "      <td>NaN</td>\n",
       "      <td>NaN</td>\n",
       "      <td>NaN</td>\n",
       "      <td>...</td>\n",
       "      <td>2021-01-01 00:24:00</td>\n",
       "      <td>44.5153</td>\n",
       "      <td>-125.3898</td>\n",
       "      <td>(44.5153, -125.3898)</td>\n",
       "      <td>(44.54881, -125.6231)</td>\n",
       "      <td>44.5691</td>\n",
       "      <td>-125.1481</td>\n",
       "      <td>(44.5691, -125.1481)</td>\n",
       "      <td>18.91</td>\n",
       "      <td>37.81</td>\n",
       "    </tr>\n",
       "  </tbody>\n",
       "</table>\n",
       "<p>5 rows × 27 columns</p>\n",
       "</div>"
      ],
      "text/plain": [
       "        MMSI         BaseDateTime       LAT        LON   SOG    COG  Heading  \\\n",
       "0  636092819  2021-01-01T00:17:40  44.56820 -125.62248  11.0  180.6    181.0   \n",
       "1  636092819  2021-01-01T00:19:00  44.56414 -125.62273  11.1  187.9    180.0   \n",
       "2  636092819  2021-01-01T00:20:08  44.56068 -125.62271  11.4  162.9    179.0   \n",
       "3  636092819  2021-01-01T00:22:19  44.55397 -125.62281  10.9  186.6    182.0   \n",
       "4  636092819  2021-01-01T00:24:00  44.54881 -125.62310  10.8  177.9    180.0   \n",
       "\n",
       "  VesselName  IMO CallSign  ...       TIMESTAMP UTC  oregon_slope_Lat  \\\n",
       "0        NaN  NaN      NaN  ... 2021-01-01 00:17:40           44.5153   \n",
       "1        NaN  NaN      NaN  ... 2021-01-01 00:19:00           44.5153   \n",
       "2        NaN  NaN      NaN  ... 2021-01-01 00:20:08           44.5153   \n",
       "3        NaN  NaN      NaN  ... 2021-01-01 00:22:19           44.5153   \n",
       "4        NaN  NaN      NaN  ... 2021-01-01 00:24:00           44.5153   \n",
       "\n",
       "   oregon_slope_Lon      oregon_slope_Loc                ship_Loc  \\\n",
       "0         -125.3898  (44.5153, -125.3898)   (44.5682, -125.62248)   \n",
       "1         -125.3898  (44.5153, -125.3898)  (44.56414, -125.62273)   \n",
       "2         -125.3898  (44.5153, -125.3898)  (44.56068, -125.62271)   \n",
       "3         -125.3898  (44.5153, -125.3898)  (44.55397, -125.62281)   \n",
       "4         -125.3898  (44.5153, -125.3898)   (44.54881, -125.6231)   \n",
       "\n",
       "   Southern_hydrate_Lat Southern_hydrate_lon  Southern_hydrate_Loc  \\\n",
       "0               44.5691            -125.1481  (44.5691, -125.1481)   \n",
       "1               44.5691            -125.1481  (44.5691, -125.1481)   \n",
       "2               44.5691            -125.1481  (44.5691, -125.1481)   \n",
       "3               44.5691            -125.1481  (44.5691, -125.1481)   \n",
       "4               44.5691            -125.1481  (44.5691, -125.1481)   \n",
       "\n",
       "   distance(in km) oregon  distance(in km) hydrate  \n",
       "0                   19.40                    37.68  \n",
       "1                   19.29                    37.71  \n",
       "2                   19.19                    37.72  \n",
       "3                   19.01                    37.75  \n",
       "4                   18.91                    37.81  \n",
       "\n",
       "[5 rows x 27 columns]"
      ]
     },
     "execution_count": 99,
     "metadata": {},
     "output_type": "execute_result"
    }
   ],
   "source": [
    "ais.head()"
   ]
  },
  {
   "cell_type": "code",
   "execution_count": 100,
   "id": "8fd2d39a",
   "metadata": {},
   "outputs": [],
   "source": [
    "vessel_code=pd.read_csv('E:/Acer backup 3/internships and jobs/UW/Reader grader and TA/Shima Abadi/Data/Vessels/vessel_code.csv',sep = ',')"
   ]
  },
  {
   "cell_type": "code",
   "execution_count": 101,
   "id": "f1caf73c",
   "metadata": {},
   "outputs": [],
   "source": [
    "vessel_code['Type Code']=vessel_code['Type Code'].astype('object')"
   ]
  },
  {
   "cell_type": "code",
   "execution_count": 102,
   "id": "3c8ff506",
   "metadata": {},
   "outputs": [],
   "source": [
    "ais=ais.merge(vessel_code,how='left',left_on='VESSEL TYPE', right_on='Type Code')\n"
   ]
  },
  {
   "cell_type": "code",
   "execution_count": 107,
   "id": "a43209e7",
   "metadata": {},
   "outputs": [
    {
     "ename": "KeyError",
     "evalue": "\"['VESSEL TYPE'] not found in axis\"",
     "output_type": "error",
     "traceback": [
      "\u001b[1;31m---------------------------------------------------------------------------\u001b[0m",
      "\u001b[1;31mKeyError\u001b[0m                                  Traceback (most recent call last)",
      "Cell \u001b[1;32mIn [107], line 1\u001b[0m\n\u001b[1;32m----> 1\u001b[0m ais\u001b[38;5;241m.\u001b[39mdrop(\u001b[38;5;124m'\u001b[39m\u001b[38;5;124mVESSEL TYPE\u001b[39m\u001b[38;5;124m'\u001b[39m,axis\u001b[38;5;241m=\u001b[39m\u001b[38;5;241m1\u001b[39m,inplace\u001b[38;5;241m=\u001b[39m\u001b[38;5;28;01mTrue\u001b[39;00m)\n",
      "File \u001b[1;32m~\\miniconda3\\envs\\oceandatalab\\lib\\site-packages\\pandas\\util\\_decorators.py:317\u001b[0m, in \u001b[0;36mdeprecate_nonkeyword_arguments.<locals>.decorate.<locals>.wrapper\u001b[1;34m(*args, **kwargs)\u001b[0m\n\u001b[0;32m    311\u001b[0m \u001b[38;5;28;01mif\u001b[39;00m \u001b[38;5;28mlen\u001b[39m(args) \u001b[38;5;241m>\u001b[39m num_allow_args:\n\u001b[0;32m    312\u001b[0m     warnings\u001b[38;5;241m.\u001b[39mwarn(\n\u001b[0;32m    313\u001b[0m         msg\u001b[38;5;241m.\u001b[39mformat(arguments\u001b[38;5;241m=\u001b[39marguments),\n\u001b[0;32m    314\u001b[0m         \u001b[38;5;167;01mFutureWarning\u001b[39;00m,\n\u001b[0;32m    315\u001b[0m         stacklevel\u001b[38;5;241m=\u001b[39mfind_stack_level(inspect\u001b[38;5;241m.\u001b[39mcurrentframe()),\n\u001b[0;32m    316\u001b[0m     )\n\u001b[1;32m--> 317\u001b[0m \u001b[38;5;28;01mreturn\u001b[39;00m func(\u001b[38;5;241m*\u001b[39margs, \u001b[38;5;241m*\u001b[39m\u001b[38;5;241m*\u001b[39mkwargs)\n",
      "File \u001b[1;32m~\\miniconda3\\envs\\oceandatalab\\lib\\site-packages\\pandas\\core\\frame.py:5391\u001b[0m, in \u001b[0;36mDataFrame.drop\u001b[1;34m(self, labels, axis, index, columns, level, inplace, errors)\u001b[0m\n\u001b[0;32m   5243\u001b[0m \u001b[38;5;129m@deprecate_nonkeyword_arguments\u001b[39m(version\u001b[38;5;241m=\u001b[39m\u001b[38;5;28;01mNone\u001b[39;00m, allowed_args\u001b[38;5;241m=\u001b[39m[\u001b[38;5;124m\"\u001b[39m\u001b[38;5;124mself\u001b[39m\u001b[38;5;124m\"\u001b[39m, \u001b[38;5;124m\"\u001b[39m\u001b[38;5;124mlabels\u001b[39m\u001b[38;5;124m\"\u001b[39m])\n\u001b[0;32m   5244\u001b[0m \u001b[38;5;28;01mdef\u001b[39;00m \u001b[38;5;21mdrop\u001b[39m(  \u001b[38;5;66;03m# type: ignore[override]\u001b[39;00m\n\u001b[0;32m   5245\u001b[0m     \u001b[38;5;28mself\u001b[39m,\n\u001b[1;32m   (...)\u001b[0m\n\u001b[0;32m   5252\u001b[0m     errors: IgnoreRaise \u001b[38;5;241m=\u001b[39m \u001b[38;5;124m\"\u001b[39m\u001b[38;5;124mraise\u001b[39m\u001b[38;5;124m\"\u001b[39m,\n\u001b[0;32m   5253\u001b[0m ) \u001b[38;5;241m-\u001b[39m\u001b[38;5;241m>\u001b[39m DataFrame \u001b[38;5;241m|\u001b[39m \u001b[38;5;28;01mNone\u001b[39;00m:\n\u001b[0;32m   5254\u001b[0m     \u001b[38;5;124;03m\"\"\"\u001b[39;00m\n\u001b[0;32m   5255\u001b[0m \u001b[38;5;124;03m    Drop specified labels from rows or columns.\u001b[39;00m\n\u001b[0;32m   5256\u001b[0m \n\u001b[1;32m   (...)\u001b[0m\n\u001b[0;32m   5389\u001b[0m \u001b[38;5;124;03m            weight  1.0     0.8\u001b[39;00m\n\u001b[0;32m   5390\u001b[0m \u001b[38;5;124;03m    \"\"\"\u001b[39;00m\n\u001b[1;32m-> 5391\u001b[0m     \u001b[38;5;28;01mreturn\u001b[39;00m \u001b[38;5;28;43msuper\u001b[39;49m\u001b[43m(\u001b[49m\u001b[43m)\u001b[49m\u001b[38;5;241;43m.\u001b[39;49m\u001b[43mdrop\u001b[49m\u001b[43m(\u001b[49m\n\u001b[0;32m   5392\u001b[0m \u001b[43m        \u001b[49m\u001b[43mlabels\u001b[49m\u001b[38;5;241;43m=\u001b[39;49m\u001b[43mlabels\u001b[49m\u001b[43m,\u001b[49m\n\u001b[0;32m   5393\u001b[0m \u001b[43m        \u001b[49m\u001b[43maxis\u001b[49m\u001b[38;5;241;43m=\u001b[39;49m\u001b[43maxis\u001b[49m\u001b[43m,\u001b[49m\n\u001b[0;32m   5394\u001b[0m \u001b[43m        \u001b[49m\u001b[43mindex\u001b[49m\u001b[38;5;241;43m=\u001b[39;49m\u001b[43mindex\u001b[49m\u001b[43m,\u001b[49m\n\u001b[0;32m   5395\u001b[0m \u001b[43m        \u001b[49m\u001b[43mcolumns\u001b[49m\u001b[38;5;241;43m=\u001b[39;49m\u001b[43mcolumns\u001b[49m\u001b[43m,\u001b[49m\n\u001b[0;32m   5396\u001b[0m \u001b[43m        \u001b[49m\u001b[43mlevel\u001b[49m\u001b[38;5;241;43m=\u001b[39;49m\u001b[43mlevel\u001b[49m\u001b[43m,\u001b[49m\n\u001b[0;32m   5397\u001b[0m \u001b[43m        \u001b[49m\u001b[43minplace\u001b[49m\u001b[38;5;241;43m=\u001b[39;49m\u001b[43minplace\u001b[49m\u001b[43m,\u001b[49m\n\u001b[0;32m   5398\u001b[0m \u001b[43m        \u001b[49m\u001b[43merrors\u001b[49m\u001b[38;5;241;43m=\u001b[39;49m\u001b[43merrors\u001b[49m\u001b[43m,\u001b[49m\n\u001b[0;32m   5399\u001b[0m \u001b[43m    \u001b[49m\u001b[43m)\u001b[49m\n",
      "File \u001b[1;32m~\\miniconda3\\envs\\oceandatalab\\lib\\site-packages\\pandas\\util\\_decorators.py:317\u001b[0m, in \u001b[0;36mdeprecate_nonkeyword_arguments.<locals>.decorate.<locals>.wrapper\u001b[1;34m(*args, **kwargs)\u001b[0m\n\u001b[0;32m    311\u001b[0m \u001b[38;5;28;01mif\u001b[39;00m \u001b[38;5;28mlen\u001b[39m(args) \u001b[38;5;241m>\u001b[39m num_allow_args:\n\u001b[0;32m    312\u001b[0m     warnings\u001b[38;5;241m.\u001b[39mwarn(\n\u001b[0;32m    313\u001b[0m         msg\u001b[38;5;241m.\u001b[39mformat(arguments\u001b[38;5;241m=\u001b[39marguments),\n\u001b[0;32m    314\u001b[0m         \u001b[38;5;167;01mFutureWarning\u001b[39;00m,\n\u001b[0;32m    315\u001b[0m         stacklevel\u001b[38;5;241m=\u001b[39mfind_stack_level(inspect\u001b[38;5;241m.\u001b[39mcurrentframe()),\n\u001b[0;32m    316\u001b[0m     )\n\u001b[1;32m--> 317\u001b[0m \u001b[38;5;28;01mreturn\u001b[39;00m func(\u001b[38;5;241m*\u001b[39margs, \u001b[38;5;241m*\u001b[39m\u001b[38;5;241m*\u001b[39mkwargs)\n",
      "File \u001b[1;32m~\\miniconda3\\envs\\oceandatalab\\lib\\site-packages\\pandas\\core\\generic.py:4510\u001b[0m, in \u001b[0;36mNDFrame.drop\u001b[1;34m(self, labels, axis, index, columns, level, inplace, errors)\u001b[0m\n\u001b[0;32m   4508\u001b[0m \u001b[38;5;28;01mfor\u001b[39;00m axis, labels \u001b[38;5;129;01min\u001b[39;00m axes\u001b[38;5;241m.\u001b[39mitems():\n\u001b[0;32m   4509\u001b[0m     \u001b[38;5;28;01mif\u001b[39;00m labels \u001b[38;5;129;01mis\u001b[39;00m \u001b[38;5;129;01mnot\u001b[39;00m \u001b[38;5;28;01mNone\u001b[39;00m:\n\u001b[1;32m-> 4510\u001b[0m         obj \u001b[38;5;241m=\u001b[39m \u001b[43mobj\u001b[49m\u001b[38;5;241;43m.\u001b[39;49m\u001b[43m_drop_axis\u001b[49m\u001b[43m(\u001b[49m\u001b[43mlabels\u001b[49m\u001b[43m,\u001b[49m\u001b[43m \u001b[49m\u001b[43maxis\u001b[49m\u001b[43m,\u001b[49m\u001b[43m \u001b[49m\u001b[43mlevel\u001b[49m\u001b[38;5;241;43m=\u001b[39;49m\u001b[43mlevel\u001b[49m\u001b[43m,\u001b[49m\u001b[43m \u001b[49m\u001b[43merrors\u001b[49m\u001b[38;5;241;43m=\u001b[39;49m\u001b[43merrors\u001b[49m\u001b[43m)\u001b[49m\n\u001b[0;32m   4512\u001b[0m \u001b[38;5;28;01mif\u001b[39;00m inplace:\n\u001b[0;32m   4513\u001b[0m     \u001b[38;5;28mself\u001b[39m\u001b[38;5;241m.\u001b[39m_update_inplace(obj)\n",
      "File \u001b[1;32m~\\miniconda3\\envs\\oceandatalab\\lib\\site-packages\\pandas\\core\\generic.py:4551\u001b[0m, in \u001b[0;36mNDFrame._drop_axis\u001b[1;34m(self, labels, axis, level, errors, only_slice)\u001b[0m\n\u001b[0;32m   4549\u001b[0m         new_axis \u001b[38;5;241m=\u001b[39m axis\u001b[38;5;241m.\u001b[39mdrop(labels, level\u001b[38;5;241m=\u001b[39mlevel, errors\u001b[38;5;241m=\u001b[39merrors)\n\u001b[0;32m   4550\u001b[0m     \u001b[38;5;28;01melse\u001b[39;00m:\n\u001b[1;32m-> 4551\u001b[0m         new_axis \u001b[38;5;241m=\u001b[39m \u001b[43maxis\u001b[49m\u001b[38;5;241;43m.\u001b[39;49m\u001b[43mdrop\u001b[49m\u001b[43m(\u001b[49m\u001b[43mlabels\u001b[49m\u001b[43m,\u001b[49m\u001b[43m \u001b[49m\u001b[43merrors\u001b[49m\u001b[38;5;241;43m=\u001b[39;49m\u001b[43merrors\u001b[49m\u001b[43m)\u001b[49m\n\u001b[0;32m   4552\u001b[0m     indexer \u001b[38;5;241m=\u001b[39m axis\u001b[38;5;241m.\u001b[39mget_indexer(new_axis)\n\u001b[0;32m   4554\u001b[0m \u001b[38;5;66;03m# Case for non-unique axis\u001b[39;00m\n\u001b[0;32m   4555\u001b[0m \u001b[38;5;28;01melse\u001b[39;00m:\n",
      "File \u001b[1;32m~\\miniconda3\\envs\\oceandatalab\\lib\\site-packages\\pandas\\core\\indexes\\base.py:6972\u001b[0m, in \u001b[0;36mIndex.drop\u001b[1;34m(self, labels, errors)\u001b[0m\n\u001b[0;32m   6970\u001b[0m \u001b[38;5;28;01mif\u001b[39;00m mask\u001b[38;5;241m.\u001b[39many():\n\u001b[0;32m   6971\u001b[0m     \u001b[38;5;28;01mif\u001b[39;00m errors \u001b[38;5;241m!=\u001b[39m \u001b[38;5;124m\"\u001b[39m\u001b[38;5;124mignore\u001b[39m\u001b[38;5;124m\"\u001b[39m:\n\u001b[1;32m-> 6972\u001b[0m         \u001b[38;5;28;01mraise\u001b[39;00m \u001b[38;5;167;01mKeyError\u001b[39;00m(\u001b[38;5;124mf\u001b[39m\u001b[38;5;124m\"\u001b[39m\u001b[38;5;132;01m{\u001b[39;00m\u001b[38;5;28mlist\u001b[39m(labels[mask])\u001b[38;5;132;01m}\u001b[39;00m\u001b[38;5;124m not found in axis\u001b[39m\u001b[38;5;124m\"\u001b[39m)\n\u001b[0;32m   6973\u001b[0m     indexer \u001b[38;5;241m=\u001b[39m indexer[\u001b[38;5;241m~\u001b[39mmask]\n\u001b[0;32m   6974\u001b[0m \u001b[38;5;28;01mreturn\u001b[39;00m \u001b[38;5;28mself\u001b[39m\u001b[38;5;241m.\u001b[39mdelete(indexer)\n",
      "\u001b[1;31mKeyError\u001b[0m: \"['VESSEL TYPE'] not found in axis\""
     ]
    }
   ],
   "source": [
    "ais.drop('VESSEL TYPE',axis=1,inplace=True)"
   ]
  },
  {
   "cell_type": "code",
   "execution_count": 108,
   "id": "bed2f05b",
   "metadata": {},
   "outputs": [],
   "source": [
    "ais.rename(columns={'Description':'VESSEL TYPE'},inplace=True)\n"
   ]
  },
  {
   "cell_type": "code",
   "execution_count": 109,
   "id": "d838bed1",
   "metadata": {},
   "outputs": [
    {
     "data": {
      "text/html": [
       "<div>\n",
       "<style scoped>\n",
       "    .dataframe tbody tr th:only-of-type {\n",
       "        vertical-align: middle;\n",
       "    }\n",
       "\n",
       "    .dataframe tbody tr th {\n",
       "        vertical-align: top;\n",
       "    }\n",
       "\n",
       "    .dataframe thead th {\n",
       "        text-align: right;\n",
       "    }\n",
       "</style>\n",
       "<table border=\"1\" class=\"dataframe\">\n",
       "  <thead>\n",
       "    <tr style=\"text-align: right;\">\n",
       "      <th></th>\n",
       "      <th>MMSI</th>\n",
       "      <th>BaseDateTime</th>\n",
       "      <th>LAT</th>\n",
       "      <th>LON</th>\n",
       "      <th>SOG</th>\n",
       "      <th>COG</th>\n",
       "      <th>Heading</th>\n",
       "      <th>VesselName</th>\n",
       "      <th>IMO</th>\n",
       "      <th>CallSign</th>\n",
       "      <th>...</th>\n",
       "      <th>ship_Loc</th>\n",
       "      <th>Southern_hydrate_Lat</th>\n",
       "      <th>Southern_hydrate_lon</th>\n",
       "      <th>Southern_hydrate_Loc</th>\n",
       "      <th>distance(in km) oregon</th>\n",
       "      <th>distance(in km) hydrate</th>\n",
       "      <th>Type Code</th>\n",
       "      <th>VESSEL TYPE</th>\n",
       "      <th>Group</th>\n",
       "      <th>group3</th>\n",
       "    </tr>\n",
       "  </thead>\n",
       "  <tbody>\n",
       "    <tr>\n",
       "      <th>0</th>\n",
       "      <td>636092819</td>\n",
       "      <td>2021-01-01T00:17:40</td>\n",
       "      <td>44.56820</td>\n",
       "      <td>-125.62248</td>\n",
       "      <td>11.0</td>\n",
       "      <td>180.6</td>\n",
       "      <td>181.0</td>\n",
       "      <td>NaN</td>\n",
       "      <td>NaN</td>\n",
       "      <td>NaN</td>\n",
       "      <td>...</td>\n",
       "      <td>(44.5682, -125.62248)</td>\n",
       "      <td>44.5691</td>\n",
       "      <td>-125.1481</td>\n",
       "      <td>(44.5691, -125.1481)</td>\n",
       "      <td>19.40</td>\n",
       "      <td>37.68</td>\n",
       "      <td>NaN</td>\n",
       "      <td>NaN</td>\n",
       "      <td>NaN</td>\n",
       "      <td>NaN</td>\n",
       "    </tr>\n",
       "    <tr>\n",
       "      <th>1</th>\n",
       "      <td>636092819</td>\n",
       "      <td>2021-01-01T00:19:00</td>\n",
       "      <td>44.56414</td>\n",
       "      <td>-125.62273</td>\n",
       "      <td>11.1</td>\n",
       "      <td>187.9</td>\n",
       "      <td>180.0</td>\n",
       "      <td>NaN</td>\n",
       "      <td>NaN</td>\n",
       "      <td>NaN</td>\n",
       "      <td>...</td>\n",
       "      <td>(44.56414, -125.62273)</td>\n",
       "      <td>44.5691</td>\n",
       "      <td>-125.1481</td>\n",
       "      <td>(44.5691, -125.1481)</td>\n",
       "      <td>19.29</td>\n",
       "      <td>37.71</td>\n",
       "      <td>NaN</td>\n",
       "      <td>NaN</td>\n",
       "      <td>NaN</td>\n",
       "      <td>NaN</td>\n",
       "    </tr>\n",
       "    <tr>\n",
       "      <th>2</th>\n",
       "      <td>636092819</td>\n",
       "      <td>2021-01-01T00:20:08</td>\n",
       "      <td>44.56068</td>\n",
       "      <td>-125.62271</td>\n",
       "      <td>11.4</td>\n",
       "      <td>162.9</td>\n",
       "      <td>179.0</td>\n",
       "      <td>NaN</td>\n",
       "      <td>NaN</td>\n",
       "      <td>NaN</td>\n",
       "      <td>...</td>\n",
       "      <td>(44.56068, -125.62271)</td>\n",
       "      <td>44.5691</td>\n",
       "      <td>-125.1481</td>\n",
       "      <td>(44.5691, -125.1481)</td>\n",
       "      <td>19.19</td>\n",
       "      <td>37.72</td>\n",
       "      <td>NaN</td>\n",
       "      <td>NaN</td>\n",
       "      <td>NaN</td>\n",
       "      <td>NaN</td>\n",
       "    </tr>\n",
       "    <tr>\n",
       "      <th>3</th>\n",
       "      <td>636092819</td>\n",
       "      <td>2021-01-01T00:22:19</td>\n",
       "      <td>44.55397</td>\n",
       "      <td>-125.62281</td>\n",
       "      <td>10.9</td>\n",
       "      <td>186.6</td>\n",
       "      <td>182.0</td>\n",
       "      <td>NaN</td>\n",
       "      <td>NaN</td>\n",
       "      <td>NaN</td>\n",
       "      <td>...</td>\n",
       "      <td>(44.55397, -125.62281)</td>\n",
       "      <td>44.5691</td>\n",
       "      <td>-125.1481</td>\n",
       "      <td>(44.5691, -125.1481)</td>\n",
       "      <td>19.01</td>\n",
       "      <td>37.75</td>\n",
       "      <td>NaN</td>\n",
       "      <td>NaN</td>\n",
       "      <td>NaN</td>\n",
       "      <td>NaN</td>\n",
       "    </tr>\n",
       "    <tr>\n",
       "      <th>4</th>\n",
       "      <td>636092819</td>\n",
       "      <td>2021-01-01T00:24:00</td>\n",
       "      <td>44.54881</td>\n",
       "      <td>-125.62310</td>\n",
       "      <td>10.8</td>\n",
       "      <td>177.9</td>\n",
       "      <td>180.0</td>\n",
       "      <td>NaN</td>\n",
       "      <td>NaN</td>\n",
       "      <td>NaN</td>\n",
       "      <td>...</td>\n",
       "      <td>(44.54881, -125.6231)</td>\n",
       "      <td>44.5691</td>\n",
       "      <td>-125.1481</td>\n",
       "      <td>(44.5691, -125.1481)</td>\n",
       "      <td>18.91</td>\n",
       "      <td>37.81</td>\n",
       "      <td>NaN</td>\n",
       "      <td>NaN</td>\n",
       "      <td>NaN</td>\n",
       "      <td>NaN</td>\n",
       "    </tr>\n",
       "  </tbody>\n",
       "</table>\n",
       "<p>5 rows × 30 columns</p>\n",
       "</div>"
      ],
      "text/plain": [
       "        MMSI         BaseDateTime       LAT        LON   SOG    COG  Heading  \\\n",
       "0  636092819  2021-01-01T00:17:40  44.56820 -125.62248  11.0  180.6    181.0   \n",
       "1  636092819  2021-01-01T00:19:00  44.56414 -125.62273  11.1  187.9    180.0   \n",
       "2  636092819  2021-01-01T00:20:08  44.56068 -125.62271  11.4  162.9    179.0   \n",
       "3  636092819  2021-01-01T00:22:19  44.55397 -125.62281  10.9  186.6    182.0   \n",
       "4  636092819  2021-01-01T00:24:00  44.54881 -125.62310  10.8  177.9    180.0   \n",
       "\n",
       "  VesselName  IMO CallSign  ...                ship_Loc  Southern_hydrate_Lat  \\\n",
       "0        NaN  NaN      NaN  ...   (44.5682, -125.62248)               44.5691   \n",
       "1        NaN  NaN      NaN  ...  (44.56414, -125.62273)               44.5691   \n",
       "2        NaN  NaN      NaN  ...  (44.56068, -125.62271)               44.5691   \n",
       "3        NaN  NaN      NaN  ...  (44.55397, -125.62281)               44.5691   \n",
       "4        NaN  NaN      NaN  ...   (44.54881, -125.6231)               44.5691   \n",
       "\n",
       "   Southern_hydrate_lon  Southern_hydrate_Loc  distance(in km) oregon  \\\n",
       "0             -125.1481  (44.5691, -125.1481)                   19.40   \n",
       "1             -125.1481  (44.5691, -125.1481)                   19.29   \n",
       "2             -125.1481  (44.5691, -125.1481)                   19.19   \n",
       "3             -125.1481  (44.5691, -125.1481)                   19.01   \n",
       "4             -125.1481  (44.5691, -125.1481)                   18.91   \n",
       "\n",
       "  distance(in km) hydrate Type Code  VESSEL TYPE  Group group3  \n",
       "0                   37.68       NaN          NaN    NaN    NaN  \n",
       "1                   37.71       NaN          NaN    NaN    NaN  \n",
       "2                   37.72       NaN          NaN    NaN    NaN  \n",
       "3                   37.75       NaN          NaN    NaN    NaN  \n",
       "4                   37.81       NaN          NaN    NaN    NaN  \n",
       "\n",
       "[5 rows x 30 columns]"
      ]
     },
     "execution_count": 109,
     "metadata": {},
     "output_type": "execute_result"
    }
   ],
   "source": [
    "ais.head()"
   ]
  },
  {
   "cell_type": "markdown",
   "id": "37cac0a8",
   "metadata": {},
   "source": [
    "### Export the dataframe to csv"
   ]
  },
  {
   "cell_type": "code",
   "execution_count": 110,
   "id": "62faa5dd",
   "metadata": {},
   "outputs": [],
   "source": [
    "ais.to_csv('E:/Acer backup 3/internships and jobs/UW/Reader grader and TA/Shima Abadi/Data/oregon_hydrate.csv')"
   ]
  },
  {
   "cell_type": "code",
   "execution_count": 106,
   "id": "be874a5b",
   "metadata": {},
   "outputs": [
    {
     "data": {
      "text/html": [
       "<div>\n",
       "<style scoped>\n",
       "    .dataframe tbody tr th:only-of-type {\n",
       "        vertical-align: middle;\n",
       "    }\n",
       "\n",
       "    .dataframe tbody tr th {\n",
       "        vertical-align: top;\n",
       "    }\n",
       "\n",
       "    .dataframe thead th {\n",
       "        text-align: right;\n",
       "    }\n",
       "</style>\n",
       "<table border=\"1\" class=\"dataframe\">\n",
       "  <thead>\n",
       "    <tr style=\"text-align: right;\">\n",
       "      <th></th>\n",
       "      <th>MMSI</th>\n",
       "      <th>BaseDateTime</th>\n",
       "      <th>LAT</th>\n",
       "      <th>LON</th>\n",
       "      <th>SOG</th>\n",
       "      <th>COG</th>\n",
       "      <th>Heading</th>\n",
       "      <th>VesselName</th>\n",
       "      <th>IMO</th>\n",
       "      <th>CallSign</th>\n",
       "      <th>...</th>\n",
       "      <th>ship_Loc</th>\n",
       "      <th>Southern_hydrate_Lat</th>\n",
       "      <th>Southern_hydrate_lon</th>\n",
       "      <th>Southern_hydrate_Loc</th>\n",
       "      <th>distance(in km) oregon</th>\n",
       "      <th>distance(in km) hydrate</th>\n",
       "      <th>Type Code</th>\n",
       "      <th>Description</th>\n",
       "      <th>Group</th>\n",
       "      <th>group3</th>\n",
       "    </tr>\n",
       "  </thead>\n",
       "  <tbody>\n",
       "    <tr>\n",
       "      <th>0</th>\n",
       "      <td>636092819</td>\n",
       "      <td>2021-01-01T00:17:40</td>\n",
       "      <td>44.56820</td>\n",
       "      <td>-125.62248</td>\n",
       "      <td>11.0</td>\n",
       "      <td>180.6</td>\n",
       "      <td>181.0</td>\n",
       "      <td>NaN</td>\n",
       "      <td>NaN</td>\n",
       "      <td>NaN</td>\n",
       "      <td>...</td>\n",
       "      <td>(44.5682, -125.62248)</td>\n",
       "      <td>44.5691</td>\n",
       "      <td>-125.1481</td>\n",
       "      <td>(44.5691, -125.1481)</td>\n",
       "      <td>19.40</td>\n",
       "      <td>37.68</td>\n",
       "      <td>NaN</td>\n",
       "      <td>NaN</td>\n",
       "      <td>NaN</td>\n",
       "      <td>NaN</td>\n",
       "    </tr>\n",
       "    <tr>\n",
       "      <th>1</th>\n",
       "      <td>636092819</td>\n",
       "      <td>2021-01-01T00:19:00</td>\n",
       "      <td>44.56414</td>\n",
       "      <td>-125.62273</td>\n",
       "      <td>11.1</td>\n",
       "      <td>187.9</td>\n",
       "      <td>180.0</td>\n",
       "      <td>NaN</td>\n",
       "      <td>NaN</td>\n",
       "      <td>NaN</td>\n",
       "      <td>...</td>\n",
       "      <td>(44.56414, -125.62273)</td>\n",
       "      <td>44.5691</td>\n",
       "      <td>-125.1481</td>\n",
       "      <td>(44.5691, -125.1481)</td>\n",
       "      <td>19.29</td>\n",
       "      <td>37.71</td>\n",
       "      <td>NaN</td>\n",
       "      <td>NaN</td>\n",
       "      <td>NaN</td>\n",
       "      <td>NaN</td>\n",
       "    </tr>\n",
       "    <tr>\n",
       "      <th>2</th>\n",
       "      <td>636092819</td>\n",
       "      <td>2021-01-01T00:20:08</td>\n",
       "      <td>44.56068</td>\n",
       "      <td>-125.62271</td>\n",
       "      <td>11.4</td>\n",
       "      <td>162.9</td>\n",
       "      <td>179.0</td>\n",
       "      <td>NaN</td>\n",
       "      <td>NaN</td>\n",
       "      <td>NaN</td>\n",
       "      <td>...</td>\n",
       "      <td>(44.56068, -125.62271)</td>\n",
       "      <td>44.5691</td>\n",
       "      <td>-125.1481</td>\n",
       "      <td>(44.5691, -125.1481)</td>\n",
       "      <td>19.19</td>\n",
       "      <td>37.72</td>\n",
       "      <td>NaN</td>\n",
       "      <td>NaN</td>\n",
       "      <td>NaN</td>\n",
       "      <td>NaN</td>\n",
       "    </tr>\n",
       "    <tr>\n",
       "      <th>3</th>\n",
       "      <td>636092819</td>\n",
       "      <td>2021-01-01T00:22:19</td>\n",
       "      <td>44.55397</td>\n",
       "      <td>-125.62281</td>\n",
       "      <td>10.9</td>\n",
       "      <td>186.6</td>\n",
       "      <td>182.0</td>\n",
       "      <td>NaN</td>\n",
       "      <td>NaN</td>\n",
       "      <td>NaN</td>\n",
       "      <td>...</td>\n",
       "      <td>(44.55397, -125.62281)</td>\n",
       "      <td>44.5691</td>\n",
       "      <td>-125.1481</td>\n",
       "      <td>(44.5691, -125.1481)</td>\n",
       "      <td>19.01</td>\n",
       "      <td>37.75</td>\n",
       "      <td>NaN</td>\n",
       "      <td>NaN</td>\n",
       "      <td>NaN</td>\n",
       "      <td>NaN</td>\n",
       "    </tr>\n",
       "    <tr>\n",
       "      <th>4</th>\n",
       "      <td>636092819</td>\n",
       "      <td>2021-01-01T00:24:00</td>\n",
       "      <td>44.54881</td>\n",
       "      <td>-125.62310</td>\n",
       "      <td>10.8</td>\n",
       "      <td>177.9</td>\n",
       "      <td>180.0</td>\n",
       "      <td>NaN</td>\n",
       "      <td>NaN</td>\n",
       "      <td>NaN</td>\n",
       "      <td>...</td>\n",
       "      <td>(44.54881, -125.6231)</td>\n",
       "      <td>44.5691</td>\n",
       "      <td>-125.1481</td>\n",
       "      <td>(44.5691, -125.1481)</td>\n",
       "      <td>18.91</td>\n",
       "      <td>37.81</td>\n",
       "      <td>NaN</td>\n",
       "      <td>NaN</td>\n",
       "      <td>NaN</td>\n",
       "      <td>NaN</td>\n",
       "    </tr>\n",
       "  </tbody>\n",
       "</table>\n",
       "<p>5 rows × 30 columns</p>\n",
       "</div>"
      ],
      "text/plain": [
       "        MMSI         BaseDateTime       LAT        LON   SOG    COG  Heading  \\\n",
       "0  636092819  2021-01-01T00:17:40  44.56820 -125.62248  11.0  180.6    181.0   \n",
       "1  636092819  2021-01-01T00:19:00  44.56414 -125.62273  11.1  187.9    180.0   \n",
       "2  636092819  2021-01-01T00:20:08  44.56068 -125.62271  11.4  162.9    179.0   \n",
       "3  636092819  2021-01-01T00:22:19  44.55397 -125.62281  10.9  186.6    182.0   \n",
       "4  636092819  2021-01-01T00:24:00  44.54881 -125.62310  10.8  177.9    180.0   \n",
       "\n",
       "  VesselName  IMO CallSign  ...                ship_Loc  Southern_hydrate_Lat  \\\n",
       "0        NaN  NaN      NaN  ...   (44.5682, -125.62248)               44.5691   \n",
       "1        NaN  NaN      NaN  ...  (44.56414, -125.62273)               44.5691   \n",
       "2        NaN  NaN      NaN  ...  (44.56068, -125.62271)               44.5691   \n",
       "3        NaN  NaN      NaN  ...  (44.55397, -125.62281)               44.5691   \n",
       "4        NaN  NaN      NaN  ...   (44.54881, -125.6231)               44.5691   \n",
       "\n",
       "   Southern_hydrate_lon  Southern_hydrate_Loc  distance(in km) oregon  \\\n",
       "0             -125.1481  (44.5691, -125.1481)                   19.40   \n",
       "1             -125.1481  (44.5691, -125.1481)                   19.29   \n",
       "2             -125.1481  (44.5691, -125.1481)                   19.19   \n",
       "3             -125.1481  (44.5691, -125.1481)                   19.01   \n",
       "4             -125.1481  (44.5691, -125.1481)                   18.91   \n",
       "\n",
       "  distance(in km) hydrate Type Code  Description  Group group3  \n",
       "0                   37.68       NaN          NaN    NaN    NaN  \n",
       "1                   37.71       NaN          NaN    NaN    NaN  \n",
       "2                   37.72       NaN          NaN    NaN    NaN  \n",
       "3                   37.75       NaN          NaN    NaN    NaN  \n",
       "4                   37.81       NaN          NaN    NaN    NaN  \n",
       "\n",
       "[5 rows x 30 columns]"
      ]
     },
     "execution_count": 106,
     "metadata": {},
     "output_type": "execute_result"
    }
   ],
   "source": [
    "ais.head()"
   ]
  },
  {
   "cell_type": "code",
   "execution_count": 74,
   "id": "d9f545b0-fa48-4efb-a1c0-445680c1bdef",
   "metadata": {},
   "outputs": [
    {
     "data": {
      "text/plain": [
       "Index(['MMSI', 'BaseDateTime', 'LAT', 'LON', 'SOG', 'COG', 'Heading',\n",
       "       'VesselName', 'IMO', 'CallSign', 'VESSEL TYPE', 'Status', 'LENGTH',\n",
       "       'Width', 'Draft', 'Cargo', 'TransceiverClass', 'TIMESTAMP UTC',\n",
       "       'oregon_slope_Lat', 'oregon_slope_Lon', 'oregon_slope_Loc', 'ship_Loc',\n",
       "       'Southern_hydrate_Lat', 'Southern_hydrate_lon', 'Southern_hydrate_Loc',\n",
       "       'distance(in km) oregon', 'distance(in km) hydrate'],\n",
       "      dtype='object')"
      ]
     },
     "execution_count": 74,
     "metadata": {},
     "output_type": "execute_result"
    }
   ],
   "source": [
    "ais.columns"
   ]
  },
  {
   "cell_type": "code",
   "execution_count": 58,
   "id": "523d9ea6-a206-4b25-be66-af57d7028a82",
   "metadata": {},
   "outputs": [
    {
     "data": {
      "text/html": [
       "<div>\n",
       "<style scoped>\n",
       "    .dataframe tbody tr th:only-of-type {\n",
       "        vertical-align: middle;\n",
       "    }\n",
       "\n",
       "    .dataframe tbody tr th {\n",
       "        vertical-align: top;\n",
       "    }\n",
       "\n",
       "    .dataframe thead th {\n",
       "        text-align: right;\n",
       "    }\n",
       "</style>\n",
       "<table border=\"1\" class=\"dataframe\">\n",
       "  <thead>\n",
       "    <tr style=\"text-align: right;\">\n",
       "      <th></th>\n",
       "      <th>MMSI</th>\n",
       "      <th>LAT</th>\n",
       "      <th>LON</th>\n",
       "      <th>SOG</th>\n",
       "      <th>COG</th>\n",
       "      <th>Heading</th>\n",
       "      <th>VesselType</th>\n",
       "      <th>Status</th>\n",
       "      <th>Length</th>\n",
       "      <th>Width</th>\n",
       "      <th>Draft</th>\n",
       "      <th>Cargo</th>\n",
       "      <th>oregon_slope_Lat</th>\n",
       "      <th>oregon_slope_Lon</th>\n",
       "      <th>Southern_hydrate_Lat</th>\n",
       "      <th>Southern_hydrate_lon</th>\n",
       "      <th>distance(in km) oregon</th>\n",
       "      <th>distance(in km) hydrate</th>\n",
       "    </tr>\n",
       "  </thead>\n",
       "  <tbody>\n",
       "    <tr>\n",
       "      <th>count</th>\n",
       "      <td>7.081980e+05</td>\n",
       "      <td>708198.000000</td>\n",
       "      <td>708198.000000</td>\n",
       "      <td>708198.000000</td>\n",
       "      <td>708198.000000</td>\n",
       "      <td>708198.000000</td>\n",
       "      <td>667091.000000</td>\n",
       "      <td>685333.00000</td>\n",
       "      <td>633485.000000</td>\n",
       "      <td>600947.000000</td>\n",
       "      <td>527392.000000</td>\n",
       "      <td>464371.000000</td>\n",
       "      <td>7.081980e+05</td>\n",
       "      <td>7.081980e+05</td>\n",
       "      <td>7.081980e+05</td>\n",
       "      <td>7.081980e+05</td>\n",
       "      <td>708198.000000</td>\n",
       "      <td>708198.000000</td>\n",
       "    </tr>\n",
       "    <tr>\n",
       "      <th>mean</th>\n",
       "      <td>3.913542e+08</td>\n",
       "      <td>44.473627</td>\n",
       "      <td>-125.340132</td>\n",
       "      <td>11.366653</td>\n",
       "      <td>193.214785</td>\n",
       "      <td>200.583258</td>\n",
       "      <td>217.882123</td>\n",
       "      <td>0.79444</td>\n",
       "      <td>169.728583</td>\n",
       "      <td>25.697659</td>\n",
       "      <td>9.571524</td>\n",
       "      <td>67.391904</td>\n",
       "      <td>4.451530e+01</td>\n",
       "      <td>-1.253898e+02</td>\n",
       "      <td>4.456910e+01</td>\n",
       "      <td>-1.251481e+02</td>\n",
       "      <td>27.083923</td>\n",
       "      <td>29.947016</td>\n",
       "    </tr>\n",
       "    <tr>\n",
       "      <th>std</th>\n",
       "      <td>1.055504e+08</td>\n",
       "      <td>0.195497</td>\n",
       "      <td>0.233476</td>\n",
       "      <td>5.713701</td>\n",
       "      <td>117.508319</td>\n",
       "      <td>139.918078</td>\n",
       "      <td>347.949325</td>\n",
       "      <td>2.62570</td>\n",
       "      <td>100.121027</td>\n",
       "      <td>11.612829</td>\n",
       "      <td>3.767022</td>\n",
       "      <td>21.324738</td>\n",
       "      <td>1.421086e-14</td>\n",
       "      <td>1.563195e-13</td>\n",
       "      <td>6.394889e-14</td>\n",
       "      <td>1.563195e-13</td>\n",
       "      <td>10.969648</td>\n",
       "      <td>16.286508</td>\n",
       "    </tr>\n",
       "    <tr>\n",
       "      <th>min</th>\n",
       "      <td>3.696810e+07</td>\n",
       "      <td>44.142890</td>\n",
       "      <td>-125.899560</td>\n",
       "      <td>0.000000</td>\n",
       "      <td>0.000000</td>\n",
       "      <td>0.000000</td>\n",
       "      <td>0.000000</td>\n",
       "      <td>0.00000</td>\n",
       "      <td>0.000000</td>\n",
       "      <td>0.000000</td>\n",
       "      <td>-12.800000</td>\n",
       "      <td>0.000000</td>\n",
       "      <td>4.451530e+01</td>\n",
       "      <td>-1.253898e+02</td>\n",
       "      <td>4.456910e+01</td>\n",
       "      <td>-1.251481e+02</td>\n",
       "      <td>0.000000</td>\n",
       "      <td>0.000000</td>\n",
       "    </tr>\n",
       "    <tr>\n",
       "      <th>25%</th>\n",
       "      <td>3.382527e+08</td>\n",
       "      <td>44.302310</td>\n",
       "      <td>-125.501490</td>\n",
       "      <td>8.500000</td>\n",
       "      <td>162.800000</td>\n",
       "      <td>133.000000</td>\n",
       "      <td>70.000000</td>\n",
       "      <td>0.00000</td>\n",
       "      <td>72.250000</td>\n",
       "      <td>15.000000</td>\n",
       "      <td>5.800000</td>\n",
       "      <td>70.000000</td>\n",
       "      <td>4.451530e+01</td>\n",
       "      <td>-1.253898e+02</td>\n",
       "      <td>4.456910e+01</td>\n",
       "      <td>-1.251481e+02</td>\n",
       "      <td>19.540000</td>\n",
       "      <td>16.220000</td>\n",
       "    </tr>\n",
       "    <tr>\n",
       "      <th>50%</th>\n",
       "      <td>3.673531e+08</td>\n",
       "      <td>44.477340</td>\n",
       "      <td>-125.273950</td>\n",
       "      <td>12.100000</td>\n",
       "      <td>179.900000</td>\n",
       "      <td>180.000000</td>\n",
       "      <td>70.000000</td>\n",
       "      <td>0.00000</td>\n",
       "      <td>183.000000</td>\n",
       "      <td>31.000000</td>\n",
       "      <td>10.000000</td>\n",
       "      <td>70.000000</td>\n",
       "      <td>4.451530e+01</td>\n",
       "      <td>-1.253898e+02</td>\n",
       "      <td>4.456910e+01</td>\n",
       "      <td>-1.251481e+02</td>\n",
       "      <td>27.580000</td>\n",
       "      <td>28.600000</td>\n",
       "    </tr>\n",
       "    <tr>\n",
       "      <th>75%</th>\n",
       "      <td>4.401410e+08</td>\n",
       "      <td>44.634940</td>\n",
       "      <td>-125.154100</td>\n",
       "      <td>14.600000</td>\n",
       "      <td>311.700000</td>\n",
       "      <td>350.000000</td>\n",
       "      <td>90.000000</td>\n",
       "      <td>0.00000</td>\n",
       "      <td>262.000000</td>\n",
       "      <td>32.000000</td>\n",
       "      <td>12.900000</td>\n",
       "      <td>80.000000</td>\n",
       "      <td>4.451530e+01</td>\n",
       "      <td>-1.253898e+02</td>\n",
       "      <td>4.456910e+01</td>\n",
       "      <td>-1.251481e+02</td>\n",
       "      <td>35.330000</td>\n",
       "      <td>42.910000</td>\n",
       "    </tr>\n",
       "    <tr>\n",
       "      <th>max</th>\n",
       "      <td>1.000000e+09</td>\n",
       "      <td>44.836190</td>\n",
       "      <td>-125.031230</td>\n",
       "      <td>102.300000</td>\n",
       "      <td>360.000000</td>\n",
       "      <td>511.000000</td>\n",
       "      <td>1025.000000</td>\n",
       "      <td>15.00000</td>\n",
       "      <td>366.000000</td>\n",
       "      <td>76.000000</td>\n",
       "      <td>21.900000</td>\n",
       "      <td>159.000000</td>\n",
       "      <td>4.451530e+01</td>\n",
       "      <td>-1.253898e+02</td>\n",
       "      <td>4.456910e+01</td>\n",
       "      <td>-1.251481e+02</td>\n",
       "      <td>57.890000</td>\n",
       "      <td>76.260000</td>\n",
       "    </tr>\n",
       "  </tbody>\n",
       "</table>\n",
       "</div>"
      ],
      "text/plain": [
       "               MMSI            LAT            LON            SOG  \\\n",
       "count  7.081980e+05  708198.000000  708198.000000  708198.000000   \n",
       "mean   3.913542e+08      44.473627    -125.340132      11.366653   \n",
       "std    1.055504e+08       0.195497       0.233476       5.713701   \n",
       "min    3.696810e+07      44.142890    -125.899560       0.000000   \n",
       "25%    3.382527e+08      44.302310    -125.501490       8.500000   \n",
       "50%    3.673531e+08      44.477340    -125.273950      12.100000   \n",
       "75%    4.401410e+08      44.634940    -125.154100      14.600000   \n",
       "max    1.000000e+09      44.836190    -125.031230     102.300000   \n",
       "\n",
       "                 COG        Heading     VesselType        Status  \\\n",
       "count  708198.000000  708198.000000  667091.000000  685333.00000   \n",
       "mean      193.214785     200.583258     217.882123       0.79444   \n",
       "std       117.508319     139.918078     347.949325       2.62570   \n",
       "min         0.000000       0.000000       0.000000       0.00000   \n",
       "25%       162.800000     133.000000      70.000000       0.00000   \n",
       "50%       179.900000     180.000000      70.000000       0.00000   \n",
       "75%       311.700000     350.000000      90.000000       0.00000   \n",
       "max       360.000000     511.000000    1025.000000      15.00000   \n",
       "\n",
       "              Length          Width          Draft          Cargo  \\\n",
       "count  633485.000000  600947.000000  527392.000000  464371.000000   \n",
       "mean      169.728583      25.697659       9.571524      67.391904   \n",
       "std       100.121027      11.612829       3.767022      21.324738   \n",
       "min         0.000000       0.000000     -12.800000       0.000000   \n",
       "25%        72.250000      15.000000       5.800000      70.000000   \n",
       "50%       183.000000      31.000000      10.000000      70.000000   \n",
       "75%       262.000000      32.000000      12.900000      80.000000   \n",
       "max       366.000000      76.000000      21.900000     159.000000   \n",
       "\n",
       "       oregon_slope_Lat  oregon_slope_Lon  Southern_hydrate_Lat  \\\n",
       "count      7.081980e+05      7.081980e+05          7.081980e+05   \n",
       "mean       4.451530e+01     -1.253898e+02          4.456910e+01   \n",
       "std        1.421086e-14      1.563195e-13          6.394889e-14   \n",
       "min        4.451530e+01     -1.253898e+02          4.456910e+01   \n",
       "25%        4.451530e+01     -1.253898e+02          4.456910e+01   \n",
       "50%        4.451530e+01     -1.253898e+02          4.456910e+01   \n",
       "75%        4.451530e+01     -1.253898e+02          4.456910e+01   \n",
       "max        4.451530e+01     -1.253898e+02          4.456910e+01   \n",
       "\n",
       "       Southern_hydrate_lon  distance(in km) oregon  distance(in km) hydrate  \n",
       "count          7.081980e+05           708198.000000            708198.000000  \n",
       "mean          -1.251481e+02               27.083923                29.947016  \n",
       "std            1.563195e-13               10.969648                16.286508  \n",
       "min           -1.251481e+02                0.000000                 0.000000  \n",
       "25%           -1.251481e+02               19.540000                16.220000  \n",
       "50%           -1.251481e+02               27.580000                28.600000  \n",
       "75%           -1.251481e+02               35.330000                42.910000  \n",
       "max           -1.251481e+02               57.890000                76.260000  "
      ]
     },
     "execution_count": 58,
     "metadata": {},
     "output_type": "execute_result"
    }
   ],
   "source": [
    "ais.describe()"
   ]
  },
  {
   "cell_type": "code",
   "execution_count": 59,
   "id": "3632a40c-5b42-43aa-8a54-0cfe60ee8427",
   "metadata": {},
   "outputs": [
    {
     "data": {
      "text/plain": [
       "MMSI                            0\n",
       "BaseDateTime                    0\n",
       "LAT                             0\n",
       "LON                             0\n",
       "SOG                             0\n",
       "COG                             0\n",
       "Heading                         0\n",
       "VesselName                  35207\n",
       "IMO                         73942\n",
       "CallSign                    39963\n",
       "VesselType                  41107\n",
       "Status                      22865\n",
       "Length                      74713\n",
       "Width                      107251\n",
       "Draft                      180806\n",
       "Cargo                      243827\n",
       "TransceiverClass           112549\n",
       "TIMESTAMP UTC                   0\n",
       "oregon_slope_Lat                0\n",
       "oregon_slope_Lon                0\n",
       "oregon_slope_Loc                0\n",
       "ship_Loc                        0\n",
       "Southern_hydrate_Lat            0\n",
       "Southern_hydrate_lon            0\n",
       "Southern_hydrate_Loc            0\n",
       "distance(in km) oregon          0\n",
       "distance(in km) hydrate         0\n",
       "dtype: int64"
      ]
     },
     "execution_count": 59,
     "metadata": {},
     "output_type": "execute_result"
    }
   ],
   "source": [
    "ais.isnull().sum()"
   ]
  },
  {
   "cell_type": "markdown",
   "id": "aae504cd",
   "metadata": {},
   "source": [
    "### Post processing of data"
   ]
  },
  {
   "cell_type": "code",
   "execution_count": 2,
   "id": "32932939",
   "metadata": {},
   "outputs": [],
   "source": [
    "import pandas as pd"
   ]
  },
  {
   "cell_type": "code",
   "execution_count": 7,
   "id": "bd98a22d-7275-4eaf-b087-62da57c313a0",
   "metadata": {},
   "outputs": [
    {
     "name": "stderr",
     "output_type": "stream",
     "text": [
      "C:\\Users\\khirod\\AppData\\Local\\Temp\\ipykernel_8592\\3531690719.py:1: DtypeWarning: Columns (16,30) have mixed types. Specify dtype option on import or set low_memory=False.\n",
      "  df=pd.read_csv('E:/Acer backup 3/internships and jobs/UW/Reader grader and TA/Shima Abadi/Data/oregon_hydrate.csv')\n"
     ]
    }
   ],
   "source": [
    "df=pd.read_csv('E:/Acer backup 3/internships and jobs/UW/Reader grader and TA/Shima Abadi/Data/oregon_hydrate.csv')"
   ]
  },
  {
   "cell_type": "code",
   "execution_count": 8,
   "id": "7a780bb7",
   "metadata": {},
   "outputs": [
    {
     "data": {
      "text/html": [
       "<div>\n",
       "<style scoped>\n",
       "    .dataframe tbody tr th:only-of-type {\n",
       "        vertical-align: middle;\n",
       "    }\n",
       "\n",
       "    .dataframe tbody tr th {\n",
       "        vertical-align: top;\n",
       "    }\n",
       "\n",
       "    .dataframe thead th {\n",
       "        text-align: right;\n",
       "    }\n",
       "</style>\n",
       "<table border=\"1\" class=\"dataframe\">\n",
       "  <thead>\n",
       "    <tr style=\"text-align: right;\">\n",
       "      <th></th>\n",
       "      <th>Unnamed: 0</th>\n",
       "      <th>MMSI</th>\n",
       "      <th>BaseDateTime</th>\n",
       "      <th>LAT</th>\n",
       "      <th>LON</th>\n",
       "      <th>SOG</th>\n",
       "      <th>COG</th>\n",
       "      <th>Heading</th>\n",
       "      <th>VesselName</th>\n",
       "      <th>IMO</th>\n",
       "      <th>...</th>\n",
       "      <th>ship_Loc</th>\n",
       "      <th>Southern_hydrate_Lat</th>\n",
       "      <th>Southern_hydrate_lon</th>\n",
       "      <th>Southern_hydrate_Loc</th>\n",
       "      <th>distance(in km) oregon</th>\n",
       "      <th>distance(in km) hydrate</th>\n",
       "      <th>Type Code</th>\n",
       "      <th>VESSEL TYPE</th>\n",
       "      <th>Group</th>\n",
       "      <th>group3</th>\n",
       "    </tr>\n",
       "  </thead>\n",
       "  <tbody>\n",
       "    <tr>\n",
       "      <th>0</th>\n",
       "      <td>0</td>\n",
       "      <td>636092819</td>\n",
       "      <td>2021-01-01T00:17:40</td>\n",
       "      <td>44.56820</td>\n",
       "      <td>-125.62248</td>\n",
       "      <td>11.0</td>\n",
       "      <td>180.6</td>\n",
       "      <td>181.0</td>\n",
       "      <td>NaN</td>\n",
       "      <td>NaN</td>\n",
       "      <td>...</td>\n",
       "      <td>(44.5682, -125.62248)</td>\n",
       "      <td>44.5691</td>\n",
       "      <td>-125.1481</td>\n",
       "      <td>(44.5691, -125.1481)</td>\n",
       "      <td>19.40</td>\n",
       "      <td>37.68</td>\n",
       "      <td>NaN</td>\n",
       "      <td>NaN</td>\n",
       "      <td>NaN</td>\n",
       "      <td>NaN</td>\n",
       "    </tr>\n",
       "    <tr>\n",
       "      <th>1</th>\n",
       "      <td>1</td>\n",
       "      <td>636092819</td>\n",
       "      <td>2021-01-01T00:19:00</td>\n",
       "      <td>44.56414</td>\n",
       "      <td>-125.62273</td>\n",
       "      <td>11.1</td>\n",
       "      <td>187.9</td>\n",
       "      <td>180.0</td>\n",
       "      <td>NaN</td>\n",
       "      <td>NaN</td>\n",
       "      <td>...</td>\n",
       "      <td>(44.56414, -125.62273)</td>\n",
       "      <td>44.5691</td>\n",
       "      <td>-125.1481</td>\n",
       "      <td>(44.5691, -125.1481)</td>\n",
       "      <td>19.29</td>\n",
       "      <td>37.71</td>\n",
       "      <td>NaN</td>\n",
       "      <td>NaN</td>\n",
       "      <td>NaN</td>\n",
       "      <td>NaN</td>\n",
       "    </tr>\n",
       "    <tr>\n",
       "      <th>2</th>\n",
       "      <td>2</td>\n",
       "      <td>636092819</td>\n",
       "      <td>2021-01-01T00:20:08</td>\n",
       "      <td>44.56068</td>\n",
       "      <td>-125.62271</td>\n",
       "      <td>11.4</td>\n",
       "      <td>162.9</td>\n",
       "      <td>179.0</td>\n",
       "      <td>NaN</td>\n",
       "      <td>NaN</td>\n",
       "      <td>...</td>\n",
       "      <td>(44.56068, -125.62271)</td>\n",
       "      <td>44.5691</td>\n",
       "      <td>-125.1481</td>\n",
       "      <td>(44.5691, -125.1481)</td>\n",
       "      <td>19.19</td>\n",
       "      <td>37.72</td>\n",
       "      <td>NaN</td>\n",
       "      <td>NaN</td>\n",
       "      <td>NaN</td>\n",
       "      <td>NaN</td>\n",
       "    </tr>\n",
       "    <tr>\n",
       "      <th>3</th>\n",
       "      <td>3</td>\n",
       "      <td>636092819</td>\n",
       "      <td>2021-01-01T00:22:19</td>\n",
       "      <td>44.55397</td>\n",
       "      <td>-125.62281</td>\n",
       "      <td>10.9</td>\n",
       "      <td>186.6</td>\n",
       "      <td>182.0</td>\n",
       "      <td>NaN</td>\n",
       "      <td>NaN</td>\n",
       "      <td>...</td>\n",
       "      <td>(44.55397, -125.62281)</td>\n",
       "      <td>44.5691</td>\n",
       "      <td>-125.1481</td>\n",
       "      <td>(44.5691, -125.1481)</td>\n",
       "      <td>19.01</td>\n",
       "      <td>37.75</td>\n",
       "      <td>NaN</td>\n",
       "      <td>NaN</td>\n",
       "      <td>NaN</td>\n",
       "      <td>NaN</td>\n",
       "    </tr>\n",
       "    <tr>\n",
       "      <th>4</th>\n",
       "      <td>4</td>\n",
       "      <td>636092819</td>\n",
       "      <td>2021-01-01T00:24:00</td>\n",
       "      <td>44.54881</td>\n",
       "      <td>-125.62310</td>\n",
       "      <td>10.8</td>\n",
       "      <td>177.9</td>\n",
       "      <td>180.0</td>\n",
       "      <td>NaN</td>\n",
       "      <td>NaN</td>\n",
       "      <td>...</td>\n",
       "      <td>(44.54881, -125.6231)</td>\n",
       "      <td>44.5691</td>\n",
       "      <td>-125.1481</td>\n",
       "      <td>(44.5691, -125.1481)</td>\n",
       "      <td>18.91</td>\n",
       "      <td>37.81</td>\n",
       "      <td>NaN</td>\n",
       "      <td>NaN</td>\n",
       "      <td>NaN</td>\n",
       "      <td>NaN</td>\n",
       "    </tr>\n",
       "  </tbody>\n",
       "</table>\n",
       "<p>5 rows × 31 columns</p>\n",
       "</div>"
      ],
      "text/plain": [
       "   Unnamed: 0       MMSI         BaseDateTime       LAT        LON   SOG  \\\n",
       "0           0  636092819  2021-01-01T00:17:40  44.56820 -125.62248  11.0   \n",
       "1           1  636092819  2021-01-01T00:19:00  44.56414 -125.62273  11.1   \n",
       "2           2  636092819  2021-01-01T00:20:08  44.56068 -125.62271  11.4   \n",
       "3           3  636092819  2021-01-01T00:22:19  44.55397 -125.62281  10.9   \n",
       "4           4  636092819  2021-01-01T00:24:00  44.54881 -125.62310  10.8   \n",
       "\n",
       "     COG  Heading VesselName  IMO  ...                ship_Loc  \\\n",
       "0  180.6    181.0        NaN  NaN  ...   (44.5682, -125.62248)   \n",
       "1  187.9    180.0        NaN  NaN  ...  (44.56414, -125.62273)   \n",
       "2  162.9    179.0        NaN  NaN  ...  (44.56068, -125.62271)   \n",
       "3  186.6    182.0        NaN  NaN  ...  (44.55397, -125.62281)   \n",
       "4  177.9    180.0        NaN  NaN  ...   (44.54881, -125.6231)   \n",
       "\n",
       "   Southern_hydrate_Lat  Southern_hydrate_lon  Southern_hydrate_Loc  \\\n",
       "0               44.5691             -125.1481  (44.5691, -125.1481)   \n",
       "1               44.5691             -125.1481  (44.5691, -125.1481)   \n",
       "2               44.5691             -125.1481  (44.5691, -125.1481)   \n",
       "3               44.5691             -125.1481  (44.5691, -125.1481)   \n",
       "4               44.5691             -125.1481  (44.5691, -125.1481)   \n",
       "\n",
       "   distance(in km) oregon  distance(in km) hydrate Type Code VESSEL TYPE  \\\n",
       "0                   19.40                    37.68       NaN         NaN   \n",
       "1                   19.29                    37.71       NaN         NaN   \n",
       "2                   19.19                    37.72       NaN         NaN   \n",
       "3                   19.01                    37.75       NaN         NaN   \n",
       "4                   18.91                    37.81       NaN         NaN   \n",
       "\n",
       "   Group  group3  \n",
       "0    NaN     NaN  \n",
       "1    NaN     NaN  \n",
       "2    NaN     NaN  \n",
       "3    NaN     NaN  \n",
       "4    NaN     NaN  \n",
       "\n",
       "[5 rows x 31 columns]"
      ]
     },
     "execution_count": 8,
     "metadata": {},
     "output_type": "execute_result"
    }
   ],
   "source": [
    "df.head()"
   ]
  },
  {
   "cell_type": "code",
   "execution_count": 9,
   "id": "b4381c56",
   "metadata": {},
   "outputs": [],
   "source": [
    "df=df.drop(['Group','group3','Type Code'],axis=1)"
   ]
  },
  {
   "cell_type": "code",
   "execution_count": 10,
   "id": "1d8d6d6a",
   "metadata": {},
   "outputs": [
    {
     "data": {
      "text/html": [
       "<div>\n",
       "<style scoped>\n",
       "    .dataframe tbody tr th:only-of-type {\n",
       "        vertical-align: middle;\n",
       "    }\n",
       "\n",
       "    .dataframe tbody tr th {\n",
       "        vertical-align: top;\n",
       "    }\n",
       "\n",
       "    .dataframe thead th {\n",
       "        text-align: right;\n",
       "    }\n",
       "</style>\n",
       "<table border=\"1\" class=\"dataframe\">\n",
       "  <thead>\n",
       "    <tr style=\"text-align: right;\">\n",
       "      <th></th>\n",
       "      <th>Unnamed: 0</th>\n",
       "      <th>MMSI</th>\n",
       "      <th>BaseDateTime</th>\n",
       "      <th>LAT</th>\n",
       "      <th>LON</th>\n",
       "      <th>SOG</th>\n",
       "      <th>COG</th>\n",
       "      <th>Heading</th>\n",
       "      <th>VesselName</th>\n",
       "      <th>IMO</th>\n",
       "      <th>...</th>\n",
       "      <th>oregon_slope_Lat</th>\n",
       "      <th>oregon_slope_Lon</th>\n",
       "      <th>oregon_slope_Loc</th>\n",
       "      <th>ship_Loc</th>\n",
       "      <th>Southern_hydrate_Lat</th>\n",
       "      <th>Southern_hydrate_lon</th>\n",
       "      <th>Southern_hydrate_Loc</th>\n",
       "      <th>distance(in km) oregon</th>\n",
       "      <th>distance(in km) hydrate</th>\n",
       "      <th>VESSEL TYPE</th>\n",
       "    </tr>\n",
       "  </thead>\n",
       "  <tbody>\n",
       "    <tr>\n",
       "      <th>0</th>\n",
       "      <td>0</td>\n",
       "      <td>636092819</td>\n",
       "      <td>2021-01-01T00:17:40</td>\n",
       "      <td>44.56820</td>\n",
       "      <td>-125.62248</td>\n",
       "      <td>11.0</td>\n",
       "      <td>180.6</td>\n",
       "      <td>181.0</td>\n",
       "      <td>NaN</td>\n",
       "      <td>NaN</td>\n",
       "      <td>...</td>\n",
       "      <td>44.5153</td>\n",
       "      <td>-125.3898</td>\n",
       "      <td>(44.5153, -125.3898)</td>\n",
       "      <td>(44.5682, -125.62248)</td>\n",
       "      <td>44.5691</td>\n",
       "      <td>-125.1481</td>\n",
       "      <td>(44.5691, -125.1481)</td>\n",
       "      <td>19.40</td>\n",
       "      <td>37.68</td>\n",
       "      <td>NaN</td>\n",
       "    </tr>\n",
       "    <tr>\n",
       "      <th>1</th>\n",
       "      <td>1</td>\n",
       "      <td>636092819</td>\n",
       "      <td>2021-01-01T00:19:00</td>\n",
       "      <td>44.56414</td>\n",
       "      <td>-125.62273</td>\n",
       "      <td>11.1</td>\n",
       "      <td>187.9</td>\n",
       "      <td>180.0</td>\n",
       "      <td>NaN</td>\n",
       "      <td>NaN</td>\n",
       "      <td>...</td>\n",
       "      <td>44.5153</td>\n",
       "      <td>-125.3898</td>\n",
       "      <td>(44.5153, -125.3898)</td>\n",
       "      <td>(44.56414, -125.62273)</td>\n",
       "      <td>44.5691</td>\n",
       "      <td>-125.1481</td>\n",
       "      <td>(44.5691, -125.1481)</td>\n",
       "      <td>19.29</td>\n",
       "      <td>37.71</td>\n",
       "      <td>NaN</td>\n",
       "    </tr>\n",
       "    <tr>\n",
       "      <th>2</th>\n",
       "      <td>2</td>\n",
       "      <td>636092819</td>\n",
       "      <td>2021-01-01T00:20:08</td>\n",
       "      <td>44.56068</td>\n",
       "      <td>-125.62271</td>\n",
       "      <td>11.4</td>\n",
       "      <td>162.9</td>\n",
       "      <td>179.0</td>\n",
       "      <td>NaN</td>\n",
       "      <td>NaN</td>\n",
       "      <td>...</td>\n",
       "      <td>44.5153</td>\n",
       "      <td>-125.3898</td>\n",
       "      <td>(44.5153, -125.3898)</td>\n",
       "      <td>(44.56068, -125.62271)</td>\n",
       "      <td>44.5691</td>\n",
       "      <td>-125.1481</td>\n",
       "      <td>(44.5691, -125.1481)</td>\n",
       "      <td>19.19</td>\n",
       "      <td>37.72</td>\n",
       "      <td>NaN</td>\n",
       "    </tr>\n",
       "    <tr>\n",
       "      <th>3</th>\n",
       "      <td>3</td>\n",
       "      <td>636092819</td>\n",
       "      <td>2021-01-01T00:22:19</td>\n",
       "      <td>44.55397</td>\n",
       "      <td>-125.62281</td>\n",
       "      <td>10.9</td>\n",
       "      <td>186.6</td>\n",
       "      <td>182.0</td>\n",
       "      <td>NaN</td>\n",
       "      <td>NaN</td>\n",
       "      <td>...</td>\n",
       "      <td>44.5153</td>\n",
       "      <td>-125.3898</td>\n",
       "      <td>(44.5153, -125.3898)</td>\n",
       "      <td>(44.55397, -125.62281)</td>\n",
       "      <td>44.5691</td>\n",
       "      <td>-125.1481</td>\n",
       "      <td>(44.5691, -125.1481)</td>\n",
       "      <td>19.01</td>\n",
       "      <td>37.75</td>\n",
       "      <td>NaN</td>\n",
       "    </tr>\n",
       "    <tr>\n",
       "      <th>4</th>\n",
       "      <td>4</td>\n",
       "      <td>636092819</td>\n",
       "      <td>2021-01-01T00:24:00</td>\n",
       "      <td>44.54881</td>\n",
       "      <td>-125.62310</td>\n",
       "      <td>10.8</td>\n",
       "      <td>177.9</td>\n",
       "      <td>180.0</td>\n",
       "      <td>NaN</td>\n",
       "      <td>NaN</td>\n",
       "      <td>...</td>\n",
       "      <td>44.5153</td>\n",
       "      <td>-125.3898</td>\n",
       "      <td>(44.5153, -125.3898)</td>\n",
       "      <td>(44.54881, -125.6231)</td>\n",
       "      <td>44.5691</td>\n",
       "      <td>-125.1481</td>\n",
       "      <td>(44.5691, -125.1481)</td>\n",
       "      <td>18.91</td>\n",
       "      <td>37.81</td>\n",
       "      <td>NaN</td>\n",
       "    </tr>\n",
       "  </tbody>\n",
       "</table>\n",
       "<p>5 rows × 28 columns</p>\n",
       "</div>"
      ],
      "text/plain": [
       "   Unnamed: 0       MMSI         BaseDateTime       LAT        LON   SOG  \\\n",
       "0           0  636092819  2021-01-01T00:17:40  44.56820 -125.62248  11.0   \n",
       "1           1  636092819  2021-01-01T00:19:00  44.56414 -125.62273  11.1   \n",
       "2           2  636092819  2021-01-01T00:20:08  44.56068 -125.62271  11.4   \n",
       "3           3  636092819  2021-01-01T00:22:19  44.55397 -125.62281  10.9   \n",
       "4           4  636092819  2021-01-01T00:24:00  44.54881 -125.62310  10.8   \n",
       "\n",
       "     COG  Heading VesselName  IMO  ... oregon_slope_Lat  oregon_slope_Lon  \\\n",
       "0  180.6    181.0        NaN  NaN  ...          44.5153         -125.3898   \n",
       "1  187.9    180.0        NaN  NaN  ...          44.5153         -125.3898   \n",
       "2  162.9    179.0        NaN  NaN  ...          44.5153         -125.3898   \n",
       "3  186.6    182.0        NaN  NaN  ...          44.5153         -125.3898   \n",
       "4  177.9    180.0        NaN  NaN  ...          44.5153         -125.3898   \n",
       "\n",
       "       oregon_slope_Loc                ship_Loc  Southern_hydrate_Lat  \\\n",
       "0  (44.5153, -125.3898)   (44.5682, -125.62248)               44.5691   \n",
       "1  (44.5153, -125.3898)  (44.56414, -125.62273)               44.5691   \n",
       "2  (44.5153, -125.3898)  (44.56068, -125.62271)               44.5691   \n",
       "3  (44.5153, -125.3898)  (44.55397, -125.62281)               44.5691   \n",
       "4  (44.5153, -125.3898)   (44.54881, -125.6231)               44.5691   \n",
       "\n",
       "   Southern_hydrate_lon  Southern_hydrate_Loc distance(in km) oregon  \\\n",
       "0             -125.1481  (44.5691, -125.1481)                  19.40   \n",
       "1             -125.1481  (44.5691, -125.1481)                  19.29   \n",
       "2             -125.1481  (44.5691, -125.1481)                  19.19   \n",
       "3             -125.1481  (44.5691, -125.1481)                  19.01   \n",
       "4             -125.1481  (44.5691, -125.1481)                  18.91   \n",
       "\n",
       "   distance(in km) hydrate  VESSEL TYPE  \n",
       "0                    37.68          NaN  \n",
       "1                    37.71          NaN  \n",
       "2                    37.72          NaN  \n",
       "3                    37.75          NaN  \n",
       "4                    37.81          NaN  \n",
       "\n",
       "[5 rows x 28 columns]"
      ]
     },
     "execution_count": 10,
     "metadata": {},
     "output_type": "execute_result"
    }
   ],
   "source": [
    "df.head()"
   ]
  },
  {
   "cell_type": "code",
   "execution_count": 13,
   "id": "c5861911",
   "metadata": {},
   "outputs": [
    {
     "data": {
      "text/plain": [
       "array([nan, 'Cargo, all ships of this type', 'Pleasure Craft', 'Fishing',\n",
       "       'Sailing', 'Passenger, all ships of this type',\n",
       "       'Tanker, all ships of this type',\n",
       "       'Other Type, all ships of this type',\n",
       "       'Cargo, Hazardous category A', 'Towing',\n",
       "       'Cargo, Hazardous category C',\n",
       "       'Other Type, no additional information',\n",
       "       'Cargo, No additional information', 'Spare - Local Vessel',\n",
       "       'Tanker, No additional information', 'Cargo, Hazardous category B',\n",
       "       'Cargo, Hazardous category D', 'Tanker, Hazardous category B',\n",
       "       'Tanker, Hazardous category A', 'Tug', 'Not available (default)',\n",
       "       'Wing in ground (WIG), all ships of this type',\n",
       "       'Other Type, Hazardous category A', 'Tanker, Hazardous category D',\n",
       "       'Military ops',\n",
       "       'Towing: length exceeds 200m or breadth exceeds 25m',\n",
       "       'Tanker, Hazardous category C',\n",
       "       'Passenger, No additional information'], dtype=object)"
      ]
     },
     "execution_count": 13,
     "metadata": {},
     "output_type": "execute_result"
    }
   ],
   "source": [
    "df['VESSEL TYPE'].unique()"
   ]
  },
  {
   "cell_type": "code",
   "execution_count": 27,
   "id": "0770c83c",
   "metadata": {},
   "outputs": [
    {
     "data": {
      "text/plain": [
       "VESSEL TYPE\n",
       "Cargo, Hazardous category A                             24\n",
       "Cargo, Hazardous category B                              9\n",
       "Cargo, Hazardous category C                              5\n",
       "Cargo, Hazardous category D                              6\n",
       "Cargo, No additional information                        27\n",
       "Cargo, all ships of this type                         1167\n",
       "Fishing                                                144\n",
       "Military ops                                             1\n",
       "Not available (default)                                  9\n",
       "Other Type, Hazardous category A                         1\n",
       "Other Type, all ships of this type                      93\n",
       "Other Type, no additional information                    2\n",
       "Passenger, No additional information                     1\n",
       "Passenger, all ships of this type                       52\n",
       "Pleasure Craft                                          88\n",
       "Sailing                                                 41\n",
       "Spare - Local Vessel                                     1\n",
       "Tanker, Hazardous category A                             2\n",
       "Tanker, Hazardous category B                             3\n",
       "Tanker, Hazardous category C                             1\n",
       "Tanker, Hazardous category D                             1\n",
       "Tanker, No additional information                       13\n",
       "Tanker, all ships of this type                         233\n",
       "Towing                                                  55\n",
       "Towing: length exceeds 200m or breadth exceeds 25m       2\n",
       "Tug                                                      5\n",
       "Wing in ground (WIG), all ships of this type             1\n",
       "Name: MMSI, dtype: int64"
      ]
     },
     "execution_count": 27,
     "metadata": {},
     "output_type": "execute_result"
    }
   ],
   "source": [
    "df.groupby(by=['VESSEL TYPE'])['MMSI'].nunique()"
   ]
  },
  {
   "cell_type": "code",
   "execution_count": 43,
   "id": "87ca4ef9",
   "metadata": {},
   "outputs": [
    {
     "data": {
      "text/plain": [
       "array([314449000, 368949000], dtype=int64)"
      ]
     },
     "execution_count": 43,
     "metadata": {},
     "output_type": "execute_result"
    }
   ],
   "source": [
    "df[df['VESSEL TYPE']=='Other Type, no additional information'].MMSI.unique()"
   ]
  },
  {
   "cell_type": "code",
   "execution_count": 47,
   "id": "26c89097",
   "metadata": {},
   "outputs": [
    {
     "ename": "UnicodeDecodeError",
     "evalue": "'utf-8' codec can't decode byte 0xa0 in position 77: invalid start byte",
     "output_type": "error",
     "traceback": [
      "\u001b[1;31m---------------------------------------------------------------------------\u001b[0m",
      "\u001b[1;31mUnicodeDecodeError\u001b[0m                        Traceback (most recent call last)",
      "File \u001b[1;32m~\\miniconda3\\envs\\oceandatalab\\lib\\site-packages\\pandas\\_libs\\parsers.pyx:1083\u001b[0m, in \u001b[0;36mpandas._libs.parsers.TextReader._convert_tokens\u001b[1;34m()\u001b[0m\n",
      "File \u001b[1;32m~\\miniconda3\\envs\\oceandatalab\\lib\\site-packages\\pandas\\_libs\\parsers.pyx:1233\u001b[0m, in \u001b[0;36mpandas._libs.parsers.TextReader._convert_with_dtype\u001b[1;34m()\u001b[0m\n",
      "File \u001b[1;32m~\\miniconda3\\envs\\oceandatalab\\lib\\site-packages\\pandas\\_libs\\parsers.pyx:1246\u001b[0m, in \u001b[0;36mpandas._libs.parsers.TextReader._string_convert\u001b[1;34m()\u001b[0m\n",
      "File \u001b[1;32m~\\miniconda3\\envs\\oceandatalab\\lib\\site-packages\\pandas\\_libs\\parsers.pyx:1444\u001b[0m, in \u001b[0;36mpandas._libs.parsers._string_box_utf8\u001b[1;34m()\u001b[0m\n",
      "\u001b[1;31mUnicodeDecodeError\u001b[0m: 'utf-8' codec can't decode byte 0xa0 in position 77: invalid start byte",
      "\nDuring handling of the above exception, another exception occurred:\n",
      "\u001b[1;31mUnicodeDecodeError\u001b[0m                        Traceback (most recent call last)",
      "Cell \u001b[1;32mIn [47], line 1\u001b[0m\n\u001b[1;32m----> 1\u001b[0m vessel_code\u001b[38;5;241m=\u001b[39mpd\u001b[38;5;241m.\u001b[39mread_csv(\u001b[38;5;124m'\u001b[39m\u001b[38;5;124mC:/Users/khirod/Documents/GitHub/Ocean-data-analysis/Vessels/vessel_code.csv\u001b[39m\u001b[38;5;124m'\u001b[39m,sep \u001b[38;5;241m=\u001b[39m \u001b[38;5;124m'\u001b[39m\u001b[38;5;124m,\u001b[39m\u001b[38;5;124m'\u001b[39m)\n",
      "File \u001b[1;32m~\\miniconda3\\envs\\oceandatalab\\lib\\site-packages\\pandas\\util\\_decorators.py:211\u001b[0m, in \u001b[0;36mdeprecate_kwarg.<locals>._deprecate_kwarg.<locals>.wrapper\u001b[1;34m(*args, **kwargs)\u001b[0m\n\u001b[0;32m    209\u001b[0m     \u001b[38;5;28;01melse\u001b[39;00m:\n\u001b[0;32m    210\u001b[0m         kwargs[new_arg_name] \u001b[38;5;241m=\u001b[39m new_arg_value\n\u001b[1;32m--> 211\u001b[0m \u001b[38;5;28;01mreturn\u001b[39;00m func(\u001b[38;5;241m*\u001b[39margs, \u001b[38;5;241m*\u001b[39m\u001b[38;5;241m*\u001b[39mkwargs)\n",
      "File \u001b[1;32m~\\miniconda3\\envs\\oceandatalab\\lib\\site-packages\\pandas\\util\\_decorators.py:317\u001b[0m, in \u001b[0;36mdeprecate_nonkeyword_arguments.<locals>.decorate.<locals>.wrapper\u001b[1;34m(*args, **kwargs)\u001b[0m\n\u001b[0;32m    311\u001b[0m \u001b[38;5;28;01mif\u001b[39;00m \u001b[38;5;28mlen\u001b[39m(args) \u001b[38;5;241m>\u001b[39m num_allow_args:\n\u001b[0;32m    312\u001b[0m     warnings\u001b[38;5;241m.\u001b[39mwarn(\n\u001b[0;32m    313\u001b[0m         msg\u001b[38;5;241m.\u001b[39mformat(arguments\u001b[38;5;241m=\u001b[39marguments),\n\u001b[0;32m    314\u001b[0m         \u001b[38;5;167;01mFutureWarning\u001b[39;00m,\n\u001b[0;32m    315\u001b[0m         stacklevel\u001b[38;5;241m=\u001b[39mfind_stack_level(inspect\u001b[38;5;241m.\u001b[39mcurrentframe()),\n\u001b[0;32m    316\u001b[0m     )\n\u001b[1;32m--> 317\u001b[0m \u001b[38;5;28;01mreturn\u001b[39;00m func(\u001b[38;5;241m*\u001b[39margs, \u001b[38;5;241m*\u001b[39m\u001b[38;5;241m*\u001b[39mkwargs)\n",
      "File \u001b[1;32m~\\miniconda3\\envs\\oceandatalab\\lib\\site-packages\\pandas\\io\\parsers\\readers.py:950\u001b[0m, in \u001b[0;36mread_csv\u001b[1;34m(filepath_or_buffer, sep, delimiter, header, names, index_col, usecols, squeeze, prefix, mangle_dupe_cols, dtype, engine, converters, true_values, false_values, skipinitialspace, skiprows, skipfooter, nrows, na_values, keep_default_na, na_filter, verbose, skip_blank_lines, parse_dates, infer_datetime_format, keep_date_col, date_parser, dayfirst, cache_dates, iterator, chunksize, compression, thousands, decimal, lineterminator, quotechar, quoting, doublequote, escapechar, comment, encoding, encoding_errors, dialect, error_bad_lines, warn_bad_lines, on_bad_lines, delim_whitespace, low_memory, memory_map, float_precision, storage_options)\u001b[0m\n\u001b[0;32m    935\u001b[0m kwds_defaults \u001b[38;5;241m=\u001b[39m _refine_defaults_read(\n\u001b[0;32m    936\u001b[0m     dialect,\n\u001b[0;32m    937\u001b[0m     delimiter,\n\u001b[1;32m   (...)\u001b[0m\n\u001b[0;32m    946\u001b[0m     defaults\u001b[38;5;241m=\u001b[39m{\u001b[38;5;124m\"\u001b[39m\u001b[38;5;124mdelimiter\u001b[39m\u001b[38;5;124m\"\u001b[39m: \u001b[38;5;124m\"\u001b[39m\u001b[38;5;124m,\u001b[39m\u001b[38;5;124m\"\u001b[39m},\n\u001b[0;32m    947\u001b[0m )\n\u001b[0;32m    948\u001b[0m kwds\u001b[38;5;241m.\u001b[39mupdate(kwds_defaults)\n\u001b[1;32m--> 950\u001b[0m \u001b[38;5;28;01mreturn\u001b[39;00m \u001b[43m_read\u001b[49m\u001b[43m(\u001b[49m\u001b[43mfilepath_or_buffer\u001b[49m\u001b[43m,\u001b[49m\u001b[43m \u001b[49m\u001b[43mkwds\u001b[49m\u001b[43m)\u001b[49m\n",
      "File \u001b[1;32m~\\miniconda3\\envs\\oceandatalab\\lib\\site-packages\\pandas\\io\\parsers\\readers.py:611\u001b[0m, in \u001b[0;36m_read\u001b[1;34m(filepath_or_buffer, kwds)\u001b[0m\n\u001b[0;32m    608\u001b[0m     \u001b[38;5;28;01mreturn\u001b[39;00m parser\n\u001b[0;32m    610\u001b[0m \u001b[38;5;28;01mwith\u001b[39;00m parser:\n\u001b[1;32m--> 611\u001b[0m     \u001b[38;5;28;01mreturn\u001b[39;00m \u001b[43mparser\u001b[49m\u001b[38;5;241;43m.\u001b[39;49m\u001b[43mread\u001b[49m\u001b[43m(\u001b[49m\u001b[43mnrows\u001b[49m\u001b[43m)\u001b[49m\n",
      "File \u001b[1;32m~\\miniconda3\\envs\\oceandatalab\\lib\\site-packages\\pandas\\io\\parsers\\readers.py:1772\u001b[0m, in \u001b[0;36mTextFileReader.read\u001b[1;34m(self, nrows)\u001b[0m\n\u001b[0;32m   1765\u001b[0m nrows \u001b[38;5;241m=\u001b[39m validate_integer(\u001b[38;5;124m\"\u001b[39m\u001b[38;5;124mnrows\u001b[39m\u001b[38;5;124m\"\u001b[39m, nrows)\n\u001b[0;32m   1766\u001b[0m \u001b[38;5;28;01mtry\u001b[39;00m:\n\u001b[0;32m   1767\u001b[0m     \u001b[38;5;66;03m# error: \"ParserBase\" has no attribute \"read\"\u001b[39;00m\n\u001b[0;32m   1768\u001b[0m     (\n\u001b[0;32m   1769\u001b[0m         index,\n\u001b[0;32m   1770\u001b[0m         columns,\n\u001b[0;32m   1771\u001b[0m         col_dict,\n\u001b[1;32m-> 1772\u001b[0m     ) \u001b[38;5;241m=\u001b[39m \u001b[38;5;28;43mself\u001b[39;49m\u001b[38;5;241;43m.\u001b[39;49m\u001b[43m_engine\u001b[49m\u001b[38;5;241;43m.\u001b[39;49m\u001b[43mread\u001b[49m\u001b[43m(\u001b[49m\u001b[43m  \u001b[49m\u001b[38;5;66;43;03m# type: ignore[attr-defined]\u001b[39;49;00m\n\u001b[0;32m   1773\u001b[0m \u001b[43m        \u001b[49m\u001b[43mnrows\u001b[49m\n\u001b[0;32m   1774\u001b[0m \u001b[43m    \u001b[49m\u001b[43m)\u001b[49m\n\u001b[0;32m   1775\u001b[0m \u001b[38;5;28;01mexcept\u001b[39;00m \u001b[38;5;167;01mException\u001b[39;00m:\n\u001b[0;32m   1776\u001b[0m     \u001b[38;5;28mself\u001b[39m\u001b[38;5;241m.\u001b[39mclose()\n",
      "File \u001b[1;32m~\\miniconda3\\envs\\oceandatalab\\lib\\site-packages\\pandas\\io\\parsers\\c_parser_wrapper.py:243\u001b[0m, in \u001b[0;36mCParserWrapper.read\u001b[1;34m(self, nrows)\u001b[0m\n\u001b[0;32m    241\u001b[0m \u001b[38;5;28;01mtry\u001b[39;00m:\n\u001b[0;32m    242\u001b[0m     \u001b[38;5;28;01mif\u001b[39;00m \u001b[38;5;28mself\u001b[39m\u001b[38;5;241m.\u001b[39mlow_memory:\n\u001b[1;32m--> 243\u001b[0m         chunks \u001b[38;5;241m=\u001b[39m \u001b[38;5;28;43mself\u001b[39;49m\u001b[38;5;241;43m.\u001b[39;49m\u001b[43m_reader\u001b[49m\u001b[38;5;241;43m.\u001b[39;49m\u001b[43mread_low_memory\u001b[49m\u001b[43m(\u001b[49m\u001b[43mnrows\u001b[49m\u001b[43m)\u001b[49m\n\u001b[0;32m    244\u001b[0m         \u001b[38;5;66;03m# destructive to chunks\u001b[39;00m\n\u001b[0;32m    245\u001b[0m         data \u001b[38;5;241m=\u001b[39m _concatenate_chunks(chunks)\n",
      "File \u001b[1;32m~\\miniconda3\\envs\\oceandatalab\\lib\\site-packages\\pandas\\_libs\\parsers.pyx:808\u001b[0m, in \u001b[0;36mpandas._libs.parsers.TextReader.read_low_memory\u001b[1;34m()\u001b[0m\n",
      "File \u001b[1;32m~\\miniconda3\\envs\\oceandatalab\\lib\\site-packages\\pandas\\_libs\\parsers.pyx:890\u001b[0m, in \u001b[0;36mpandas._libs.parsers.TextReader._read_rows\u001b[1;34m()\u001b[0m\n",
      "File \u001b[1;32m~\\miniconda3\\envs\\oceandatalab\\lib\\site-packages\\pandas\\_libs\\parsers.pyx:1037\u001b[0m, in \u001b[0;36mpandas._libs.parsers.TextReader._convert_column_data\u001b[1;34m()\u001b[0m\n",
      "File \u001b[1;32m~\\miniconda3\\envs\\oceandatalab\\lib\\site-packages\\pandas\\_libs\\parsers.pyx:1090\u001b[0m, in \u001b[0;36mpandas._libs.parsers.TextReader._convert_tokens\u001b[1;34m()\u001b[0m\n",
      "File \u001b[1;32m~\\miniconda3\\envs\\oceandatalab\\lib\\site-packages\\pandas\\_libs\\parsers.pyx:1233\u001b[0m, in \u001b[0;36mpandas._libs.parsers.TextReader._convert_with_dtype\u001b[1;34m()\u001b[0m\n",
      "File \u001b[1;32m~\\miniconda3\\envs\\oceandatalab\\lib\\site-packages\\pandas\\_libs\\parsers.pyx:1246\u001b[0m, in \u001b[0;36mpandas._libs.parsers.TextReader._string_convert\u001b[1;34m()\u001b[0m\n",
      "File \u001b[1;32m~\\miniconda3\\envs\\oceandatalab\\lib\\site-packages\\pandas\\_libs\\parsers.pyx:1444\u001b[0m, in \u001b[0;36mpandas._libs.parsers._string_box_utf8\u001b[1;34m()\u001b[0m\n",
      "\u001b[1;31mUnicodeDecodeError\u001b[0m: 'utf-8' codec can't decode byte 0xa0 in position 77: invalid start byte"
     ]
    }
   ],
   "source": [
    "vessel_code=pd.read_csv('C:/Users/khirod/Documents/GitHub/Ocean-data-analysis/Vessels/vessel_code.csv',sep = ',')"
   ]
  },
  {
   "cell_type": "code",
   "execution_count": 45,
   "id": "9c8bcd1d",
   "metadata": {},
   "outputs": [
    {
     "data": {
      "text/html": [
       "<div>\n",
       "<style scoped>\n",
       "    .dataframe tbody tr th:only-of-type {\n",
       "        vertical-align: middle;\n",
       "    }\n",
       "\n",
       "    .dataframe tbody tr th {\n",
       "        vertical-align: top;\n",
       "    }\n",
       "\n",
       "    .dataframe thead th {\n",
       "        text-align: right;\n",
       "    }\n",
       "</style>\n",
       "<table border=\"1\" class=\"dataframe\">\n",
       "  <thead>\n",
       "    <tr style=\"text-align: right;\">\n",
       "      <th></th>\n",
       "      <th>Type Code</th>\n",
       "      <th>Description</th>\n",
       "      <th>Group</th>\n",
       "      <th>group3</th>\n",
       "    </tr>\n",
       "  </thead>\n",
       "  <tbody>\n",
       "    <tr>\n",
       "      <th>0</th>\n",
       "      <td>0</td>\n",
       "      <td>Not available (default)</td>\n",
       "      <td>1.0</td>\n",
       "      <td>drop</td>\n",
       "    </tr>\n",
       "    <tr>\n",
       "      <th>1</th>\n",
       "      <td>20</td>\n",
       "      <td>Wing in ground (WIG), all ships of this type</td>\n",
       "      <td>1.0</td>\n",
       "      <td>Wings</td>\n",
       "    </tr>\n",
       "    <tr>\n",
       "      <th>2</th>\n",
       "      <td>21</td>\n",
       "      <td>Wing in ground (WIG), Hazardous category A</td>\n",
       "      <td>NaN</td>\n",
       "      <td>NaN</td>\n",
       "    </tr>\n",
       "    <tr>\n",
       "      <th>3</th>\n",
       "      <td>22</td>\n",
       "      <td>Wing in ground (WIG), Hazardous category B</td>\n",
       "      <td>NaN</td>\n",
       "      <td>NaN</td>\n",
       "    </tr>\n",
       "    <tr>\n",
       "      <th>4</th>\n",
       "      <td>23</td>\n",
       "      <td>Wing in ground (WIG), Hazardous category C</td>\n",
       "      <td>NaN</td>\n",
       "      <td>NaN</td>\n",
       "    </tr>\n",
       "    <tr>\n",
       "      <th>...</th>\n",
       "      <td>...</td>\n",
       "      <td>...</td>\n",
       "      <td>...</td>\n",
       "      <td>...</td>\n",
       "    </tr>\n",
       "    <tr>\n",
       "      <th>76</th>\n",
       "      <td>95</td>\n",
       "      <td>Other Type, Reserved for future use</td>\n",
       "      <td>NaN</td>\n",
       "      <td>NaN</td>\n",
       "    </tr>\n",
       "    <tr>\n",
       "      <th>77</th>\n",
       "      <td>96</td>\n",
       "      <td>Other Type, Reserved for future use</td>\n",
       "      <td>NaN</td>\n",
       "      <td>NaN</td>\n",
       "    </tr>\n",
       "    <tr>\n",
       "      <th>78</th>\n",
       "      <td>97</td>\n",
       "      <td>Other Type, Reserved for future use</td>\n",
       "      <td>NaN</td>\n",
       "      <td>NaN</td>\n",
       "    </tr>\n",
       "    <tr>\n",
       "      <th>79</th>\n",
       "      <td>98</td>\n",
       "      <td>Other Type, Reserved for future use</td>\n",
       "      <td>NaN</td>\n",
       "      <td>NaN</td>\n",
       "    </tr>\n",
       "    <tr>\n",
       "      <th>80</th>\n",
       "      <td>99</td>\n",
       "      <td>Other Type, no additional information</td>\n",
       "      <td>1.0</td>\n",
       "      <td>NaN</td>\n",
       "    </tr>\n",
       "  </tbody>\n",
       "</table>\n",
       "<p>81 rows × 4 columns</p>\n",
       "</div>"
      ],
      "text/plain": [
       "    Type Code                                   Description  Group group3\n",
       "0           0                       Not available (default)    1.0   drop\n",
       "1          20  Wing in ground (WIG), all ships of this type    1.0  Wings\n",
       "2          21    Wing in ground (WIG), Hazardous category A    NaN    NaN\n",
       "3          22    Wing in ground (WIG), Hazardous category B    NaN    NaN\n",
       "4          23    Wing in ground (WIG), Hazardous category C    NaN    NaN\n",
       "..        ...                                           ...    ...    ...\n",
       "76         95           Other Type, Reserved for future use    NaN    NaN\n",
       "77         96           Other Type, Reserved for future use    NaN    NaN\n",
       "78         97           Other Type, Reserved for future use    NaN    NaN\n",
       "79         98           Other Type, Reserved for future use    NaN    NaN\n",
       "80         99         Other Type, no additional information    1.0    NaN\n",
       "\n",
       "[81 rows x 4 columns]"
      ]
     },
     "execution_count": 45,
     "metadata": {},
     "output_type": "execute_result"
    }
   ],
   "source": [
    "vessel_code"
   ]
  },
  {
   "cell_type": "code",
   "execution_count": null,
   "id": "bc9ac78e",
   "metadata": {},
   "outputs": [],
   "source": []
  }
 ],
 "metadata": {
  "kernelspec": {
   "display_name": "Python 3 (ipykernel)",
   "language": "python",
   "name": "python3"
  },
  "language_info": {
   "codemirror_mode": {
    "name": "ipython",
    "version": 3
   },
   "file_extension": ".py",
   "mimetype": "text/x-python",
   "name": "python",
   "nbconvert_exporter": "python",
   "pygments_lexer": "ipython3",
   "version": "3.10.6"
  },
  "vscode": {
   "interpreter": {
    "hash": "359f9a5187fb9b90d6791b9a1894c924ec82a2292c14ad522499e88f73769967"
   }
  }
 },
 "nbformat": 4,
 "nbformat_minor": 5
}
