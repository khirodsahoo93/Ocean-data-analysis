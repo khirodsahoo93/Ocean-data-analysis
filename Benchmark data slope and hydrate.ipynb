{
 "cells": [
  {
   "cell_type": "code",
   "execution_count": 99,
   "metadata": {},
   "outputs": [],
   "source": [
    "import functions as fn\n",
    "import pandas as pd\n",
    "from importlib import reload\n",
    "from tqdm import tqdm\n",
    "from termcolor import colored\n",
    "import matplotlib.pyplot as plt\n",
    "from ooipy.tools import ooiplotlib as ooiplt\n",
    "import datetime"
   ]
  },
  {
   "cell_type": "code",
   "execution_count": 107,
   "metadata": {},
   "outputs": [],
   "source": [
    "df = pd.read_csv('E:/Acer backup 3/internships and jobs/UW/Reader grader and TA/Shima Abadi/Data/oregon_hydrate.csv',sep = ',')\n"
   ]
  },
  {
   "cell_type": "code",
   "execution_count": 108,
   "metadata": {},
   "outputs": [
    {
     "data": {
      "text/plain": [
       "Index(['Unnamed: 0', 'MMSI', 'BaseDateTime', 'LAT', 'LON', 'SOG', 'COG',\n",
       "       'Heading', 'VesselName', 'IMO', 'CallSign', 'Status', 'LENGTH', 'Width',\n",
       "       'Draft', 'Cargo', 'TransceiverClass', 'TIMESTAMP UTC',\n",
       "       'oregon_slope_Lat', 'oregon_slope_Lon', 'oregon_slope_Loc', 'ship_Loc',\n",
       "       'Southern_hydrate_Lat', 'Southern_hydrate_lon', 'Southern_hydrate_Loc',\n",
       "       'distance(in km) oregon', 'distance(in km) hydrate', 'Type Code',\n",
       "       'VESSEL TYPE', 'Group', 'group3'],\n",
       "      dtype='object')"
      ]
     },
     "execution_count": 108,
     "metadata": {},
     "output_type": "execute_result"
    }
   ],
   "source": [
    "df.columns"
   ]
  },
  {
   "cell_type": "code",
   "execution_count": 109,
   "metadata": {},
   "outputs": [],
   "source": [
    "df['TIMESTAMP UTC']=df['TIMESTAMP UTC'].astype('datetime64[ns]')\n"
   ]
  },
  {
   "cell_type": "code",
   "execution_count": 110,
   "metadata": {
    "scrolled": true
   },
   "outputs": [
    {
     "data": {
      "text/html": [
       "<div>\n",
       "<style scoped>\n",
       "    .dataframe tbody tr th:only-of-type {\n",
       "        vertical-align: middle;\n",
       "    }\n",
       "\n",
       "    .dataframe tbody tr th {\n",
       "        vertical-align: top;\n",
       "    }\n",
       "\n",
       "    .dataframe thead th {\n",
       "        text-align: right;\n",
       "    }\n",
       "</style>\n",
       "<table border=\"1\" class=\"dataframe\">\n",
       "  <thead>\n",
       "    <tr style=\"text-align: right;\">\n",
       "      <th></th>\n",
       "      <th>Unnamed: 0</th>\n",
       "      <th>MMSI</th>\n",
       "      <th>BaseDateTime</th>\n",
       "      <th>LAT</th>\n",
       "      <th>LON</th>\n",
       "      <th>SOG</th>\n",
       "      <th>COG</th>\n",
       "      <th>Heading</th>\n",
       "      <th>VesselName</th>\n",
       "      <th>IMO</th>\n",
       "      <th>...</th>\n",
       "      <th>ship_Loc</th>\n",
       "      <th>Southern_hydrate_Lat</th>\n",
       "      <th>Southern_hydrate_lon</th>\n",
       "      <th>Southern_hydrate_Loc</th>\n",
       "      <th>distance(in km) oregon</th>\n",
       "      <th>distance(in km) hydrate</th>\n",
       "      <th>Type Code</th>\n",
       "      <th>VESSEL TYPE</th>\n",
       "      <th>Group</th>\n",
       "      <th>group3</th>\n",
       "    </tr>\n",
       "  </thead>\n",
       "  <tbody>\n",
       "    <tr>\n",
       "      <th>0</th>\n",
       "      <td>0</td>\n",
       "      <td>636092819</td>\n",
       "      <td>2021-01-01T00:17:40</td>\n",
       "      <td>44.56820</td>\n",
       "      <td>-125.62248</td>\n",
       "      <td>11.0</td>\n",
       "      <td>180.6</td>\n",
       "      <td>181.0</td>\n",
       "      <td>NaN</td>\n",
       "      <td>NaN</td>\n",
       "      <td>...</td>\n",
       "      <td>(44.5682, -125.62248)</td>\n",
       "      <td>44.5691</td>\n",
       "      <td>-125.1481</td>\n",
       "      <td>(44.5691, -125.1481)</td>\n",
       "      <td>19.40</td>\n",
       "      <td>37.68</td>\n",
       "      <td>NaN</td>\n",
       "      <td>NaN</td>\n",
       "      <td>NaN</td>\n",
       "      <td>NaN</td>\n",
       "    </tr>\n",
       "    <tr>\n",
       "      <th>1</th>\n",
       "      <td>1</td>\n",
       "      <td>636092819</td>\n",
       "      <td>2021-01-01T00:19:00</td>\n",
       "      <td>44.56414</td>\n",
       "      <td>-125.62273</td>\n",
       "      <td>11.1</td>\n",
       "      <td>187.9</td>\n",
       "      <td>180.0</td>\n",
       "      <td>NaN</td>\n",
       "      <td>NaN</td>\n",
       "      <td>...</td>\n",
       "      <td>(44.56414, -125.62273)</td>\n",
       "      <td>44.5691</td>\n",
       "      <td>-125.1481</td>\n",
       "      <td>(44.5691, -125.1481)</td>\n",
       "      <td>19.29</td>\n",
       "      <td>37.71</td>\n",
       "      <td>NaN</td>\n",
       "      <td>NaN</td>\n",
       "      <td>NaN</td>\n",
       "      <td>NaN</td>\n",
       "    </tr>\n",
       "    <tr>\n",
       "      <th>2</th>\n",
       "      <td>2</td>\n",
       "      <td>636092819</td>\n",
       "      <td>2021-01-01T00:20:08</td>\n",
       "      <td>44.56068</td>\n",
       "      <td>-125.62271</td>\n",
       "      <td>11.4</td>\n",
       "      <td>162.9</td>\n",
       "      <td>179.0</td>\n",
       "      <td>NaN</td>\n",
       "      <td>NaN</td>\n",
       "      <td>...</td>\n",
       "      <td>(44.56068, -125.62271)</td>\n",
       "      <td>44.5691</td>\n",
       "      <td>-125.1481</td>\n",
       "      <td>(44.5691, -125.1481)</td>\n",
       "      <td>19.19</td>\n",
       "      <td>37.72</td>\n",
       "      <td>NaN</td>\n",
       "      <td>NaN</td>\n",
       "      <td>NaN</td>\n",
       "      <td>NaN</td>\n",
       "    </tr>\n",
       "    <tr>\n",
       "      <th>3</th>\n",
       "      <td>3</td>\n",
       "      <td>636092819</td>\n",
       "      <td>2021-01-01T00:22:19</td>\n",
       "      <td>44.55397</td>\n",
       "      <td>-125.62281</td>\n",
       "      <td>10.9</td>\n",
       "      <td>186.6</td>\n",
       "      <td>182.0</td>\n",
       "      <td>NaN</td>\n",
       "      <td>NaN</td>\n",
       "      <td>...</td>\n",
       "      <td>(44.55397, -125.62281)</td>\n",
       "      <td>44.5691</td>\n",
       "      <td>-125.1481</td>\n",
       "      <td>(44.5691, -125.1481)</td>\n",
       "      <td>19.01</td>\n",
       "      <td>37.75</td>\n",
       "      <td>NaN</td>\n",
       "      <td>NaN</td>\n",
       "      <td>NaN</td>\n",
       "      <td>NaN</td>\n",
       "    </tr>\n",
       "    <tr>\n",
       "      <th>4</th>\n",
       "      <td>4</td>\n",
       "      <td>636092819</td>\n",
       "      <td>2021-01-01T00:24:00</td>\n",
       "      <td>44.54881</td>\n",
       "      <td>-125.62310</td>\n",
       "      <td>10.8</td>\n",
       "      <td>177.9</td>\n",
       "      <td>180.0</td>\n",
       "      <td>NaN</td>\n",
       "      <td>NaN</td>\n",
       "      <td>...</td>\n",
       "      <td>(44.54881, -125.6231)</td>\n",
       "      <td>44.5691</td>\n",
       "      <td>-125.1481</td>\n",
       "      <td>(44.5691, -125.1481)</td>\n",
       "      <td>18.91</td>\n",
       "      <td>37.81</td>\n",
       "      <td>NaN</td>\n",
       "      <td>NaN</td>\n",
       "      <td>NaN</td>\n",
       "      <td>NaN</td>\n",
       "    </tr>\n",
       "  </tbody>\n",
       "</table>\n",
       "<p>5 rows × 31 columns</p>\n",
       "</div>"
      ],
      "text/plain": [
       "   Unnamed: 0       MMSI         BaseDateTime       LAT        LON   SOG  \\\n",
       "0           0  636092819  2021-01-01T00:17:40  44.56820 -125.62248  11.0   \n",
       "1           1  636092819  2021-01-01T00:19:00  44.56414 -125.62273  11.1   \n",
       "2           2  636092819  2021-01-01T00:20:08  44.56068 -125.62271  11.4   \n",
       "3           3  636092819  2021-01-01T00:22:19  44.55397 -125.62281  10.9   \n",
       "4           4  636092819  2021-01-01T00:24:00  44.54881 -125.62310  10.8   \n",
       "\n",
       "     COG  Heading VesselName  IMO  ...                ship_Loc  \\\n",
       "0  180.6    181.0        NaN  NaN  ...   (44.5682, -125.62248)   \n",
       "1  187.9    180.0        NaN  NaN  ...  (44.56414, -125.62273)   \n",
       "2  162.9    179.0        NaN  NaN  ...  (44.56068, -125.62271)   \n",
       "3  186.6    182.0        NaN  NaN  ...  (44.55397, -125.62281)   \n",
       "4  177.9    180.0        NaN  NaN  ...   (44.54881, -125.6231)   \n",
       "\n",
       "   Southern_hydrate_Lat  Southern_hydrate_lon  Southern_hydrate_Loc  \\\n",
       "0               44.5691             -125.1481  (44.5691, -125.1481)   \n",
       "1               44.5691             -125.1481  (44.5691, -125.1481)   \n",
       "2               44.5691             -125.1481  (44.5691, -125.1481)   \n",
       "3               44.5691             -125.1481  (44.5691, -125.1481)   \n",
       "4               44.5691             -125.1481  (44.5691, -125.1481)   \n",
       "\n",
       "   distance(in km) oregon  distance(in km) hydrate Type Code VESSEL TYPE  \\\n",
       "0                   19.40                    37.68       NaN         NaN   \n",
       "1                   19.29                    37.71       NaN         NaN   \n",
       "2                   19.19                    37.72       NaN         NaN   \n",
       "3                   19.01                    37.75       NaN         NaN   \n",
       "4                   18.91                    37.81       NaN         NaN   \n",
       "\n",
       "   Group  group3  \n",
       "0    NaN     NaN  \n",
       "1    NaN     NaN  \n",
       "2    NaN     NaN  \n",
       "3    NaN     NaN  \n",
       "4    NaN     NaN  \n",
       "\n",
       "[5 rows x 31 columns]"
      ]
     },
     "execution_count": 110,
     "metadata": {},
     "output_type": "execute_result"
    }
   ],
   "source": [
    "df.head()"
   ]
  },
  {
   "cell_type": "code",
   "execution_count": 111,
   "metadata": {},
   "outputs": [
    {
     "data": {
      "text/plain": [
       "Timestamp('2017-01-01 09:48:46')"
      ]
     },
     "execution_count": 111,
     "metadata": {},
     "output_type": "execute_result"
    }
   ],
   "source": [
    "df['TIMESTAMP UTC'].min()"
   ]
  },
  {
   "cell_type": "code",
   "execution_count": 112,
   "metadata": {},
   "outputs": [
    {
     "data": {
      "text/plain": [
       "Timestamp('2022-06-30 23:59:29')"
      ]
     },
     "execution_count": 112,
     "metadata": {},
     "output_type": "execute_result"
    }
   ],
   "source": [
    "df['TIMESTAMP UTC'].max()"
   ]
  },
  {
   "cell_type": "code",
   "execution_count": 113,
   "metadata": {},
   "outputs": [
    {
     "data": {
      "text/plain": [
       "array([nan, 'Cargo, all ships of this type', 'Pleasure Craft', 'Fishing',\n",
       "       'Sailing', 'Passenger, all ships of this type',\n",
       "       'Tanker, all ships of this type',\n",
       "       'Other Type, all ships of this type',\n",
       "       'Cargo, Hazardous category A', 'Towing',\n",
       "       'Cargo, Hazardous category C',\n",
       "       'Other Type, no additional information',\n",
       "       'Cargo, No additional information', 'Spare - Local Vessel',\n",
       "       'Tanker, No additional information', 'Cargo, Hazardous category B',\n",
       "       'Cargo, Hazardous category D', 'Tanker, Hazardous category B',\n",
       "       'Tanker, Hazardous category A', 'Tug', 'Not available (default)',\n",
       "       'Wing in ground (WIG), all ships of this type',\n",
       "       'Other Type, Hazardous category A', 'Tanker, Hazardous category D',\n",
       "       'Military ops',\n",
       "       'Towing: length exceeds 200m or breadth exceeds 25m',\n",
       "       'Tanker, Hazardous category C',\n",
       "       'Passenger, No additional information'], dtype=object)"
      ]
     },
     "execution_count": 113,
     "metadata": {},
     "output_type": "execute_result"
    }
   ],
   "source": [
    "df['VESSEL TYPE'].unique()"
   ]
  },
  {
   "cell_type": "code",
   "execution_count": 114,
   "metadata": {},
   "outputs": [],
   "source": [
    "min_duration=10\n",
    "path_to_write='E:/Acer backup 3/internships and jobs/UW/Reader grader and TA/Shima Abadi/Data/Benchmark_data/'"
   ]
  },
  {
   "cell_type": "code",
   "execution_count": 115,
   "metadata": {},
   "outputs": [
    {
     "data": {
      "text/plain": [
       "<module 'functions' from 'C:\\\\Users\\\\khirod\\\\Documents\\\\GitHub\\\\Ocean-data-analysis\\\\functions.py'>"
      ]
     },
     "execution_count": 115,
     "metadata": {},
     "output_type": "execute_result"
    }
   ],
   "source": [
    "reload(fn)"
   ]
  },
  {
   "cell_type": "code",
   "execution_count": 116,
   "metadata": {},
   "outputs": [],
   "source": [
    "def get_benchmark_data(df,hydrophone_idx,inner_rad,outer_rad,min_duration,fmin=10,fmax=90,break_dur=True,get_acoustic=True,get_spectrogram=True):\n",
    "    \n",
    "    if hydrophone_idx==1:\n",
    "        hydro='Oregon_slope'\n",
    "    elif hydrophone_idx==2:\n",
    "        hydro='Southern_hydrate'\n",
    "    suffix=str(inner_rad)+'_'+ str(outer_rad)+'.csv'\n",
    "    ais=fn.choose_df_slope_hydrate(df,hydrophone_idx)\n",
    "    isolated_ships=fn.get_isolated_ships(ais,inner_rad,outer_rad,min_duration)\n",
    "    isolated_ships.to_csv(path_to_write+hydro+'/isolated_ships_' + suffix)\n",
    "    isolated_ais=fn.isolated_ais(ais,isolated_ships,inner_rad)\n",
    "    isolated_ais.to_csv(path_to_write+hydro+'/isolated_ais_'+ suffix)\n",
    "    if break_dur:\n",
    "        isolated_ais_10m=fn.break_duration(isolated_ships)\n",
    "        isolated_ais_10m.to_csv(path_to_write+hydro+'/isolated_ais_10m_'+ suffix)\n",
    "    \n",
    "    if get_acoustic==True:\n",
    "        print('Saving wav files')\n",
    "        for i in tqdm(range(len(isolated_ships))):\n",
    "            min_time=isolated_ships.start_time[i]\n",
    "            max_time=isolated_ships.end_time[i]\n",
    "            hydrophone_data=fn.get_acoustic(hydrophone_idx,min_time,max_time,fmin=fmin,fmax=fmax)\n",
    "            if hydrophone_data==None:\n",
    "                # print('data trace is none. Continuing to next')\n",
    "                pass\n",
    "            else:\n",
    "                hydrophone_data.wav_write(filename=path_to_write+hydro+'/Audio'+'/isolated_ships_'+str(inner_rad)+'_'+ str(outer_rad)+'_'+str(i)+'.wav')\n",
    "    if get_spectrogram==True:\n",
    "        print('Saving spectrograms')\n",
    "        for i in tqdm(range(len(isolated_ships))):\n",
    "            min_time=isolated_ships.start_time[i]\n",
    "            max_time=isolated_ships.end_time[i]\n",
    "            spectrogram=fn.get_spectrogram_data(hydrophone_idx,min_time,max_time,fmin=fmin,fmax=fmax)\n",
    "            if (spectrogram==None):\n",
    "                # print('data trace is none. Continuing to next')\n",
    "                pass\n",
    "            else:\n",
    "                if (spectrogram.values.shape[0]<2) | (spectrogram.values.shape[1]<2):\n",
    "                    pass\n",
    "                else:\n",
    "                    #spectrogram.visualize(save_spec=True,plot_spec=False,filename=path_to_write+hydro+'/Spectrogram'+'/isolated_ships_'+str(inner_rad)+'_'+ str(outer_rad)+'_'+str(i)+'.png')\n",
    "                    ooiplt.plot_spectrogram(spectrogram,plot=False,save=True,fmin=fmin,fmax=fmax,filename=path_to_write+hydro+'/Spectrogram'+'/isolated_ships_'+str(inner_rad)+'_'+ str(outer_rad)+'_'+str(i)+'.png')\n",
    "    return isolated_ships,isolated_ais"
   ]
  },
  {
   "cell_type": "markdown",
   "metadata": {},
   "source": [
    "## Creating benchmark data for Oregon slope"
   ]
  },
  {
   "cell_type": "markdown",
   "metadata": {},
   "source": [
    "### inner rad=10, outer_rad=30"
   ]
  },
  {
   "cell_type": "code",
   "execution_count": 29,
   "metadata": {},
   "outputs": [
    {
     "name": "stdout",
     "output_type": "stream",
     "text": [
      " Max distance: 57.89 and Min distance: 0.0\n"
     ]
    },
    {
     "name": "stderr",
     "output_type": "stream",
     "text": [
      "100%|█████████████████████████████████████████████████████████████████████████████| 1105/1105 [00:08<00:00, 124.68it/s]\n"
     ]
    }
   ],
   "source": [
    "\n",
    "d1,d2=get_benchmark_data(df,1,10,30,min_duration,get_acoustic=False,get_spectrogram=False)"
   ]
  },
  {
   "cell_type": "markdown",
   "metadata": {},
   "source": [
    "### Depth=2.9\n",
    "### Oregon slope= 'HYSB1'\n",
    "\n",
    "### inner rad=2.9, outer_rad=2.9, outer_rad=5.8"
   ]
  },
  {
   "cell_type": "code",
   "execution_count": 117,
   "metadata": {},
   "outputs": [],
   "source": [
    "inner_rad= 2.9\n",
    "outer_rad1=2.9\n",
    "outer_rad2=5.8"
   ]
  },
  {
   "cell_type": "code",
   "execution_count": 118,
   "metadata": {},
   "outputs": [
    {
     "name": "stdout",
     "output_type": "stream",
     "text": [
      " Max distance: 57.89 and Min distance: 0.0\n"
     ]
    },
    {
     "name": "stderr",
     "output_type": "stream",
     "text": [
      "100%|█████████████████████████████████████████████████████████████████████████████████| 70/70 [00:00<00:00, 106.02it/s]\n"
     ]
    },
    {
     "name": "stdout",
     "output_type": "stream",
     "text": [
      "{'MMSI': 235010450, 'start_time': Timestamp('2017-07-05 06:37:19'), 'end_time': Timestamp('2017-07-05 06:47:19'), 'VESSEL TYPE': nan, 'len_of_recording': 10.0}\n"
     ]
    }
   ],
   "source": [
    "d1,d2=get_benchmark_data(df,1,inner_rad,outer_rad1,min_duration,get_acoustic=False,get_spectrogram=False)"
   ]
  },
  {
   "cell_type": "code",
   "execution_count": 68,
   "metadata": {},
   "outputs": [
    {
     "data": {
      "text/html": [
       "<div>\n",
       "<style scoped>\n",
       "    .dataframe tbody tr th:only-of-type {\n",
       "        vertical-align: middle;\n",
       "    }\n",
       "\n",
       "    .dataframe tbody tr th {\n",
       "        vertical-align: top;\n",
       "    }\n",
       "\n",
       "    .dataframe thead th {\n",
       "        text-align: right;\n",
       "    }\n",
       "</style>\n",
       "<table border=\"1\" class=\"dataframe\">\n",
       "  <thead>\n",
       "    <tr style=\"text-align: right;\">\n",
       "      <th></th>\n",
       "      <th>MMSI</th>\n",
       "      <th>start_time</th>\n",
       "      <th>end_time</th>\n",
       "      <th>count</th>\n",
       "      <th>VESSEL TYPE</th>\n",
       "      <th>len_of_recording</th>\n",
       "    </tr>\n",
       "  </thead>\n",
       "  <tbody>\n",
       "    <tr>\n",
       "      <th>0</th>\n",
       "      <td>235010450</td>\n",
       "      <td>2017-05-23 18:40:59</td>\n",
       "      <td>2017-05-23 18:51:59</td>\n",
       "      <td>11</td>\n",
       "      <td>1004.0</td>\n",
       "      <td>11.000000</td>\n",
       "    </tr>\n",
       "    <tr>\n",
       "      <th>1</th>\n",
       "      <td>235010450</td>\n",
       "      <td>2017-07-05 06:37:19</td>\n",
       "      <td>2017-07-05 06:47:19</td>\n",
       "      <td>10</td>\n",
       "      <td>1004.0</td>\n",
       "      <td>10.000000</td>\n",
       "    </tr>\n",
       "    <tr>\n",
       "      <th>2</th>\n",
       "      <td>246028000</td>\n",
       "      <td>2017-09-27 01:59:36</td>\n",
       "      <td>2017-09-27 02:11:12</td>\n",
       "      <td>10</td>\n",
       "      <td>1012.0</td>\n",
       "      <td>11.600000</td>\n",
       "    </tr>\n",
       "    <tr>\n",
       "      <th>3</th>\n",
       "      <td>255805864</td>\n",
       "      <td>2017-01-27 13:58:44</td>\n",
       "      <td>2017-01-27 14:10:01</td>\n",
       "      <td>11</td>\n",
       "      <td>1004.0</td>\n",
       "      <td>11.283333</td>\n",
       "    </tr>\n",
       "    <tr>\n",
       "      <th>4</th>\n",
       "      <td>255805864</td>\n",
       "      <td>2017-04-01 23:34:25</td>\n",
       "      <td>2017-04-01 23:49:03</td>\n",
       "      <td>11</td>\n",
       "      <td>1004.0</td>\n",
       "      <td>14.633333</td>\n",
       "    </tr>\n",
       "    <tr>\n",
       "      <th>...</th>\n",
       "      <td>...</td>\n",
       "      <td>...</td>\n",
       "      <td>...</td>\n",
       "      <td>...</td>\n",
       "      <td>...</td>\n",
       "      <td>...</td>\n",
       "    </tr>\n",
       "    <tr>\n",
       "      <th>65</th>\n",
       "      <td>477280800</td>\n",
       "      <td>2017-10-03 10:15:33</td>\n",
       "      <td>2017-10-03 10:29:32</td>\n",
       "      <td>9</td>\n",
       "      <td>70.0</td>\n",
       "      <td>13.983333</td>\n",
       "    </tr>\n",
       "    <tr>\n",
       "      <th>66</th>\n",
       "      <td>477280800</td>\n",
       "      <td>2017-10-27 08:04:16</td>\n",
       "      <td>2017-10-27 08:18:06</td>\n",
       "      <td>8</td>\n",
       "      <td>70.0</td>\n",
       "      <td>13.833333</td>\n",
       "    </tr>\n",
       "    <tr>\n",
       "      <th>67</th>\n",
       "      <td>538008492</td>\n",
       "      <td>2022-03-08 06:04:29</td>\n",
       "      <td>2022-03-08 06:16:36</td>\n",
       "      <td>12</td>\n",
       "      <td>70.0</td>\n",
       "      <td>12.116667</td>\n",
       "    </tr>\n",
       "    <tr>\n",
       "      <th>68</th>\n",
       "      <td>538071203</td>\n",
       "      <td>2021-11-13 13:08:47</td>\n",
       "      <td>2021-11-13 13:21:19</td>\n",
       "      <td>9</td>\n",
       "      <td>36.0</td>\n",
       "      <td>12.533333</td>\n",
       "    </tr>\n",
       "    <tr>\n",
       "      <th>69</th>\n",
       "      <td>566044000</td>\n",
       "      <td>2017-08-30 20:24:33</td>\n",
       "      <td>2017-08-30 20:35:16</td>\n",
       "      <td>8</td>\n",
       "      <td>1004.0</td>\n",
       "      <td>10.716667</td>\n",
       "    </tr>\n",
       "  </tbody>\n",
       "</table>\n",
       "<p>70 rows × 6 columns</p>\n",
       "</div>"
      ],
      "text/plain": [
       "         MMSI          start_time            end_time  count  VESSEL TYPE  \\\n",
       "0   235010450 2017-05-23 18:40:59 2017-05-23 18:51:59     11       1004.0   \n",
       "1   235010450 2017-07-05 06:37:19 2017-07-05 06:47:19     10       1004.0   \n",
       "2   246028000 2017-09-27 01:59:36 2017-09-27 02:11:12     10       1012.0   \n",
       "3   255805864 2017-01-27 13:58:44 2017-01-27 14:10:01     11       1004.0   \n",
       "4   255805864 2017-04-01 23:34:25 2017-04-01 23:49:03     11       1004.0   \n",
       "..        ...                 ...                 ...    ...          ...   \n",
       "65  477280800 2017-10-03 10:15:33 2017-10-03 10:29:32      9         70.0   \n",
       "66  477280800 2017-10-27 08:04:16 2017-10-27 08:18:06      8         70.0   \n",
       "67  538008492 2022-03-08 06:04:29 2022-03-08 06:16:36     12         70.0   \n",
       "68  538071203 2021-11-13 13:08:47 2021-11-13 13:21:19      9         36.0   \n",
       "69  566044000 2017-08-30 20:24:33 2017-08-30 20:35:16      8       1004.0   \n",
       "\n",
       "    len_of_recording  \n",
       "0          11.000000  \n",
       "1          10.000000  \n",
       "2          11.600000  \n",
       "3          11.283333  \n",
       "4          14.633333  \n",
       "..               ...  \n",
       "65         13.983333  \n",
       "66         13.833333  \n",
       "67         12.116667  \n",
       "68         12.533333  \n",
       "69         10.716667  \n",
       "\n",
       "[70 rows x 6 columns]"
      ]
     },
     "execution_count": 68,
     "metadata": {},
     "output_type": "execute_result"
    }
   ],
   "source": [
    "d1"
   ]
  },
  {
   "cell_type": "code",
   "execution_count": 119,
   "metadata": {},
   "outputs": [
    {
     "name": "stdout",
     "output_type": "stream",
     "text": [
      "Other Type, all ships of this type    16\n",
      "Towing                                 5\n",
      "Sailing                                3\n",
      "Cargo, all ships of this type          3\n",
      "Fishing                                2\n",
      "Pleasure Craft                         1\n",
      "Name: VESSEL TYPE, dtype: int64 \n",
      " 28560.516666666663\n"
     ]
    }
   ],
   "source": [
    "print(d1['VESSEL TYPE'].value_counts(),'\\n',d1['len_of_recording'].sum())"
   ]
  },
  {
   "cell_type": "code",
   "execution_count": 120,
   "metadata": {},
   "outputs": [
    {
     "name": "stdout",
     "output_type": "stream",
     "text": [
      " Max distance: 57.89 and Min distance: 0.0\n"
     ]
    },
    {
     "name": "stderr",
     "output_type": "stream",
     "text": [
      "100%|█████████████████████████████████████████████████████████████████████████████████| 84/84 [00:00<00:00, 125.53it/s]\n"
     ]
    },
    {
     "name": "stdout",
     "output_type": "stream",
     "text": [
      "{'MMSI': 235010450, 'start_time': Timestamp('2017-07-05 06:37:19'), 'end_time': Timestamp('2017-07-05 06:47:19'), 'VESSEL TYPE': nan, 'len_of_recording': 10.0}\n"
     ]
    }
   ],
   "source": [
    "d1,d2=get_benchmark_data(df,1,inner_rad,outer_rad2,min_duration,get_acoustic=False,get_spectrogram=False)"
   ]
  },
  {
   "cell_type": "code",
   "execution_count": 121,
   "metadata": {},
   "outputs": [
    {
     "name": "stdout",
     "output_type": "stream",
     "text": [
      "Other Type, all ships of this type    22\n",
      "Towing                                 5\n",
      "Sailing                                3\n",
      "Cargo, all ships of this type          3\n",
      "Fishing                                2\n",
      "Pleasure Craft                         1\n",
      "Name: VESSEL TYPE, dtype: int64 \n",
      " 26752.316666666666\n"
     ]
    }
   ],
   "source": [
    "print(d1['VESSEL TYPE'].value_counts(),'\\n',d1['len_of_recording'].sum())"
   ]
  },
  {
   "cell_type": "code",
   "execution_count": 58,
   "metadata": {},
   "outputs": [
    {
     "name": "stdout",
     "output_type": "stream",
     "text": [
      " Max distance: 57.89 and Min distance: 0.0\n"
     ]
    },
    {
     "name": "stderr",
     "output_type": "stream",
     "text": [
      "100%|█████████████████████████████████████████████████████████████████████████████████| 84/84 [00:00<00:00, 128.32it/s]\n"
     ]
    },
    {
     "name": "stdout",
     "output_type": "stream",
     "text": [
      "{'MMSI': 235010450, 'start_time': Timestamp('2017-07-05 06:37:19'), 'end_time': Timestamp('2017-07-05 06:47:19'), 'VESSEL TYPE': 1004.0, 'len_of_recording': 10.0}\n",
      "Saving spectrograms\n"
     ]
    },
    {
     "name": "stderr",
     "output_type": "stream",
     "text": [
      "\r",
      "  0%|                                                                                           | 0/84 [00:00<?, ?it/s]"
     ]
    },
    {
     "name": "stdout",
     "output_type": "stream",
     "text": [
      "Downloading mseed file...\n",
      "OO.AXBA1.AXBA1.HDH | 2017-05-23T18:40:59.000000Z - 2017-05-23T18:50:59.000000Z | 200.0 Hz, 120001 samples\n"
     ]
    },
    {
     "name": "stderr",
     "output_type": "stream",
     "text": [
      "\r",
      "  1%|▉                                                                                  | 1/84 [00:02<03:05,  2.24s/it]"
     ]
    },
    {
     "name": "stdout",
     "output_type": "stream",
     "text": [
      "Downloading mseed file...\n",
      "OO.AXBA1.AXBA1.HDH | 2017-07-05T06:37:19.000000Z - 2017-07-05T06:47:19.000000Z | 200.0 Hz, 120001 samples\n"
     ]
    },
    {
     "name": "stderr",
     "output_type": "stream",
     "text": [
      "\r",
      "  2%|█▉                                                                                 | 2/84 [00:05<03:30,  2.56s/it]"
     ]
    },
    {
     "name": "stdout",
     "output_type": "stream",
     "text": [
      "Downloading mseed file...\n",
      "OO.AXBA1.AXBA1.HDH | 2017-09-27T01:59:36.000000Z - 2017-09-27T02:09:36.000000Z | 200.0 Hz, 120001 samples\n"
     ]
    },
    {
     "name": "stderr",
     "output_type": "stream",
     "text": [
      "\r",
      "  4%|██▉                                                                                | 3/84 [00:06<02:53,  2.14s/it]"
     ]
    },
    {
     "name": "stdout",
     "output_type": "stream",
     "text": [
      "Downloading mseed file...\n",
      "OO.AXBA1.AXBA1.HDH | 2017-01-27T13:58:44.000000Z - 2017-01-27T14:08:44.000000Z | 200.0 Hz, 120001 samples\n"
     ]
    },
    {
     "name": "stderr",
     "output_type": "stream",
     "text": [
      "\r",
      "  5%|███▉                                                                               | 4/84 [00:08<02:47,  2.10s/it]"
     ]
    },
    {
     "name": "stdout",
     "output_type": "stream",
     "text": [
      "Downloading mseed file...\n",
      "OO.AXBA1.AXBA1.HDH | 2017-04-01T23:34:25.000000Z - 2017-04-01T23:44:25.000000Z | 200.0 Hz, 120001 samples\n"
     ]
    },
    {
     "name": "stderr",
     "output_type": "stream",
     "text": [
      "\r",
      "  6%|████▉                                                                              | 5/84 [00:10<02:40,  2.03s/it]"
     ]
    },
    {
     "name": "stdout",
     "output_type": "stream",
     "text": [
      "Downloading mseed file...\n",
      "OO.AXBA1.AXBA1.HDH | 2017-10-29T06:02:08.000000Z - 2017-10-29T06:12:08.000000Z | 200.0 Hz, 120001 samples\n"
     ]
    },
    {
     "name": "stderr",
     "output_type": "stream",
     "text": [
      "\r",
      "  7%|█████▉                                                                             | 6/84 [00:12<02:36,  2.01s/it]"
     ]
    },
    {
     "name": "stdout",
     "output_type": "stream",
     "text": [
      "Downloading mseed file...\n",
      "OO.AXBA1.AXBA1.HDH | 2018-05-07T19:43:20.000000Z - 2018-05-07T19:53:20.000000Z | 200.0 Hz, 120001 samples\n"
     ]
    },
    {
     "name": "stderr",
     "output_type": "stream",
     "text": [
      "\r",
      "  8%|██████▉                                                                            | 7/84 [00:14<02:29,  1.94s/it]"
     ]
    },
    {
     "name": "stdout",
     "output_type": "stream",
     "text": [
      "Downloading mseed file...\n",
      "OO.AXBA1.AXBA1.HDH | 2022-02-17T06:26:00.000000Z - 2022-02-17T06:36:00.000000Z | 200.0 Hz, 120001 samples\n"
     ]
    },
    {
     "name": "stderr",
     "output_type": "stream",
     "text": [
      "\r",
      " 10%|███████▉                                                                           | 8/84 [00:16<02:21,  1.86s/it]"
     ]
    },
    {
     "name": "stdout",
     "output_type": "stream",
     "text": [
      "Downloading mseed file...\n",
      "OO.AXBA1.AXBA1.HDH | 2017-08-27T22:20:19.000000Z - 2017-08-27T22:30:19.000000Z | 200.0 Hz, 120001 samples\n"
     ]
    },
    {
     "name": "stderr",
     "output_type": "stream",
     "text": [
      "\r",
      " 11%|████████▉                                                                          | 9/84 [00:18<02:30,  2.01s/it]"
     ]
    },
    {
     "name": "stdout",
     "output_type": "stream",
     "text": [
      "Downloading mseed file...\n",
      "OO.AXBA1.AXBA1.HDH | 2017-08-28T04:47:46.000000Z - 2017-08-28T04:57:46.000000Z | 200.0 Hz, 120001 samples\n"
     ]
    },
    {
     "name": "stderr",
     "output_type": "stream",
     "text": [
      "\r",
      " 12%|█████████▊                                                                        | 10/84 [00:20<02:36,  2.11s/it]"
     ]
    },
    {
     "name": "stdout",
     "output_type": "stream",
     "text": [
      "Downloading mseed file...\n",
      "OO.AXBA1.AXBA1.HDH | 2018-11-13T21:48:50.000000Z - 2018-11-13T21:58:50.000000Z | 200.0 Hz, 120001 samples\n"
     ]
    },
    {
     "name": "stderr",
     "output_type": "stream",
     "text": [
      "\r",
      " 13%|██████████▋                                                                       | 11/84 [00:23<02:59,  2.46s/it]"
     ]
    },
    {
     "name": "stdout",
     "output_type": "stream",
     "text": [
      "Downloading mseed file...\n",
      "OO.AXBA1.AXBA1.HDH | 2018-08-09T07:26:10.000000Z - 2018-08-09T07:36:10.000000Z | 200.0 Hz, 120001 samples\n"
     ]
    },
    {
     "name": "stderr",
     "output_type": "stream",
     "text": [
      "\r",
      " 14%|███████████▋                                                                      | 12/84 [00:26<02:59,  2.50s/it]"
     ]
    },
    {
     "name": "stdout",
     "output_type": "stream",
     "text": [
      "Downloading mseed file...\n",
      "OO.AXBA1.AXBA1.HDH | 2018-08-09T12:10:21.000000Z - 2018-08-09T12:20:21.000000Z | 200.0 Hz, 120001 samples\n"
     ]
    },
    {
     "name": "stderr",
     "output_type": "stream",
     "text": [
      "\r",
      " 15%|████████████▋                                                                     | 13/84 [00:28<02:51,  2.41s/it]"
     ]
    },
    {
     "name": "stdout",
     "output_type": "stream",
     "text": [
      "Downloading mseed file...\n",
      "OO.AXBA1.AXBA1.HDH | 2019-05-30T21:09:31.000000Z - 2019-05-30T21:19:31.000000Z | 200.0 Hz, 120001 samples\n"
     ]
    },
    {
     "name": "stderr",
     "output_type": "stream",
     "text": [
      "\r",
      " 17%|█████████████▋                                                                    | 14/84 [00:32<03:17,  2.82s/it]"
     ]
    },
    {
     "name": "stdout",
     "output_type": "stream",
     "text": [
      "Downloading mseed file...\n",
      "OO.AXBA1.AXBA1.HDH | 2017-07-28T01:41:47.000000Z - 2017-07-28T01:51:47.000000Z | 200.0 Hz, 120001 samples\n"
     ]
    },
    {
     "name": "stderr",
     "output_type": "stream",
     "text": [
      "\r",
      " 18%|██████████████▋                                                                   | 15/84 [00:35<03:14,  2.82s/it]"
     ]
    },
    {
     "name": "stdout",
     "output_type": "stream",
     "text": [
      "Downloading mseed file...\n",
      "OO.AXBA1.AXBA1.HDH | 2017-08-29T16:55:37.000000Z - 2017-08-29T17:05:37.000000Z | 200.0 Hz, 120001 samples\n"
     ]
    },
    {
     "name": "stderr",
     "output_type": "stream",
     "text": [
      "\r",
      " 19%|███████████████▌                                                                  | 16/84 [00:38<03:19,  2.93s/it]"
     ]
    },
    {
     "name": "stdout",
     "output_type": "stream",
     "text": [
      "Downloading mseed file...\n",
      "OO.AXBA1.AXBA1.HDH | 2020-08-02T21:33:57.000000Z - 2020-08-02T21:43:57.000000Z | 200.0 Hz, 120001 samples\n"
     ]
    },
    {
     "name": "stderr",
     "output_type": "stream",
     "text": [
      "\r",
      " 20%|████████████████▌                                                                 | 17/84 [00:40<02:54,  2.60s/it]"
     ]
    },
    {
     "name": "stdout",
     "output_type": "stream",
     "text": [
      "Downloading mseed file...\n",
      "OO.AXBA1.AXBA1.HDH | 2020-08-11T03:37:28.000000Z - 2020-08-11T03:47:28.000000Z | 200.0 Hz, 120001 samples\n"
     ]
    },
    {
     "name": "stderr",
     "output_type": "stream",
     "text": [
      "\r",
      " 21%|█████████████████▌                                                                | 18/84 [00:42<02:38,  2.41s/it]"
     ]
    },
    {
     "name": "stdout",
     "output_type": "stream",
     "text": [
      "Downloading mseed file...\n",
      "OO.AXBA1.AXBA1.HDH | 2020-08-12T05:27:08.000000Z - 2020-08-12T05:37:08.000000Z | 200.0 Hz, 120001 samples\n"
     ]
    },
    {
     "name": "stderr",
     "output_type": "stream",
     "text": [
      "\r",
      " 23%|██████████████████▌                                                               | 19/84 [00:44<02:24,  2.23s/it]"
     ]
    },
    {
     "name": "stdout",
     "output_type": "stream",
     "text": [
      "Downloading mseed file...\n",
      "OO.AXBA1.AXBA1.HDH | 2020-08-12T06:20:58.000000Z - 2020-08-12T06:30:58.000000Z | 200.0 Hz, 120001 samples\n"
     ]
    },
    {
     "name": "stderr",
     "output_type": "stream",
     "text": [
      "\r",
      " 24%|███████████████████▌                                                              | 20/84 [00:46<02:26,  2.29s/it]"
     ]
    },
    {
     "name": "stdout",
     "output_type": "stream",
     "text": [
      "Downloading mseed file...\n"
     ]
    },
    {
     "name": "stderr",
     "output_type": "stream",
     "text": [
      "\r",
      " 25%|████████████████████▌                                                             | 21/84 [00:49<02:42,  2.57s/it]"
     ]
    },
    {
     "name": "stdout",
     "output_type": "stream",
     "text": [
      "   Specific Time window timed out.\n",
      "None\n",
      "data trace is none. Continuing to next\n",
      "Downloading mseed file...\n",
      "OO.AXBA1.AXBA1.HDH | 2021-08-07T01:10:10.000000Z - 2021-08-07T01:20:10.000000Z | 200.0 Hz, 120001 samples\n"
     ]
    },
    {
     "name": "stderr",
     "output_type": "stream",
     "text": [
      "\r",
      " 26%|█████████████████████▍                                                            | 22/84 [00:52<02:39,  2.57s/it]"
     ]
    },
    {
     "name": "stdout",
     "output_type": "stream",
     "text": [
      "Downloading mseed file...\n",
      "OO.AXBA1.AXBA1.HDH | 2021-08-11T20:42:27.000000Z - 2021-08-11T20:52:27.000000Z | 200.0 Hz, 120001 samples\n"
     ]
    },
    {
     "name": "stderr",
     "output_type": "stream",
     "text": [
      "\r",
      " 27%|██████████████████████▍                                                           | 23/84 [00:54<02:22,  2.34s/it]"
     ]
    },
    {
     "name": "stdout",
     "output_type": "stream",
     "text": [
      "Downloading mseed file...\n",
      "OO.AXBA1.AXBA1.HDH | 2021-08-15T15:17:42.000000Z - 2021-08-15T15:27:42.000000Z | 200.0 Hz, 120001 samples\n"
     ]
    },
    {
     "name": "stderr",
     "output_type": "stream",
     "text": [
      "\r",
      " 29%|███████████████████████▍                                                          | 24/84 [00:56<02:13,  2.22s/it]"
     ]
    },
    {
     "name": "stdout",
     "output_type": "stream",
     "text": [
      "Downloading mseed file...\n"
     ]
    },
    {
     "name": "stderr",
     "output_type": "stream",
     "text": [
      "\r",
      " 30%|████████████████████████▍                                                         | 25/84 [00:59<02:35,  2.63s/it]"
     ]
    },
    {
     "name": "stdout",
     "output_type": "stream",
     "text": [
      "   Specific Time window timed out.\n",
      "None\n",
      "data trace is none. Continuing to next\n",
      "Downloading mseed file...\n",
      "OO.AXBA1.AXBA1.HDH | 2021-08-21T11:39:38.000000Z - 2021-08-21T11:45:44.620000Z | 200.0 Hz, 73325 samples\n"
     ]
    },
    {
     "name": "stderr",
     "output_type": "stream",
     "text": [
      "\r",
      " 31%|█████████████████████████▍                                                        | 26/84 [01:02<02:41,  2.78s/it]"
     ]
    },
    {
     "name": "stdout",
     "output_type": "stream",
     "text": [
      "Downloading mseed file...\n",
      "OO.AXBA1.AXBA1.HDH | 2018-10-11T16:01:17.000000Z - 2018-10-11T16:11:17.000000Z | 200.0 Hz, 120001 samples\n"
     ]
    },
    {
     "name": "stderr",
     "output_type": "stream",
     "text": [
      "\r",
      " 32%|██████████████████████████▎                                                       | 27/84 [01:05<02:36,  2.74s/it]"
     ]
    },
    {
     "name": "stdout",
     "output_type": "stream",
     "text": [
      "Downloading mseed file...\n",
      "OO.AXBA1.AXBA1.HDH | 2020-09-11T17:21:44.000000Z - 2020-09-11T17:31:44.000000Z | 200.0 Hz, 120001 samples\n"
     ]
    },
    {
     "name": "stderr",
     "output_type": "stream",
     "text": [
      "\r",
      " 33%|███████████████████████████▎                                                      | 28/84 [01:08<02:33,  2.74s/it]"
     ]
    },
    {
     "name": "stdout",
     "output_type": "stream",
     "text": [
      "Downloading mseed file...\n",
      "OO.AXBA1.AXBA1.HDH | 2019-06-03T17:51:09.000000Z - 2019-06-03T18:01:09.000000Z | 200.0 Hz, 120001 samples\n"
     ]
    },
    {
     "name": "stderr",
     "output_type": "stream",
     "text": [
      "\r",
      " 35%|████████████████████████████▎                                                     | 29/84 [01:10<02:19,  2.54s/it]"
     ]
    },
    {
     "name": "stdout",
     "output_type": "stream",
     "text": [
      "Downloading mseed file...\n",
      "OO.AXBA1.AXBA1.HDH | 2017-09-03T21:48:43.000000Z - 2017-09-03T21:58:43.000000Z | 200.0 Hz, 120001 samples\n"
     ]
    },
    {
     "name": "stderr",
     "output_type": "stream",
     "text": [
      "\r",
      " 36%|█████████████████████████████▎                                                    | 30/84 [01:14<02:43,  3.02s/it]"
     ]
    },
    {
     "name": "stdout",
     "output_type": "stream",
     "text": [
      "Downloading mseed file...\n",
      "OO.AXBA1.AXBA1.HDH | 2022-02-10T15:28:45.000000Z - 2022-02-10T15:38:45.000000Z | 200.0 Hz, 120001 samples\n"
     ]
    },
    {
     "name": "stderr",
     "output_type": "stream",
     "text": [
      "\r",
      " 37%|██████████████████████████████▎                                                   | 31/84 [01:17<02:46,  3.14s/it]"
     ]
    },
    {
     "name": "stdout",
     "output_type": "stream",
     "text": [
      "Downloading mseed file...\n",
      "OO.AXBA1.AXBA1.HDH | 2019-06-14T10:43:50.000000Z - 2019-06-14T10:53:50.000000Z | 200.0 Hz, 120001 samples\n"
     ]
    },
    {
     "name": "stderr",
     "output_type": "stream",
     "text": [
      "\r",
      " 38%|███████████████████████████████▏                                                  | 32/84 [01:21<02:43,  3.15s/it]"
     ]
    },
    {
     "name": "stdout",
     "output_type": "stream",
     "text": [
      "Downloading mseed file...\n",
      "OO.AXBA1.AXBA1.HDH | 2019-06-14T12:55:59.000000Z - 2019-06-14T13:05:59.000000Z | 200.0 Hz, 120001 samples\n"
     ]
    },
    {
     "name": "stderr",
     "output_type": "stream",
     "text": [
      "\r",
      " 39%|████████████████████████████████▏                                                 | 33/84 [01:23<02:34,  3.04s/it]"
     ]
    },
    {
     "name": "stdout",
     "output_type": "stream",
     "text": [
      "Downloading mseed file...\n",
      "OO.AXBA1.AXBA1.HDH | 2019-06-14T19:41:29.000000Z - 2019-06-14T19:51:29.000000Z | 200.0 Hz, 120001 samples\n"
     ]
    },
    {
     "name": "stderr",
     "output_type": "stream",
     "text": [
      "\r",
      " 40%|█████████████████████████████████▏                                                | 34/84 [01:26<02:28,  2.96s/it]"
     ]
    },
    {
     "name": "stdout",
     "output_type": "stream",
     "text": [
      "Downloading mseed file...\n",
      "OO.AXBA1.AXBA1.HDH | 2019-06-18T18:04:19.000000Z - 2019-06-18T18:14:19.000000Z | 200.0 Hz, 120001 samples\n"
     ]
    },
    {
     "name": "stderr",
     "output_type": "stream",
     "text": [
      "\r",
      " 42%|██████████████████████████████████▏                                               | 35/84 [01:29<02:18,  2.83s/it]"
     ]
    },
    {
     "name": "stdout",
     "output_type": "stream",
     "text": [
      "Downloading mseed file...\n"
     ]
    },
    {
     "name": "stderr",
     "output_type": "stream",
     "text": [
      "\r",
      " 43%|███████████████████████████████████▏                                              | 36/84 [01:32<02:21,  2.95s/it]"
     ]
    },
    {
     "name": "stdout",
     "output_type": "stream",
     "text": [
      "   Specific Time window timed out.\n",
      "None\n",
      "data trace is none. Continuing to next\n",
      "Downloading mseed file...\n"
     ]
    },
    {
     "name": "stderr",
     "output_type": "stream",
     "text": [
      "\r",
      " 44%|████████████████████████████████████                                              | 37/84 [01:36<02:35,  3.30s/it]"
     ]
    },
    {
     "name": "stdout",
     "output_type": "stream",
     "text": [
      "   Specific Time window timed out.\n",
      "None\n",
      "data trace is none. Continuing to next\n",
      "Downloading mseed file...\n"
     ]
    },
    {
     "name": "stderr",
     "output_type": "stream",
     "text": [
      "\r",
      " 45%|█████████████████████████████████████                                             | 38/84 [01:40<02:43,  3.56s/it]"
     ]
    },
    {
     "name": "stdout",
     "output_type": "stream",
     "text": [
      "   Specific Time window timed out.\n",
      "None\n",
      "data trace is none. Continuing to next\n",
      "Downloading mseed file...\n"
     ]
    },
    {
     "name": "stderr",
     "output_type": "stream",
     "text": [
      "\r",
      " 46%|██████████████████████████████████████                                            | 39/84 [01:44<02:49,  3.76s/it]"
     ]
    },
    {
     "name": "stdout",
     "output_type": "stream",
     "text": [
      "   Specific Time window timed out.\n",
      "None\n",
      "data trace is none. Continuing to next\n",
      "Downloading mseed file...\n",
      "OO.AXBA1.AXBA1.HDH | 2020-04-11T11:37:13.000000Z - 2020-04-11T11:47:13.000000Z | 200.0 Hz, 120001 samples\n"
     ]
    },
    {
     "name": "stderr",
     "output_type": "stream",
     "text": [
      "\r",
      " 48%|███████████████████████████████████████                                           | 40/84 [01:46<02:21,  3.21s/it]"
     ]
    },
    {
     "name": "stdout",
     "output_type": "stream",
     "text": [
      "Downloading mseed file...\n",
      "OO.AXBA1.AXBA1.HDH | 2018-10-17T22:32:10.000000Z - 2018-10-17T22:42:10.000000Z | 200.0 Hz, 120001 samples\n"
     ]
    },
    {
     "name": "stderr",
     "output_type": "stream",
     "text": [
      "\r",
      " 49%|████████████████████████████████████████                                          | 41/84 [01:48<01:57,  2.74s/it]"
     ]
    },
    {
     "name": "stdout",
     "output_type": "stream",
     "text": [
      "Downloading mseed file...\n",
      "OO.AXBA1.AXBA1.HDH | 2017-07-17T01:37:57.000000Z - 2017-07-17T01:47:57.000000Z | 200.0 Hz, 120001 samples\n"
     ]
    },
    {
     "name": "stderr",
     "output_type": "stream",
     "text": [
      "\r",
      " 50%|█████████████████████████████████████████                                         | 42/84 [01:50<01:48,  2.58s/it]"
     ]
    },
    {
     "name": "stdout",
     "output_type": "stream",
     "text": [
      "Downloading mseed file...\n",
      "OO.AXBA1.AXBA1.HDH | 2021-08-26T07:45:51.000000Z - 2021-08-26T07:55:51.000000Z | 200.0 Hz, 120001 samples\n"
     ]
    },
    {
     "name": "stderr",
     "output_type": "stream",
     "text": [
      "\r",
      " 51%|█████████████████████████████████████████▉                                        | 43/84 [01:52<01:39,  2.43s/it]"
     ]
    },
    {
     "name": "stdout",
     "output_type": "stream",
     "text": [
      "Downloading mseed file...\n",
      "OO.AXBA1.AXBA1.HDH | 2019-11-14T22:39:27.000000Z - 2019-11-14T22:49:27.000000Z | 200.0 Hz, 120001 samples\n"
     ]
    },
    {
     "name": "stderr",
     "output_type": "stream",
     "text": [
      "\r",
      " 52%|██████████████████████████████████████████▉                                       | 44/84 [01:55<01:40,  2.52s/it]"
     ]
    },
    {
     "name": "stdout",
     "output_type": "stream",
     "text": [
      "Downloading mseed file...\n",
      "OO.AXBA1.AXBA1.HDH | 2017-07-29T07:05:32.000000Z - 2017-07-29T07:15:32.000000Z | 200.0 Hz, 120001 samples\n"
     ]
    },
    {
     "name": "stderr",
     "output_type": "stream",
     "text": [
      "\r",
      " 54%|███████████████████████████████████████████▉                                      | 45/84 [01:57<01:34,  2.43s/it]"
     ]
    },
    {
     "name": "stdout",
     "output_type": "stream",
     "text": [
      "Downloading mseed file...\n",
      "OO.AXBA1.AXBA1.HDH | 2017-07-29T11:09:02.000000Z - 2017-07-29T11:19:02.000000Z | 200.0 Hz, 120001 samples\n"
     ]
    },
    {
     "name": "stderr",
     "output_type": "stream",
     "text": [
      "\r",
      " 55%|████████████████████████████████████████████▉                                     | 46/84 [02:00<01:39,  2.62s/it]"
     ]
    },
    {
     "name": "stdout",
     "output_type": "stream",
     "text": [
      "Downloading mseed file...\n",
      "OO.AXBA1.AXBA1.HDH | 2017-08-02T10:42:01.000000Z - 2017-08-02T10:52:01.000000Z | 200.0 Hz, 120001 samples\n"
     ]
    },
    {
     "name": "stderr",
     "output_type": "stream",
     "text": [
      "\r",
      " 56%|█████████████████████████████████████████████▉                                    | 47/84 [02:03<01:35,  2.58s/it]"
     ]
    },
    {
     "name": "stdout",
     "output_type": "stream",
     "text": [
      "Downloading mseed file...\n",
      "OO.AXBA1.AXBA1.HDH | 2017-08-03T09:37:35.000000Z - 2017-08-03T09:47:35.000000Z | 200.0 Hz, 120001 samples\n"
     ]
    },
    {
     "name": "stderr",
     "output_type": "stream",
     "text": [
      "\r",
      " 57%|██████████████████████████████████████████████▊                                   | 48/84 [02:06<01:35,  2.65s/it]"
     ]
    },
    {
     "name": "stdout",
     "output_type": "stream",
     "text": [
      "Downloading mseed file...\n",
      "OO.AXBA1.AXBA1.HDH | 2017-08-03T23:05:55.000000Z - 2017-08-03T23:15:55.000000Z | 200.0 Hz, 120001 samples\n"
     ]
    },
    {
     "name": "stderr",
     "output_type": "stream",
     "text": [
      "\r",
      " 58%|███████████████████████████████████████████████▊                                  | 49/84 [02:08<01:32,  2.65s/it]"
     ]
    },
    {
     "name": "stdout",
     "output_type": "stream",
     "text": [
      "Downloading mseed file...\n",
      "OO.AXBA1.AXBA1.HDH | 2017-08-04T09:21:24.000000Z - 2017-08-04T09:31:24.000000Z | 200.0 Hz, 120001 samples\n"
     ]
    },
    {
     "name": "stderr",
     "output_type": "stream",
     "text": [
      "\r",
      " 60%|████████████████████████████████████████████████▊                                 | 50/84 [02:11<01:32,  2.73s/it]"
     ]
    },
    {
     "name": "stdout",
     "output_type": "stream",
     "text": [
      "Downloading mseed file...\n",
      "OO.AXBA1.AXBA1.HDH | 2017-08-12T14:07:59.000000Z - 2017-08-12T14:17:59.000000Z | 200.0 Hz, 120001 samples\n"
     ]
    },
    {
     "name": "stderr",
     "output_type": "stream",
     "text": [
      "\r",
      " 61%|█████████████████████████████████████████████████▊                                | 51/84 [02:14<01:29,  2.72s/it]"
     ]
    },
    {
     "name": "stdout",
     "output_type": "stream",
     "text": [
      "Downloading mseed file...\n",
      "OO.AXBA1.AXBA1.HDH | 2017-08-17T06:52:18.000000Z - 2017-08-17T07:02:18.000000Z | 200.0 Hz, 120001 samples\n"
     ]
    },
    {
     "name": "stderr",
     "output_type": "stream",
     "text": [
      "\r",
      " 62%|██████████████████████████████████████████████████▊                               | 52/84 [02:16<01:25,  2.68s/it]"
     ]
    },
    {
     "name": "stdout",
     "output_type": "stream",
     "text": [
      "Downloading mseed file...\n",
      "OO.AXBA1.AXBA1.HDH | 2017-08-24T05:17:30.000000Z - 2017-08-24T05:27:30.000000Z | 200.0 Hz, 120001 samples\n"
     ]
    },
    {
     "name": "stderr",
     "output_type": "stream",
     "text": [
      "\r",
      " 63%|███████████████████████████████████████████████████▋                              | 53/84 [02:19<01:22,  2.65s/it]"
     ]
    },
    {
     "name": "stdout",
     "output_type": "stream",
     "text": [
      "Downloading mseed file...\n",
      "OO.AXBA1.AXBA1.HDH | 2017-08-26T02:56:30.000000Z - 2017-08-26T03:06:30.000000Z | 200.0 Hz, 120001 samples\n"
     ]
    },
    {
     "name": "stderr",
     "output_type": "stream",
     "text": [
      "\r",
      " 64%|████████████████████████████████████████████████████▋                             | 54/84 [02:22<01:24,  2.81s/it]"
     ]
    },
    {
     "name": "stdout",
     "output_type": "stream",
     "text": [
      "Downloading mseed file...\n",
      "OO.AXBA1.AXBA1.HDH | 2017-09-06T04:12:55.000000Z - 2017-09-06T04:22:55.000000Z | 200.0 Hz, 120001 samples\n"
     ]
    },
    {
     "name": "stderr",
     "output_type": "stream",
     "text": [
      "\r",
      " 65%|█████████████████████████████████████████████████████▋                            | 55/84 [02:25<01:21,  2.81s/it]"
     ]
    },
    {
     "name": "stdout",
     "output_type": "stream",
     "text": [
      "Downloading mseed file...\n",
      "OO.AXBA1.AXBA1.HDH | 2018-06-23T21:17:55.000000Z - 2018-06-23T21:27:55.000000Z | 200.0 Hz, 120001 samples\n"
     ]
    },
    {
     "name": "stderr",
     "output_type": "stream",
     "text": [
      "\r",
      " 67%|██████████████████████████████████████████████████████▋                           | 56/84 [02:28<01:17,  2.79s/it]"
     ]
    },
    {
     "name": "stdout",
     "output_type": "stream",
     "text": [
      "Downloading mseed file...\n",
      "OO.AXBA1.AXBA1.HDH | 2018-06-26T06:05:42.000000Z - 2018-06-26T06:15:42.000000Z | 200.0 Hz, 120001 samples\n"
     ]
    },
    {
     "name": "stderr",
     "output_type": "stream",
     "text": [
      "\r",
      " 68%|███████████████████████████████████████████████████████▋                          | 57/84 [02:29<01:06,  2.48s/it]"
     ]
    },
    {
     "name": "stdout",
     "output_type": "stream",
     "text": [
      "Downloading mseed file...\n",
      "OO.AXBA1.AXBA1.HDH | 2018-07-09T13:11:59.000000Z - 2018-07-09T13:21:59.000000Z | 200.0 Hz, 120001 samples\n"
     ]
    },
    {
     "name": "stderr",
     "output_type": "stream",
     "text": [
      "\r",
      " 69%|████████████████████████████████████████████████████████▌                         | 58/84 [02:31<00:59,  2.29s/it]"
     ]
    },
    {
     "name": "stdout",
     "output_type": "stream",
     "text": [
      "Downloading mseed file...\n",
      "OO.AXBA1.AXBA1.HDH | 2018-07-10T19:07:52.000000Z - 2018-07-10T19:17:52.000000Z | 200.0 Hz, 120001 samples\n"
     ]
    },
    {
     "name": "stderr",
     "output_type": "stream",
     "text": [
      "\r",
      " 70%|█████████████████████████████████████████████████████████▌                        | 59/84 [02:33<00:53,  2.15s/it]"
     ]
    },
    {
     "name": "stdout",
     "output_type": "stream",
     "text": [
      "Downloading mseed file...\n",
      "OO.AXBA1.AXBA1.HDH | 2018-07-23T06:45:10.000000Z - 2018-07-23T06:55:10.000000Z | 200.0 Hz, 120001 samples\n"
     ]
    },
    {
     "name": "stderr",
     "output_type": "stream",
     "text": [
      "\r",
      " 71%|██████████████████████████████████████████████████████████▌                       | 60/84 [02:36<00:55,  2.30s/it]"
     ]
    },
    {
     "name": "stdout",
     "output_type": "stream",
     "text": [
      "Downloading mseed file...\n",
      "OO.AXBA1.AXBA1.HDH | 2018-07-23T09:53:19.000000Z - 2018-07-23T10:03:19.000000Z | 200.0 Hz, 120001 samples\n"
     ]
    },
    {
     "name": "stderr",
     "output_type": "stream",
     "text": [
      "\r",
      " 73%|███████████████████████████████████████████████████████████▌                      | 61/84 [02:37<00:47,  2.06s/it]"
     ]
    },
    {
     "name": "stdout",
     "output_type": "stream",
     "text": [
      "Downloading mseed file...\n",
      "OO.AXBA1.AXBA1.HDH | 2018-07-24T10:04:41.000000Z - 2018-07-24T10:14:41.000000Z | 200.0 Hz, 120001 samples\n"
     ]
    },
    {
     "name": "stderr",
     "output_type": "stream",
     "text": [
      "\r",
      " 74%|████████████████████████████████████████████████████████████▌                     | 62/84 [02:39<00:44,  2.03s/it]"
     ]
    },
    {
     "name": "stdout",
     "output_type": "stream",
     "text": [
      "Downloading mseed file...\n",
      "OO.AXBA1.AXBA1.HDH | 2018-07-24T13:02:30.000000Z - 2018-07-24T13:12:30.000000Z | 200.0 Hz, 120001 samples\n"
     ]
    },
    {
     "name": "stderr",
     "output_type": "stream",
     "text": [
      "\r",
      " 75%|█████████████████████████████████████████████████████████████▌                    | 63/84 [02:42<00:47,  2.25s/it]"
     ]
    },
    {
     "name": "stdout",
     "output_type": "stream",
     "text": [
      "Downloading mseed file...\n",
      "OO.AXBA1.AXBA1.HDH | 2018-07-25T14:57:41.000000Z - 2018-07-25T15:07:41.000000Z | 200.0 Hz, 120001 samples\n"
     ]
    },
    {
     "name": "stderr",
     "output_type": "stream",
     "text": [
      "\r",
      " 76%|██████████████████████████████████████████████████████████████▍                   | 64/84 [02:44<00:46,  2.31s/it]"
     ]
    },
    {
     "name": "stdout",
     "output_type": "stream",
     "text": [
      "Downloading mseed file...\n",
      "OO.AXBA1.AXBA1.HDH | 2018-07-25T17:21:03.000000Z - 2018-07-25T17:31:03.000000Z | 200.0 Hz, 120001 samples\n"
     ]
    },
    {
     "name": "stderr",
     "output_type": "stream",
     "text": [
      "\r",
      " 77%|███████████████████████████████████████████████████████████████▍                  | 65/84 [02:46<00:41,  2.18s/it]"
     ]
    },
    {
     "name": "stdout",
     "output_type": "stream",
     "text": [
      "Downloading mseed file...\n"
     ]
    },
    {
     "name": "stderr",
     "output_type": "stream",
     "text": [
      "\r",
      " 79%|████████████████████████████████████████████████████████████████▍                 | 66/84 [02:50<00:49,  2.77s/it]"
     ]
    },
    {
     "name": "stdout",
     "output_type": "stream",
     "text": [
      "   Specific Time window timed out.\n",
      "None\n",
      "data trace is none. Continuing to next\n",
      "Downloading mseed file...\n"
     ]
    },
    {
     "name": "stderr",
     "output_type": "stream",
     "text": [
      "\r",
      " 80%|█████████████████████████████████████████████████████████████████▍                | 67/84 [02:55<00:57,  3.40s/it]"
     ]
    },
    {
     "name": "stdout",
     "output_type": "stream",
     "text": [
      "   Specific Time window timed out.\n",
      "None\n",
      "data trace is none. Continuing to next\n",
      "Downloading mseed file...\n"
     ]
    },
    {
     "name": "stderr",
     "output_type": "stream",
     "text": [
      "\r",
      " 81%|██████████████████████████████████████████████████████████████████▍               | 68/84 [02:59<00:54,  3.42s/it]"
     ]
    },
    {
     "name": "stdout",
     "output_type": "stream",
     "text": [
      "   Specific Time window timed out.\n",
      "None\n",
      "data trace is none. Continuing to next\n",
      "Downloading mseed file...\n"
     ]
    },
    {
     "name": "stderr",
     "output_type": "stream",
     "text": [
      "\r",
      " 82%|███████████████████████████████████████████████████████████████████▎              | 69/84 [03:03<00:55,  3.72s/it]"
     ]
    },
    {
     "name": "stdout",
     "output_type": "stream",
     "text": [
      "   Specific Time window timed out.\n",
      "None\n",
      "data trace is none. Continuing to next\n",
      "Downloading mseed file...\n"
     ]
    },
    {
     "name": "stderr",
     "output_type": "stream",
     "text": [
      "\r",
      " 83%|████████████████████████████████████████████████████████████████████▎             | 70/84 [03:07<00:54,  3.89s/it]"
     ]
    },
    {
     "name": "stdout",
     "output_type": "stream",
     "text": [
      "   Specific Time window timed out.\n",
      "None\n",
      "data trace is none. Continuing to next\n",
      "Downloading mseed file...\n"
     ]
    },
    {
     "name": "stderr",
     "output_type": "stream",
     "text": [
      "\r",
      " 85%|█████████████████████████████████████████████████████████████████████▎            | 71/84 [03:12<00:53,  4.13s/it]"
     ]
    },
    {
     "name": "stdout",
     "output_type": "stream",
     "text": [
      "   Specific Time window timed out.\n",
      "None\n",
      "data trace is none. Continuing to next\n",
      "Downloading mseed file...\n"
     ]
    },
    {
     "name": "stderr",
     "output_type": "stream",
     "text": [
      "\r",
      " 86%|██████████████████████████████████████████████████████████████████████▎           | 72/84 [03:16<00:49,  4.13s/it]"
     ]
    },
    {
     "name": "stdout",
     "output_type": "stream",
     "text": [
      "   Specific Time window timed out.\n",
      "None\n",
      "data trace is none. Continuing to next\n",
      "Downloading mseed file...\n",
      "OO.AXBA1.AXBA1.HDH | 2021-05-30T15:25:39.000000Z - 2021-05-30T15:35:39.000000Z | 200.0 Hz, 120001 samples\n"
     ]
    },
    {
     "name": "stderr",
     "output_type": "stream",
     "text": [
      "\r",
      " 87%|███████████████████████████████████████████████████████████████████████▎          | 73/84 [03:20<00:43,  3.99s/it]"
     ]
    },
    {
     "name": "stdout",
     "output_type": "stream",
     "text": [
      "Downloading mseed file...\n",
      "OO.AXBA1.AXBA1.HDH | 2019-09-05T16:36:13.000000Z - 2019-09-05T16:46:13.000000Z | 200.0 Hz, 120001 samples\n"
     ]
    },
    {
     "name": "stderr",
     "output_type": "stream",
     "text": [
      "\r",
      " 88%|████████████████████████████████████████████████████████████████████████▏         | 74/84 [03:23<00:37,  3.74s/it]"
     ]
    },
    {
     "name": "stdout",
     "output_type": "stream",
     "text": [
      "Downloading mseed file...\n",
      "OO.AXBA1.AXBA1.HDH | 2021-09-23T17:24:57.000000Z - 2021-09-23T17:34:57.000000Z | 200.0 Hz, 120001 samples\n"
     ]
    },
    {
     "name": "stderr",
     "output_type": "stream",
     "text": [
      "\r",
      " 89%|█████████████████████████████████████████████████████████████████████████▏        | 75/84 [03:27<00:33,  3.77s/it]"
     ]
    },
    {
     "name": "stdout",
     "output_type": "stream",
     "text": [
      "Downloading mseed file...\n",
      "OO.AXBA1.AXBA1.HDH | 2017-07-14T16:15:40.000000Z - 2017-07-14T16:25:40.000000Z | 200.0 Hz, 120001 samples\n"
     ]
    },
    {
     "name": "stderr",
     "output_type": "stream",
     "text": [
      "\r",
      " 90%|██████████████████████████████████████████████████████████████████████████▏       | 76/84 [03:31<00:29,  3.74s/it]"
     ]
    },
    {
     "name": "stdout",
     "output_type": "stream",
     "text": [
      "Downloading mseed file...\n",
      "OO.AXBA1.AXBA1.HDH | 2018-08-02T12:12:17.000000Z - 2018-08-02T12:22:17.000000Z | 200.0 Hz, 120001 samples\n"
     ]
    },
    {
     "name": "stderr",
     "output_type": "stream",
     "text": [
      "\r",
      " 92%|███████████████████████████████████████████████████████████████████████████▏      | 77/84 [03:34<00:25,  3.71s/it]"
     ]
    },
    {
     "name": "stdout",
     "output_type": "stream",
     "text": [
      "Downloading mseed file...\n",
      "OO.AXBA1.AXBA1.HDH | 2017-09-23T11:23:53.000000Z - 2017-09-23T11:33:53.000000Z | 200.0 Hz, 120001 samples\n"
     ]
    },
    {
     "name": "stderr",
     "output_type": "stream",
     "text": [
      "\r",
      " 93%|████████████████████████████████████████████████████████████████████████████▏     | 78/84 [03:37<00:21,  3.54s/it]"
     ]
    },
    {
     "name": "stdout",
     "output_type": "stream",
     "text": [
      "Downloading mseed file...\n",
      "OO.AXBA1.AXBA1.HDH | 2017-08-21T06:36:06.000000Z - 2017-08-21T06:46:06.000000Z | 200.0 Hz, 120001 samples\n"
     ]
    },
    {
     "name": "stderr",
     "output_type": "stream",
     "text": [
      "\r",
      " 94%|█████████████████████████████████████████████████████████████████████████████     | 79/84 [03:40<00:16,  3.23s/it]"
     ]
    },
    {
     "name": "stdout",
     "output_type": "stream",
     "text": [
      "Downloading mseed file...\n",
      "OO.AXBA1.AXBA1.HDH | 2017-10-03T10:16:15.880000Z - 2017-10-03T10:25:33.000000Z | 200.0 Hz, 111425 samples\n"
     ]
    },
    {
     "name": "stderr",
     "output_type": "stream",
     "text": [
      "\r",
      " 95%|██████████████████████████████████████████████████████████████████████████████    | 80/84 [03:43<00:12,  3.12s/it]"
     ]
    },
    {
     "name": "stdout",
     "output_type": "stream",
     "text": [
      "Downloading mseed file...\n",
      "OO.AXBA1.AXBA1.HDH | 2017-10-27T08:04:16.000000Z - 2017-10-27T08:14:16.000000Z | 200.0 Hz, 120001 samples\n"
     ]
    },
    {
     "name": "stderr",
     "output_type": "stream",
     "text": [
      "\r",
      " 96%|███████████████████████████████████████████████████████████████████████████████   | 81/84 [03:46<00:09,  3.02s/it]"
     ]
    },
    {
     "name": "stdout",
     "output_type": "stream",
     "text": [
      "Downloading mseed file...\n",
      "OO.AXBA1.AXBA1.HDH | 2022-03-08T06:04:29.000000Z - 2022-03-08T06:14:29.000000Z | 200.0 Hz, 120001 samples\n"
     ]
    },
    {
     "name": "stderr",
     "output_type": "stream",
     "text": [
      "\r",
      " 98%|████████████████████████████████████████████████████████████████████████████████  | 82/84 [03:49<00:06,  3.00s/it]"
     ]
    },
    {
     "name": "stdout",
     "output_type": "stream",
     "text": [
      "Downloading mseed file...\n",
      "OO.AXBA1.AXBA1.HDH | 2021-11-13T13:08:47.000000Z - 2021-11-13T13:18:47.000000Z | 200.0 Hz, 120001 samples\n"
     ]
    },
    {
     "name": "stderr",
     "output_type": "stream",
     "text": [
      "\r",
      " 99%|█████████████████████████████████████████████████████████████████████████████████ | 83/84 [03:51<00:02,  2.86s/it]"
     ]
    },
    {
     "name": "stdout",
     "output_type": "stream",
     "text": [
      "Downloading mseed file...\n",
      "OO.AXBA1.AXBA1.HDH | 2017-08-30T20:24:33.000000Z - 2017-08-30T20:34:33.000000Z | 200.0 Hz, 120001 samples\n"
     ]
    },
    {
     "name": "stderr",
     "output_type": "stream",
     "text": [
      "100%|██████████████████████████████████████████████████████████████████████████████████| 84/84 [03:53<00:00,  2.78s/it]\n"
     ]
    }
   ],
   "source": [
    "d1,d2=get_benchmark_data(df,1,inner_rad,outer_rad2,min_duration,get_acoustic=False,get_spectrogram=False))"
   ]
  },
  {
   "cell_type": "code",
   "execution_count": 101,
   "metadata": {},
   "outputs": [
    {
     "data": {
      "text/html": [
       "<div>\n",
       "<style scoped>\n",
       "    .dataframe tbody tr th:only-of-type {\n",
       "        vertical-align: middle;\n",
       "    }\n",
       "\n",
       "    .dataframe tbody tr th {\n",
       "        vertical-align: top;\n",
       "    }\n",
       "\n",
       "    .dataframe thead th {\n",
       "        text-align: right;\n",
       "    }\n",
       "</style>\n",
       "<table border=\"1\" class=\"dataframe\">\n",
       "  <thead>\n",
       "    <tr style=\"text-align: right;\">\n",
       "      <th></th>\n",
       "      <th>MMSI</th>\n",
       "      <th>time_min</th>\n",
       "      <th>time_max</th>\n",
       "      <th>count</th>\n",
       "      <th>VESSEL TYPE</th>\n",
       "      <th>len_of_recording</th>\n",
       "    </tr>\n",
       "  </thead>\n",
       "  <tbody>\n",
       "    <tr>\n",
       "      <th>0</th>\n",
       "      <td>210059000</td>\n",
       "      <td>2016-11-25 22:49:56</td>\n",
       "      <td>2016-11-25 23:02:56</td>\n",
       "      <td>2</td>\n",
       "      <td>Bulk Carrier</td>\n",
       "      <td>13.000000</td>\n",
       "    </tr>\n",
       "    <tr>\n",
       "      <th>1</th>\n",
       "      <td>212250000</td>\n",
       "      <td>2016-04-01 18:58:25</td>\n",
       "      <td>2016-04-01 19:22:08</td>\n",
       "      <td>3</td>\n",
       "      <td>Bulk Carrier</td>\n",
       "      <td>23.716667</td>\n",
       "    </tr>\n",
       "    <tr>\n",
       "      <th>2</th>\n",
       "      <td>212482000</td>\n",
       "      <td>2020-09-24 19:41:45</td>\n",
       "      <td>2020-09-24 19:57:23</td>\n",
       "      <td>5</td>\n",
       "      <td>Bulk Carrier</td>\n",
       "      <td>15.633333</td>\n",
       "    </tr>\n",
       "    <tr>\n",
       "      <th>3</th>\n",
       "      <td>220518000</td>\n",
       "      <td>2018-01-20 21:28:28</td>\n",
       "      <td>2018-01-20 22:07:29</td>\n",
       "      <td>3</td>\n",
       "      <td>Oil Products Tanker</td>\n",
       "      <td>39.016667</td>\n",
       "    </tr>\n",
       "    <tr>\n",
       "      <th>4</th>\n",
       "      <td>249666000</td>\n",
       "      <td>2019-04-19 04:21:58</td>\n",
       "      <td>2019-04-19 04:36:30</td>\n",
       "      <td>6</td>\n",
       "      <td>Passenger Ship</td>\n",
       "      <td>14.533333</td>\n",
       "    </tr>\n",
       "  </tbody>\n",
       "</table>\n",
       "</div>"
      ],
      "text/plain": [
       "        MMSI            time_min            time_max  count  \\\n",
       "0  210059000 2016-11-25 22:49:56 2016-11-25 23:02:56      2   \n",
       "1  212250000 2016-04-01 18:58:25 2016-04-01 19:22:08      3   \n",
       "2  212482000 2020-09-24 19:41:45 2020-09-24 19:57:23      5   \n",
       "3  220518000 2018-01-20 21:28:28 2018-01-20 22:07:29      3   \n",
       "4  249666000 2019-04-19 04:21:58 2019-04-19 04:36:30      6   \n",
       "\n",
       "           VESSEL TYPE  len_of_recording  \n",
       "0         Bulk Carrier         13.000000  \n",
       "1         Bulk Carrier         23.716667  \n",
       "2         Bulk Carrier         15.633333  \n",
       "3  Oil Products Tanker         39.016667  \n",
       "4       Passenger Ship         14.533333  "
      ]
     },
     "execution_count": 101,
     "metadata": {},
     "output_type": "execute_result"
    }
   ],
   "source": [
    "d1.head()"
   ]
  },
  {
   "cell_type": "markdown",
   "metadata": {},
   "source": [
    "## Creating benchmark data for Southern hydrate"
   ]
  },
  {
   "cell_type": "markdown",
   "metadata": {},
   "source": [
    "### Depth=772\n",
    "### Oregon slope= 'HYS14'\n",
    "\n",
    "### inner rad=0.772, outer_rad=0.772, outer_rad=1.544"
   ]
  },
  {
   "cell_type": "code",
   "execution_count": 122,
   "metadata": {},
   "outputs": [],
   "source": [
    "inner_rad= 0.772\n",
    "outer_rad1=0.772\n",
    "outer_rad2= 1.544"
   ]
  },
  {
   "cell_type": "code",
   "execution_count": 123,
   "metadata": {},
   "outputs": [
    {
     "name": "stdout",
     "output_type": "stream",
     "text": [
      " Max distance: 76.26 and Min distance: 0.0\n"
     ]
    },
    {
     "name": "stderr",
     "output_type": "stream",
     "text": [
      "100%|█████████████████████████████████████████████████████████████████████████████████| 42/42 [00:00<00:00, 129.51it/s]\n"
     ]
    }
   ],
   "source": [
    "d1,d2=get_benchmark_data(df,2,inner_rad,outer_rad1,min_duration,get_acoustic=False,get_spectrogram=False)"
   ]
  },
  {
   "cell_type": "code",
   "execution_count": 124,
   "metadata": {},
   "outputs": [
    {
     "name": "stdout",
     "output_type": "stream",
     "text": [
      "Other Type, all ships of this type    13\n",
      "Name: VESSEL TYPE, dtype: int64 \n",
      " 26602.61666666667\n"
     ]
    }
   ],
   "source": [
    "print(d1['VESSEL TYPE'].value_counts(),'\\n',d1['len_of_recording'].sum())"
   ]
  },
  {
   "cell_type": "code",
   "execution_count": 125,
   "metadata": {},
   "outputs": [
    {
     "name": "stdout",
     "output_type": "stream",
     "text": [
      " Max distance: 76.26 and Min distance: 0.0\n"
     ]
    },
    {
     "name": "stderr",
     "output_type": "stream",
     "text": [
      "100%|█████████████████████████████████████████████████████████████████████████████████| 43/43 [00:00<00:00, 128.25it/s]\n"
     ]
    },
    {
     "name": "stdout",
     "output_type": "stream",
     "text": [
      "{'MMSI': 319005600, 'start_time': Timestamp('2018-08-05 02:39:55'), 'end_time': Timestamp('2018-08-05 02:49:55'), 'VESSEL TYPE': nan, 'len_of_recording': 10.0}\n"
     ]
    }
   ],
   "source": [
    "d1,d2=get_benchmark_data(df,2,inner_rad,outer_rad2,min_duration,get_acoustic=False,get_spectrogram=False)"
   ]
  },
  {
   "cell_type": "code",
   "execution_count": 126,
   "metadata": {},
   "outputs": [
    {
     "name": "stdout",
     "output_type": "stream",
     "text": [
      "Other Type, all ships of this type    13\n",
      "Name: VESSEL TYPE, dtype: int64 \n",
      " 26585.95\n"
     ]
    }
   ],
   "source": [
    "print(d1['VESSEL TYPE'].value_counts(),'\\n',d1['len_of_recording'].sum())"
   ]
  },
  {
   "cell_type": "code",
   "execution_count": 53,
   "metadata": {},
   "outputs": [],
   "source": [
    "if (spectrogram.values.shape[0]<2) | (spectrogram.values.shape[1]<2):\n",
    "    pass\n",
    "else:\n",
    "    ooiplt.plot_spectrogram(spectrogram,plot=False,save=True,fmin=fmin,fmax=fmax,filename='test.png')"
   ]
  },
  {
   "cell_type": "code",
   "execution_count": 35,
   "metadata": {},
   "outputs": [],
   "source": [
    "# from functions import choose_df\n",
    "# ais=choose_df_slope_hydrate(df,1)\n",
    "# min_duration=20\n",
    "# lat=float(ais['axial_Loc'].iloc[0][1:8])\n",
    "# lon=float(ais['axial_Loc'].iloc[0][9:18])\n",
    "# reload(fn)\n",
    "# fn.get_isolated_map_plot('scatter',ais,10,30,lat,lon,min_duration)"
   ]
  },
  {
   "cell_type": "code",
   "execution_count": 36,
   "metadata": {},
   "outputs": [],
   "source": [
    "# reload(fn)\n",
    "# fn.get_single_isolated_map_plot(1,'scatter',ais,10,30,lat,lon,min_duration,10,90)"
   ]
  },
  {
   "cell_type": "markdown",
   "metadata": {},
   "source": [
    "## Comparison of various options"
   ]
  },
  {
   "cell_type": "code",
   "execution_count": 60,
   "metadata": {},
   "outputs": [],
   "source": [
    "inner_rad=[0.772,2.9]\n",
    "outer_rad=[0.772,1.544,2.9,5.8]\n",
    "min_duration=10\n"
   ]
  },
  {
   "cell_type": "code",
   "execution_count": 62,
   "metadata": {},
   "outputs": [
    {
     "name": "stdout",
     "output_type": "stream",
     "text": [
      "\u001b[1m\u001b[32mComparative view with minimum duration: 10\u001b[0m\n"
     ]
    },
    {
     "name": "stderr",
     "output_type": "stream",
     "text": [
      "  0%|                                                                                            | 0/2 [00:00<?, ?it/s]\n",
      "  0%|                                                                                            | 0/2 [00:00<?, ?it/s]\u001b[A\n",
      " 50%|██████████████████████████████████████████                                          | 1/2 [00:03<00:03,  3.10s/it]\u001b[A"
     ]
    },
    {
     "name": "stdout",
     "output_type": "stream",
     "text": [
      "{'MMSI': 235010450, 'start_time': Timestamp('2017-07-05 06:37:19'), 'end_time': Timestamp('2017-07-05 06:47:19'), 'VESSEL TYPE': 1004.0, 'len_of_recording': 10.0}\n",
      "{'MMSI': 235010450, 'start_time': Timestamp('2017-07-05 06:37:19'), 'end_time': Timestamp('2017-07-05 06:47:19'), 'VESSEL TYPE': 1004.0, 'len_of_recording': 10.0}\n"
     ]
    },
    {
     "name": "stderr",
     "output_type": "stream",
     "text": [
      "\n",
      "100%|████████████████████████████████████████████████████████████████████████████████████| 2/2 [00:12<00:00,  6.16s/it]\u001b[A\n",
      " 50%|██████████████████████████████████████████                                          | 1/2 [00:12<00:12, 12.33s/it]\n",
      "  0%|                                                                                            | 0/2 [00:00<?, ?it/s]\u001b[A"
     ]
    },
    {
     "name": "stdout",
     "output_type": "stream",
     "text": [
      "{'MMSI': 319005600, 'start_time': Timestamp('2018-08-05 02:39:55'), 'end_time': Timestamp('2018-08-05 02:49:55'), 'VESSEL TYPE': 1020.0, 'len_of_recording': 10.0}\n",
      "{'MMSI': 319005600, 'start_time': Timestamp('2018-08-05 02:39:55'), 'end_time': Timestamp('2018-08-05 02:49:55'), 'VESSEL TYPE': 1020.0, 'len_of_recording': 10.0}\n",
      "{'MMSI': 319005600, 'start_time': Timestamp('2018-08-05 02:39:55'), 'end_time': Timestamp('2018-08-05 02:49:55'), 'VESSEL TYPE': 1020.0, 'len_of_recording': 10.0}\n"
     ]
    },
    {
     "name": "stderr",
     "output_type": "stream",
     "text": [
      "\n",
      " 50%|██████████████████████████████████████████                                          | 1/2 [00:16<00:16, 16.90s/it]\u001b[A\n",
      "100%|████████████████████████████████████████████████████████████████████████████████████| 2/2 [00:28<00:00, 14.49s/it]\u001b[A\n",
      "100%|████████████████████████████████████████████████████████████████████████████████████| 2/2 [00:41<00:00, 20.66s/it]\n"
     ]
    },
    {
     "data": {
      "text/html": [
       "<div>\n",
       "<style scoped>\n",
       "    .dataframe tbody tr th:only-of-type {\n",
       "        vertical-align: middle;\n",
       "    }\n",
       "\n",
       "    .dataframe tbody tr th {\n",
       "        vertical-align: top;\n",
       "    }\n",
       "\n",
       "    .dataframe thead th {\n",
       "        text-align: right;\n",
       "    }\n",
       "</style>\n",
       "<table border=\"1\" class=\"dataframe\">\n",
       "  <thead>\n",
       "    <tr style=\"text-align: right;\">\n",
       "      <th></th>\n",
       "      <th>hydrophone_idx</th>\n",
       "      <th>inner_rad</th>\n",
       "      <th>outer_rad</th>\n",
       "      <th>no_unique_ships</th>\n",
       "      <th>no_unique_vessels</th>\n",
       "      <th>no_records</th>\n",
       "      <th>len_of_recordings</th>\n",
       "    </tr>\n",
       "  </thead>\n",
       "  <tbody>\n",
       "    <tr>\n",
       "      <th>0</th>\n",
       "      <td>1.0</td>\n",
       "      <td>0.772</td>\n",
       "      <td>0.772</td>\n",
       "      <td>4.0</td>\n",
       "      <td>2.0</td>\n",
       "      <td>389.0</td>\n",
       "      <td>3805.300000</td>\n",
       "    </tr>\n",
       "    <tr>\n",
       "      <th>1</th>\n",
       "      <td>1.0</td>\n",
       "      <td>0.772</td>\n",
       "      <td>1.544</td>\n",
       "      <td>4.0</td>\n",
       "      <td>2.0</td>\n",
       "      <td>389.0</td>\n",
       "      <td>3805.300000</td>\n",
       "    </tr>\n",
       "    <tr>\n",
       "      <th>2</th>\n",
       "      <td>1.0</td>\n",
       "      <td>0.772</td>\n",
       "      <td>2.900</td>\n",
       "      <td>4.0</td>\n",
       "      <td>2.0</td>\n",
       "      <td>389.0</td>\n",
       "      <td>3805.300000</td>\n",
       "    </tr>\n",
       "    <tr>\n",
       "      <th>3</th>\n",
       "      <td>1.0</td>\n",
       "      <td>0.772</td>\n",
       "      <td>5.800</td>\n",
       "      <td>4.0</td>\n",
       "      <td>2.0</td>\n",
       "      <td>386.0</td>\n",
       "      <td>3778.450000</td>\n",
       "    </tr>\n",
       "    <tr>\n",
       "      <th>4</th>\n",
       "      <td>1.0</td>\n",
       "      <td>2.900</td>\n",
       "      <td>2.900</td>\n",
       "      <td>35.0</td>\n",
       "      <td>14.0</td>\n",
       "      <td>2894.0</td>\n",
       "      <td>28560.516667</td>\n",
       "    </tr>\n",
       "    <tr>\n",
       "      <th>5</th>\n",
       "      <td>1.0</td>\n",
       "      <td>2.900</td>\n",
       "      <td>5.800</td>\n",
       "      <td>35.0</td>\n",
       "      <td>14.0</td>\n",
       "      <td>2719.0</td>\n",
       "      <td>26752.316667</td>\n",
       "    </tr>\n",
       "    <tr>\n",
       "      <th>6</th>\n",
       "      <td>2.0</td>\n",
       "      <td>0.772</td>\n",
       "      <td>0.772</td>\n",
       "      <td>4.0</td>\n",
       "      <td>2.0</td>\n",
       "      <td>2683.0</td>\n",
       "      <td>26602.616667</td>\n",
       "    </tr>\n",
       "    <tr>\n",
       "      <th>7</th>\n",
       "      <td>2.0</td>\n",
       "      <td>0.772</td>\n",
       "      <td>1.544</td>\n",
       "      <td>4.0</td>\n",
       "      <td>2.0</td>\n",
       "      <td>2682.0</td>\n",
       "      <td>26585.950000</td>\n",
       "    </tr>\n",
       "    <tr>\n",
       "      <th>8</th>\n",
       "      <td>2.0</td>\n",
       "      <td>0.772</td>\n",
       "      <td>2.900</td>\n",
       "      <td>4.0</td>\n",
       "      <td>2.0</td>\n",
       "      <td>2676.0</td>\n",
       "      <td>26503.966667</td>\n",
       "    </tr>\n",
       "    <tr>\n",
       "      <th>9</th>\n",
       "      <td>2.0</td>\n",
       "      <td>0.772</td>\n",
       "      <td>5.800</td>\n",
       "      <td>4.0</td>\n",
       "      <td>2.0</td>\n",
       "      <td>2536.0</td>\n",
       "      <td>24987.833333</td>\n",
       "    </tr>\n",
       "    <tr>\n",
       "      <th>10</th>\n",
       "      <td>2.0</td>\n",
       "      <td>2.900</td>\n",
       "      <td>2.900</td>\n",
       "      <td>71.0</td>\n",
       "      <td>16.0</td>\n",
       "      <td>4636.0</td>\n",
       "      <td>45579.666667</td>\n",
       "    </tr>\n",
       "    <tr>\n",
       "      <th>11</th>\n",
       "      <td>2.0</td>\n",
       "      <td>2.900</td>\n",
       "      <td>5.800</td>\n",
       "      <td>71.0</td>\n",
       "      <td>16.0</td>\n",
       "      <td>2950.0</td>\n",
       "      <td>28614.883333</td>\n",
       "    </tr>\n",
       "  </tbody>\n",
       "</table>\n",
       "</div>"
      ],
      "text/plain": [
       "    hydrophone_idx  inner_rad  outer_rad  no_unique_ships  no_unique_vessels  \\\n",
       "0              1.0      0.772      0.772              4.0                2.0   \n",
       "1              1.0      0.772      1.544              4.0                2.0   \n",
       "2              1.0      0.772      2.900              4.0                2.0   \n",
       "3              1.0      0.772      5.800              4.0                2.0   \n",
       "4              1.0      2.900      2.900             35.0               14.0   \n",
       "5              1.0      2.900      5.800             35.0               14.0   \n",
       "6              2.0      0.772      0.772              4.0                2.0   \n",
       "7              2.0      0.772      1.544              4.0                2.0   \n",
       "8              2.0      0.772      2.900              4.0                2.0   \n",
       "9              2.0      0.772      5.800              4.0                2.0   \n",
       "10             2.0      2.900      2.900             71.0               16.0   \n",
       "11             2.0      2.900      5.800             71.0               16.0   \n",
       "\n",
       "    no_records  len_of_recordings  \n",
       "0        389.0        3805.300000  \n",
       "1        389.0        3805.300000  \n",
       "2        389.0        3805.300000  \n",
       "3        386.0        3778.450000  \n",
       "4       2894.0       28560.516667  \n",
       "5       2719.0       26752.316667  \n",
       "6       2683.0       26602.616667  \n",
       "7       2682.0       26585.950000  \n",
       "8       2676.0       26503.966667  \n",
       "9       2536.0       24987.833333  \n",
       "10      4636.0       45579.666667  \n",
       "11      2950.0       28614.883333  "
      ]
     },
     "execution_count": 62,
     "metadata": {},
     "output_type": "execute_result"
    }
   ],
   "source": [
    "reload(fn)\n",
    "\n",
    "print(colored('Comparative view with minimum duration: '+ str(min_duration),'green',attrs=['bold']))\n",
    "table=pd.DataFrame(columns=['hydrophone_idx','inner_rad','outer_rad','no_unique_ships','no_unique_vessels','no_records'])\n",
    "for i in tqdm(range(1,3,1)):\n",
    "    for i_r in tqdm(inner_rad):\n",
    "        for o_r in outer_rad:\n",
    "            if i_r<=o_r:\n",
    "                temp_dict=dict()\n",
    "                ais=fn.choose_df_slope_hydrate(df,i,verbose=False)\n",
    "\n",
    "                temp_df1=fn.get_isolated_ships(ais,i_r,o_r,min_duration)\n",
    "                temp_df2=fn.break_duration(temp_df1)\n",
    "\n",
    "                temp_dict['hydrophone_idx']=i\n",
    "                temp_dict['inner_rad']=i_r\n",
    "                temp_dict['outer_rad']=o_r\n",
    "                temp_dict['no_unique_ships']=temp_df2['MMSI'].nunique()\n",
    "                temp_dict['no_unique_vessels']=temp_df2['VESSEL TYPE'].nunique()\n",
    "                temp_dict['no_records']=len(temp_df2)\n",
    "                temp_dict['len_of_recordings']=temp_df2.len_of_recording.sum()\n",
    "                table=table.append(temp_dict,ignore_index=True)\n",
    "         \n",
    "table\n"
   ]
  },
  {
   "cell_type": "code",
   "execution_count": 22,
   "metadata": {},
   "outputs": [
    {
     "name": "stdout",
     "output_type": "stream",
     "text": [
      "\u001b[1m\u001b[32mOverlapping of all hydrophones with minimum number of timestamps: 20\u001b[0m\n"
     ]
    },
    {
     "data": {
      "text/html": [
       "<div>\n",
       "<style scoped>\n",
       "    .dataframe tbody tr th:only-of-type {\n",
       "        vertical-align: middle;\n",
       "    }\n",
       "\n",
       "    .dataframe tbody tr th {\n",
       "        vertical-align: top;\n",
       "    }\n",
       "\n",
       "    .dataframe thead th {\n",
       "        text-align: right;\n",
       "    }\n",
       "</style>\n",
       "<table border=\"1\" class=\"dataframe\">\n",
       "  <thead>\n",
       "    <tr style=\"text-align: right;\">\n",
       "      <th></th>\n",
       "      <th>inner_rad</th>\n",
       "      <th>outer_rad</th>\n",
       "      <th>no_unique_ships</th>\n",
       "      <th>no_unique_vessels</th>\n",
       "      <th>no_records</th>\n",
       "    </tr>\n",
       "  </thead>\n",
       "  <tbody>\n",
       "    <tr>\n",
       "      <th>0</th>\n",
       "      <td>5</td>\n",
       "      <td>20</td>\n",
       "      <td>88</td>\n",
       "      <td>19</td>\n",
       "      <td>524</td>\n",
       "    </tr>\n",
       "    <tr>\n",
       "      <th>1</th>\n",
       "      <td>5</td>\n",
       "      <td>30</td>\n",
       "      <td>82</td>\n",
       "      <td>19</td>\n",
       "      <td>558</td>\n",
       "    </tr>\n",
       "    <tr>\n",
       "      <th>2</th>\n",
       "      <td>5</td>\n",
       "      <td>40</td>\n",
       "      <td>73</td>\n",
       "      <td>19</td>\n",
       "      <td>613</td>\n",
       "    </tr>\n",
       "    <tr>\n",
       "      <th>3</th>\n",
       "      <td>10</td>\n",
       "      <td>20</td>\n",
       "      <td>478</td>\n",
       "      <td>37</td>\n",
       "      <td>1374</td>\n",
       "    </tr>\n",
       "    <tr>\n",
       "      <th>4</th>\n",
       "      <td>10</td>\n",
       "      <td>30</td>\n",
       "      <td>447</td>\n",
       "      <td>36</td>\n",
       "      <td>1362</td>\n",
       "    </tr>\n",
       "    <tr>\n",
       "      <th>5</th>\n",
       "      <td>10</td>\n",
       "      <td>40</td>\n",
       "      <td>396</td>\n",
       "      <td>36</td>\n",
       "      <td>1341</td>\n",
       "    </tr>\n",
       "    <tr>\n",
       "      <th>6</th>\n",
       "      <td>15</td>\n",
       "      <td>20</td>\n",
       "      <td>839</td>\n",
       "      <td>42</td>\n",
       "      <td>2683</td>\n",
       "    </tr>\n",
       "    <tr>\n",
       "      <th>7</th>\n",
       "      <td>15</td>\n",
       "      <td>30</td>\n",
       "      <td>797</td>\n",
       "      <td>42</td>\n",
       "      <td>2607</td>\n",
       "    </tr>\n",
       "    <tr>\n",
       "      <th>8</th>\n",
       "      <td>15</td>\n",
       "      <td>40</td>\n",
       "      <td>718</td>\n",
       "      <td>41</td>\n",
       "      <td>2440</td>\n",
       "    </tr>\n",
       "  </tbody>\n",
       "</table>\n",
       "</div>"
      ],
      "text/plain": [
       "  inner_rad outer_rad no_unique_ships no_unique_vessels no_records\n",
       "0         5        20              88                19        524\n",
       "1         5        30              82                19        558\n",
       "2         5        40              73                19        613\n",
       "3        10        20             478                37       1374\n",
       "4        10        30             447                36       1362\n",
       "5        10        40             396                36       1341\n",
       "6        15        20             839                42       2683\n",
       "7        15        30             797                42       2607\n",
       "8        15        40             718                41       2440"
      ]
     },
     "execution_count": 22,
     "metadata": {},
     "output_type": "execute_result"
    }
   ],
   "source": [
    "reload(fn)\n",
    "\n",
    "print(colored('Overlapping of all hydrophones with minimum number of timestamps: '+ str(min_duration),'green',attrs=['bold']))\n",
    "table2=pd.DataFrame(columns=['inner_rad','outer_rad','no_unique_ships','no_unique_vessels','no_records'])\n",
    "\n",
    "for i_r in inner_rad:\n",
    "    for o_r in outer_rad:\n",
    "        combined_df=pd.DataFrame()\n",
    "        for i in range(1,4,1):\n",
    "            temp_dict=dict()\n",
    "            ais=fn.choose_df(df,i,verbose=False)\n",
    "            d1=fn.get_isolated_ships(ais,i_r,o_r,min_duration)\n",
    "            combined_df=pd.concat([combined_df,d1])\n",
    "\n",
    "        temp_dict['inner_rad']=i_r\n",
    "        temp_dict['outer_rad']=o_r\n",
    "        temp_dict['no_unique_ships']=combined_df['MMSI'].nunique()\n",
    "        temp_dict['no_unique_vessels']=combined_df['VESSEL TYPE'].nunique()\n",
    "        temp_dict['no_records']=len(combined_df)\n",
    "        table2=table2.append(temp_dict,ignore_index=True)\n",
    "table2\n",
    "        "
   ]
  },
  {
   "cell_type": "code",
   "execution_count": null,
   "metadata": {},
   "outputs": [],
   "source": [
    "reload(fn)\n",
    "df['TIMESTAMP UTC']=df['TIMESTAMP UTC'].astype('datetime64[ns]')\n",
    "ais = fn.choose_df(df,1)\n",
    "pings= fn.ais_ping_distribution(ais,show=False)"
   ]
  },
  {
   "cell_type": "code",
   "execution_count": null,
   "metadata": {},
   "outputs": [],
   "source": []
  }
 ],
 "metadata": {
  "kernelspec": {
   "display_name": "Python 3 (ipykernel)",
   "language": "python",
   "name": "python3"
  },
  "language_info": {
   "codemirror_mode": {
    "name": "ipython",
    "version": 3
   },
   "file_extension": ".py",
   "mimetype": "text/x-python",
   "name": "python",
   "nbconvert_exporter": "python",
   "pygments_lexer": "ipython3",
   "version": "3.10.6"
  },
  "vscode": {
   "interpreter": {
    "hash": "359f9a5187fb9b90d6791b9a1894c924ec82a2292c14ad522499e88f73769967"
   }
  }
 },
 "nbformat": 4,
 "nbformat_minor": 4
}
