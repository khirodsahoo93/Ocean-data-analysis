{
 "cells": [
  {
   "cell_type": "code",
   "execution_count": 1,
   "metadata": {},
   "outputs": [],
   "source": [
    "import functions as fn\n",
    "import pandas as pd\n",
    "from importlib import reload\n",
    "from tqdm import tqdm\n",
    "from termcolor import colored\n",
    "import matplotlib.pyplot as plt\n",
    "from ooipy.tools import ooiplotlib as ooiplt\n",
    "import datetime"
   ]
  },
  {
   "cell_type": "code",
   "execution_count": 2,
   "metadata": {},
   "outputs": [],
   "source": [
    "import sys, os\n",
    "\n",
    "# Disable\n",
    "def blockPrint():\n",
    "    sys.stdout = open(os.devnull, 'w')\n",
    "\n",
    "# Restore\n",
    "def enablePrint():\n",
    "    sys.stdout = sys.__stdout__"
   ]
  },
  {
   "cell_type": "code",
   "execution_count": 3,
   "metadata": {},
   "outputs": [],
   "source": [
    "df = pd.read_csv('E:/Acer backup 3/internships and jobs/UW/Reader grader and TA/Shima Abadi/Data/ais_2014B_2020B_V2.csv',sep = ',')\n"
   ]
  },
  {
   "cell_type": "code",
   "execution_count": 4,
   "metadata": {},
   "outputs": [],
   "source": [
    "df['TIMESTAMP UTC']=df['TIMESTAMP UTC'].astype('datetime64[ns]')\n"
   ]
  },
  {
   "cell_type": "code",
   "execution_count": 5,
   "metadata": {
    "scrolled": true
   },
   "outputs": [
    {
     "data": {
      "text/html": [
       "<div>\n",
       "<style scoped>\n",
       "    .dataframe tbody tr th:only-of-type {\n",
       "        vertical-align: middle;\n",
       "    }\n",
       "\n",
       "    .dataframe tbody tr th {\n",
       "        vertical-align: top;\n",
       "    }\n",
       "\n",
       "    .dataframe thead th {\n",
       "        text-align: right;\n",
       "    }\n",
       "</style>\n",
       "<table border=\"1\" class=\"dataframe\">\n",
       "  <thead>\n",
       "    <tr style=\"text-align: right;\">\n",
       "      <th></th>\n",
       "      <th>Unnamed: 0.1</th>\n",
       "      <th>Unnamed: 0</th>\n",
       "      <th>MMSI</th>\n",
       "      <th>SHIPNAME</th>\n",
       "      <th>VESSEL TYPE</th>\n",
       "      <th>STATUS</th>\n",
       "      <th>SPEED (KNOTSx10)</th>\n",
       "      <th>LAT</th>\n",
       "      <th>LON</th>\n",
       "      <th>COURSE</th>\n",
       "      <th>...</th>\n",
       "      <th>central_caldera_Loc</th>\n",
       "      <th>eastern_caldera_Lat</th>\n",
       "      <th>eastern_caldera_Lon</th>\n",
       "      <th>eastern_caldera_Loc</th>\n",
       "      <th>distance(in km) axial</th>\n",
       "      <th>distance(in km) central cald</th>\n",
       "      <th>distance(in km) eastern cald</th>\n",
       "      <th>bearing_axial</th>\n",
       "      <th>bearing_eastern_cald</th>\n",
       "      <th>bearing_central_cald</th>\n",
       "    </tr>\n",
       "  </thead>\n",
       "  <tbody>\n",
       "    <tr>\n",
       "      <th>0</th>\n",
       "      <td>0</td>\n",
       "      <td>0</td>\n",
       "      <td>209605000</td>\n",
       "      <td>AKILI</td>\n",
       "      <td>Bulk Carrier</td>\n",
       "      <td>0</td>\n",
       "      <td>108</td>\n",
       "      <td>46.09859</td>\n",
       "      <td>-129.6550</td>\n",
       "      <td>83</td>\n",
       "      <td>...</td>\n",
       "      <td>(45.9549, -130.0089)</td>\n",
       "      <td>45.9399</td>\n",
       "      <td>-129.9742</td>\n",
       "      <td>(45.9399, -129.9742)</td>\n",
       "      <td>32.25</td>\n",
       "      <td>31.72</td>\n",
       "      <td>30.37</td>\n",
       "      <td>193.760689</td>\n",
       "      <td>234.515164</td>\n",
       "      <td>239.809636</td>\n",
       "    </tr>\n",
       "    <tr>\n",
       "      <th>1</th>\n",
       "      <td>1</td>\n",
       "      <td>1</td>\n",
       "      <td>256832000</td>\n",
       "      <td>NaN</td>\n",
       "      <td>NaN</td>\n",
       "      <td>0</td>\n",
       "      <td>115</td>\n",
       "      <td>45.07486</td>\n",
       "      <td>-128.9430</td>\n",
       "      <td>178</td>\n",
       "      <td>...</td>\n",
       "      <td>(45.9549, -130.0089)</td>\n",
       "      <td>45.9399</td>\n",
       "      <td>-129.9742</td>\n",
       "      <td>(45.9399, -129.9742)</td>\n",
       "      <td>104.04</td>\n",
       "      <td>128.46</td>\n",
       "      <td>125.45</td>\n",
       "      <td>322.804182</td>\n",
       "      <td>320.490292</td>\n",
       "      <td>320.057435</td>\n",
       "    </tr>\n",
       "    <tr>\n",
       "      <th>2</th>\n",
       "      <td>2</td>\n",
       "      <td>2</td>\n",
       "      <td>352358000</td>\n",
       "      <td>ANNA G</td>\n",
       "      <td>Bulk Carrier</td>\n",
       "      <td>0</td>\n",
       "      <td>132</td>\n",
       "      <td>45.86138</td>\n",
       "      <td>-130.5627</td>\n",
       "      <td>86</td>\n",
       "      <td>...</td>\n",
       "      <td>(45.9549, -130.0089)</td>\n",
       "      <td>45.9399</td>\n",
       "      <td>-129.9742</td>\n",
       "      <td>(45.9399, -129.9742)</td>\n",
       "      <td>63.02</td>\n",
       "      <td>44.21</td>\n",
       "      <td>46.50</td>\n",
       "      <td>94.234035</td>\n",
       "      <td>78.935325</td>\n",
       "      <td>76.159593</td>\n",
       "    </tr>\n",
       "    <tr>\n",
       "      <th>3</th>\n",
       "      <td>3</td>\n",
       "      <td>3</td>\n",
       "      <td>356566000</td>\n",
       "      <td>GLOBAL SAIKAI</td>\n",
       "      <td>General Cargo</td>\n",
       "      <td>0</td>\n",
       "      <td>104</td>\n",
       "      <td>46.50261</td>\n",
       "      <td>-129.0129</td>\n",
       "      <td>272</td>\n",
       "      <td>...</td>\n",
       "      <td>(45.9549, -130.0089)</td>\n",
       "      <td>45.9399</td>\n",
       "      <td>-129.9742</td>\n",
       "      <td>(45.9399, -129.9742)</td>\n",
       "      <td>95.33</td>\n",
       "      <td>98.03</td>\n",
       "      <td>97.02</td>\n",
       "      <td>217.082385</td>\n",
       "      <td>230.114815</td>\n",
       "      <td>231.878577</td>\n",
       "    </tr>\n",
       "    <tr>\n",
       "      <th>4</th>\n",
       "      <td>4</td>\n",
       "      <td>4</td>\n",
       "      <td>477293500</td>\n",
       "      <td>JIN XIU FENG</td>\n",
       "      <td>Bulk Carrier</td>\n",
       "      <td>0</td>\n",
       "      <td>112</td>\n",
       "      <td>46.74633</td>\n",
       "      <td>-129.5912</td>\n",
       "      <td>299</td>\n",
       "      <td>...</td>\n",
       "      <td>(45.9549, -130.0089)</td>\n",
       "      <td>45.9399</td>\n",
       "      <td>-129.9742</td>\n",
       "      <td>(45.9399, -129.9742)</td>\n",
       "      <td>104.08</td>\n",
       "      <td>93.66</td>\n",
       "      <td>94.37</td>\n",
       "      <td>186.960616</td>\n",
       "      <td>198.291220</td>\n",
       "      <td>200.167826</td>\n",
       "    </tr>\n",
       "  </tbody>\n",
       "</table>\n",
       "<p>5 rows × 30 columns</p>\n",
       "</div>"
      ],
      "text/plain": [
       "   Unnamed: 0.1  Unnamed: 0       MMSI       SHIPNAME    VESSEL TYPE  STATUS  \\\n",
       "0             0           0  209605000          AKILI   Bulk Carrier       0   \n",
       "1             1           1  256832000            NaN            NaN       0   \n",
       "2             2           2  352358000         ANNA G   Bulk Carrier       0   \n",
       "3             3           3  356566000  GLOBAL SAIKAI  General Cargo       0   \n",
       "4             4           4  477293500   JIN XIU FENG   Bulk Carrier       0   \n",
       "\n",
       "   SPEED (KNOTSx10)       LAT       LON  COURSE  ...   central_caldera_Loc  \\\n",
       "0               108  46.09859 -129.6550      83  ...  (45.9549, -130.0089)   \n",
       "1               115  45.07486 -128.9430     178  ...  (45.9549, -130.0089)   \n",
       "2               132  45.86138 -130.5627      86  ...  (45.9549, -130.0089)   \n",
       "3               104  46.50261 -129.0129     272  ...  (45.9549, -130.0089)   \n",
       "4               112  46.74633 -129.5912     299  ...  (45.9549, -130.0089)   \n",
       "\n",
       "  eastern_caldera_Lat  eastern_caldera_Lon   eastern_caldera_Loc  \\\n",
       "0             45.9399            -129.9742  (45.9399, -129.9742)   \n",
       "1             45.9399            -129.9742  (45.9399, -129.9742)   \n",
       "2             45.9399            -129.9742  (45.9399, -129.9742)   \n",
       "3             45.9399            -129.9742  (45.9399, -129.9742)   \n",
       "4             45.9399            -129.9742  (45.9399, -129.9742)   \n",
       "\n",
       "   distance(in km) axial  distance(in km) central cald  \\\n",
       "0                  32.25                         31.72   \n",
       "1                 104.04                        128.46   \n",
       "2                  63.02                         44.21   \n",
       "3                  95.33                         98.03   \n",
       "4                 104.08                         93.66   \n",
       "\n",
       "  distance(in km) eastern cald bearing_axial  bearing_eastern_cald  \\\n",
       "0                        30.37    193.760689            234.515164   \n",
       "1                       125.45    322.804182            320.490292   \n",
       "2                        46.50     94.234035             78.935325   \n",
       "3                        97.02    217.082385            230.114815   \n",
       "4                        94.37    186.960616            198.291220   \n",
       "\n",
       "   bearing_central_cald  \n",
       "0            239.809636  \n",
       "1            320.057435  \n",
       "2             76.159593  \n",
       "3            231.878577  \n",
       "4            200.167826  \n",
       "\n",
       "[5 rows x 30 columns]"
      ]
     },
     "execution_count": 5,
     "metadata": {},
     "output_type": "execute_result"
    }
   ],
   "source": [
    "df.head()"
   ]
  },
  {
   "cell_type": "code",
   "execution_count": 6,
   "metadata": {},
   "outputs": [
    {
     "data": {
      "text/plain": [
       "Timestamp('2015-01-01 00:28:00')"
      ]
     },
     "execution_count": 6,
     "metadata": {},
     "output_type": "execute_result"
    }
   ],
   "source": [
    "df['TIMESTAMP UTC'].min()"
   ]
  },
  {
   "cell_type": "code",
   "execution_count": 7,
   "metadata": {},
   "outputs": [
    {
     "data": {
      "text/plain": [
       "Timestamp('2020-12-31 23:58:58')"
      ]
     },
     "execution_count": 7,
     "metadata": {},
     "output_type": "execute_result"
    }
   ],
   "source": [
    "df['TIMESTAMP UTC'].max()"
   ]
  },
  {
   "cell_type": "markdown",
   "metadata": {},
   "source": [
    "### Remove airgun noise data"
   ]
  },
  {
   "cell_type": "code",
   "execution_count": 8,
   "metadata": {},
   "outputs": [],
   "source": [
    "start_time=datetime.datetime(2019,7,1,0,0,0)\n",
    "end_time=datetime.datetime(2019,8,1,0,0,0)\n"
   ]
  },
  {
   "cell_type": "code",
   "execution_count": 9,
   "metadata": {},
   "outputs": [
    {
     "data": {
      "text/plain": [
       "datetime.datetime(2019, 7, 1, 0, 0)"
      ]
     },
     "execution_count": 9,
     "metadata": {},
     "output_type": "execute_result"
    }
   ],
   "source": [
    "start_time"
   ]
  },
  {
   "cell_type": "code",
   "execution_count": 10,
   "metadata": {},
   "outputs": [
    {
     "data": {
      "text/html": [
       "<div>\n",
       "<style scoped>\n",
       "    .dataframe tbody tr th:only-of-type {\n",
       "        vertical-align: middle;\n",
       "    }\n",
       "\n",
       "    .dataframe tbody tr th {\n",
       "        vertical-align: top;\n",
       "    }\n",
       "\n",
       "    .dataframe thead th {\n",
       "        text-align: right;\n",
       "    }\n",
       "</style>\n",
       "<table border=\"1\" class=\"dataframe\">\n",
       "  <thead>\n",
       "    <tr style=\"text-align: right;\">\n",
       "      <th></th>\n",
       "      <th>Unnamed: 0.1</th>\n",
       "      <th>Unnamed: 0</th>\n",
       "      <th>MMSI</th>\n",
       "      <th>SHIPNAME</th>\n",
       "      <th>VESSEL TYPE</th>\n",
       "      <th>STATUS</th>\n",
       "      <th>SPEED (KNOTSx10)</th>\n",
       "      <th>LAT</th>\n",
       "      <th>LON</th>\n",
       "      <th>COURSE</th>\n",
       "      <th>...</th>\n",
       "      <th>central_caldera_Loc</th>\n",
       "      <th>eastern_caldera_Lat</th>\n",
       "      <th>eastern_caldera_Lon</th>\n",
       "      <th>eastern_caldera_Loc</th>\n",
       "      <th>distance(in km) axial</th>\n",
       "      <th>distance(in km) central cald</th>\n",
       "      <th>distance(in km) eastern cald</th>\n",
       "      <th>bearing_axial</th>\n",
       "      <th>bearing_eastern_cald</th>\n",
       "      <th>bearing_central_cald</th>\n",
       "    </tr>\n",
       "  </thead>\n",
       "  <tbody>\n",
       "    <tr>\n",
       "      <th>0</th>\n",
       "      <td>0</td>\n",
       "      <td>0</td>\n",
       "      <td>209605000</td>\n",
       "      <td>AKILI</td>\n",
       "      <td>Bulk Carrier</td>\n",
       "      <td>0</td>\n",
       "      <td>108</td>\n",
       "      <td>46.09859</td>\n",
       "      <td>-129.6550</td>\n",
       "      <td>83</td>\n",
       "      <td>...</td>\n",
       "      <td>(45.9549, -130.0089)</td>\n",
       "      <td>45.9399</td>\n",
       "      <td>-129.9742</td>\n",
       "      <td>(45.9399, -129.9742)</td>\n",
       "      <td>32.25</td>\n",
       "      <td>31.72</td>\n",
       "      <td>30.37</td>\n",
       "      <td>193.760689</td>\n",
       "      <td>234.515164</td>\n",
       "      <td>239.809636</td>\n",
       "    </tr>\n",
       "    <tr>\n",
       "      <th>1</th>\n",
       "      <td>1</td>\n",
       "      <td>1</td>\n",
       "      <td>256832000</td>\n",
       "      <td>NaN</td>\n",
       "      <td>NaN</td>\n",
       "      <td>0</td>\n",
       "      <td>115</td>\n",
       "      <td>45.07486</td>\n",
       "      <td>-128.9430</td>\n",
       "      <td>178</td>\n",
       "      <td>...</td>\n",
       "      <td>(45.9549, -130.0089)</td>\n",
       "      <td>45.9399</td>\n",
       "      <td>-129.9742</td>\n",
       "      <td>(45.9399, -129.9742)</td>\n",
       "      <td>104.04</td>\n",
       "      <td>128.46</td>\n",
       "      <td>125.45</td>\n",
       "      <td>322.804182</td>\n",
       "      <td>320.490292</td>\n",
       "      <td>320.057435</td>\n",
       "    </tr>\n",
       "    <tr>\n",
       "      <th>2</th>\n",
       "      <td>2</td>\n",
       "      <td>2</td>\n",
       "      <td>352358000</td>\n",
       "      <td>ANNA G</td>\n",
       "      <td>Bulk Carrier</td>\n",
       "      <td>0</td>\n",
       "      <td>132</td>\n",
       "      <td>45.86138</td>\n",
       "      <td>-130.5627</td>\n",
       "      <td>86</td>\n",
       "      <td>...</td>\n",
       "      <td>(45.9549, -130.0089)</td>\n",
       "      <td>45.9399</td>\n",
       "      <td>-129.9742</td>\n",
       "      <td>(45.9399, -129.9742)</td>\n",
       "      <td>63.02</td>\n",
       "      <td>44.21</td>\n",
       "      <td>46.50</td>\n",
       "      <td>94.234035</td>\n",
       "      <td>78.935325</td>\n",
       "      <td>76.159593</td>\n",
       "    </tr>\n",
       "    <tr>\n",
       "      <th>3</th>\n",
       "      <td>3</td>\n",
       "      <td>3</td>\n",
       "      <td>356566000</td>\n",
       "      <td>GLOBAL SAIKAI</td>\n",
       "      <td>General Cargo</td>\n",
       "      <td>0</td>\n",
       "      <td>104</td>\n",
       "      <td>46.50261</td>\n",
       "      <td>-129.0129</td>\n",
       "      <td>272</td>\n",
       "      <td>...</td>\n",
       "      <td>(45.9549, -130.0089)</td>\n",
       "      <td>45.9399</td>\n",
       "      <td>-129.9742</td>\n",
       "      <td>(45.9399, -129.9742)</td>\n",
       "      <td>95.33</td>\n",
       "      <td>98.03</td>\n",
       "      <td>97.02</td>\n",
       "      <td>217.082385</td>\n",
       "      <td>230.114815</td>\n",
       "      <td>231.878577</td>\n",
       "    </tr>\n",
       "    <tr>\n",
       "      <th>4</th>\n",
       "      <td>4</td>\n",
       "      <td>4</td>\n",
       "      <td>477293500</td>\n",
       "      <td>JIN XIU FENG</td>\n",
       "      <td>Bulk Carrier</td>\n",
       "      <td>0</td>\n",
       "      <td>112</td>\n",
       "      <td>46.74633</td>\n",
       "      <td>-129.5912</td>\n",
       "      <td>299</td>\n",
       "      <td>...</td>\n",
       "      <td>(45.9549, -130.0089)</td>\n",
       "      <td>45.9399</td>\n",
       "      <td>-129.9742</td>\n",
       "      <td>(45.9399, -129.9742)</td>\n",
       "      <td>104.08</td>\n",
       "      <td>93.66</td>\n",
       "      <td>94.37</td>\n",
       "      <td>186.960616</td>\n",
       "      <td>198.291220</td>\n",
       "      <td>200.167826</td>\n",
       "    </tr>\n",
       "  </tbody>\n",
       "</table>\n",
       "<p>5 rows × 30 columns</p>\n",
       "</div>"
      ],
      "text/plain": [
       "   Unnamed: 0.1  Unnamed: 0       MMSI       SHIPNAME    VESSEL TYPE  STATUS  \\\n",
       "0             0           0  209605000          AKILI   Bulk Carrier       0   \n",
       "1             1           1  256832000            NaN            NaN       0   \n",
       "2             2           2  352358000         ANNA G   Bulk Carrier       0   \n",
       "3             3           3  356566000  GLOBAL SAIKAI  General Cargo       0   \n",
       "4             4           4  477293500   JIN XIU FENG   Bulk Carrier       0   \n",
       "\n",
       "   SPEED (KNOTSx10)       LAT       LON  COURSE  ...   central_caldera_Loc  \\\n",
       "0               108  46.09859 -129.6550      83  ...  (45.9549, -130.0089)   \n",
       "1               115  45.07486 -128.9430     178  ...  (45.9549, -130.0089)   \n",
       "2               132  45.86138 -130.5627      86  ...  (45.9549, -130.0089)   \n",
       "3               104  46.50261 -129.0129     272  ...  (45.9549, -130.0089)   \n",
       "4               112  46.74633 -129.5912     299  ...  (45.9549, -130.0089)   \n",
       "\n",
       "  eastern_caldera_Lat  eastern_caldera_Lon   eastern_caldera_Loc  \\\n",
       "0             45.9399            -129.9742  (45.9399, -129.9742)   \n",
       "1             45.9399            -129.9742  (45.9399, -129.9742)   \n",
       "2             45.9399            -129.9742  (45.9399, -129.9742)   \n",
       "3             45.9399            -129.9742  (45.9399, -129.9742)   \n",
       "4             45.9399            -129.9742  (45.9399, -129.9742)   \n",
       "\n",
       "   distance(in km) axial  distance(in km) central cald  \\\n",
       "0                  32.25                         31.72   \n",
       "1                 104.04                        128.46   \n",
       "2                  63.02                         44.21   \n",
       "3                  95.33                         98.03   \n",
       "4                 104.08                         93.66   \n",
       "\n",
       "  distance(in km) eastern cald bearing_axial  bearing_eastern_cald  \\\n",
       "0                        30.37    193.760689            234.515164   \n",
       "1                       125.45    322.804182            320.490292   \n",
       "2                        46.50     94.234035             78.935325   \n",
       "3                        97.02    217.082385            230.114815   \n",
       "4                        94.37    186.960616            198.291220   \n",
       "\n",
       "   bearing_central_cald  \n",
       "0            239.809636  \n",
       "1            320.057435  \n",
       "2             76.159593  \n",
       "3            231.878577  \n",
       "4            200.167826  \n",
       "\n",
       "[5 rows x 30 columns]"
      ]
     },
     "execution_count": 10,
     "metadata": {},
     "output_type": "execute_result"
    }
   ],
   "source": [
    "df=df[(df['TIMESTAMP UTC']<start_time) | (df['TIMESTAMP UTC'] > end_time)]\n",
    "df.head()"
   ]
  },
  {
   "cell_type": "code",
   "execution_count": 11,
   "metadata": {},
   "outputs": [],
   "source": [
    "min_duration=10\n",
    "path_to_write='E:/Acer backup 3/internships and jobs/UW/Reader grader and TA/Shima Abadi/Data/Benchmark_data/'"
   ]
  },
  {
   "cell_type": "code",
   "execution_count": 12,
   "metadata": {},
   "outputs": [
    {
     "data": {
      "text/plain": [
       "<module 'functions' from 'C:\\\\Users\\\\khirod\\\\Documents\\\\GitHub\\\\Ocean-data-analysis\\\\functions.py'>"
      ]
     },
     "execution_count": 12,
     "metadata": {},
     "output_type": "execute_result"
    }
   ],
   "source": [
    "reload(fn)"
   ]
  },
  {
   "cell_type": "code",
   "execution_count": 13,
   "metadata": {},
   "outputs": [],
   "source": [
    "def get_benchmark_data(df,hydrophone_idx,inner_rad,outer_rad,min_duration,fmin=10,fmax=90,break_dur=True,get_acoustic=True,get_spectrogram=True):\n",
    "    \n",
    "    if hydrophone_idx==1:\n",
    "        hydro='Axial_Base'\n",
    "    elif hydrophone_idx==2:\n",
    "        hydro='Central_Caldera'\n",
    "    elif hydrophone_idx==3:\n",
    "        hydro='Eastern_Caldera'\n",
    "    suffix=str(inner_rad)+'_'+ str(outer_rad)+'.csv'\n",
    "    ais=fn.choose_df(df,hydrophone_idx)\n",
    "    isolated_ships=fn.get_isolated_ships(ais,inner_rad,outer_rad,min_duration)\n",
    "    isolated_ships.to_csv(path_to_write+hydro+'/isolated_ships_' + suffix)\n",
    "    isolated_ais=fn.isolated_ais(ais,isolated_ships,inner_rad)\n",
    "    isolated_ais.to_csv(path_to_write+hydro+'/isolated_ais_'+ suffix)\n",
    "    if break_dur:\n",
    "        isolated_ais_10m=fn.break_duration(isolated_ships)\n",
    "        isolated_ais_10m.to_csv(path_to_write+hydro+'/isolated_ais_10m_'+ suffix)\n",
    "    \n",
    "    if get_acoustic==True:\n",
    "        print('Saving wav files')\n",
    "        for i in tqdm(range(len(isolated_ships))):\n",
    "            min_time=isolated_ships.start_time[i]\n",
    "            max_time=isolated_ships.end_time[i]\n",
    "            hydrophone_data=fn.get_acoustic(hydrophone_idx,min_time,max_time,fmin=fmin,fmax=fmax)\n",
    "            if hydrophone_data==None:\n",
    "                # print('data trace is none. Continuing to next')\n",
    "                pass\n",
    "            else:\n",
    "                hydrophone_data.wav_write(filename=path_to_write+hydro+'/Audio'+'/isolated_ships_'+str(inner_rad)+'_'+ str(outer_rad)+'_'+str(i)+'.wav')\n",
    "    if get_spectrogram==True:\n",
    "        print('Saving spectrograms')\n",
    "        for i in tqdm(range(len(isolated_ships))):\n",
    "            min_time=isolated_ships.start_time[i]\n",
    "            max_time=isolated_ships.end_time[i]\n",
    "            spectrogram=fn.get_spectrogram_data(hydrophone_idx,min_time,max_time,fmin=fmin,fmax=fmax)\n",
    "            if (spectrogram==None):\n",
    "                # print('data trace is none. Continuing to next')\n",
    "                pass\n",
    "            else:\n",
    "                if (spectrogram.values.shape[0]<2) | (spectrogram.values.shape[1]<2):\n",
    "                    pass\n",
    "                else:\n",
    "                    #spectrogram.visualize(save_spec=True,plot_spec=False,filename=path_to_write+hydro+'/Spectrogram'+'/isolated_ships_'+str(inner_rad)+'_'+ str(outer_rad)+'_'+str(i)+'.png')\n",
    "                    ooiplt.plot_spectrogram(spectrogram,plot=False,save=True,fmin=fmin,fmax=fmax,filename=path_to_write+hydro+'/Spectrogram'+'/isolated_ships_'+str(inner_rad)+'_'+ str(outer_rad)+'_'+str(i)+'.png')\n",
    "    return isolated_ships,isolated_ais"
   ]
  },
  {
   "cell_type": "code",
   "execution_count": 14,
   "metadata": {},
   "outputs": [
    {
     "data": {
      "text/plain": [
       "<module 'functions' from 'C:\\\\Users\\\\khirod\\\\Documents\\\\GitHub\\\\Ocean-data-analysis\\\\functions.py'>"
      ]
     },
     "execution_count": 14,
     "metadata": {},
     "output_type": "execute_result"
    }
   ],
   "source": [
    "reload(fn)"
   ]
  },
  {
   "cell_type": "markdown",
   "metadata": {},
   "source": [
    "## Creating benchmark data for Axial Base"
   ]
  },
  {
   "cell_type": "markdown",
   "metadata": {},
   "source": [
    "### Depth=2.6\n",
    "### Axial base= 'AXABA1'\n",
    "\n",
    "### inner rad=2.6, outer_rad=2.6, outer_rad=5.2"
   ]
  },
  {
   "cell_type": "code",
   "execution_count": 15,
   "metadata": {},
   "outputs": [],
   "source": [
    "inner_rad= 2.6\n",
    "outer_rad1=2.6\n",
    "outer_rad2=5.2"
   ]
  },
  {
   "cell_type": "code",
   "execution_count": 16,
   "metadata": {
    "scrolled": true
   },
   "outputs": [
    {
     "name": "stdout",
     "output_type": "stream",
     "text": [
      " Max distance: 166.51 and Min distance: 0.01\n"
     ]
    },
    {
     "name": "stderr",
     "output_type": "stream",
     "text": [
      "100%|██████████████████████████████████████████████████████████████████████████████████| 39/39 [00:00<00:00, 42.04it/s]\n"
     ]
    }
   ],
   "source": [
    "\n",
    "d1,d2=get_benchmark_data(df,1,inner_rad,outer_rad1,min_duration,get_acoustic=False,get_spectrogram=False)\n"
   ]
  },
  {
   "cell_type": "code",
   "execution_count": 17,
   "metadata": {},
   "outputs": [
    {
     "name": "stdout",
     "output_type": "stream",
     "text": [
      "Research/Survey Vessel    32\n",
      "Bulk Carrier               3\n",
      "Special Vessel             2\n",
      "Fishing Vessel             1\n",
      "LPG Tanker                 1\n",
      "Name: VESSEL TYPE, dtype: int64 \n",
      " 74310.01666666668\n"
     ]
    }
   ],
   "source": [
    "print(d1['VESSEL TYPE'].value_counts(),'\\n',d1['len_of_recording'].sum())"
   ]
  },
  {
   "cell_type": "code",
   "execution_count": 18,
   "metadata": {
    "scrolled": true
   },
   "outputs": [
    {
     "name": "stdout",
     "output_type": "stream",
     "text": [
      " Max distance: 166.51 and Min distance: 0.01\n"
     ]
    },
    {
     "name": "stderr",
     "output_type": "stream",
     "text": [
      "100%|██████████████████████████████████████████████████████████████████████████████████| 46/46 [00:01<00:00, 31.63it/s]\n"
     ]
    }
   ],
   "source": [
    "\n",
    "d1,d2=get_benchmark_data(df,1,inner_rad,outer_rad2,min_duration,get_acoustic=False,get_spectrogram=False)"
   ]
  },
  {
   "cell_type": "code",
   "execution_count": 19,
   "metadata": {},
   "outputs": [
    {
     "name": "stdout",
     "output_type": "stream",
     "text": [
      "Research/Survey Vessel    38\n",
      "Special Vessel             3\n",
      "Bulk Carrier               3\n",
      "Fishing Vessel             1\n",
      "LPG Tanker                 1\n",
      "Name: VESSEL TYPE, dtype: int64 \n",
      " 36438.49999999999\n"
     ]
    }
   ],
   "source": [
    "print(d1['VESSEL TYPE'].value_counts(),'\\n',d1['len_of_recording'].sum())"
   ]
  },
  {
   "cell_type": "code",
   "execution_count": 20,
   "metadata": {},
   "outputs": [],
   "source": [
    "# d1,d2=get_benchmark_data(df,1,5,30,min_duration,get_acoustic=False)"
   ]
  },
  {
   "cell_type": "markdown",
   "metadata": {},
   "source": [
    "## Creating benchmark data for Central Caldera"
   ]
  },
  {
   "cell_type": "markdown",
   "metadata": {},
   "source": [
    "### Depth=1.5\n",
    "### Central Caldera= 'AXCC1'\n",
    "\n",
    "### inner rad=1.5, outer_rad=1.5, outer_rad=3.0"
   ]
  },
  {
   "cell_type": "code",
   "execution_count": 21,
   "metadata": {},
   "outputs": [],
   "source": [
    "inner_rad= 1.5\n",
    "outer_rad1=1.5\n",
    "outer_rad2=3.0\n",
    "outer_rad3=20"
   ]
  },
  {
   "cell_type": "code",
   "execution_count": 22,
   "metadata": {},
   "outputs": [
    {
     "data": {
      "text/html": [
       "<div>\n",
       "<style scoped>\n",
       "    .dataframe tbody tr th:only-of-type {\n",
       "        vertical-align: middle;\n",
       "    }\n",
       "\n",
       "    .dataframe tbody tr th {\n",
       "        vertical-align: top;\n",
       "    }\n",
       "\n",
       "    .dataframe thead th {\n",
       "        text-align: right;\n",
       "    }\n",
       "</style>\n",
       "<table border=\"1\" class=\"dataframe\">\n",
       "  <thead>\n",
       "    <tr style=\"text-align: right;\">\n",
       "      <th></th>\n",
       "      <th>MMSI</th>\n",
       "      <th>start_time</th>\n",
       "      <th>end_time</th>\n",
       "      <th>count</th>\n",
       "      <th>VESSEL TYPE</th>\n",
       "      <th>len_of_recording</th>\n",
       "    </tr>\n",
       "  </thead>\n",
       "  <tbody>\n",
       "    <tr>\n",
       "      <th>0</th>\n",
       "      <td>338417000</td>\n",
       "      <td>2016-07-12 12:16:55</td>\n",
       "      <td>2016-07-14 05:25:02</td>\n",
       "      <td>184</td>\n",
       "      <td>Special Vessel</td>\n",
       "      <td>2468.116667</td>\n",
       "    </tr>\n",
       "    <tr>\n",
       "      <th>1</th>\n",
       "      <td>338417000</td>\n",
       "      <td>2016-07-24 21:25:11</td>\n",
       "      <td>2016-07-28 23:02:11</td>\n",
       "      <td>91</td>\n",
       "      <td>Special Vessel</td>\n",
       "      <td>5857.000000</td>\n",
       "    </tr>\n",
       "    <tr>\n",
       "      <th>2</th>\n",
       "      <td>338417000</td>\n",
       "      <td>2016-08-10 07:20:00</td>\n",
       "      <td>2016-08-10 19:06:52</td>\n",
       "      <td>58</td>\n",
       "      <td>Special Vessel</td>\n",
       "      <td>706.866667</td>\n",
       "    </tr>\n",
       "    <tr>\n",
       "      <th>3</th>\n",
       "      <td>352358000</td>\n",
       "      <td>2016-08-20 14:24:43</td>\n",
       "      <td>2016-08-20 15:08:58</td>\n",
       "      <td>4</td>\n",
       "      <td>Bulk Carrier</td>\n",
       "      <td>44.250000</td>\n",
       "    </tr>\n",
       "    <tr>\n",
       "      <th>4</th>\n",
       "      <td>356190000</td>\n",
       "      <td>2017-08-17 03:22:52</td>\n",
       "      <td>2017-08-17 03:43:51</td>\n",
       "      <td>2</td>\n",
       "      <td>Bulk Carrier</td>\n",
       "      <td>20.983333</td>\n",
       "    </tr>\n",
       "  </tbody>\n",
       "</table>\n",
       "</div>"
      ],
      "text/plain": [
       "        MMSI          start_time            end_time  count     VESSEL TYPE  \\\n",
       "0  338417000 2016-07-12 12:16:55 2016-07-14 05:25:02    184  Special Vessel   \n",
       "1  338417000 2016-07-24 21:25:11 2016-07-28 23:02:11     91  Special Vessel   \n",
       "2  338417000 2016-08-10 07:20:00 2016-08-10 19:06:52     58  Special Vessel   \n",
       "3  352358000 2016-08-20 14:24:43 2016-08-20 15:08:58      4    Bulk Carrier   \n",
       "4  356190000 2017-08-17 03:22:52 2017-08-17 03:43:51      2    Bulk Carrier   \n",
       "\n",
       "   len_of_recording  \n",
       "0       2468.116667  \n",
       "1       5857.000000  \n",
       "2        706.866667  \n",
       "3         44.250000  \n",
       "4         20.983333  "
      ]
     },
     "execution_count": 22,
     "metadata": {},
     "output_type": "execute_result"
    }
   ],
   "source": [
    "d1.head()"
   ]
  },
  {
   "cell_type": "code",
   "execution_count": 23,
   "metadata": {},
   "outputs": [
    {
     "name": "stdout",
     "output_type": "stream",
     "text": [
      " Max distance: 168.72 and Min distance: 0.02\n"
     ]
    },
    {
     "name": "stderr",
     "output_type": "stream",
     "text": [
      "100%|██████████████████████████████████████████████████████████████████████████████████| 42/42 [00:01<00:00, 41.51it/s]\n"
     ]
    }
   ],
   "source": [
    "d1,d2=get_benchmark_data(df,2,inner_rad,outer_rad1,min_duration,get_acoustic=False,get_spectrogram=False)"
   ]
  },
  {
   "cell_type": "code",
   "execution_count": 24,
   "metadata": {},
   "outputs": [
    {
     "name": "stdout",
     "output_type": "stream",
     "text": [
      "Research/Survey Vessel    33\n",
      "Offshore Supply Ship       7\n",
      "Special Vessel             1\n",
      "Tug                        1\n",
      "Name: VESSEL TYPE, dtype: int64 \n",
      " 6891.55\n"
     ]
    }
   ],
   "source": [
    "print(d1['VESSEL TYPE'].value_counts(),'\\n',d1['len_of_recording'].sum())"
   ]
  },
  {
   "cell_type": "code",
   "execution_count": 25,
   "metadata": {},
   "outputs": [
    {
     "name": "stdout",
     "output_type": "stream",
     "text": [
      " Max distance: 168.72 and Min distance: 0.02\n"
     ]
    },
    {
     "name": "stderr",
     "output_type": "stream",
     "text": [
      "100%|██████████████████████████████████████████████████████████████████████████████████| 42/42 [00:01<00:00, 39.40it/s]\n"
     ]
    }
   ],
   "source": [
    "d1,d2=get_benchmark_data(df,2,inner_rad,outer_rad2,min_duration,get_acoustic=False,get_spectrogram=False)"
   ]
  },
  {
   "cell_type": "code",
   "execution_count": 26,
   "metadata": {},
   "outputs": [
    {
     "name": "stdout",
     "output_type": "stream",
     "text": [
      "Research/Survey Vessel    33\n",
      "Offshore Supply Ship       7\n",
      "Special Vessel             1\n",
      "Tug                        1\n",
      "Name: VESSEL TYPE, dtype: int64 \n",
      " 6891.55\n"
     ]
    }
   ],
   "source": [
    "print(d1['VESSEL TYPE'].value_counts(),'\\n',d1['len_of_recording'].sum())"
   ]
  },
  {
   "cell_type": "code",
   "execution_count": 27,
   "metadata": {
    "scrolled": true
   },
   "outputs": [
    {
     "name": "stdout",
     "output_type": "stream",
     "text": [
      " Max distance: 168.72 and Min distance: 0.02\n"
     ]
    },
    {
     "name": "stderr",
     "output_type": "stream",
     "text": [
      "100%|██████████████████████████████████████████████████████████████████████████████████| 43/43 [00:01<00:00, 30.84it/s]\n"
     ]
    }
   ],
   "source": [
    "d1,d2=get_benchmark_data(df,2,inner_rad,outer_rad3,min_duration,get_acoustic=False,get_spectrogram=False)"
   ]
  },
  {
   "cell_type": "code",
   "execution_count": 28,
   "metadata": {},
   "outputs": [
    {
     "name": "stdout",
     "output_type": "stream",
     "text": [
      "Research/Survey Vessel    35\n",
      "Offshore Supply Ship       7\n",
      "Tug                        1\n",
      "Name: VESSEL TYPE, dtype: int64 \n",
      " 6724.416666666667\n"
     ]
    }
   ],
   "source": [
    "print(d1['VESSEL TYPE'].value_counts(),'\\n',d1['len_of_recording'].sum())"
   ]
  },
  {
   "cell_type": "markdown",
   "metadata": {},
   "source": [
    "### In this particular example hydrophone is not properly collecting data for a particular duration"
   ]
  },
  {
   "cell_type": "code",
   "execution_count": 29,
   "metadata": {},
   "outputs": [],
   "source": [
    "x=d1[d1.index==153]"
   ]
  },
  {
   "cell_type": "code",
   "execution_count": 30,
   "metadata": {},
   "outputs": [
    {
     "data": {
      "text/html": [
       "<div>\n",
       "<style scoped>\n",
       "    .dataframe tbody tr th:only-of-type {\n",
       "        vertical-align: middle;\n",
       "    }\n",
       "\n",
       "    .dataframe tbody tr th {\n",
       "        vertical-align: top;\n",
       "    }\n",
       "\n",
       "    .dataframe thead th {\n",
       "        text-align: right;\n",
       "    }\n",
       "</style>\n",
       "<table border=\"1\" class=\"dataframe\">\n",
       "  <thead>\n",
       "    <tr style=\"text-align: right;\">\n",
       "      <th></th>\n",
       "      <th>MMSI</th>\n",
       "      <th>start_time</th>\n",
       "      <th>end_time</th>\n",
       "      <th>count</th>\n",
       "      <th>VESSEL TYPE</th>\n",
       "      <th>len_of_recording</th>\n",
       "    </tr>\n",
       "  </thead>\n",
       "  <tbody>\n",
       "  </tbody>\n",
       "</table>\n",
       "</div>"
      ],
      "text/plain": [
       "Empty DataFrame\n",
       "Columns: [MMSI, start_time, end_time, count, VESSEL TYPE, len_of_recording]\n",
       "Index: []"
      ]
     },
     "execution_count": 30,
     "metadata": {},
     "output_type": "execute_result"
    }
   ],
   "source": [
    "x"
   ]
  },
  {
   "cell_type": "code",
   "execution_count": 31,
   "metadata": {},
   "outputs": [],
   "source": [
    "# reload(fn)\n",
    "# min_time=x.start_time[153]\n",
    "# max_time=x.end_time[153]\n",
    "# spectrogram=fn.get_spectrogram_data(2,min_time,max_time,fmin=10,fmax=90)"
   ]
  },
  {
   "cell_type": "code",
   "execution_count": 32,
   "metadata": {},
   "outputs": [
    {
     "ename": "NameError",
     "evalue": "name 'spectrogram' is not defined",
     "output_type": "error",
     "traceback": [
      "\u001b[1;31m---------------------------------------------------------------------------\u001b[0m",
      "\u001b[1;31mNameError\u001b[0m                                 Traceback (most recent call last)",
      "Cell \u001b[1;32mIn [32], line 1\u001b[0m\n\u001b[1;32m----> 1\u001b[0m spectrogram\u001b[38;5;241m.\u001b[39mvalues\u001b[38;5;241m.\u001b[39mshape[\u001b[38;5;241m0\u001b[39m]\n",
      "\u001b[1;31mNameError\u001b[0m: name 'spectrogram' is not defined"
     ]
    }
   ],
   "source": [
    "spectrogram.values.shape[0]"
   ]
  },
  {
   "cell_type": "code",
   "execution_count": null,
   "metadata": {},
   "outputs": [],
   "source": [
    "if (spectrogram.values.shape[0]<2) | (spectrogram.values.shape[1]<2):\n",
    "    pass\n",
    "else:\n",
    "    ooiplt.plot_spectrogram(spectrogram,plot=False,save=True,fmin=fmin,fmax=fmax,filename='test.png')"
   ]
  },
  {
   "cell_type": "markdown",
   "metadata": {},
   "source": [
    "## Creating benchmark data for Eastern Caldera"
   ]
  },
  {
   "cell_type": "markdown",
   "metadata": {},
   "source": [
    "### Depth=1.5\n",
    "### Eastern Caldera= 'AXEC2'\n",
    "\n",
    "### inner rad=1.5, outer_rad=1.5, outer_rad=3.0"
   ]
  },
  {
   "cell_type": "code",
   "execution_count": null,
   "metadata": {},
   "outputs": [],
   "source": [
    "inner_rad= 1.5\n",
    "outer_rad1=1.5\n",
    "outer_rad2=3.0"
   ]
  },
  {
   "cell_type": "code",
   "execution_count": null,
   "metadata": {},
   "outputs": [],
   "source": [
    "d1,d2=get_benchmark_data(df,3,inner_rad,outer_rad1,min_duration,get_acoustic=False,get_spectrogram=False)"
   ]
  },
  {
   "cell_type": "code",
   "execution_count": null,
   "metadata": {},
   "outputs": [],
   "source": [
    "print(d1['VESSEL TYPE'].value_counts(),'\\n',d1['len_of_recording'].sum())"
   ]
  },
  {
   "cell_type": "code",
   "execution_count": null,
   "metadata": {},
   "outputs": [],
   "source": [
    "d1,d2=get_benchmark_data(df,3,inner_rad,outer_rad2,min_duration,get_acoustic=False,get_spectrogram=False)"
   ]
  },
  {
   "cell_type": "code",
   "execution_count": null,
   "metadata": {},
   "outputs": [],
   "source": [
    "print(d1['VESSEL TYPE'].value_counts(),'\\n',d1['len_of_recording'].sum())"
   ]
  },
  {
   "cell_type": "code",
   "execution_count": null,
   "metadata": {},
   "outputs": [],
   "source": [
    "from functions import choose_df\n",
    "ais=choose_df(df,1)\n",
    "min_duration=10\n",
    "lat=float(ais['axial_Loc'].iloc[0][1:8])\n",
    "lon=float(ais['axial_Loc'].iloc[0][9:18])\n",
    "reload(fn)\n",
    "fn.get_isolated_map_plot('scatter',ais,inner_rad,outer_rad2,lat,lon,min_duration)"
   ]
  },
  {
   "cell_type": "code",
   "execution_count": null,
   "metadata": {},
   "outputs": [],
   "source": [
    "reload(fn)\n",
    "fn.get_single_isolated_map_plot(1,'scatter',ais,10,30,lat,lon,min_duration,10,90)"
   ]
  },
  {
   "cell_type": "code",
   "execution_count": null,
   "metadata": {},
   "outputs": [],
   "source": [
    "ais.head()"
   ]
  },
  {
   "cell_type": "markdown",
   "metadata": {},
   "source": [
    "## Comparison of various options"
   ]
  },
  {
   "cell_type": "code",
   "execution_count": 33,
   "metadata": {},
   "outputs": [],
   "source": [
    "inner_rad=[5,10,15,1.5,2.6]\n",
    "outer_rad=[20,30,40,1.5,2.6,3,5.2]\n",
    "min_duration=10\n"
   ]
  },
  {
   "cell_type": "code",
   "execution_count": 36,
   "metadata": {},
   "outputs": [
    {
     "name": "stdout",
     "output_type": "stream",
     "text": [
      "\u001b[1m\u001b[32mComparative view with minimum duration: 10\u001b[0m\n"
     ]
    },
    {
     "name": "stderr",
     "output_type": "stream",
     "text": [
      "  0%|                                                                                            | 0/3 [00:00<?, ?it/s]\n",
      "  0%|                                                                                            | 0/5 [00:00<?, ?it/s]\u001b[A\n",
      " 20%|████████████████▊                                                                   | 1/5 [00:31<02:07, 31.82s/it]\u001b[A\n",
      " 40%|█████████████████████████████████▌                                                  | 2/5 [01:08<01:44, 34.93s/it]\u001b[A\n",
      " 60%|██████████████████████████████████████████████████▍                                 | 3/5 [02:11<01:34, 47.45s/it]\u001b[A\n",
      " 80%|███████████████████████████████████████████████████████████████████▏                | 4/5 [02:53<00:45, 45.20s/it]\u001b[A\n",
      "100%|████████████████████████████████████████████████████████████████████████████████████| 5/5 [03:53<00:00, 46.74s/it]\u001b[A\n",
      " 33%|███████████████████████████▋                                                       | 1/3 [03:53<07:47, 233.68s/it]\n",
      "  0%|                                                                                            | 0/5 [00:00<?, ?it/s]\u001b[A"
     ]
    },
    {
     "name": "stdout",
     "output_type": "stream",
     "text": [
      "{'MMSI': 338415000, 'start_time': Timestamp('2019-08-30 18:32:35'), 'end_time': Timestamp('2019-08-30 18:42:35'), 'VESSEL TYPE': 'Offshore Supply Ship', 'len_of_recording': 10.0}\n",
      "{'MMSI': 338415000, 'start_time': Timestamp('2019-08-30 18:32:35'), 'end_time': Timestamp('2019-08-30 18:42:35'), 'VESSEL TYPE': 'Offshore Supply Ship', 'len_of_recording': 10.0}\n",
      "{'MMSI': 338415000, 'start_time': Timestamp('2019-08-30 18:32:35'), 'end_time': Timestamp('2019-08-30 18:42:35'), 'VESSEL TYPE': 'Offshore Supply Ship', 'len_of_recording': 10.0}\n",
      "{'MMSI': 338415000, 'start_time': Timestamp('2019-08-30 18:32:35'), 'end_time': Timestamp('2019-08-30 18:42:35'), 'VESSEL TYPE': 'Offshore Supply Ship', 'len_of_recording': 10.0}\n"
     ]
    },
    {
     "name": "stderr",
     "output_type": "stream",
     "text": [
      "\n",
      " 20%|████████████████▊                                                                   | 1/5 [01:08<04:33, 68.29s/it]\u001b[A\n",
      " 40%|█████████████████████████████████▌                                                  | 2/5 [02:41<04:09, 83.05s/it]\u001b[A"
     ]
    },
    {
     "name": "stdout",
     "output_type": "stream",
     "text": [
      "{'MMSI': 371823000, 'start_time': Timestamp('2015-07-10 09:05:09'), 'end_time': Timestamp('2015-07-10 09:15:09'), 'VESSEL TYPE': 'Chemical Tanker', 'len_of_recording': 10.0}\n",
      "{'MMSI': 371823000, 'start_time': Timestamp('2015-07-10 09:05:09'), 'end_time': Timestamp('2015-07-10 09:15:09'), 'VESSEL TYPE': 'Chemical Tanker', 'len_of_recording': 10.0}\n",
      "{'MMSI': 351647000, 'start_time': Timestamp('2015-10-16 06:21:03'), 'end_time': Timestamp('2015-10-16 06:31:03'), 'VESSEL TYPE': 'Bulk Carrier', 'len_of_recording': 10.0}\n",
      "{'MMSI': 371823000, 'start_time': Timestamp('2015-07-10 09:05:09'), 'end_time': Timestamp('2015-07-10 09:15:09'), 'VESSEL TYPE': 'Chemical Tanker', 'len_of_recording': 10.0}\n"
     ]
    },
    {
     "name": "stderr",
     "output_type": "stream",
     "text": [
      "\n",
      " 60%|██████████████████████████████████████████████████▍                                 | 3/5 [04:25<03:04, 92.44s/it]\u001b[A\n",
      " 80%|███████████████████████████████████████████████████████████████████▏                | 4/5 [04:39<01:01, 61.52s/it]\u001b[A\n",
      "100%|████████████████████████████████████████████████████████████████████████████████████| 5/5 [05:39<00:00, 67.92s/it]\u001b[A\n",
      " 67%|███████████████████████████████████████████████████████▎                           | 2/3 [09:33<04:55, 295.99s/it]\n",
      "  0%|                                                                                            | 0/5 [00:00<?, ?it/s]\u001b[A\n",
      " 20%|████████████████▊                                                                   | 1/5 [01:13<04:53, 73.40s/it]\u001b[A\n",
      " 40%|█████████████████████████████████▌                                                  | 2/5 [02:29<03:45, 75.14s/it]\u001b[A"
     ]
    },
    {
     "name": "stdout",
     "output_type": "stream",
     "text": [
      "{'MMSI': 367059880, 'start_time': Timestamp('2019-08-09 13:06:08'), 'end_time': Timestamp('2019-08-09 13:16:08'), 'VESSEL TYPE': 'Research/Survey Vessel', 'len_of_recording': 10.0}\n",
      "{'MMSI': 371823000, 'start_time': Timestamp('2015-07-10 09:05:09'), 'end_time': Timestamp('2015-07-10 09:15:09'), 'VESSEL TYPE': 'Chemical Tanker', 'len_of_recording': 10.0}\n",
      "{'MMSI': 371823000, 'start_time': Timestamp('2015-07-10 09:05:09'), 'end_time': Timestamp('2015-07-10 09:15:09'), 'VESSEL TYPE': 'Chemical Tanker', 'len_of_recording': 10.0}\n",
      "{'MMSI': 371823000, 'start_time': Timestamp('2015-07-10 09:05:09'), 'end_time': Timestamp('2015-07-10 09:15:09'), 'VESSEL TYPE': 'Chemical Tanker', 'len_of_recording': 10.0}\n"
     ]
    },
    {
     "name": "stderr",
     "output_type": "stream",
     "text": [
      "\n",
      " 60%|██████████████████████████████████████████████████▍                                 | 3/5 [04:14<02:57, 88.78s/it]\u001b[A\n",
      " 80%|███████████████████████████████████████████████████████████████████▏                | 4/5 [04:36<01:02, 62.18s/it]\u001b[A\n",
      "100%|████████████████████████████████████████████████████████████████████████████████████| 5/5 [05:33<00:00, 66.63s/it]\u001b[A\n",
      "100%|███████████████████████████████████████████████████████████████████████████████████| 3/3 [15:06<00:00, 302.15s/it]\n"
     ]
    }
   ],
   "source": [
    "reload(fn)\n",
    "\n",
    "print(colored('Comparative view with minimum duration: '+ str(min_duration),'green',attrs=['bold']))\n",
    "table=pd.DataFrame(columns=['hydrophone_idx','inner_rad','outer_rad','no_unique_ships','no_unique_vessels','no_records'])\n",
    "for i in tqdm(range(1,4,1)):\n",
    "    for i_r in tqdm(inner_rad):\n",
    "        for o_r in outer_rad:\n",
    "            if i_r<=o_r:\n",
    "                temp_dict=dict()\n",
    "                ais=fn.choose_df(df,i,verbose=False)\n",
    "\n",
    "                temp_df1=fn.get_isolated_ships(ais,i_r,o_r,min_duration)\n",
    "                temp_df2=fn.break_duration(temp_df1)\n",
    "\n",
    "                temp_dict['hydrophone_idx']=i\n",
    "                temp_dict['inner_rad']=i_r\n",
    "                temp_dict['outer_rad']=o_r\n",
    "                temp_dict['no_unique_ships']=temp_df2['MMSI'].nunique()\n",
    "                temp_dict['no_unique_vessels']=temp_df2['VESSEL TYPE'].nunique()\n",
    "                temp_dict['no_records']=len(temp_df2)\n",
    "                temp_dict['len_of_recordings']=temp_df2.len_of_recording.sum()\n",
    "                table=table.append(temp_dict,ignore_index=True)\n",
    "         \n",
    "\n",
    "\n"
   ]
  },
  {
   "cell_type": "code",
   "execution_count": 35,
   "metadata": {},
   "outputs": [
    {
     "data": {
      "text/html": [
       "<div>\n",
       "<style scoped>\n",
       "    .dataframe tbody tr th:only-of-type {\n",
       "        vertical-align: middle;\n",
       "    }\n",
       "\n",
       "    .dataframe tbody tr th {\n",
       "        vertical-align: top;\n",
       "    }\n",
       "\n",
       "    .dataframe thead th {\n",
       "        text-align: right;\n",
       "    }\n",
       "</style>\n",
       "<table border=\"1\" class=\"dataframe\">\n",
       "  <thead>\n",
       "    <tr style=\"text-align: right;\">\n",
       "      <th></th>\n",
       "      <th>hydrophone_idx</th>\n",
       "      <th>inner_rad</th>\n",
       "      <th>outer_rad</th>\n",
       "      <th>no_unique_ships</th>\n",
       "      <th>no_unique_vessels</th>\n",
       "      <th>no_records</th>\n",
       "      <th>len_of_recordings</th>\n",
       "    </tr>\n",
       "  </thead>\n",
       "  <tbody>\n",
       "  </tbody>\n",
       "</table>\n",
       "</div>"
      ],
      "text/plain": [
       "Empty DataFrame\n",
       "Columns: [hydrophone_idx, inner_rad, outer_rad, no_unique_ships, no_unique_vessels, no_records, len_of_recordings]\n",
       "Index: []"
      ]
     },
     "execution_count": 35,
     "metadata": {},
     "output_type": "execute_result"
    }
   ],
   "source": [
    "table[table['inner_rad'].isin([5,10])]"
   ]
  },
  {
   "cell_type": "code",
   "execution_count": 50,
   "metadata": {},
   "outputs": [
    {
     "data": {
      "text/html": [
       "<div>\n",
       "<style scoped>\n",
       "    .dataframe tbody tr th:only-of-type {\n",
       "        vertical-align: middle;\n",
       "    }\n",
       "\n",
       "    .dataframe tbody tr th {\n",
       "        vertical-align: top;\n",
       "    }\n",
       "\n",
       "    .dataframe thead th {\n",
       "        text-align: right;\n",
       "    }\n",
       "</style>\n",
       "<table border=\"1\" class=\"dataframe\">\n",
       "  <thead>\n",
       "    <tr style=\"text-align: right;\">\n",
       "      <th></th>\n",
       "      <th>MMSI</th>\n",
       "      <th>start_time</th>\n",
       "      <th>end_time</th>\n",
       "      <th>count</th>\n",
       "      <th>VESSEL TYPE</th>\n",
       "      <th>len_of_recording</th>\n",
       "    </tr>\n",
       "  </thead>\n",
       "  <tbody>\n",
       "    <tr>\n",
       "      <th>0</th>\n",
       "      <td>247218600</td>\n",
       "      <td>2016-02-12 15:27:00</td>\n",
       "      <td>2016-02-12 17:09:03</td>\n",
       "      <td>5</td>\n",
       "      <td>Oil/Chemical Tanker</td>\n",
       "      <td>102.050000</td>\n",
       "    </tr>\n",
       "    <tr>\n",
       "      <th>1</th>\n",
       "      <td>338371000</td>\n",
       "      <td>2016-04-13 15:41:49</td>\n",
       "      <td>2016-04-13 15:52:49</td>\n",
       "      <td>2</td>\n",
       "      <td>Tanker</td>\n",
       "      <td>11.000000</td>\n",
       "    </tr>\n",
       "    <tr>\n",
       "      <th>2</th>\n",
       "      <td>338415000</td>\n",
       "      <td>2016-07-21 21:42:07</td>\n",
       "      <td>2016-07-21 22:07:06</td>\n",
       "      <td>4</td>\n",
       "      <td>Offshore Supply Ship</td>\n",
       "      <td>24.983333</td>\n",
       "    </tr>\n",
       "    <tr>\n",
       "      <th>3</th>\n",
       "      <td>338415000</td>\n",
       "      <td>2016-07-22 01:12:16</td>\n",
       "      <td>2016-07-22 01:45:46</td>\n",
       "      <td>4</td>\n",
       "      <td>Offshore Supply Ship</td>\n",
       "      <td>33.500000</td>\n",
       "    </tr>\n",
       "    <tr>\n",
       "      <th>4</th>\n",
       "      <td>338415000</td>\n",
       "      <td>2019-08-22 08:22:40</td>\n",
       "      <td>2019-08-22 09:05:48</td>\n",
       "      <td>18</td>\n",
       "      <td>Offshore Supply Ship</td>\n",
       "      <td>43.133333</td>\n",
       "    </tr>\n",
       "  </tbody>\n",
       "</table>\n",
       "</div>"
      ],
      "text/plain": [
       "        MMSI          start_time            end_time  count  \\\n",
       "0  247218600 2016-02-12 15:27:00 2016-02-12 17:09:03      5   \n",
       "1  338371000 2016-04-13 15:41:49 2016-04-13 15:52:49      2   \n",
       "2  338415000 2016-07-21 21:42:07 2016-07-21 22:07:06      4   \n",
       "3  338415000 2016-07-22 01:12:16 2016-07-22 01:45:46      4   \n",
       "4  338415000 2019-08-22 08:22:40 2019-08-22 09:05:48     18   \n",
       "\n",
       "            VESSEL TYPE  len_of_recording  \n",
       "0   Oil/Chemical Tanker        102.050000  \n",
       "1                Tanker         11.000000  \n",
       "2  Offshore Supply Ship         24.983333  \n",
       "3  Offshore Supply Ship         33.500000  \n",
       "4  Offshore Supply Ship         43.133333  "
      ]
     },
     "execution_count": 50,
     "metadata": {},
     "output_type": "execute_result"
    }
   ],
   "source": [
    "d1.head()\n"
   ]
  },
  {
   "cell_type": "code",
   "execution_count": 13,
   "metadata": {},
   "outputs": [
    {
     "name": "stdout",
     "output_type": "stream",
     "text": [
      "\u001b[1m\u001b[32mOverlapping of all hydrophones with minimum number of timestamps: 10\u001b[0m\n"
     ]
    },
    {
     "data": {
      "text/html": [
       "<div>\n",
       "<style scoped>\n",
       "    .dataframe tbody tr th:only-of-type {\n",
       "        vertical-align: middle;\n",
       "    }\n",
       "\n",
       "    .dataframe tbody tr th {\n",
       "        vertical-align: top;\n",
       "    }\n",
       "\n",
       "    .dataframe thead th {\n",
       "        text-align: right;\n",
       "    }\n",
       "</style>\n",
       "<table border=\"1\" class=\"dataframe\">\n",
       "  <thead>\n",
       "    <tr style=\"text-align: right;\">\n",
       "      <th></th>\n",
       "      <th>inner_rad</th>\n",
       "      <th>outer_rad</th>\n",
       "      <th>no_unique_ships</th>\n",
       "      <th>no_unique_vessels</th>\n",
       "      <th>no_records</th>\n",
       "    </tr>\n",
       "  </thead>\n",
       "  <tbody>\n",
       "    <tr>\n",
       "      <th>0</th>\n",
       "      <td>5</td>\n",
       "      <td>20</td>\n",
       "      <td>152</td>\n",
       "      <td>26</td>\n",
       "      <td>573</td>\n",
       "    </tr>\n",
       "    <tr>\n",
       "      <th>1</th>\n",
       "      <td>5</td>\n",
       "      <td>30</td>\n",
       "      <td>144</td>\n",
       "      <td>26</td>\n",
       "      <td>630</td>\n",
       "    </tr>\n",
       "    <tr>\n",
       "      <th>2</th>\n",
       "      <td>5</td>\n",
       "      <td>40</td>\n",
       "      <td>129</td>\n",
       "      <td>26</td>\n",
       "      <td>711</td>\n",
       "    </tr>\n",
       "    <tr>\n",
       "      <th>3</th>\n",
       "      <td>10</td>\n",
       "      <td>20</td>\n",
       "      <td>542</td>\n",
       "      <td>39</td>\n",
       "      <td>1534</td>\n",
       "    </tr>\n",
       "    <tr>\n",
       "      <th>4</th>\n",
       "      <td>10</td>\n",
       "      <td>30</td>\n",
       "      <td>515</td>\n",
       "      <td>38</td>\n",
       "      <td>1556</td>\n",
       "    </tr>\n",
       "    <tr>\n",
       "      <th>5</th>\n",
       "      <td>10</td>\n",
       "      <td>40</td>\n",
       "      <td>464</td>\n",
       "      <td>37</td>\n",
       "      <td>1572</td>\n",
       "    </tr>\n",
       "    <tr>\n",
       "      <th>6</th>\n",
       "      <td>15</td>\n",
       "      <td>20</td>\n",
       "      <td>865</td>\n",
       "      <td>42</td>\n",
       "      <td>2822</td>\n",
       "    </tr>\n",
       "    <tr>\n",
       "      <th>7</th>\n",
       "      <td>15</td>\n",
       "      <td>30</td>\n",
       "      <td>837</td>\n",
       "      <td>42</td>\n",
       "      <td>2826</td>\n",
       "    </tr>\n",
       "    <tr>\n",
       "      <th>8</th>\n",
       "      <td>15</td>\n",
       "      <td>40</td>\n",
       "      <td>775</td>\n",
       "      <td>42</td>\n",
       "      <td>2760</td>\n",
       "    </tr>\n",
       "  </tbody>\n",
       "</table>\n",
       "</div>"
      ],
      "text/plain": [
       "  inner_rad outer_rad no_unique_ships no_unique_vessels no_records\n",
       "0         5        20             152                26        573\n",
       "1         5        30             144                26        630\n",
       "2         5        40             129                26        711\n",
       "3        10        20             542                39       1534\n",
       "4        10        30             515                38       1556\n",
       "5        10        40             464                37       1572\n",
       "6        15        20             865                42       2822\n",
       "7        15        30             837                42       2826\n",
       "8        15        40             775                42       2760"
      ]
     },
     "execution_count": 13,
     "metadata": {},
     "output_type": "execute_result"
    }
   ],
   "source": [
    "reload(fn)\n",
    "\n",
    "print(colored('Overlapping of all hydrophones with minimum number of timestamps: '+ str(min_duration),'green',attrs=['bold']))\n",
    "table2=pd.DataFrame(columns=['inner_rad','outer_rad','no_unique_ships','no_unique_vessels','no_records'])\n",
    "\n",
    "for i_r in inner_rad:\n",
    "    for o_r in outer_rad:\n",
    "        combined_df=pd.DataFrame()\n",
    "        for i in range(1,4,1):\n",
    "            temp_dict=dict()\n",
    "            ais=fn.choose_df(df,i,verbose=False)\n",
    "            d1=fn.get_isolated_ships(ais,i_r,o_r,min_duration)\n",
    "            combined_df=pd.concat([combined_df,d1])\n",
    "\n",
    "        temp_dict['inner_rad']=i_r\n",
    "        temp_dict['outer_rad']=o_r\n",
    "        temp_dict['no_unique_ships']=combined_df['MMSI'].nunique()\n",
    "        temp_dict['no_unique_vessels']=combined_df['VESSEL TYPE'].nunique()\n",
    "        temp_dict['no_records']=len(combined_df)\n",
    "        table2=table2.append(temp_dict,ignore_index=True)\n",
    "table2\n",
    "        "
   ]
  },
  {
   "cell_type": "code",
   "execution_count": null,
   "metadata": {},
   "outputs": [],
   "source": []
  }
 ],
 "metadata": {
  "kernelspec": {
   "display_name": "Python 3 (ipykernel)",
   "language": "python",
   "name": "python3"
  },
  "language_info": {
   "codemirror_mode": {
    "name": "ipython",
    "version": 3
   },
   "file_extension": ".py",
   "mimetype": "text/x-python",
   "name": "python",
   "nbconvert_exporter": "python",
   "pygments_lexer": "ipython3",
   "version": "3.10.6"
  },
  "vscode": {
   "interpreter": {
    "hash": "359f9a5187fb9b90d6791b9a1894c924ec82a2292c14ad522499e88f73769967"
   }
  }
 },
 "nbformat": 4,
 "nbformat_minor": 4
}
