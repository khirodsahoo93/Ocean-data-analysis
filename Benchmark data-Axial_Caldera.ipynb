{
 "cells": [
  {
   "cell_type": "code",
   "execution_count": 113,
   "metadata": {},
   "outputs": [],
   "source": [
    "import functions as fn\n",
    "import pandas as pd\n",
    "from importlib import reload\n",
    "from tqdm import tqdm\n",
    "from termcolor import colored\n",
    "import matplotlib.pyplot as plt\n",
    "from ooipy.tools import ooiplotlib as ooiplt\n",
    "import datetime"
   ]
  },
  {
   "cell_type": "code",
   "execution_count": 114,
   "metadata": {},
   "outputs": [],
   "source": [
    "import sys, os\n",
    "\n",
    "# Disable\n",
    "def blockPrint():\n",
    "    sys.stdout = open(os.devnull, 'w')\n",
    "\n",
    "# Restore\n",
    "def enablePrint():\n",
    "    sys.stdout = sys.__stdout__"
   ]
  },
  {
   "cell_type": "code",
   "execution_count": 115,
   "metadata": {},
   "outputs": [],
   "source": [
    "df = pd.read_csv('E:/Acer backup 3/internships and jobs/UW/Reader grader and TA/Shima Abadi/Data/ais_2014B_2020B_V2.csv',sep = ',')\n"
   ]
  },
  {
   "cell_type": "code",
   "execution_count": 116,
   "metadata": {},
   "outputs": [],
   "source": [
    "df['TIMESTAMP UTC']=df['TIMESTAMP UTC'].astype('datetime64[ns]')\n"
   ]
  },
  {
   "cell_type": "code",
   "execution_count": 117,
   "metadata": {
    "scrolled": true
   },
   "outputs": [
    {
     "data": {
      "text/html": [
       "<div>\n",
       "<style scoped>\n",
       "    .dataframe tbody tr th:only-of-type {\n",
       "        vertical-align: middle;\n",
       "    }\n",
       "\n",
       "    .dataframe tbody tr th {\n",
       "        vertical-align: top;\n",
       "    }\n",
       "\n",
       "    .dataframe thead th {\n",
       "        text-align: right;\n",
       "    }\n",
       "</style>\n",
       "<table border=\"1\" class=\"dataframe\">\n",
       "  <thead>\n",
       "    <tr style=\"text-align: right;\">\n",
       "      <th></th>\n",
       "      <th>Unnamed: 0.1</th>\n",
       "      <th>Unnamed: 0</th>\n",
       "      <th>MMSI</th>\n",
       "      <th>SHIPNAME</th>\n",
       "      <th>VESSEL TYPE</th>\n",
       "      <th>STATUS</th>\n",
       "      <th>SPEED (KNOTSx10)</th>\n",
       "      <th>LAT</th>\n",
       "      <th>LON</th>\n",
       "      <th>COURSE</th>\n",
       "      <th>...</th>\n",
       "      <th>central_caldera_Loc</th>\n",
       "      <th>eastern_caldera_Lat</th>\n",
       "      <th>eastern_caldera_Lon</th>\n",
       "      <th>eastern_caldera_Loc</th>\n",
       "      <th>distance(in km) axial</th>\n",
       "      <th>distance(in km) central cald</th>\n",
       "      <th>distance(in km) eastern cald</th>\n",
       "      <th>bearing_axial</th>\n",
       "      <th>bearing_eastern_cald</th>\n",
       "      <th>bearing_central_cald</th>\n",
       "    </tr>\n",
       "  </thead>\n",
       "  <tbody>\n",
       "    <tr>\n",
       "      <th>0</th>\n",
       "      <td>0</td>\n",
       "      <td>0</td>\n",
       "      <td>209605000</td>\n",
       "      <td>AKILI</td>\n",
       "      <td>Bulk Carrier</td>\n",
       "      <td>0</td>\n",
       "      <td>108</td>\n",
       "      <td>46.09859</td>\n",
       "      <td>-129.6550</td>\n",
       "      <td>83</td>\n",
       "      <td>...</td>\n",
       "      <td>(45.9549, -130.0089)</td>\n",
       "      <td>45.9399</td>\n",
       "      <td>-129.9742</td>\n",
       "      <td>(45.9399, -129.9742)</td>\n",
       "      <td>32.25</td>\n",
       "      <td>31.72</td>\n",
       "      <td>30.37</td>\n",
       "      <td>193.760689</td>\n",
       "      <td>234.515164</td>\n",
       "      <td>239.809636</td>\n",
       "    </tr>\n",
       "    <tr>\n",
       "      <th>1</th>\n",
       "      <td>1</td>\n",
       "      <td>1</td>\n",
       "      <td>256832000</td>\n",
       "      <td>NaN</td>\n",
       "      <td>NaN</td>\n",
       "      <td>0</td>\n",
       "      <td>115</td>\n",
       "      <td>45.07486</td>\n",
       "      <td>-128.9430</td>\n",
       "      <td>178</td>\n",
       "      <td>...</td>\n",
       "      <td>(45.9549, -130.0089)</td>\n",
       "      <td>45.9399</td>\n",
       "      <td>-129.9742</td>\n",
       "      <td>(45.9399, -129.9742)</td>\n",
       "      <td>104.04</td>\n",
       "      <td>128.46</td>\n",
       "      <td>125.45</td>\n",
       "      <td>322.804182</td>\n",
       "      <td>320.490292</td>\n",
       "      <td>320.057435</td>\n",
       "    </tr>\n",
       "    <tr>\n",
       "      <th>2</th>\n",
       "      <td>2</td>\n",
       "      <td>2</td>\n",
       "      <td>352358000</td>\n",
       "      <td>ANNA G</td>\n",
       "      <td>Bulk Carrier</td>\n",
       "      <td>0</td>\n",
       "      <td>132</td>\n",
       "      <td>45.86138</td>\n",
       "      <td>-130.5627</td>\n",
       "      <td>86</td>\n",
       "      <td>...</td>\n",
       "      <td>(45.9549, -130.0089)</td>\n",
       "      <td>45.9399</td>\n",
       "      <td>-129.9742</td>\n",
       "      <td>(45.9399, -129.9742)</td>\n",
       "      <td>63.02</td>\n",
       "      <td>44.21</td>\n",
       "      <td>46.50</td>\n",
       "      <td>94.234035</td>\n",
       "      <td>78.935325</td>\n",
       "      <td>76.159593</td>\n",
       "    </tr>\n",
       "    <tr>\n",
       "      <th>3</th>\n",
       "      <td>3</td>\n",
       "      <td>3</td>\n",
       "      <td>356566000</td>\n",
       "      <td>GLOBAL SAIKAI</td>\n",
       "      <td>General Cargo</td>\n",
       "      <td>0</td>\n",
       "      <td>104</td>\n",
       "      <td>46.50261</td>\n",
       "      <td>-129.0129</td>\n",
       "      <td>272</td>\n",
       "      <td>...</td>\n",
       "      <td>(45.9549, -130.0089)</td>\n",
       "      <td>45.9399</td>\n",
       "      <td>-129.9742</td>\n",
       "      <td>(45.9399, -129.9742)</td>\n",
       "      <td>95.33</td>\n",
       "      <td>98.03</td>\n",
       "      <td>97.02</td>\n",
       "      <td>217.082385</td>\n",
       "      <td>230.114815</td>\n",
       "      <td>231.878577</td>\n",
       "    </tr>\n",
       "    <tr>\n",
       "      <th>4</th>\n",
       "      <td>4</td>\n",
       "      <td>4</td>\n",
       "      <td>477293500</td>\n",
       "      <td>JIN XIU FENG</td>\n",
       "      <td>Bulk Carrier</td>\n",
       "      <td>0</td>\n",
       "      <td>112</td>\n",
       "      <td>46.74633</td>\n",
       "      <td>-129.5912</td>\n",
       "      <td>299</td>\n",
       "      <td>...</td>\n",
       "      <td>(45.9549, -130.0089)</td>\n",
       "      <td>45.9399</td>\n",
       "      <td>-129.9742</td>\n",
       "      <td>(45.9399, -129.9742)</td>\n",
       "      <td>104.08</td>\n",
       "      <td>93.66</td>\n",
       "      <td>94.37</td>\n",
       "      <td>186.960616</td>\n",
       "      <td>198.291220</td>\n",
       "      <td>200.167826</td>\n",
       "    </tr>\n",
       "  </tbody>\n",
       "</table>\n",
       "<p>5 rows × 30 columns</p>\n",
       "</div>"
      ],
      "text/plain": [
       "   Unnamed: 0.1  Unnamed: 0       MMSI       SHIPNAME    VESSEL TYPE  STATUS  \\\n",
       "0             0           0  209605000          AKILI   Bulk Carrier       0   \n",
       "1             1           1  256832000            NaN            NaN       0   \n",
       "2             2           2  352358000         ANNA G   Bulk Carrier       0   \n",
       "3             3           3  356566000  GLOBAL SAIKAI  General Cargo       0   \n",
       "4             4           4  477293500   JIN XIU FENG   Bulk Carrier       0   \n",
       "\n",
       "   SPEED (KNOTSx10)       LAT       LON  COURSE  ...   central_caldera_Loc  \\\n",
       "0               108  46.09859 -129.6550      83  ...  (45.9549, -130.0089)   \n",
       "1               115  45.07486 -128.9430     178  ...  (45.9549, -130.0089)   \n",
       "2               132  45.86138 -130.5627      86  ...  (45.9549, -130.0089)   \n",
       "3               104  46.50261 -129.0129     272  ...  (45.9549, -130.0089)   \n",
       "4               112  46.74633 -129.5912     299  ...  (45.9549, -130.0089)   \n",
       "\n",
       "  eastern_caldera_Lat  eastern_caldera_Lon   eastern_caldera_Loc  \\\n",
       "0             45.9399            -129.9742  (45.9399, -129.9742)   \n",
       "1             45.9399            -129.9742  (45.9399, -129.9742)   \n",
       "2             45.9399            -129.9742  (45.9399, -129.9742)   \n",
       "3             45.9399            -129.9742  (45.9399, -129.9742)   \n",
       "4             45.9399            -129.9742  (45.9399, -129.9742)   \n",
       "\n",
       "   distance(in km) axial  distance(in km) central cald  \\\n",
       "0                  32.25                         31.72   \n",
       "1                 104.04                        128.46   \n",
       "2                  63.02                         44.21   \n",
       "3                  95.33                         98.03   \n",
       "4                 104.08                         93.66   \n",
       "\n",
       "  distance(in km) eastern cald bearing_axial  bearing_eastern_cald  \\\n",
       "0                        30.37    193.760689            234.515164   \n",
       "1                       125.45    322.804182            320.490292   \n",
       "2                        46.50     94.234035             78.935325   \n",
       "3                        97.02    217.082385            230.114815   \n",
       "4                        94.37    186.960616            198.291220   \n",
       "\n",
       "   bearing_central_cald  \n",
       "0            239.809636  \n",
       "1            320.057435  \n",
       "2             76.159593  \n",
       "3            231.878577  \n",
       "4            200.167826  \n",
       "\n",
       "[5 rows x 30 columns]"
      ]
     },
     "execution_count": 117,
     "metadata": {},
     "output_type": "execute_result"
    }
   ],
   "source": [
    "df.head()"
   ]
  },
  {
   "cell_type": "code",
   "execution_count": 118,
   "metadata": {},
   "outputs": [
    {
     "data": {
      "text/plain": [
       "(2003830, 30)"
      ]
     },
     "execution_count": 118,
     "metadata": {},
     "output_type": "execute_result"
    }
   ],
   "source": [
    "df.shape"
   ]
  },
  {
   "cell_type": "code",
   "execution_count": 119,
   "metadata": {},
   "outputs": [
    {
     "data": {
      "text/plain": [
       "Timestamp('2015-01-01 00:28:00')"
      ]
     },
     "execution_count": 119,
     "metadata": {},
     "output_type": "execute_result"
    }
   ],
   "source": [
    "df['TIMESTAMP UTC'].min()"
   ]
  },
  {
   "cell_type": "code",
   "execution_count": 120,
   "metadata": {},
   "outputs": [
    {
     "data": {
      "text/plain": [
       "Timestamp('2020-12-31 23:58:58')"
      ]
     },
     "execution_count": 120,
     "metadata": {},
     "output_type": "execute_result"
    }
   ],
   "source": [
    "df['TIMESTAMP UTC'].max()"
   ]
  },
  {
   "cell_type": "markdown",
   "metadata": {},
   "source": [
    "### Remove airgun noise data"
   ]
  },
  {
   "cell_type": "code",
   "execution_count": 121,
   "metadata": {},
   "outputs": [],
   "source": [
    "start_time=datetime.datetime(2019,7,1,0,0,0)\n",
    "end_time=datetime.datetime(2019,8,1,0,0,0)\n"
   ]
  },
  {
   "cell_type": "code",
   "execution_count": 122,
   "metadata": {},
   "outputs": [
    {
     "data": {
      "text/plain": [
       "datetime.datetime(2019, 7, 1, 0, 0)"
      ]
     },
     "execution_count": 122,
     "metadata": {},
     "output_type": "execute_result"
    }
   ],
   "source": [
    "start_time"
   ]
  },
  {
   "cell_type": "code",
   "execution_count": 123,
   "metadata": {},
   "outputs": [
    {
     "data": {
      "text/html": [
       "<div>\n",
       "<style scoped>\n",
       "    .dataframe tbody tr th:only-of-type {\n",
       "        vertical-align: middle;\n",
       "    }\n",
       "\n",
       "    .dataframe tbody tr th {\n",
       "        vertical-align: top;\n",
       "    }\n",
       "\n",
       "    .dataframe thead th {\n",
       "        text-align: right;\n",
       "    }\n",
       "</style>\n",
       "<table border=\"1\" class=\"dataframe\">\n",
       "  <thead>\n",
       "    <tr style=\"text-align: right;\">\n",
       "      <th></th>\n",
       "      <th>Unnamed: 0.1</th>\n",
       "      <th>Unnamed: 0</th>\n",
       "      <th>MMSI</th>\n",
       "      <th>SHIPNAME</th>\n",
       "      <th>VESSEL TYPE</th>\n",
       "      <th>STATUS</th>\n",
       "      <th>SPEED (KNOTSx10)</th>\n",
       "      <th>LAT</th>\n",
       "      <th>LON</th>\n",
       "      <th>COURSE</th>\n",
       "      <th>...</th>\n",
       "      <th>central_caldera_Loc</th>\n",
       "      <th>eastern_caldera_Lat</th>\n",
       "      <th>eastern_caldera_Lon</th>\n",
       "      <th>eastern_caldera_Loc</th>\n",
       "      <th>distance(in km) axial</th>\n",
       "      <th>distance(in km) central cald</th>\n",
       "      <th>distance(in km) eastern cald</th>\n",
       "      <th>bearing_axial</th>\n",
       "      <th>bearing_eastern_cald</th>\n",
       "      <th>bearing_central_cald</th>\n",
       "    </tr>\n",
       "  </thead>\n",
       "  <tbody>\n",
       "    <tr>\n",
       "      <th>0</th>\n",
       "      <td>0</td>\n",
       "      <td>0</td>\n",
       "      <td>209605000</td>\n",
       "      <td>AKILI</td>\n",
       "      <td>Bulk Carrier</td>\n",
       "      <td>0</td>\n",
       "      <td>108</td>\n",
       "      <td>46.09859</td>\n",
       "      <td>-129.6550</td>\n",
       "      <td>83</td>\n",
       "      <td>...</td>\n",
       "      <td>(45.9549, -130.0089)</td>\n",
       "      <td>45.9399</td>\n",
       "      <td>-129.9742</td>\n",
       "      <td>(45.9399, -129.9742)</td>\n",
       "      <td>32.25</td>\n",
       "      <td>31.72</td>\n",
       "      <td>30.37</td>\n",
       "      <td>193.760689</td>\n",
       "      <td>234.515164</td>\n",
       "      <td>239.809636</td>\n",
       "    </tr>\n",
       "    <tr>\n",
       "      <th>1</th>\n",
       "      <td>1</td>\n",
       "      <td>1</td>\n",
       "      <td>256832000</td>\n",
       "      <td>NaN</td>\n",
       "      <td>NaN</td>\n",
       "      <td>0</td>\n",
       "      <td>115</td>\n",
       "      <td>45.07486</td>\n",
       "      <td>-128.9430</td>\n",
       "      <td>178</td>\n",
       "      <td>...</td>\n",
       "      <td>(45.9549, -130.0089)</td>\n",
       "      <td>45.9399</td>\n",
       "      <td>-129.9742</td>\n",
       "      <td>(45.9399, -129.9742)</td>\n",
       "      <td>104.04</td>\n",
       "      <td>128.46</td>\n",
       "      <td>125.45</td>\n",
       "      <td>322.804182</td>\n",
       "      <td>320.490292</td>\n",
       "      <td>320.057435</td>\n",
       "    </tr>\n",
       "    <tr>\n",
       "      <th>2</th>\n",
       "      <td>2</td>\n",
       "      <td>2</td>\n",
       "      <td>352358000</td>\n",
       "      <td>ANNA G</td>\n",
       "      <td>Bulk Carrier</td>\n",
       "      <td>0</td>\n",
       "      <td>132</td>\n",
       "      <td>45.86138</td>\n",
       "      <td>-130.5627</td>\n",
       "      <td>86</td>\n",
       "      <td>...</td>\n",
       "      <td>(45.9549, -130.0089)</td>\n",
       "      <td>45.9399</td>\n",
       "      <td>-129.9742</td>\n",
       "      <td>(45.9399, -129.9742)</td>\n",
       "      <td>63.02</td>\n",
       "      <td>44.21</td>\n",
       "      <td>46.50</td>\n",
       "      <td>94.234035</td>\n",
       "      <td>78.935325</td>\n",
       "      <td>76.159593</td>\n",
       "    </tr>\n",
       "    <tr>\n",
       "      <th>3</th>\n",
       "      <td>3</td>\n",
       "      <td>3</td>\n",
       "      <td>356566000</td>\n",
       "      <td>GLOBAL SAIKAI</td>\n",
       "      <td>General Cargo</td>\n",
       "      <td>0</td>\n",
       "      <td>104</td>\n",
       "      <td>46.50261</td>\n",
       "      <td>-129.0129</td>\n",
       "      <td>272</td>\n",
       "      <td>...</td>\n",
       "      <td>(45.9549, -130.0089)</td>\n",
       "      <td>45.9399</td>\n",
       "      <td>-129.9742</td>\n",
       "      <td>(45.9399, -129.9742)</td>\n",
       "      <td>95.33</td>\n",
       "      <td>98.03</td>\n",
       "      <td>97.02</td>\n",
       "      <td>217.082385</td>\n",
       "      <td>230.114815</td>\n",
       "      <td>231.878577</td>\n",
       "    </tr>\n",
       "    <tr>\n",
       "      <th>4</th>\n",
       "      <td>4</td>\n",
       "      <td>4</td>\n",
       "      <td>477293500</td>\n",
       "      <td>JIN XIU FENG</td>\n",
       "      <td>Bulk Carrier</td>\n",
       "      <td>0</td>\n",
       "      <td>112</td>\n",
       "      <td>46.74633</td>\n",
       "      <td>-129.5912</td>\n",
       "      <td>299</td>\n",
       "      <td>...</td>\n",
       "      <td>(45.9549, -130.0089)</td>\n",
       "      <td>45.9399</td>\n",
       "      <td>-129.9742</td>\n",
       "      <td>(45.9399, -129.9742)</td>\n",
       "      <td>104.08</td>\n",
       "      <td>93.66</td>\n",
       "      <td>94.37</td>\n",
       "      <td>186.960616</td>\n",
       "      <td>198.291220</td>\n",
       "      <td>200.167826</td>\n",
       "    </tr>\n",
       "  </tbody>\n",
       "</table>\n",
       "<p>5 rows × 30 columns</p>\n",
       "</div>"
      ],
      "text/plain": [
       "   Unnamed: 0.1  Unnamed: 0       MMSI       SHIPNAME    VESSEL TYPE  STATUS  \\\n",
       "0             0           0  209605000          AKILI   Bulk Carrier       0   \n",
       "1             1           1  256832000            NaN            NaN       0   \n",
       "2             2           2  352358000         ANNA G   Bulk Carrier       0   \n",
       "3             3           3  356566000  GLOBAL SAIKAI  General Cargo       0   \n",
       "4             4           4  477293500   JIN XIU FENG   Bulk Carrier       0   \n",
       "\n",
       "   SPEED (KNOTSx10)       LAT       LON  COURSE  ...   central_caldera_Loc  \\\n",
       "0               108  46.09859 -129.6550      83  ...  (45.9549, -130.0089)   \n",
       "1               115  45.07486 -128.9430     178  ...  (45.9549, -130.0089)   \n",
       "2               132  45.86138 -130.5627      86  ...  (45.9549, -130.0089)   \n",
       "3               104  46.50261 -129.0129     272  ...  (45.9549, -130.0089)   \n",
       "4               112  46.74633 -129.5912     299  ...  (45.9549, -130.0089)   \n",
       "\n",
       "  eastern_caldera_Lat  eastern_caldera_Lon   eastern_caldera_Loc  \\\n",
       "0             45.9399            -129.9742  (45.9399, -129.9742)   \n",
       "1             45.9399            -129.9742  (45.9399, -129.9742)   \n",
       "2             45.9399            -129.9742  (45.9399, -129.9742)   \n",
       "3             45.9399            -129.9742  (45.9399, -129.9742)   \n",
       "4             45.9399            -129.9742  (45.9399, -129.9742)   \n",
       "\n",
       "   distance(in km) axial  distance(in km) central cald  \\\n",
       "0                  32.25                         31.72   \n",
       "1                 104.04                        128.46   \n",
       "2                  63.02                         44.21   \n",
       "3                  95.33                         98.03   \n",
       "4                 104.08                         93.66   \n",
       "\n",
       "  distance(in km) eastern cald bearing_axial  bearing_eastern_cald  \\\n",
       "0                        30.37    193.760689            234.515164   \n",
       "1                       125.45    322.804182            320.490292   \n",
       "2                        46.50     94.234035             78.935325   \n",
       "3                        97.02    217.082385            230.114815   \n",
       "4                        94.37    186.960616            198.291220   \n",
       "\n",
       "   bearing_central_cald  \n",
       "0            239.809636  \n",
       "1            320.057435  \n",
       "2             76.159593  \n",
       "3            231.878577  \n",
       "4            200.167826  \n",
       "\n",
       "[5 rows x 30 columns]"
      ]
     },
     "execution_count": 123,
     "metadata": {},
     "output_type": "execute_result"
    }
   ],
   "source": [
    "df=df[(df['TIMESTAMP UTC']<start_time) | (df['TIMESTAMP UTC'] > end_time)]\n",
    "df.head()"
   ]
  },
  {
   "cell_type": "code",
   "execution_count": 124,
   "metadata": {},
   "outputs": [],
   "source": [
    "min_duration=10\n",
    "path_to_write='E:/Acer backup 3/internships and jobs/UW/Reader grader and TA/Shima Abadi/Data/Benchmark_data/'"
   ]
  },
  {
   "cell_type": "code",
   "execution_count": 125,
   "metadata": {},
   "outputs": [
    {
     "data": {
      "text/plain": [
       "<module 'functions' from 'C:\\\\Users\\\\khirod\\\\Documents\\\\GitHub\\\\Ocean-data-analysis\\\\functions.py'>"
      ]
     },
     "execution_count": 125,
     "metadata": {},
     "output_type": "execute_result"
    }
   ],
   "source": [
    "reload(fn)"
   ]
  },
  {
   "cell_type": "code",
   "execution_count": 126,
   "metadata": {},
   "outputs": [],
   "source": [
    "def get_benchmark_data(df,hydrophone_idx,inner_rad,outer_rad,min_duration,fmin=10,fmax=90,break_dur=True,get_acoustic=True,get_spectrogram=True):\n",
    "    \n",
    "    if hydrophone_idx==1:\n",
    "        hydro='Axial_Base'\n",
    "    elif hydrophone_idx==2:\n",
    "        hydro='Central_Caldera'\n",
    "    elif hydrophone_idx==3:\n",
    "        hydro='Eastern_Caldera'\n",
    "    suffix=str(inner_rad)+'_'+ str(outer_rad)+'.csv'\n",
    "    ais=fn.choose_df(df,hydrophone_idx)\n",
    "    isolated_ships=fn.get_isolated_ships(ais,inner_rad,outer_rad,min_duration)\n",
    "    isolated_ships.to_csv(path_to_write+hydro+'/isolated_ships_' + suffix)\n",
    "    isolated_ais=fn.isolated_ais(ais,isolated_ships,inner_rad)\n",
    "    isolated_ais.to_csv(path_to_write+hydro+'/isolated_ais_'+ suffix)\n",
    "    if break_dur:\n",
    "        isolated_ais_10m=fn.break_duration(isolated_ships)\n",
    "        isolated_ais_10m.to_csv(path_to_write+hydro+'/isolated_ais_10m_'+ suffix)\n",
    "    \n",
    "    if get_acoustic==True:\n",
    "        print('Saving wav files')\n",
    "        for i in tqdm(range(len(isolated_ships))):\n",
    "            min_time=isolated_ships.start_time[i]\n",
    "            max_time=isolated_ships.end_time[i]\n",
    "            hydrophone_data=fn.get_acoustic(hydrophone_idx,min_time,max_time,fmin=fmin,fmax=fmax)\n",
    "            if hydrophone_data==None:\n",
    "                # print('data trace is none. Continuing to next')\n",
    "                pass\n",
    "            else:\n",
    "                hydrophone_data.wav_write(filename=path_to_write+hydro+'/Audio'+'/isolated_ships_'+str(inner_rad)+'_'+ str(outer_rad)+'_'+str(i)+'.wav')\n",
    "    if get_spectrogram==True:\n",
    "        print('Saving spectrograms')\n",
    "        for i in tqdm(range(len(isolated_ships))):\n",
    "            min_time=isolated_ships.start_time[i]\n",
    "            max_time=isolated_ships.end_time[i]\n",
    "            spectrogram=fn.get_spectrogram_data(hydrophone_idx,min_time,max_time,fmin=fmin,fmax=fmax)\n",
    "            if (spectrogram==None):\n",
    "                # print('data trace is none. Continuing to next')\n",
    "                pass\n",
    "            else:\n",
    "                if (spectrogram.values.shape[0]<2) | (spectrogram.values.shape[1]<2):\n",
    "                    pass\n",
    "                else:\n",
    "                    #spectrogram.visualize(save_spec=True,plot_spec=False,filename=path_to_write+hydro+'/Spectrogram'+'/isolated_ships_'+str(inner_rad)+'_'+ str(outer_rad)+'_'+str(i)+'.png')\n",
    "                    ooiplt.plot_spectrogram(spectrogram,plot=False,save=True,fmin=fmin,fmax=fmax,filename=path_to_write+hydro+'/Spectrogram'+'/isolated_ships_'+str(inner_rad)+'_'+ str(outer_rad)+'_'+str(i)+'.png')\n",
    "    return isolated_ships,isolated_ais"
   ]
  },
  {
   "cell_type": "code",
   "execution_count": 127,
   "metadata": {},
   "outputs": [
    {
     "data": {
      "text/plain": [
       "<module 'functions' from 'C:\\\\Users\\\\khirod\\\\Documents\\\\GitHub\\\\Ocean-data-analysis\\\\functions.py'>"
      ]
     },
     "execution_count": 127,
     "metadata": {},
     "output_type": "execute_result"
    }
   ],
   "source": [
    "reload(fn)"
   ]
  },
  {
   "cell_type": "markdown",
   "metadata": {},
   "source": [
    "## Creating benchmark data for Axial Base"
   ]
  },
  {
   "cell_type": "markdown",
   "metadata": {},
   "source": [
    "### Depth=2.6\n",
    "### Axial base= 'AXABA1'\n",
    "\n"
   ]
  },
  {
   "cell_type": "code",
   "execution_count": 158,
   "metadata": {},
   "outputs": [],
   "source": [
    "inner_rad= 5\n",
    "outer_rad1=10\n",
    "outer_rad2=20"
   ]
  },
  {
   "cell_type": "code",
   "execution_count": 159,
   "metadata": {
    "scrolled": true
   },
   "outputs": [
    {
     "name": "stdout",
     "output_type": "stream",
     "text": [
      " Max distance: 166.51 and Min distance: 0.01\n"
     ]
    },
    {
     "name": "stderr",
     "output_type": "stream",
     "text": [
      "100%|████████████████████████████████████████████████████████████████████████████████| 109/109 [00:04<00:00, 27.21it/s]\n"
     ]
    }
   ],
   "source": [
    "\n",
    "d1,d2=get_benchmark_data(df,1,inner_rad,outer_rad1,min_duration,break_dur=False,get_acoustic=False,get_spectrogram=False)\n"
   ]
  },
  {
   "cell_type": "code",
   "execution_count": 130,
   "metadata": {},
   "outputs": [
    {
     "name": "stdout",
     "output_type": "stream",
     "text": [
      "Research/Survey Vessel    47\n",
      "Bulk Carrier              27\n",
      "Vehicles Carrier           6\n",
      "Special Vessel             4\n",
      "General Cargo              4\n",
      "Tug                        4\n",
      "Oil Products Tanker        3\n",
      "Passenger                  2\n",
      "Oil/Chemical Tanker        2\n",
      "Passenger Ship             2\n",
      "Cargo/Containership        1\n",
      "Towing Vessel              1\n",
      "Crude Oil Tanker           1\n",
      "Fishing Vessel             1\n",
      "Wood Chips Carrier         1\n",
      "Cargo                      1\n",
      "LPG Tanker                 1\n",
      "Yacht                      1\n",
      "Name: VESSEL TYPE, dtype: int64 \n",
      " 34860.48333333334\n"
     ]
    }
   ],
   "source": [
    "print(d1['VESSEL TYPE'].value_counts(),'\\n',d1['len_of_recording'].sum())"
   ]
  },
  {
   "cell_type": "code",
   "execution_count": 160,
   "metadata": {
    "scrolled": true
   },
   "outputs": [
    {
     "name": "stdout",
     "output_type": "stream",
     "text": [
      " Max distance: 166.51 and Min distance: 0.01\n"
     ]
    },
    {
     "name": "stderr",
     "output_type": "stream",
     "text": [
      "100%|████████████████████████████████████████████████████████████████████████████████| 132/132 [00:07<00:00, 18.14it/s]\n"
     ]
    }
   ],
   "source": [
    "\n",
    "d1,d2=get_benchmark_data(df,1,inner_rad,outer_rad2,min_duration,break_dur=False,get_acoustic=False,get_spectrogram=False)"
   ]
  },
  {
   "cell_type": "code",
   "execution_count": 139,
   "metadata": {},
   "outputs": [
    {
     "name": "stdout",
     "output_type": "stream",
     "text": [
      "Research/Survey Vessel    51\n",
      "Bulk Carrier               5\n",
      "Special Vessel             4\n",
      "Fishing Vessel             1\n",
      "LPG Tanker                 1\n",
      "Name: VESSEL TYPE, dtype: int64 \n",
      " 31342.416666666668\n"
     ]
    }
   ],
   "source": [
    "print(d1['VESSEL TYPE'].value_counts(),'\\n',d1['len_of_recording'].sum())"
   ]
  },
  {
   "cell_type": "code",
   "execution_count": 133,
   "metadata": {},
   "outputs": [],
   "source": [
    "# d1,d2=get_benchmark_data(df,1,5,30,min_duration,get_acoustic=False)"
   ]
  },
  {
   "cell_type": "markdown",
   "metadata": {},
   "source": [
    "## Creating benchmark data for Central Caldera"
   ]
  },
  {
   "cell_type": "markdown",
   "metadata": {},
   "source": [
    "### Depth=1.5\n",
    "### Central Caldera= 'AXCC1'\n",
    "\n"
   ]
  },
  {
   "cell_type": "code",
   "execution_count": 140,
   "metadata": {},
   "outputs": [],
   "source": [
    "inner_rad= 3\n",
    "outer_rad1=6\n",
    "outer_rad2=12\n"
   ]
  },
  {
   "cell_type": "code",
   "execution_count": 141,
   "metadata": {},
   "outputs": [
    {
     "name": "stdout",
     "output_type": "stream",
     "text": [
      " Max distance: 168.72 and Min distance: 0.02\n"
     ]
    },
    {
     "name": "stderr",
     "output_type": "stream",
     "text": [
      "100%|████████████████████████████████████████████████████████████████████████████████| 105/105 [00:02<00:00, 40.09it/s]\n"
     ]
    }
   ],
   "source": [
    "d1,d2=get_benchmark_data(df,2,inner_rad,outer_rad1,min_duration,break_dur=False,get_acoustic=False,get_spectrogram=False)"
   ]
  },
  {
   "cell_type": "code",
   "execution_count": 142,
   "metadata": {},
   "outputs": [
    {
     "name": "stdout",
     "output_type": "stream",
     "text": [
      "Research/Survey Vessel    67\n",
      "Offshore Supply Ship      19\n",
      "Bulk Carrier              10\n",
      "Tug                        4\n",
      "Special Vessel             3\n",
      "Oil/Chemical Tanker        1\n",
      "Tanker                     1\n",
      "Name: VESSEL TYPE, dtype: int64 \n",
      " 36766.350000000006\n"
     ]
    }
   ],
   "source": [
    "print(d1['VESSEL TYPE'].value_counts(),'\\n',d1['len_of_recording'].sum())"
   ]
  },
  {
   "cell_type": "code",
   "execution_count": 143,
   "metadata": {},
   "outputs": [
    {
     "name": "stdout",
     "output_type": "stream",
     "text": [
      " Max distance: 168.72 and Min distance: 0.02\n"
     ]
    },
    {
     "name": "stderr",
     "output_type": "stream",
     "text": [
      "100%|████████████████████████████████████████████████████████████████████████████████| 111/111 [00:02<00:00, 42.45it/s]\n"
     ]
    }
   ],
   "source": [
    "d1,d2=get_benchmark_data(df,2,inner_rad,outer_rad2,min_duration,break_dur=False,get_acoustic=False,get_spectrogram=False)"
   ]
  },
  {
   "cell_type": "code",
   "execution_count": 144,
   "metadata": {},
   "outputs": [
    {
     "name": "stdout",
     "output_type": "stream",
     "text": [
      "Research/Survey Vessel    73\n",
      "Offshore Supply Ship      19\n",
      "Bulk Carrier              10\n",
      "Tug                        4\n",
      "Special Vessel             3\n",
      "Oil/Chemical Tanker        1\n",
      "Tanker                     1\n",
      "Name: VESSEL TYPE, dtype: int64 \n",
      " 36359.26666666666\n"
     ]
    }
   ],
   "source": [
    "print(d1['VESSEL TYPE'].value_counts(),'\\n',d1['len_of_recording'].sum())"
   ]
  },
  {
   "cell_type": "markdown",
   "metadata": {},
   "source": [
    "### In this particular example hydrophone is not properly collecting data for a particular duration"
   ]
  },
  {
   "cell_type": "code",
   "execution_count": 145,
   "metadata": {},
   "outputs": [],
   "source": [
    "from datetime import datetime\n",
    "min_time=datetime(2020,12,31,23,10,0)\n",
    "max_time=datetime(2020,12,31,23,20,0)\n",
    "x=df[(df['TIMESTAMP UTC']>=min_time) & (df['TIMESTAMP UTC']<=max_time)]"
   ]
  },
  {
   "cell_type": "code",
   "execution_count": 146,
   "metadata": {},
   "outputs": [
    {
     "data": {
      "text/html": [
       "<div>\n",
       "<style scoped>\n",
       "    .dataframe tbody tr th:only-of-type {\n",
       "        vertical-align: middle;\n",
       "    }\n",
       "\n",
       "    .dataframe tbody tr th {\n",
       "        vertical-align: top;\n",
       "    }\n",
       "\n",
       "    .dataframe thead th {\n",
       "        text-align: right;\n",
       "    }\n",
       "</style>\n",
       "<table border=\"1\" class=\"dataframe\">\n",
       "  <thead>\n",
       "    <tr style=\"text-align: right;\">\n",
       "      <th></th>\n",
       "      <th>Unnamed: 0.1</th>\n",
       "      <th>Unnamed: 0</th>\n",
       "      <th>MMSI</th>\n",
       "      <th>SHIPNAME</th>\n",
       "      <th>VESSEL TYPE</th>\n",
       "      <th>STATUS</th>\n",
       "      <th>SPEED (KNOTSx10)</th>\n",
       "      <th>LAT</th>\n",
       "      <th>LON</th>\n",
       "      <th>COURSE</th>\n",
       "      <th>...</th>\n",
       "      <th>central_caldera_Loc</th>\n",
       "      <th>eastern_caldera_Lat</th>\n",
       "      <th>eastern_caldera_Lon</th>\n",
       "      <th>eastern_caldera_Loc</th>\n",
       "      <th>distance(in km) axial</th>\n",
       "      <th>distance(in km) central cald</th>\n",
       "      <th>distance(in km) eastern cald</th>\n",
       "      <th>bearing_axial</th>\n",
       "      <th>bearing_eastern_cald</th>\n",
       "      <th>bearing_central_cald</th>\n",
       "    </tr>\n",
       "  </thead>\n",
       "  <tbody>\n",
       "    <tr>\n",
       "      <th>2003781</th>\n",
       "      <td>2003781</td>\n",
       "      <td>253382</td>\n",
       "      <td>351733000</td>\n",
       "      <td>CHESAPEAKE HIGHWAY</td>\n",
       "      <td>Vehicles Carrier</td>\n",
       "      <td>0</td>\n",
       "      <td>154</td>\n",
       "      <td>45.25223</td>\n",
       "      <td>-129.6331</td>\n",
       "      <td>28</td>\n",
       "      <td>...</td>\n",
       "      <td>(45.9549, -130.0089)</td>\n",
       "      <td>45.9399</td>\n",
       "      <td>-129.9742</td>\n",
       "      <td>(45.9399, -129.9742)</td>\n",
       "      <td>63.45</td>\n",
       "      <td>83.42</td>\n",
       "      <td>80.93</td>\n",
       "      <td>351.512094</td>\n",
       "      <td>340.981166</td>\n",
       "      <td>339.619824</td>\n",
       "    </tr>\n",
       "    <tr>\n",
       "      <th>2003782</th>\n",
       "      <td>2003782</td>\n",
       "      <td>253383</td>\n",
       "      <td>538002570</td>\n",
       "      <td>GENCO AUVERGNE</td>\n",
       "      <td>Bulk Carrier</td>\n",
       "      <td>0</td>\n",
       "      <td>72</td>\n",
       "      <td>46.83477</td>\n",
       "      <td>-129.1328</td>\n",
       "      <td>275</td>\n",
       "      <td>...</td>\n",
       "      <td>(45.9549, -130.0089)</td>\n",
       "      <td>45.9399</td>\n",
       "      <td>-129.9742</td>\n",
       "      <td>(45.9399, -129.9742)</td>\n",
       "      <td>122.85</td>\n",
       "      <td>118.77</td>\n",
       "      <td>118.67</td>\n",
       "      <td>203.075757</td>\n",
       "      <td>213.271337</td>\n",
       "      <td>214.796535</td>\n",
       "    </tr>\n",
       "    <tr>\n",
       "      <th>2003783</th>\n",
       "      <td>2003783</td>\n",
       "      <td>253384</td>\n",
       "      <td>477902900</td>\n",
       "      <td>GALAXY</td>\n",
       "      <td>Bulk Carrier</td>\n",
       "      <td>0</td>\n",
       "      <td>90</td>\n",
       "      <td>46.58752</td>\n",
       "      <td>-128.9267</td>\n",
       "      <td>232</td>\n",
       "      <td>...</td>\n",
       "      <td>(45.9549, -130.0089)</td>\n",
       "      <td>45.9399</td>\n",
       "      <td>-129.9742</td>\n",
       "      <td>(45.9399, -129.9742)</td>\n",
       "      <td>106.85</td>\n",
       "      <td>109.10</td>\n",
       "      <td>108.18</td>\n",
       "      <td>216.908858</td>\n",
       "      <td>228.573692</td>\n",
       "      <td>230.171670</td>\n",
       "    </tr>\n",
       "    <tr>\n",
       "      <th>2003784</th>\n",
       "      <td>2003784</td>\n",
       "      <td>253385</td>\n",
       "      <td>351733000</td>\n",
       "      <td>CHESAPEAKE HIGHWAY</td>\n",
       "      <td>Vehicles Carrier</td>\n",
       "      <td>0</td>\n",
       "      <td>157</td>\n",
       "      <td>45.26022</td>\n",
       "      <td>-129.6265</td>\n",
       "      <td>30</td>\n",
       "      <td>...</td>\n",
       "      <td>(45.9549, -130.0089)</td>\n",
       "      <td>45.9399</td>\n",
       "      <td>-129.9742</td>\n",
       "      <td>(45.9399, -129.9742)</td>\n",
       "      <td>62.66</td>\n",
       "      <td>82.77</td>\n",
       "      <td>80.26</td>\n",
       "      <td>350.929893</td>\n",
       "      <td>340.430626</td>\n",
       "      <td>339.075178</td>\n",
       "    </tr>\n",
       "    <tr>\n",
       "      <th>2003785</th>\n",
       "      <td>2003785</td>\n",
       "      <td>253386</td>\n",
       "      <td>538002570</td>\n",
       "      <td>GENCO AUVERGNE</td>\n",
       "      <td>Bulk Carrier</td>\n",
       "      <td>0</td>\n",
       "      <td>72</td>\n",
       "      <td>46.83505</td>\n",
       "      <td>-129.1391</td>\n",
       "      <td>276</td>\n",
       "      <td>...</td>\n",
       "      <td>(45.9549, -130.0089)</td>\n",
       "      <td>45.9399</td>\n",
       "      <td>-129.9742</td>\n",
       "      <td>(45.9399, -129.9742)</td>\n",
       "      <td>122.69</td>\n",
       "      <td>118.52</td>\n",
       "      <td>118.44</td>\n",
       "      <td>202.859564</td>\n",
       "      <td>213.064536</td>\n",
       "      <td>214.592982</td>\n",
       "    </tr>\n",
       "    <tr>\n",
       "      <th>2003786</th>\n",
       "      <td>2003786</td>\n",
       "      <td>253387</td>\n",
       "      <td>538002570</td>\n",
       "      <td>GENCO AUVERGNE</td>\n",
       "      <td>Bulk Carrier</td>\n",
       "      <td>0</td>\n",
       "      <td>67</td>\n",
       "      <td>46.83548</td>\n",
       "      <td>-129.1460</td>\n",
       "      <td>272</td>\n",
       "      <td>...</td>\n",
       "      <td>(45.9549, -130.0089)</td>\n",
       "      <td>45.9399</td>\n",
       "      <td>-129.9742</td>\n",
       "      <td>(45.9399, -129.9742)</td>\n",
       "      <td>122.53</td>\n",
       "      <td>118.26</td>\n",
       "      <td>118.19</td>\n",
       "      <td>202.619685</td>\n",
       "      <td>212.833498</td>\n",
       "      <td>214.365327</td>\n",
       "    </tr>\n",
       "    <tr>\n",
       "      <th>2003787</th>\n",
       "      <td>2003787</td>\n",
       "      <td>253388</td>\n",
       "      <td>351733000</td>\n",
       "      <td>CHESAPEAKE HIGHWAY</td>\n",
       "      <td>Vehicles Carrier</td>\n",
       "      <td>0</td>\n",
       "      <td>156</td>\n",
       "      <td>45.27167</td>\n",
       "      <td>-129.6167</td>\n",
       "      <td>31</td>\n",
       "      <td>...</td>\n",
       "      <td>(45.9549, -130.0089)</td>\n",
       "      <td>45.9399</td>\n",
       "      <td>-129.9742</td>\n",
       "      <td>(45.9399, -129.9742)</td>\n",
       "      <td>61.53</td>\n",
       "      <td>81.87</td>\n",
       "      <td>79.33</td>\n",
       "      <td>350.045079</td>\n",
       "      <td>339.607785</td>\n",
       "      <td>338.262600</td>\n",
       "    </tr>\n",
       "    <tr>\n",
       "      <th>2003788</th>\n",
       "      <td>2003788</td>\n",
       "      <td>253389</td>\n",
       "      <td>477902900</td>\n",
       "      <td>GALAXY</td>\n",
       "      <td>Bulk Carrier</td>\n",
       "      <td>0</td>\n",
       "      <td>90</td>\n",
       "      <td>46.58187</td>\n",
       "      <td>-128.9372</td>\n",
       "      <td>238</td>\n",
       "      <td>...</td>\n",
       "      <td>(45.9549, -130.0089)</td>\n",
       "      <td>45.9399</td>\n",
       "      <td>-129.9742</td>\n",
       "      <td>(45.9399, -129.9742)</td>\n",
       "      <td>105.86</td>\n",
       "      <td>108.08</td>\n",
       "      <td>107.16</td>\n",
       "      <td>216.758032</td>\n",
       "      <td>228.533977</td>\n",
       "      <td>230.147298</td>\n",
       "    </tr>\n",
       "    <tr>\n",
       "      <th>2003789</th>\n",
       "      <td>2003789</td>\n",
       "      <td>253390</td>\n",
       "      <td>351733000</td>\n",
       "      <td>CHESAPEAKE HIGHWAY</td>\n",
       "      <td>Vehicles Carrier</td>\n",
       "      <td>0</td>\n",
       "      <td>155</td>\n",
       "      <td>45.28058</td>\n",
       "      <td>-129.6090</td>\n",
       "      <td>32</td>\n",
       "      <td>...</td>\n",
       "      <td>(45.9549, -130.0089)</td>\n",
       "      <td>45.9399</td>\n",
       "      <td>-129.9742</td>\n",
       "      <td>(45.9399, -129.9742)</td>\n",
       "      <td>60.66</td>\n",
       "      <td>81.18</td>\n",
       "      <td>78.62</td>\n",
       "      <td>349.328593</td>\n",
       "      <td>338.950182</td>\n",
       "      <td>337.614107</td>\n",
       "    </tr>\n",
       "    <tr>\n",
       "      <th>2003790</th>\n",
       "      <td>2003790</td>\n",
       "      <td>253391</td>\n",
       "      <td>538002570</td>\n",
       "      <td>GENCO AUVERGNE</td>\n",
       "      <td>Bulk Carrier</td>\n",
       "      <td>0</td>\n",
       "      <td>70</td>\n",
       "      <td>46.83576</td>\n",
       "      <td>-129.1541</td>\n",
       "      <td>272</td>\n",
       "      <td>...</td>\n",
       "      <td>(45.9549, -130.0089)</td>\n",
       "      <td>45.9399</td>\n",
       "      <td>-129.9742</td>\n",
       "      <td>(45.9399, -129.9742)</td>\n",
       "      <td>122.32</td>\n",
       "      <td>117.94</td>\n",
       "      <td>117.88</td>\n",
       "      <td>202.341759</td>\n",
       "      <td>212.567615</td>\n",
       "      <td>214.103642</td>\n",
       "    </tr>\n",
       "    <tr>\n",
       "      <th>2003791</th>\n",
       "      <td>2003791</td>\n",
       "      <td>253392</td>\n",
       "      <td>477902900</td>\n",
       "      <td>GALAXY</td>\n",
       "      <td>Bulk Carrier</td>\n",
       "      <td>0</td>\n",
       "      <td>90</td>\n",
       "      <td>46.57703</td>\n",
       "      <td>-128.9465</td>\n",
       "      <td>237</td>\n",
       "      <td>...</td>\n",
       "      <td>(45.9549, -130.0089)</td>\n",
       "      <td>45.9399</td>\n",
       "      <td>-129.9742</td>\n",
       "      <td>(45.9399, -129.9742)</td>\n",
       "      <td>105.00</td>\n",
       "      <td>107.19</td>\n",
       "      <td>106.27</td>\n",
       "      <td>216.616161</td>\n",
       "      <td>228.490815</td>\n",
       "      <td>230.117857</td>\n",
       "    </tr>\n",
       "  </tbody>\n",
       "</table>\n",
       "<p>11 rows × 30 columns</p>\n",
       "</div>"
      ],
      "text/plain": [
       "         Unnamed: 0.1  Unnamed: 0       MMSI            SHIPNAME  \\\n",
       "2003781       2003781      253382  351733000  CHESAPEAKE HIGHWAY   \n",
       "2003782       2003782      253383  538002570      GENCO AUVERGNE   \n",
       "2003783       2003783      253384  477902900              GALAXY   \n",
       "2003784       2003784      253385  351733000  CHESAPEAKE HIGHWAY   \n",
       "2003785       2003785      253386  538002570      GENCO AUVERGNE   \n",
       "2003786       2003786      253387  538002570      GENCO AUVERGNE   \n",
       "2003787       2003787      253388  351733000  CHESAPEAKE HIGHWAY   \n",
       "2003788       2003788      253389  477902900              GALAXY   \n",
       "2003789       2003789      253390  351733000  CHESAPEAKE HIGHWAY   \n",
       "2003790       2003790      253391  538002570      GENCO AUVERGNE   \n",
       "2003791       2003791      253392  477902900              GALAXY   \n",
       "\n",
       "              VESSEL TYPE  STATUS  SPEED (KNOTSx10)       LAT       LON  \\\n",
       "2003781  Vehicles Carrier       0               154  45.25223 -129.6331   \n",
       "2003782      Bulk Carrier       0                72  46.83477 -129.1328   \n",
       "2003783      Bulk Carrier       0                90  46.58752 -128.9267   \n",
       "2003784  Vehicles Carrier       0               157  45.26022 -129.6265   \n",
       "2003785      Bulk Carrier       0                72  46.83505 -129.1391   \n",
       "2003786      Bulk Carrier       0                67  46.83548 -129.1460   \n",
       "2003787  Vehicles Carrier       0               156  45.27167 -129.6167   \n",
       "2003788      Bulk Carrier       0                90  46.58187 -128.9372   \n",
       "2003789  Vehicles Carrier       0               155  45.28058 -129.6090   \n",
       "2003790      Bulk Carrier       0                70  46.83576 -129.1541   \n",
       "2003791      Bulk Carrier       0                90  46.57703 -128.9465   \n",
       "\n",
       "         COURSE  ...   central_caldera_Loc eastern_caldera_Lat  \\\n",
       "2003781      28  ...  (45.9549, -130.0089)             45.9399   \n",
       "2003782     275  ...  (45.9549, -130.0089)             45.9399   \n",
       "2003783     232  ...  (45.9549, -130.0089)             45.9399   \n",
       "2003784      30  ...  (45.9549, -130.0089)             45.9399   \n",
       "2003785     276  ...  (45.9549, -130.0089)             45.9399   \n",
       "2003786     272  ...  (45.9549, -130.0089)             45.9399   \n",
       "2003787      31  ...  (45.9549, -130.0089)             45.9399   \n",
       "2003788     238  ...  (45.9549, -130.0089)             45.9399   \n",
       "2003789      32  ...  (45.9549, -130.0089)             45.9399   \n",
       "2003790     272  ...  (45.9549, -130.0089)             45.9399   \n",
       "2003791     237  ...  (45.9549, -130.0089)             45.9399   \n",
       "\n",
       "         eastern_caldera_Lon   eastern_caldera_Loc  distance(in km) axial  \\\n",
       "2003781            -129.9742  (45.9399, -129.9742)                  63.45   \n",
       "2003782            -129.9742  (45.9399, -129.9742)                 122.85   \n",
       "2003783            -129.9742  (45.9399, -129.9742)                 106.85   \n",
       "2003784            -129.9742  (45.9399, -129.9742)                  62.66   \n",
       "2003785            -129.9742  (45.9399, -129.9742)                 122.69   \n",
       "2003786            -129.9742  (45.9399, -129.9742)                 122.53   \n",
       "2003787            -129.9742  (45.9399, -129.9742)                  61.53   \n",
       "2003788            -129.9742  (45.9399, -129.9742)                 105.86   \n",
       "2003789            -129.9742  (45.9399, -129.9742)                  60.66   \n",
       "2003790            -129.9742  (45.9399, -129.9742)                 122.32   \n",
       "2003791            -129.9742  (45.9399, -129.9742)                 105.00   \n",
       "\n",
       "         distance(in km) central cald distance(in km) eastern cald  \\\n",
       "2003781                         83.42                        80.93   \n",
       "2003782                        118.77                       118.67   \n",
       "2003783                        109.10                       108.18   \n",
       "2003784                         82.77                        80.26   \n",
       "2003785                        118.52                       118.44   \n",
       "2003786                        118.26                       118.19   \n",
       "2003787                         81.87                        79.33   \n",
       "2003788                        108.08                       107.16   \n",
       "2003789                         81.18                        78.62   \n",
       "2003790                        117.94                       117.88   \n",
       "2003791                        107.19                       106.27   \n",
       "\n",
       "        bearing_axial  bearing_eastern_cald  bearing_central_cald  \n",
       "2003781    351.512094            340.981166            339.619824  \n",
       "2003782    203.075757            213.271337            214.796535  \n",
       "2003783    216.908858            228.573692            230.171670  \n",
       "2003784    350.929893            340.430626            339.075178  \n",
       "2003785    202.859564            213.064536            214.592982  \n",
       "2003786    202.619685            212.833498            214.365327  \n",
       "2003787    350.045079            339.607785            338.262600  \n",
       "2003788    216.758032            228.533977            230.147298  \n",
       "2003789    349.328593            338.950182            337.614107  \n",
       "2003790    202.341759            212.567615            214.103642  \n",
       "2003791    216.616161            228.490815            230.117857  \n",
       "\n",
       "[11 rows x 30 columns]"
      ]
     },
     "execution_count": 146,
     "metadata": {},
     "output_type": "execute_result"
    }
   ],
   "source": [
    "x"
   ]
  },
  {
   "cell_type": "code",
   "execution_count": 147,
   "metadata": {},
   "outputs": [
    {
     "name": "stdout",
     "output_type": "stream",
     "text": [
      "Downloading mseed file...\n",
      "OO.AXBA1.AXBA1.HDH | 2020-12-31T23:10:00.000000Z - 2020-12-31T23:20:00.000000Z | 200.0 Hz, 120001 samples\n"
     ]
    }
   ],
   "source": [
    "reload(fn)\n",
    "\n",
    "spectrogram=fn.get_spectrogram_data(1,min_time,max_time,fmin=10,fmax=90)"
   ]
  },
  {
   "cell_type": "code",
   "execution_count": 148,
   "metadata": {},
   "outputs": [
    {
     "data": {
      "text/plain": [
       "60"
      ]
     },
     "execution_count": 148,
     "metadata": {},
     "output_type": "execute_result"
    }
   ],
   "source": [
    "spectrogram.values.shape[0]"
   ]
  },
  {
   "cell_type": "code",
   "execution_count": 66,
   "metadata": {},
   "outputs": [],
   "source": [
    "if (spectrogram.values.shape[0]<2) | (spectrogram.values.shape[1]<2):\n",
    "    pass\n",
    "else:\n",
    "    ooiplt.plot_spectrogram(spectrogram,plot=False,save=True,fmin=10,fmax=90,filename='test.png')"
   ]
  },
  {
   "cell_type": "markdown",
   "metadata": {},
   "source": [
    "## Creating benchmark data for Eastern Caldera"
   ]
  },
  {
   "cell_type": "markdown",
   "metadata": {},
   "source": [
    "### Depth=1.5\n",
    "### Eastern Caldera= 'AXEC2'\n"
   ]
  },
  {
   "cell_type": "code",
   "execution_count": 25,
   "metadata": {},
   "outputs": [],
   "source": [
    "inner_rad= 3\n",
    "outer_rad1=6\n",
    "outer_rad2=12"
   ]
  },
  {
   "cell_type": "code",
   "execution_count": 149,
   "metadata": {},
   "outputs": [
    {
     "name": "stdout",
     "output_type": "stream",
     "text": [
      " Max distance: 165.62 and Min distance: 0.01\n"
     ]
    },
    {
     "name": "stderr",
     "output_type": "stream",
     "text": [
      "100%|████████████████████████████████████████████████████████████████████████████████| 140/140 [00:03<00:00, 39.97it/s]\n"
     ]
    }
   ],
   "source": [
    "d1,d2=get_benchmark_data(df,3,inner_rad,outer_rad1,min_duration,break_dur=False,get_acoustic=False,get_spectrogram=False)"
   ]
  },
  {
   "cell_type": "code",
   "execution_count": 150,
   "metadata": {},
   "outputs": [
    {
     "name": "stdout",
     "output_type": "stream",
     "text": [
      "Research/Survey Vessel    86\n",
      "Offshore Supply Ship      23\n",
      "Bulk Carrier              14\n",
      "Tug                        7\n",
      "Special Vessel             4\n",
      "Fishing Vessel             2\n",
      "Oil/Chemical Tanker        1\n",
      "Oil Products Tanker        1\n",
      "Chemical Tanker            1\n",
      "Crude Oil Tanker           1\n",
      "Name: VESSEL TYPE, dtype: int64 \n",
      " 44975.23333333333\n"
     ]
    }
   ],
   "source": [
    "print(d1['VESSEL TYPE'].value_counts(),'\\n',d1['len_of_recording'].sum())"
   ]
  },
  {
   "cell_type": "code",
   "execution_count": 151,
   "metadata": {},
   "outputs": [
    {
     "name": "stdout",
     "output_type": "stream",
     "text": [
      " Max distance: 165.62 and Min distance: 0.01\n"
     ]
    },
    {
     "name": "stderr",
     "output_type": "stream",
     "text": [
      "100%|████████████████████████████████████████████████████████████████████████████████| 149/149 [00:03<00:00, 43.53it/s]\n"
     ]
    }
   ],
   "source": [
    "d1,d2=get_benchmark_data(df,3,inner_rad,outer_rad2,min_duration,break_dur=False,get_acoustic=False,get_spectrogram=False)"
   ]
  },
  {
   "cell_type": "code",
   "execution_count": 153,
   "metadata": {},
   "outputs": [
    {
     "name": "stdout",
     "output_type": "stream",
     "text": [
      "Research/Survey Vessel    95\n",
      "Offshore Supply Ship      23\n",
      "Bulk Carrier              14\n",
      "Tug                        7\n",
      "Special Vessel             4\n",
      "Fishing Vessel             2\n",
      "Oil/Chemical Tanker        1\n",
      "Oil Products Tanker        1\n",
      "Chemical Tanker            1\n",
      "Crude Oil Tanker           1\n",
      "Name: VESSEL TYPE, dtype: int64 \n",
      " 44026.01666666666\n"
     ]
    }
   ],
   "source": [
    "print(d1['VESSEL TYPE'].value_counts(),'\\n',d1['len_of_recording'].sum())"
   ]
  },
  {
   "cell_type": "markdown",
   "metadata": {},
   "source": [
    "## Comparison of various options"
   ]
  },
  {
   "cell_type": "code",
   "execution_count": 154,
   "metadata": {},
   "outputs": [],
   "source": [
    "reload(fn)\n",
    "\n",
    "def compare_hydrophone_records_axial(df,hydro_idx,inner_rad,outer_rad,min_duration,break_dur=True):\n",
    "    print(colored('Comparative view with minimum duration: '+ str(min_duration),'green',attrs=['bold']))\n",
    "    table=pd.DataFrame(columns=['hydrophone_idx','inner_rad','outer_rad','no_unique_ships','no_unique_vessels','no_instances'])\n",
    "    for i_r in inner_rad:\n",
    "        for o_r in outer_rad:\n",
    "            print(o_r)\n",
    "            if i_r<=o_r:\n",
    "                temp_dict=dict()\n",
    "                ais=fn.choose_df(df,hydro_idx,verbose=False)\n",
    "                temp_df1=fn.get_isolated_ships(ais,i_r,o_r,min_duration)\n",
    "                if break_dur:\n",
    "                    temp_df2=fn.break_duration(temp_df1)\n",
    "                    temp_dict['no_10m_durations']=len(temp_df2)\n",
    "#                 print(len(temp_df1))\n",
    "                temp_dict['hydrophone_idx']=hydro_idx\n",
    "                temp_dict['inner_rad']=i_r\n",
    "                temp_dict['outer_rad']=o_r\n",
    "                temp_dict['no_unique_ships']=temp_df1['MMSI'].nunique()\n",
    "                temp_dict['no_unique_vessels']=temp_df1['VESSEL TYPE'].nunique()\n",
    "                temp_dict['no_instances']=len(temp_df1)\n",
    "                temp_dict['len_of_recordings']=temp_df1.len_of_recording.sum()\n",
    "                \n",
    "                table=table.append(temp_dict,ignore_index=True)\n",
    "    return table\n",
    "\n",
    "\n"
   ]
  },
  {
   "cell_type": "code",
   "execution_count": 155,
   "metadata": {},
   "outputs": [
    {
     "name": "stdout",
     "output_type": "stream",
     "text": [
      "\u001b[1m\u001b[32mComparative view with minimum duration: 10\u001b[0m\n",
      "10\n",
      "20\n"
     ]
    },
    {
     "data": {
      "text/html": [
       "<div>\n",
       "<style scoped>\n",
       "    .dataframe tbody tr th:only-of-type {\n",
       "        vertical-align: middle;\n",
       "    }\n",
       "\n",
       "    .dataframe tbody tr th {\n",
       "        vertical-align: top;\n",
       "    }\n",
       "\n",
       "    .dataframe thead th {\n",
       "        text-align: right;\n",
       "    }\n",
       "</style>\n",
       "<table border=\"1\" class=\"dataframe\">\n",
       "  <thead>\n",
       "    <tr style=\"text-align: right;\">\n",
       "      <th></th>\n",
       "      <th>hydrophone_idx</th>\n",
       "      <th>inner_rad</th>\n",
       "      <th>outer_rad</th>\n",
       "      <th>no_unique_ships</th>\n",
       "      <th>no_unique_vessels</th>\n",
       "      <th>no_instances</th>\n",
       "      <th>no_10m_durations</th>\n",
       "      <th>len_of_recordings</th>\n",
       "    </tr>\n",
       "  </thead>\n",
       "  <tbody>\n",
       "    <tr>\n",
       "      <th>0</th>\n",
       "      <td>1.0</td>\n",
       "      <td>5.0</td>\n",
       "      <td>10.0</td>\n",
       "      <td>60.0</td>\n",
       "      <td>18.0</td>\n",
       "      <td>109.0</td>\n",
       "      <td>3543.0</td>\n",
       "      <td>34860.483333</td>\n",
       "    </tr>\n",
       "    <tr>\n",
       "      <th>1</th>\n",
       "      <td>1.0</td>\n",
       "      <td>5.0</td>\n",
       "      <td>20.0</td>\n",
       "      <td>53.0</td>\n",
       "      <td>17.0</td>\n",
       "      <td>132.0</td>\n",
       "      <td>3206.0</td>\n",
       "      <td>31362.316667</td>\n",
       "    </tr>\n",
       "  </tbody>\n",
       "</table>\n",
       "</div>"
      ],
      "text/plain": [
       "   hydrophone_idx  inner_rad  outer_rad  no_unique_ships  no_unique_vessels  \\\n",
       "0             1.0        5.0       10.0             60.0               18.0   \n",
       "1             1.0        5.0       20.0             53.0               17.0   \n",
       "\n",
       "   no_instances  no_10m_durations  len_of_recordings  \n",
       "0         109.0            3543.0       34860.483333  \n",
       "1         132.0            3206.0       31362.316667  "
      ]
     },
     "execution_count": 155,
     "metadata": {},
     "output_type": "execute_result"
    }
   ],
   "source": [
    "inner_rad=[5]\n",
    "outer_rad=[10,20]\n",
    "min_duration=10\n",
    "hydro_idx=1\n",
    "table=compare_hydrophone_records_axial(df,hydro_idx,inner_rad,outer_rad,min_duration,break_dur=True)\n",
    "table"
   ]
  },
  {
   "cell_type": "code",
   "execution_count": 156,
   "metadata": {},
   "outputs": [
    {
     "name": "stdout",
     "output_type": "stream",
     "text": [
      "\u001b[1m\u001b[32mComparative view with minimum duration: 10\u001b[0m\n",
      "6\n",
      "12\n"
     ]
    },
    {
     "data": {
      "text/html": [
       "<div>\n",
       "<style scoped>\n",
       "    .dataframe tbody tr th:only-of-type {\n",
       "        vertical-align: middle;\n",
       "    }\n",
       "\n",
       "    .dataframe tbody tr th {\n",
       "        vertical-align: top;\n",
       "    }\n",
       "\n",
       "    .dataframe thead th {\n",
       "        text-align: right;\n",
       "    }\n",
       "</style>\n",
       "<table border=\"1\" class=\"dataframe\">\n",
       "  <thead>\n",
       "    <tr style=\"text-align: right;\">\n",
       "      <th></th>\n",
       "      <th>hydrophone_idx</th>\n",
       "      <th>inner_rad</th>\n",
       "      <th>outer_rad</th>\n",
       "      <th>no_unique_ships</th>\n",
       "      <th>no_unique_vessels</th>\n",
       "      <th>no_instances</th>\n",
       "      <th>no_10m_durations</th>\n",
       "      <th>len_of_recordings</th>\n",
       "    </tr>\n",
       "  </thead>\n",
       "  <tbody>\n",
       "    <tr>\n",
       "      <th>0</th>\n",
       "      <td>2.0</td>\n",
       "      <td>3.0</td>\n",
       "      <td>6.0</td>\n",
       "      <td>26.0</td>\n",
       "      <td>7.0</td>\n",
       "      <td>105.0</td>\n",
       "      <td>3735.0</td>\n",
       "      <td>36766.350000</td>\n",
       "    </tr>\n",
       "    <tr>\n",
       "      <th>1</th>\n",
       "      <td>2.0</td>\n",
       "      <td>3.0</td>\n",
       "      <td>12.0</td>\n",
       "      <td>26.0</td>\n",
       "      <td>7.0</td>\n",
       "      <td>111.0</td>\n",
       "      <td>3699.0</td>\n",
       "      <td>36359.266667</td>\n",
       "    </tr>\n",
       "  </tbody>\n",
       "</table>\n",
       "</div>"
      ],
      "text/plain": [
       "   hydrophone_idx  inner_rad  outer_rad  no_unique_ships  no_unique_vessels  \\\n",
       "0             2.0        3.0        6.0             26.0                7.0   \n",
       "1             2.0        3.0       12.0             26.0                7.0   \n",
       "\n",
       "   no_instances  no_10m_durations  len_of_recordings  \n",
       "0         105.0            3735.0       36766.350000  \n",
       "1         111.0            3699.0       36359.266667  "
      ]
     },
     "execution_count": 156,
     "metadata": {},
     "output_type": "execute_result"
    }
   ],
   "source": [
    "inner_rad=[3]\n",
    "outer_rad=[6,12]\n",
    "min_duration=10\n",
    "hydro_idx=2\n",
    "table=compare_hydrophone_records_axial(df,hydro_idx,inner_rad,outer_rad,min_duration,break_dur=True)\n",
    "table"
   ]
  },
  {
   "cell_type": "code",
   "execution_count": 157,
   "metadata": {},
   "outputs": [
    {
     "name": "stdout",
     "output_type": "stream",
     "text": [
      "\u001b[1m\u001b[32mComparative view with minimum duration: 10\u001b[0m\n",
      "6\n",
      "12\n"
     ]
    },
    {
     "data": {
      "text/html": [
       "<div>\n",
       "<style scoped>\n",
       "    .dataframe tbody tr th:only-of-type {\n",
       "        vertical-align: middle;\n",
       "    }\n",
       "\n",
       "    .dataframe tbody tr th {\n",
       "        vertical-align: top;\n",
       "    }\n",
       "\n",
       "    .dataframe thead th {\n",
       "        text-align: right;\n",
       "    }\n",
       "</style>\n",
       "<table border=\"1\" class=\"dataframe\">\n",
       "  <thead>\n",
       "    <tr style=\"text-align: right;\">\n",
       "      <th></th>\n",
       "      <th>hydrophone_idx</th>\n",
       "      <th>inner_rad</th>\n",
       "      <th>outer_rad</th>\n",
       "      <th>no_unique_ships</th>\n",
       "      <th>no_unique_vessels</th>\n",
       "      <th>no_instances</th>\n",
       "      <th>no_10m_durations</th>\n",
       "      <th>len_of_recordings</th>\n",
       "    </tr>\n",
       "  </thead>\n",
       "  <tbody>\n",
       "    <tr>\n",
       "      <th>0</th>\n",
       "      <td>3.0</td>\n",
       "      <td>3.0</td>\n",
       "      <td>6.0</td>\n",
       "      <td>32.0</td>\n",
       "      <td>10.0</td>\n",
       "      <td>140.0</td>\n",
       "      <td>4571.0</td>\n",
       "      <td>44975.233333</td>\n",
       "    </tr>\n",
       "    <tr>\n",
       "      <th>1</th>\n",
       "      <td>3.0</td>\n",
       "      <td>3.0</td>\n",
       "      <td>12.0</td>\n",
       "      <td>32.0</td>\n",
       "      <td>10.0</td>\n",
       "      <td>149.0</td>\n",
       "      <td>4482.0</td>\n",
       "      <td>44026.016667</td>\n",
       "    </tr>\n",
       "  </tbody>\n",
       "</table>\n",
       "</div>"
      ],
      "text/plain": [
       "   hydrophone_idx  inner_rad  outer_rad  no_unique_ships  no_unique_vessels  \\\n",
       "0             3.0        3.0        6.0             32.0               10.0   \n",
       "1             3.0        3.0       12.0             32.0               10.0   \n",
       "\n",
       "   no_instances  no_10m_durations  len_of_recordings  \n",
       "0         140.0            4571.0       44975.233333  \n",
       "1         149.0            4482.0       44026.016667  "
      ]
     },
     "execution_count": 157,
     "metadata": {},
     "output_type": "execute_result"
    }
   ],
   "source": [
    "inner_rad=[3]\n",
    "outer_rad=[6,12]\n",
    "min_duration=10\n",
    "hydro_idx=3\n",
    "table=compare_hydrophone_records_axial(df,hydro_idx,inner_rad,outer_rad,min_duration,break_dur=True)\n",
    "table"
   ]
  },
  {
   "cell_type": "code",
   "execution_count": 110,
   "metadata": {},
   "outputs": [],
   "source": [
    "# reload(fn)\n",
    "\n",
    "# print(colored('Overlapping of all hydrophones with minimum number of timestamps: '+ str(min_duration),'green',attrs=['bold']))\n",
    "# table2=pd.DataFrame(columns=['inner_rad','outer_rad','no_unique_ships','no_unique_vessels','no_records'])\n",
    "\n",
    "# for i_r in inner_rad:\n",
    "#     for o_r in outer_rad:\n",
    "#         combined_df=pd.DataFrame()\n",
    "#         for i in range(1,4,1):\n",
    "#             temp_dict=dict()\n",
    "#             ais=fn.choose_df(df,i,verbose=False)\n",
    "#             d1=fn.get_isolated_ships(ais,i_r,o_r,min_duration)\n",
    "#             combined_df=pd.concat([combined_df,d1])\n",
    "\n",
    "#         temp_dict['inner_rad']=i_r\n",
    "#         temp_dict['outer_rad']=o_r\n",
    "#         temp_dict['no_unique_ships']=combined_df['MMSI'].nunique()\n",
    "#         temp_dict['no_unique_vessels']=combined_df['VESSEL TYPE'].nunique()\n",
    "#         temp_dict['no_records']=len(combined_df)\n",
    "#         table2=table2.append(temp_dict,ignore_index=True)\n",
    "# table2\n",
    "        "
   ]
  }
 ],
 "metadata": {
  "kernelspec": {
   "display_name": "Python 3 (ipykernel)",
   "language": "python",
   "name": "python3"
  },
  "language_info": {
   "codemirror_mode": {
    "name": "ipython",
    "version": 3
   },
   "file_extension": ".py",
   "mimetype": "text/x-python",
   "name": "python",
   "nbconvert_exporter": "python",
   "pygments_lexer": "ipython3",
   "version": "3.10.6"
  },
  "vscode": {
   "interpreter": {
    "hash": "359f9a5187fb9b90d6791b9a1894c924ec82a2292c14ad522499e88f73769967"
   }
  }
 },
 "nbformat": 4,
 "nbformat_minor": 4
}
